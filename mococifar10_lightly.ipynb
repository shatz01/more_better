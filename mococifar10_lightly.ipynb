{
 "cells": [
  {
   "cell_type": "markdown",
   "id": "47eb48b9",
   "metadata": {},
   "source": [
    "# 🧈 Training MOCOv2 on CIFAR10 🔥 With pytorch lightning 🧈"
   ]
  },
  {
   "cell_type": "code",
   "execution_count": 1,
   "id": "55155651",
   "metadata": {
    "scrolled": true
   },
   "outputs": [
    {
     "name": "stderr",
     "output_type": "stream",
     "text": [
      "/home/shatz/miniconda3/envs/morebetter3/lib/python3.9/site-packages/lightly/api/version_checking.py:57: Warning: You are using lightly version 1.1.18. There is a newer version of the package available. For compatability reasons, please upgrade your current version: pip install lightly==1.1.20\n",
      "  warnings.warn(Warning(warning))\n"
     ]
    }
   ],
   "source": [
    "import torch\n",
    "import torch.nn as nn\n",
    "import torchvision\n",
    "import pytorch_lightning as pl\n",
    "import lightly\n",
    "\n",
    "from pytorch_lightning.callbacks import ModelCheckpoint\n",
    "from pytorch_lightning.callbacks import LearningRateMonitor\n",
    "from pytorch_lightning import loggers as pl_loggers\n",
    "\n",
    "SEED = 1"
   ]
  },
  {
   "cell_type": "markdown",
   "id": "37075cb6",
   "metadata": {},
   "source": [
    "# ⬇️ Build Dataset"
   ]
  },
  {
   "cell_type": "code",
   "execution_count": 2,
   "id": "721404d0",
   "metadata": {},
   "outputs": [],
   "source": [
    "# DATA hyperparams\n",
    "num_workers = 6\n",
    "moco_batch_size = 512\n",
    "classifier_train_batch_size = 512\n",
    "classifier_test_batch_size = 512"
   ]
  },
  {
   "cell_type": "code",
   "execution_count": 3,
   "id": "2161f687",
   "metadata": {},
   "outputs": [],
   "source": [
    "# The dataset structure should be like this:\n",
    "# cifar10/train/\n",
    "#  L airplane/\n",
    "#    L 10008_airplane.png\n",
    "#    L ...\n",
    "#  L automobile/\n",
    "#  L bird/\n",
    "#  L cat/\n",
    "#  L deer/\n",
    "#  L dog/\n",
    "#  L frog/\n",
    "#  L horse/\n",
    "#  L ship/\n",
    "#  L truck/\n",
    "path_to_train = './data/cifar10_lightly/train/'\n",
    "path_to_test = './data/cifar10_lightly/test/'"
   ]
  },
  {
   "cell_type": "markdown",
   "id": "f1fbefd4",
   "metadata": {},
   "source": [
    "### Augmentations"
   ]
  },
  {
   "cell_type": "code",
   "execution_count": 4,
   "id": "8545a01a",
   "metadata": {},
   "outputs": [],
   "source": [
    "################### Classifier Augmentations ###################\n",
    "# Augmentations typically used to train on cifar-10\n",
    "train_classifier_transforms = torchvision.transforms.Compose([\n",
    "    torchvision.transforms.RandomCrop(32, padding=4),\n",
    "    torchvision.transforms.RandomHorizontalFlip(),\n",
    "    torchvision.transforms.ToTensor(),\n",
    "    torchvision.transforms.Normalize(\n",
    "        mean=lightly.data.collate.imagenet_normalize['mean'],\n",
    "        std=lightly.data.collate.imagenet_normalize['std'],\n",
    "    )\n",
    "])\n",
    "\n",
    "# No additional augmentations for the test set\n",
    "test_transforms = torchvision.transforms.Compose([\n",
    "    torchvision.transforms.Resize((32, 32)),\n",
    "    torchvision.transforms.ToTensor(),\n",
    "    torchvision.transforms.Normalize(\n",
    "        mean=lightly.data.collate.imagenet_normalize['mean'],\n",
    "        std=lightly.data.collate.imagenet_normalize['std'],\n",
    "    )\n",
    "])\n",
    "\n",
    "################### MOCO Augmentations ###################\n",
    "# MoCo v2 uses SimCLR augmentations, additionally, disable blur\n",
    "collate_fn = lightly.data.SimCLRCollateFunction(\n",
    "    input_size=32,\n",
    "    gaussian_blur=0.,\n",
    ")"
   ]
  },
  {
   "cell_type": "markdown",
   "id": "1fb7cd15",
   "metadata": {},
   "source": [
    "### Datasets"
   ]
  },
  {
   "cell_type": "code",
   "execution_count": 5,
   "id": "7089d1ac",
   "metadata": {},
   "outputs": [],
   "source": [
    "################### Classifier Datasets ###################\n",
    "#Since we also train a linear classifier on the pre-trained moco model we\n",
    "# reuse the test augmentations here (MoCo augmentations are very strong and\n",
    "# usually reduce accuracy of models which are not used for contrastive learning.\n",
    "# Our linear layer will be trained using cross entropy loss and labels provided\n",
    "# by the dataset. Therefore we chose light augmentations.)\n",
    "dataset_train_classifier = lightly.data.LightlyDataset(\n",
    "    input_dir=path_to_train,\n",
    "    transform=train_classifier_transforms\n",
    ")\n",
    "\n",
    "dataset_test = lightly.data.LightlyDataset(\n",
    "    input_dir=path_to_test,\n",
    "    transform=test_transforms\n",
    ")\n",
    "\n",
    "################### MOCO Dataset ###################\n",
    "# We use the moco augmentations for training moco\n",
    "dataset_train_moco = lightly.data.LightlyDataset(\n",
    "    input_dir=path_to_train\n",
    ")"
   ]
  },
  {
   "cell_type": "markdown",
   "id": "ad0f9038",
   "metadata": {},
   "source": [
    "### Dataloaders"
   ]
  },
  {
   "cell_type": "code",
   "execution_count": 6,
   "id": "fc8ab836",
   "metadata": {},
   "outputs": [],
   "source": [
    "################### Classifier Dataloaders ###################\n",
    "dataloader_train_classifier = torch.utils.data.DataLoader(\n",
    "    dataset_train_classifier,\n",
    "    batch_size=classifier_train_batch_size,\n",
    "    shuffle=True,\n",
    "    drop_last=True,\n",
    "    num_workers=num_workers\n",
    ")\n",
    "\n",
    "dataloader_test = torch.utils.data.DataLoader(\n",
    "    dataset_test,\n",
    "    batch_size=classifier_test_batch_size,\n",
    "    shuffle=False,\n",
    "    drop_last=False,\n",
    "    num_workers=num_workers\n",
    ")\n",
    "\n",
    "################### MOCO Dataloader ###################\n",
    "dataloader_train_moco = torch.utils.data.DataLoader(\n",
    "    dataset_train_moco,\n",
    "    batch_size=moco_batch_size,\n",
    "    shuffle=True,\n",
    "    collate_fn=collate_fn,\n",
    "    drop_last=True,\n",
    "    num_workers=num_workers\n",
    ")"
   ]
  },
  {
   "cell_type": "markdown",
   "id": "4ee9aaec",
   "metadata": {},
   "source": [
    "# 🧠 Load Model"
   ]
  },
  {
   "cell_type": "code",
   "execution_count": 7,
   "id": "940b7f28",
   "metadata": {},
   "outputs": [],
   "source": [
    "# MODEL hyperparams\n",
    "memory_bank_size = 4096\n",
    "moco_max_epochs = 9005\n",
    "downstream_max_epochs = 60\n",
    "downstream_test_every = 300"
   ]
  },
  {
   "cell_type": "code",
   "execution_count": 8,
   "id": "97281123",
   "metadata": {},
   "outputs": [],
   "source": [
    "import moco_model"
   ]
  },
  {
   "cell_type": "code",
   "execution_count": 9,
   "id": "b01d0f14",
   "metadata": {},
   "outputs": [],
   "source": [
    "model = moco_model.MocoModel(memory_bank_size, moco_max_epochs, \n",
    "                             downstream_max_epochs, dataloader_train_classifier, dataloader_test,\n",
    "                            downstream_test_every=downstream_test_every)\n",
    "#                             last_epoch=2989)"
   ]
  },
  {
   "cell_type": "markdown",
   "id": "b70b70fb",
   "metadata": {},
   "source": [
    "I will continue training from 900 epoch model"
   ]
  },
  {
   "cell_type": "code",
   "execution_count": 10,
   "id": "22af9f95",
   "metadata": {},
   "outputs": [],
   "source": [
    "# # # WHEN LOADING A SAVED MODEL DO IT LIKE DIS\n",
    "# model.load_from_checkpoint('./saved_models/resnet_moco/epoch=2989-train_loss_ssl=1.37.ckpt',\n",
    "#                           memory_bank_size=memory_bank_size, moco_max_epochs=moco_max_epochs,\n",
    "#                           downstream_max_epochs=downstream_max_epochs, dataloader_train_classifier=dataloader_train_classifier,\n",
    "#                            dataloader_test=dataloader_test,\n",
    "#                            downstream_test_every=downstream_test_every)\n",
    "# #                           last_epoch=2989);\n",
    "# # checkpoint_callback = ModelCheckpoint(dirpath=\"./saved_models/resnet_moco/epoch=897-train_loss_ssl=1.67.ckpt\")"
   ]
  },
  {
   "cell_type": "code",
   "execution_count": 11,
   "id": "d2b6ca25",
   "metadata": {},
   "outputs": [
    {
     "name": "stderr",
     "output_type": "stream",
     "text": [
      "/home/shatz/miniconda3/envs/morebetter3/lib/python3.9/site-packages/pytorch_lightning/callbacks/model_checkpoint.py:446: UserWarning: Checkpoint directory ./saved_models/resnet_moco exists and is not empty.\n",
      "  rank_zero_warn(f\"Checkpoint directory {dirpath} exists and is not empty.\")\n"
     ]
    }
   ],
   "source": [
    "# you can also define a checkpoint callback to save best model like keras.\n",
    "checkpoint_callback = ModelCheckpoint(\n",
    "    dirpath='./saved_models/resnet_moco',\n",
    "    filename='{epoch}-{train_loss_ssl:.2f}',\n",
    "    save_top_k=5,\n",
    "    verbose=True,\n",
    "    monitor='train_loss_ssl',\n",
    "    mode='min'\n",
    ")\n",
    "lr_monitor = LearningRateMonitor(logging_interval='step')"
   ]
  },
  {
   "cell_type": "markdown",
   "id": "d8c2f554",
   "metadata": {},
   "source": [
    "# 🏋️‍♂️ Train"
   ]
  },
  {
   "cell_type": "code",
   "execution_count": 12,
   "id": "19f26a44",
   "metadata": {},
   "outputs": [
    {
     "name": "stdout",
     "output_type": "stream",
     "text": [
      "Using gpu: True\n"
     ]
    }
   ],
   "source": [
    "# use a GPU if available\n",
    "gpus = 1 if torch.cuda.is_available() else 0\n",
    "print(f'Using gpu: {bool(gpus)}')\n",
    "if(gpus == 0): print('--- NOT USING GPUS THIS TAKE LONG TIME ---')\n",
    "\n",
    "# set up tensorboard logger\n",
    "tb_logger = pl_loggers.TensorBoardLogger(save_dir='./lightning_logs/', name=f'TESTmoco_{moco_max_epochs}eps')"
   ]
  },
  {
   "cell_type": "code",
   "execution_count": 13,
   "id": "cb44c082",
   "metadata": {
    "scrolled": true
   },
   "outputs": [],
   "source": [
    "# ### WHEN TRAINING FROM CHECKPOINT ###\n",
    "\n",
    "# trainer = pl.Trainer(\n",
    "#     resume_from_checkpoint=\"./saved_models/resnet_moco/epoch=2989-train_loss_ssl=1.37.ckpt\",\n",
    "#     max_epochs=moco_max_epochs,\n",
    "#     gpus=gpus,\n",
    "#     callbacks=[checkpoint_callback],\n",
    "#     logger=tb_logger)\n",
    "# trainer.fit(model, dataloader_train_moco)"
   ]
  },
  {
   "cell_type": "code",
   "execution_count": 14,
   "id": "5499620c",
   "metadata": {
    "scrolled": true
   },
   "outputs": [
    {
     "name": "stderr",
     "output_type": "stream",
     "text": [
      "GPU available: True, used: True\n",
      "TPU available: False, using: 0 TPU cores\n",
      "IPU available: False, using: 0 IPUs\n",
      "LOCAL_RANK: 0 - CUDA_VISIBLE_DEVICES: [0]\n",
      "\n",
      "  | Name        | Type       | Params\n",
      "-------------------------------------------\n",
      "0 | resnet_moco | MoCo       | 23.0 M\n",
      "1 | criterion   | NTXentLoss | 0     \n",
      "-------------------------------------------\n",
      "11.5 M    Trainable params\n",
      "11.5 M    Non-trainable params\n",
      "23.0 M    Total params\n",
      "91.977    Total estimated model params size (MB)\n"
     ]
    },
    {
     "data": {
      "application/vnd.jupyter.widget-view+json": {
       "model_id": "c4457945506a43d0abf2a43406293672",
       "version_major": 2,
       "version_minor": 0
      },
      "text/plain": [
       "Training: -1it [00:00, ?it/s]"
      ]
     },
     "metadata": {},
     "output_type": "display_data"
    },
    {
     "name": "stderr",
     "output_type": "stream",
     "text": [
      "Epoch 0, global step 96: train_loss_ssl reached 6.96062 (best 6.96062), saving model to \"/home/shatz/Documents/more_better/saved_models/resnet_moco/epoch=0-train_loss_ssl=6.96.ckpt\" as top 5\n",
      "Epoch 1, global step 193: train_loss_ssl reached 7.10845 (best 6.96062), saving model to \"/home/shatz/Documents/more_better/saved_models/resnet_moco/epoch=1-train_loss_ssl=7.11.ckpt\" as top 5\n",
      "Epoch 2, global step 290: train_loss_ssl reached 7.05138 (best 6.96062), saving model to \"/home/shatz/Documents/more_better/saved_models/resnet_moco/epoch=2-train_loss_ssl=7.05.ckpt\" as top 5\n",
      "Epoch 3, global step 387: train_loss_ssl reached 6.93874 (best 6.93874), saving model to \"/home/shatz/Documents/more_better/saved_models/resnet_moco/epoch=3-train_loss_ssl=6.94.ckpt\" as top 5\n",
      "Epoch 4, global step 484: train_loss_ssl reached 6.62397 (best 6.62397), saving model to \"/home/shatz/Documents/more_better/saved_models/resnet_moco/epoch=4-train_loss_ssl=6.62.ckpt\" as top 5\n",
      "Epoch 5, global step 581: train_loss_ssl reached 6.35429 (best 6.35429), saving model to \"/home/shatz/Documents/more_better/saved_models/resnet_moco/epoch=5-train_loss_ssl=6.35.ckpt\" as top 5\n",
      "Epoch 6, global step 678: train_loss_ssl reached 6.20814 (best 6.20814), saving model to \"/home/shatz/Documents/more_better/saved_models/resnet_moco/epoch=6-train_loss_ssl=6.21.ckpt\" as top 5\n",
      "Epoch 7, global step 775: train_loss_ssl reached 5.99335 (best 5.99335), saving model to \"/home/shatz/Documents/more_better/saved_models/resnet_moco/epoch=7-train_loss_ssl=5.99.ckpt\" as top 5\n",
      "Epoch 8, global step 872: train_loss_ssl reached 5.62863 (best 5.62863), saving model to \"/home/shatz/Documents/more_better/saved_models/resnet_moco/epoch=8-train_loss_ssl=5.63.ckpt\" as top 5\n",
      "Epoch 9, global step 969: train_loss_ssl reached 5.69643 (best 5.62863), saving model to \"/home/shatz/Documents/more_better/saved_models/resnet_moco/epoch=9-train_loss_ssl=5.70.ckpt\" as top 5\n",
      "Epoch 10, global step 1066: train_loss_ssl reached 5.43861 (best 5.43861), saving model to \"/home/shatz/Documents/more_better/saved_models/resnet_moco/epoch=10-train_loss_ssl=5.44.ckpt\" as top 5\n",
      "Epoch 11, global step 1163: train_loss_ssl reached 5.35745 (best 5.35745), saving model to \"/home/shatz/Documents/more_better/saved_models/resnet_moco/epoch=11-train_loss_ssl=5.36.ckpt\" as top 5\n",
      "Epoch 12, global step 1260: train_loss_ssl reached 5.29310 (best 5.29310), saving model to \"/home/shatz/Documents/more_better/saved_models/resnet_moco/epoch=12-train_loss_ssl=5.29.ckpt\" as top 5\n",
      "Epoch 13, global step 1357: train_loss_ssl reached 5.05463 (best 5.05463), saving model to \"/home/shatz/Documents/more_better/saved_models/resnet_moco/epoch=13-train_loss_ssl=5.05.ckpt\" as top 5\n",
      "Epoch 14, global step 1454: train_loss_ssl reached 4.97343 (best 4.97343), saving model to \"/home/shatz/Documents/more_better/saved_models/resnet_moco/epoch=14-train_loss_ssl=4.97.ckpt\" as top 5\n",
      "Epoch 15, global step 1551: train_loss_ssl reached 4.76229 (best 4.76229), saving model to \"/home/shatz/Documents/more_better/saved_models/resnet_moco/epoch=15-train_loss_ssl=4.76.ckpt\" as top 5\n",
      "Epoch 16, global step 1648: train_loss_ssl reached 4.92859 (best 4.76229), saving model to \"/home/shatz/Documents/more_better/saved_models/resnet_moco/epoch=16-train_loss_ssl=4.93.ckpt\" as top 5\n",
      "Epoch 17, global step 1745: train_loss_ssl reached 4.96321 (best 4.76229), saving model to \"/home/shatz/Documents/more_better/saved_models/resnet_moco/epoch=17-train_loss_ssl=4.96.ckpt\" as top 5\n",
      "Epoch 18, global step 1842: train_loss_ssl reached 4.71174 (best 4.71174), saving model to \"/home/shatz/Documents/more_better/saved_models/resnet_moco/epoch=18-train_loss_ssl=4.71.ckpt\" as top 5\n",
      "Epoch 19, global step 1939: train_loss_ssl reached 4.73045 (best 4.71174), saving model to \"/home/shatz/Documents/more_better/saved_models/resnet_moco/epoch=19-train_loss_ssl=4.73.ckpt\" as top 5\n",
      "Epoch 20, global step 2036: train_loss_ssl reached 4.47495 (best 4.47495), saving model to \"/home/shatz/Documents/more_better/saved_models/resnet_moco/epoch=20-train_loss_ssl=4.47.ckpt\" as top 5\n",
      "Epoch 21, global step 2133: train_loss_ssl reached 4.41616 (best 4.41616), saving model to \"/home/shatz/Documents/more_better/saved_models/resnet_moco/epoch=21-train_loss_ssl=4.42.ckpt\" as top 5\n",
      "Epoch 22, global step 2230: train_loss_ssl reached 4.46278 (best 4.41616), saving model to \"/home/shatz/Documents/more_better/saved_models/resnet_moco/epoch=22-train_loss_ssl=4.46.ckpt\" as top 5\n",
      "Epoch 23, global step 2327: train_loss_ssl reached 4.11573 (best 4.11573), saving model to \"/home/shatz/Documents/more_better/saved_models/resnet_moco/epoch=23-train_loss_ssl=4.12.ckpt\" as top 5\n",
      "Epoch 24, global step 2424: train_loss_ssl reached 4.23058 (best 4.11573), saving model to \"/home/shatz/Documents/more_better/saved_models/resnet_moco/epoch=24-train_loss_ssl=4.23.ckpt\" as top 5\n",
      "Epoch 25, global step 2521: train_loss_ssl reached 4.07030 (best 4.07030), saving model to \"/home/shatz/Documents/more_better/saved_models/resnet_moco/epoch=25-train_loss_ssl=4.07.ckpt\" as top 5\n",
      "Epoch 26, global step 2618: train_loss_ssl reached 4.10157 (best 4.07030), saving model to \"/home/shatz/Documents/more_better/saved_models/resnet_moco/epoch=26-train_loss_ssl=4.10.ckpt\" as top 5\n",
      "Epoch 27, global step 2715: train_loss_ssl reached 4.23101 (best 4.07030), saving model to \"/home/shatz/Documents/more_better/saved_models/resnet_moco/epoch=27-train_loss_ssl=4.23.ckpt\" as top 5\n",
      "Epoch 28, global step 2812: train_loss_ssl was not in top 5\n",
      "Epoch 29, global step 2909: train_loss_ssl reached 3.95552 (best 3.95552), saving model to \"/home/shatz/Documents/more_better/saved_models/resnet_moco/epoch=29-train_loss_ssl=3.96.ckpt\" as top 5\n",
      "Epoch 30, global step 3006: train_loss_ssl reached 3.98199 (best 3.95552), saving model to \"/home/shatz/Documents/more_better/saved_models/resnet_moco/epoch=30-train_loss_ssl=3.98.ckpt\" as top 5\n",
      "Epoch 31, global step 3103: train_loss_ssl reached 4.05079 (best 3.95552), saving model to \"/home/shatz/Documents/more_better/saved_models/resnet_moco/epoch=31-train_loss_ssl=4.05.ckpt\" as top 5\n",
      "Epoch 32, global step 3200: train_loss_ssl reached 3.80323 (best 3.80323), saving model to \"/home/shatz/Documents/more_better/saved_models/resnet_moco/epoch=32-train_loss_ssl=3.80.ckpt\" as top 5\n",
      "Epoch 33, global step 3297: train_loss_ssl reached 3.84802 (best 3.80323), saving model to \"/home/shatz/Documents/more_better/saved_models/resnet_moco/epoch=33-train_loss_ssl=3.85.ckpt\" as top 5\n",
      "Epoch 34, global step 3394: train_loss_ssl reached 3.83140 (best 3.80323), saving model to \"/home/shatz/Documents/more_better/saved_models/resnet_moco/epoch=34-train_loss_ssl=3.83.ckpt\" as top 5\n",
      "Epoch 35, global step 3491: train_loss_ssl reached 3.75738 (best 3.75738), saving model to \"/home/shatz/Documents/more_better/saved_models/resnet_moco/epoch=35-train_loss_ssl=3.76.ckpt\" as top 5\n",
      "Epoch 36, global step 3588: train_loss_ssl reached 3.73937 (best 3.73937), saving model to \"/home/shatz/Documents/more_better/saved_models/resnet_moco/epoch=36-train_loss_ssl=3.74.ckpt\" as top 5\n",
      "Epoch 37, global step 3685: train_loss_ssl reached 3.80920 (best 3.73937), saving model to \"/home/shatz/Documents/more_better/saved_models/resnet_moco/epoch=37-train_loss_ssl=3.81.ckpt\" as top 5\n",
      "Epoch 38, global step 3782: train_loss_ssl reached 3.78187 (best 3.73937), saving model to \"/home/shatz/Documents/more_better/saved_models/resnet_moco/epoch=38-train_loss_ssl=3.78.ckpt\" as top 5\n",
      "Epoch 39, global step 3879: train_loss_ssl was not in top 5\n",
      "Epoch 40, global step 3976: train_loss_ssl reached 3.55679 (best 3.55679), saving model to \"/home/shatz/Documents/more_better/saved_models/resnet_moco/epoch=40-train_loss_ssl=3.56.ckpt\" as top 5\n",
      "Epoch 41, global step 4073: train_loss_ssl reached 3.67214 (best 3.55679), saving model to \"/home/shatz/Documents/more_better/saved_models/resnet_moco/epoch=41-train_loss_ssl=3.67.ckpt\" as top 5\n",
      "Epoch 42, global step 4170: train_loss_ssl reached 3.64990 (best 3.55679), saving model to \"/home/shatz/Documents/more_better/saved_models/resnet_moco/epoch=42-train_loss_ssl=3.65.ckpt\" as top 5\n",
      "Epoch 43, global step 4267: train_loss_ssl reached 3.69519 (best 3.55679), saving model to \"/home/shatz/Documents/more_better/saved_models/resnet_moco/epoch=43-train_loss_ssl=3.70.ckpt\" as top 5\n"
     ]
    },
    {
     "name": "stderr",
     "output_type": "stream",
     "text": [
      "Epoch 44, global step 4364: train_loss_ssl reached 3.54169 (best 3.54169), saving model to \"/home/shatz/Documents/more_better/saved_models/resnet_moco/epoch=44-train_loss_ssl=3.54.ckpt\" as top 5\n",
      "Epoch 45, global step 4461: train_loss_ssl reached 3.53394 (best 3.53394), saving model to \"/home/shatz/Documents/more_better/saved_models/resnet_moco/epoch=45-train_loss_ssl=3.53.ckpt\" as top 5\n",
      "Epoch 46, global step 4558: train_loss_ssl reached 3.60386 (best 3.53394), saving model to \"/home/shatz/Documents/more_better/saved_models/resnet_moco/epoch=46-train_loss_ssl=3.60.ckpt\" as top 5\n",
      "Epoch 47, global step 4655: train_loss_ssl reached 3.60247 (best 3.53394), saving model to \"/home/shatz/Documents/more_better/saved_models/resnet_moco/epoch=47-train_loss_ssl=3.60.ckpt\" as top 5\n",
      "Epoch 48, global step 4752: train_loss_ssl reached 3.59405 (best 3.53394), saving model to \"/home/shatz/Documents/more_better/saved_models/resnet_moco/epoch=48-train_loss_ssl=3.59.ckpt\" as top 5\n",
      "Epoch 49, global step 4849: train_loss_ssl reached 3.54167 (best 3.53394), saving model to \"/home/shatz/Documents/more_better/saved_models/resnet_moco/epoch=49-train_loss_ssl=3.54.ckpt\" as top 5\n",
      "Epoch 50, global step 4946: train_loss_ssl reached 3.57612 (best 3.53394), saving model to \"/home/shatz/Documents/more_better/saved_models/resnet_moco/epoch=50-train_loss_ssl=3.58.ckpt\" as top 5\n",
      "Epoch 51, global step 5043: train_loss_ssl was not in top 5\n",
      "Epoch 52, global step 5140: train_loss_ssl reached 3.31332 (best 3.31332), saving model to \"/home/shatz/Documents/more_better/saved_models/resnet_moco/epoch=52-train_loss_ssl=3.31.ckpt\" as top 5\n",
      "Epoch 53, global step 5237: train_loss_ssl reached 3.29492 (best 3.29492), saving model to \"/home/shatz/Documents/more_better/saved_models/resnet_moco/epoch=53-train_loss_ssl=3.29.ckpt\" as top 5\n",
      "Epoch 54, global step 5334: train_loss_ssl reached 3.35099 (best 3.29492), saving model to \"/home/shatz/Documents/more_better/saved_models/resnet_moco/epoch=54-train_loss_ssl=3.35.ckpt\" as top 5\n",
      "Epoch 55, global step 5431: train_loss_ssl reached 3.44567 (best 3.29492), saving model to \"/home/shatz/Documents/more_better/saved_models/resnet_moco/epoch=55-train_loss_ssl=3.45.ckpt\" as top 5\n",
      "Epoch 56, global step 5528: train_loss_ssl reached 3.45319 (best 3.29492), saving model to \"/home/shatz/Documents/more_better/saved_models/resnet_moco/epoch=56-train_loss_ssl=3.45.ckpt\" as top 5\n",
      "Epoch 57, global step 5625: train_loss_ssl reached 3.26750 (best 3.26750), saving model to \"/home/shatz/Documents/more_better/saved_models/resnet_moco/epoch=57-train_loss_ssl=3.27.ckpt\" as top 5\n",
      "Epoch 58, global step 5722: train_loss_ssl reached 3.33507 (best 3.26750), saving model to \"/home/shatz/Documents/more_better/saved_models/resnet_moco/epoch=58-train_loss_ssl=3.34.ckpt\" as top 5\n",
      "Epoch 59, global step 5819: train_loss_ssl was not in top 5\n",
      "Epoch 60, global step 5916: train_loss_ssl was not in top 5\n",
      "Epoch 61, global step 6013: train_loss_ssl reached 3.21440 (best 3.21440), saving model to \"/home/shatz/Documents/more_better/saved_models/resnet_moco/epoch=61-train_loss_ssl=3.21.ckpt\" as top 5\n",
      "Epoch 62, global step 6110: train_loss_ssl reached 3.21464 (best 3.21440), saving model to \"/home/shatz/Documents/more_better/saved_models/resnet_moco/epoch=62-train_loss_ssl=3.21.ckpt\" as top 5\n",
      "Epoch 63, global step 6207: train_loss_ssl was not in top 5\n",
      "Epoch 64, global step 6304: train_loss_ssl was not in top 5\n",
      "Epoch 65, global step 6401: train_loss_ssl was not in top 5\n",
      "Epoch 66, global step 6498: train_loss_ssl was not in top 5\n",
      "Epoch 67, global step 6595: train_loss_ssl was not in top 5\n",
      "Epoch 68, global step 6692: train_loss_ssl reached 3.10991 (best 3.10991), saving model to \"/home/shatz/Documents/more_better/saved_models/resnet_moco/epoch=68-train_loss_ssl=3.11.ckpt\" as top 5\n",
      "Epoch 69, global step 6789: train_loss_ssl was not in top 5\n",
      "Epoch 70, global step 6886: train_loss_ssl was not in top 5\n",
      "Epoch 71, global step 6983: train_loss_ssl reached 3.28172 (best 3.10991), saving model to \"/home/shatz/Documents/more_better/saved_models/resnet_moco/epoch=71-train_loss_ssl=3.28.ckpt\" as top 5\n",
      "Epoch 72, global step 7080: train_loss_ssl reached 3.16800 (best 3.10991), saving model to \"/home/shatz/Documents/more_better/saved_models/resnet_moco/epoch=72-train_loss_ssl=3.17.ckpt\" as top 5\n",
      "Epoch 73, global step 7177: train_loss_ssl reached 3.22022 (best 3.10991), saving model to \"/home/shatz/Documents/more_better/saved_models/resnet_moco/epoch=73-train_loss_ssl=3.22.ckpt\" as top 5\n",
      "Epoch 74, global step 7274: train_loss_ssl reached 3.20560 (best 3.10991), saving model to \"/home/shatz/Documents/more_better/saved_models/resnet_moco/epoch=74-train_loss_ssl=3.21.ckpt\" as top 5\n",
      "Epoch 75, global step 7371: train_loss_ssl reached 3.20193 (best 3.10991), saving model to \"/home/shatz/Documents/more_better/saved_models/resnet_moco/epoch=75-train_loss_ssl=3.20.ckpt\" as top 5\n",
      "Epoch 76, global step 7468: train_loss_ssl reached 3.16409 (best 3.10991), saving model to \"/home/shatz/Documents/more_better/saved_models/resnet_moco/epoch=76-train_loss_ssl=3.16.ckpt\" as top 5\n",
      "Epoch 77, global step 7565: train_loss_ssl reached 3.14696 (best 3.10991), saving model to \"/home/shatz/Documents/more_better/saved_models/resnet_moco/epoch=77-train_loss_ssl=3.15.ckpt\" as top 5\n",
      "Epoch 78, global step 7662: train_loss_ssl was not in top 5\n",
      "Epoch 79, global step 7759: train_loss_ssl reached 3.12342 (best 3.10991), saving model to \"/home/shatz/Documents/more_better/saved_models/resnet_moco/epoch=79-train_loss_ssl=3.12.ckpt\" as top 5\n",
      "Epoch 80, global step 7856: train_loss_ssl was not in top 5\n",
      "Epoch 81, global step 7953: train_loss_ssl reached 3.03852 (best 3.03852), saving model to \"/home/shatz/Documents/more_better/saved_models/resnet_moco/epoch=81-train_loss_ssl=3.04.ckpt\" as top 5\n",
      "Epoch 82, global step 8050: train_loss_ssl reached 3.05342 (best 3.03852), saving model to \"/home/shatz/Documents/more_better/saved_models/resnet_moco/epoch=82-train_loss_ssl=3.05.ckpt\" as top 5\n",
      "Epoch 83, global step 8147: train_loss_ssl was not in top 5\n",
      "Epoch 84, global step 8244: train_loss_ssl reached 3.12155 (best 3.03852), saving model to \"/home/shatz/Documents/more_better/saved_models/resnet_moco/epoch=84-train_loss_ssl=3.12.ckpt\" as top 5\n",
      "Epoch 85, global step 8341: train_loss_ssl was not in top 5\n",
      "Epoch 86, global step 8438: train_loss_ssl reached 3.07045 (best 3.03852), saving model to \"/home/shatz/Documents/more_better/saved_models/resnet_moco/epoch=86-train_loss_ssl=3.07.ckpt\" as top 5\n",
      "Epoch 87, global step 8535: train_loss_ssl was not in top 5\n",
      "Epoch 88, global step 8632: train_loss_ssl was not in top 5\n",
      "Epoch 89, global step 8729: train_loss_ssl reached 3.01194 (best 3.01194), saving model to \"/home/shatz/Documents/more_better/saved_models/resnet_moco/epoch=89-train_loss_ssl=3.01.ckpt\" as top 5\n",
      "Epoch 90, global step 8826: train_loss_ssl reached 3.07667 (best 3.01194), saving model to \"/home/shatz/Documents/more_better/saved_models/resnet_moco/epoch=90-train_loss_ssl=3.08.ckpt\" as top 5\n",
      "Epoch 91, global step 8923: train_loss_ssl reached 3.02292 (best 3.01194), saving model to \"/home/shatz/Documents/more_better/saved_models/resnet_moco/epoch=91-train_loss_ssl=3.02.ckpt\" as top 5\n",
      "Epoch 92, global step 9020: train_loss_ssl was not in top 5\n",
      "Epoch 93, global step 9117: train_loss_ssl reached 2.93644 (best 2.93644), saving model to \"/home/shatz/Documents/more_better/saved_models/resnet_moco/epoch=93-train_loss_ssl=2.94.ckpt\" as top 5\n",
      "Epoch 94, global step 9214: train_loss_ssl was not in top 5\n",
      "Epoch 95, global step 9311: train_loss_ssl reached 2.86490 (best 2.86490), saving model to \"/home/shatz/Documents/more_better/saved_models/resnet_moco/epoch=95-train_loss_ssl=2.86.ckpt\" as top 5\n",
      "Epoch 96, global step 9408: train_loss_ssl reached 3.01370 (best 2.86490), saving model to \"/home/shatz/Documents/more_better/saved_models/resnet_moco/epoch=96-train_loss_ssl=3.01.ckpt\" as top 5\n",
      "Epoch 97, global step 9505: train_loss_ssl reached 2.90583 (best 2.86490), saving model to \"/home/shatz/Documents/more_better/saved_models/resnet_moco/epoch=97-train_loss_ssl=2.91.ckpt\" as top 5\n",
      "Epoch 98, global step 9602: train_loss_ssl was not in top 5\n",
      "Epoch 99, global step 9699: train_loss_ssl reached 2.95866 (best 2.86490), saving model to \"/home/shatz/Documents/more_better/saved_models/resnet_moco/epoch=99-train_loss_ssl=2.96.ckpt\" as top 5\n"
     ]
    },
    {
     "name": "stderr",
     "output_type": "stream",
     "text": [
      "Epoch 100, global step 9796: train_loss_ssl reached 2.96444 (best 2.86490), saving model to \"/home/shatz/Documents/more_better/saved_models/resnet_moco/epoch=100-train_loss_ssl=2.96.ckpt\" as top 5\n",
      "Epoch 101, global step 9893: train_loss_ssl was not in top 5\n",
      "Epoch 102, global step 9990: train_loss_ssl reached 2.95429 (best 2.86490), saving model to \"/home/shatz/Documents/more_better/saved_models/resnet_moco/epoch=102-train_loss_ssl=2.95.ckpt\" as top 5\n",
      "Epoch 103, global step 10087: train_loss_ssl reached 2.91635 (best 2.86490), saving model to \"/home/shatz/Documents/more_better/saved_models/resnet_moco/epoch=103-train_loss_ssl=2.92.ckpt\" as top 5\n",
      "Epoch 104, global step 10184: train_loss_ssl reached 2.93891 (best 2.86490), saving model to \"/home/shatz/Documents/more_better/saved_models/resnet_moco/epoch=104-train_loss_ssl=2.94.ckpt\" as top 5\n",
      "Epoch 105, global step 10281: train_loss_ssl was not in top 5\n",
      "Epoch 106, global step 10378: train_loss_ssl was not in top 5\n",
      "Epoch 107, global step 10475: train_loss_ssl was not in top 5\n",
      "Epoch 108, global step 10572: train_loss_ssl was not in top 5\n",
      "Epoch 109, global step 10669: train_loss_ssl reached 2.89356 (best 2.86490), saving model to \"/home/shatz/Documents/more_better/saved_models/resnet_moco/epoch=109-train_loss_ssl=2.89.ckpt\" as top 5\n",
      "Epoch 110, global step 10766: train_loss_ssl was not in top 5\n",
      "Epoch 111, global step 10863: train_loss_ssl reached 2.87106 (best 2.86490), saving model to \"/home/shatz/Documents/more_better/saved_models/resnet_moco/epoch=111-train_loss_ssl=2.87.ckpt\" as top 5\n",
      "Epoch 112, global step 10960: train_loss_ssl was not in top 5\n",
      "Epoch 113, global step 11057: train_loss_ssl was not in top 5\n",
      "Epoch 114, global step 11154: train_loss_ssl was not in top 5\n",
      "Epoch 115, global step 11251: train_loss_ssl was not in top 5\n",
      "Epoch 116, global step 11348: train_loss_ssl reached 2.70095 (best 2.70095), saving model to \"/home/shatz/Documents/more_better/saved_models/resnet_moco/epoch=116-train_loss_ssl=2.70.ckpt\" as top 5\n",
      "Epoch 117, global step 11445: train_loss_ssl was not in top 5\n",
      "Epoch 118, global step 11542: train_loss_ssl reached 2.87705 (best 2.70095), saving model to \"/home/shatz/Documents/more_better/saved_models/resnet_moco/epoch=118-train_loss_ssl=2.88.ckpt\" as top 5\n",
      "Epoch 119, global step 11639: train_loss_ssl reached 2.87881 (best 2.70095), saving model to \"/home/shatz/Documents/more_better/saved_models/resnet_moco/epoch=119-train_loss_ssl=2.88.ckpt\" as top 5\n",
      "Epoch 120, global step 11736: train_loss_ssl was not in top 5\n",
      "Epoch 121, global step 11833: train_loss_ssl was not in top 5\n",
      "Epoch 122, global step 11930: train_loss_ssl reached 2.82008 (best 2.70095), saving model to \"/home/shatz/Documents/more_better/saved_models/resnet_moco/epoch=122-train_loss_ssl=2.82.ckpt\" as top 5\n",
      "Epoch 123, global step 12027: train_loss_ssl reached 2.81640 (best 2.70095), saving model to \"/home/shatz/Documents/more_better/saved_models/resnet_moco/epoch=123-train_loss_ssl=2.82.ckpt\" as top 5\n",
      "Epoch 124, global step 12124: train_loss_ssl was not in top 5\n",
      "Epoch 125, global step 12221: train_loss_ssl reached 2.72832 (best 2.70095), saving model to \"/home/shatz/Documents/more_better/saved_models/resnet_moco/epoch=125-train_loss_ssl=2.73.ckpt\" as top 5\n",
      "Epoch 126, global step 12318: train_loss_ssl reached 2.76476 (best 2.70095), saving model to \"/home/shatz/Documents/more_better/saved_models/resnet_moco/epoch=126-train_loss_ssl=2.76.ckpt\" as top 5\n",
      "Epoch 127, global step 12415: train_loss_ssl reached 2.80139 (best 2.70095), saving model to \"/home/shatz/Documents/more_better/saved_models/resnet_moco/epoch=127-train_loss_ssl=2.80.ckpt\" as top 5\n",
      "Epoch 128, global step 12512: train_loss_ssl was not in top 5\n",
      "Epoch 129, global step 12609: train_loss_ssl was not in top 5\n",
      "Epoch 130, global step 12706: train_loss_ssl was not in top 5\n",
      "Epoch 131, global step 12803: train_loss_ssl was not in top 5\n",
      "Epoch 132, global step 12900: train_loss_ssl was not in top 5\n",
      "Epoch 133, global step 12997: train_loss_ssl reached 2.81009 (best 2.70095), saving model to \"/home/shatz/Documents/more_better/saved_models/resnet_moco/epoch=133-train_loss_ssl=2.81.ckpt\" as top 5\n",
      "Epoch 134, global step 13094: train_loss_ssl was not in top 5\n",
      "Epoch 135, global step 13191: train_loss_ssl reached 2.79231 (best 2.70095), saving model to \"/home/shatz/Documents/more_better/saved_models/resnet_moco/epoch=135-train_loss_ssl=2.79.ckpt\" as top 5\n",
      "Epoch 136, global step 13288: train_loss_ssl reached 2.73029 (best 2.70095), saving model to \"/home/shatz/Documents/more_better/saved_models/resnet_moco/epoch=136-train_loss_ssl=2.73.ckpt\" as top 5\n",
      "Epoch 137, global step 13385: train_loss_ssl reached 2.77889 (best 2.70095), saving model to \"/home/shatz/Documents/more_better/saved_models/resnet_moco/epoch=137-train_loss_ssl=2.78.ckpt\" as top 5\n",
      "Epoch 138, global step 13482: train_loss_ssl was not in top 5\n",
      "Epoch 139, global step 13579: train_loss_ssl was not in top 5\n",
      "Epoch 140, global step 13676: train_loss_ssl was not in top 5\n",
      "Epoch 141, global step 13773: train_loss_ssl was not in top 5\n",
      "Epoch 142, global step 13870: train_loss_ssl was not in top 5\n",
      "Epoch 143, global step 13967: train_loss_ssl reached 2.70391 (best 2.70095), saving model to \"/home/shatz/Documents/more_better/saved_models/resnet_moco/epoch=143-train_loss_ssl=2.70.ckpt\" as top 5\n",
      "Epoch 144, global step 14064: train_loss_ssl was not in top 5\n",
      "Epoch 145, global step 14161: train_loss_ssl was not in top 5\n",
      "Epoch 146, global step 14258: train_loss_ssl reached 2.68887 (best 2.68887), saving model to \"/home/shatz/Documents/more_better/saved_models/resnet_moco/epoch=146-train_loss_ssl=2.69.ckpt\" as top 5\n",
      "Epoch 147, global step 14355: train_loss_ssl was not in top 5\n",
      "Epoch 148, global step 14452: train_loss_ssl was not in top 5\n",
      "Epoch 149, global step 14549: train_loss_ssl reached 2.64127 (best 2.64127), saving model to \"/home/shatz/Documents/more_better/saved_models/resnet_moco/epoch=149-train_loss_ssl=2.64.ckpt\" as top 5\n",
      "Epoch 150, global step 14646: train_loss_ssl was not in top 5\n",
      "Epoch 151, global step 14743: train_loss_ssl was not in top 5\n",
      "Epoch 152, global step 14840: train_loss_ssl reached 2.60780 (best 2.60780), saving model to \"/home/shatz/Documents/more_better/saved_models/resnet_moco/epoch=152-train_loss_ssl=2.61.ckpt\" as top 5\n",
      "Epoch 153, global step 14937: train_loss_ssl reached 2.63541 (best 2.60780), saving model to \"/home/shatz/Documents/more_better/saved_models/resnet_moco/epoch=153-train_loss_ssl=2.64.ckpt\" as top 5\n",
      "Epoch 154, global step 15034: train_loss_ssl was not in top 5\n",
      "Epoch 155, global step 15131: train_loss_ssl was not in top 5\n",
      "Epoch 156, global step 15228: train_loss_ssl was not in top 5\n",
      "Epoch 157, global step 15325: train_loss_ssl was not in top 5\n",
      "Epoch 158, global step 15422: train_loss_ssl was not in top 5\n",
      "Epoch 159, global step 15519: train_loss_ssl was not in top 5\n",
      "Epoch 160, global step 15616: train_loss_ssl reached 2.66476 (best 2.60780), saving model to \"/home/shatz/Documents/more_better/saved_models/resnet_moco/epoch=160-train_loss_ssl=2.66.ckpt\" as top 5\n",
      "Epoch 161, global step 15713: train_loss_ssl was not in top 5\n",
      "Epoch 162, global step 15810: train_loss_ssl was not in top 5\n",
      "Epoch 163, global step 15907: train_loss_ssl was not in top 5\n",
      "Epoch 164, global step 16004: train_loss_ssl was not in top 5\n",
      "Epoch 165, global step 16101: train_loss_ssl reached 2.62569 (best 2.60780), saving model to \"/home/shatz/Documents/more_better/saved_models/resnet_moco/epoch=165-train_loss_ssl=2.63.ckpt\" as top 5\n",
      "Epoch 166, global step 16198: train_loss_ssl was not in top 5\n",
      "Epoch 167, global step 16295: train_loss_ssl was not in top 5\n",
      "Epoch 168, global step 16392: train_loss_ssl was not in top 5\n",
      "Epoch 169, global step 16489: train_loss_ssl was not in top 5\n",
      "Epoch 170, global step 16586: train_loss_ssl was not in top 5\n",
      "Epoch 171, global step 16683: train_loss_ssl reached 2.62092 (best 2.60780), saving model to \"/home/shatz/Documents/more_better/saved_models/resnet_moco/epoch=171-train_loss_ssl=2.62.ckpt\" as top 5\n",
      "Epoch 172, global step 16780: train_loss_ssl was not in top 5\n",
      "Epoch 173, global step 16877: train_loss_ssl was not in top 5\n",
      "Epoch 174, global step 16974: train_loss_ssl was not in top 5\n",
      "Epoch 175, global step 17071: train_loss_ssl reached 2.52913 (best 2.52913), saving model to \"/home/shatz/Documents/more_better/saved_models/resnet_moco/epoch=175-train_loss_ssl=2.53.ckpt\" as top 5\n"
     ]
    },
    {
     "name": "stderr",
     "output_type": "stream",
     "text": [
      "Epoch 176, global step 17168: train_loss_ssl was not in top 5\n",
      "Epoch 177, global step 17265: train_loss_ssl reached 2.53957 (best 2.52913), saving model to \"/home/shatz/Documents/more_better/saved_models/resnet_moco/epoch=177-train_loss_ssl=2.54.ckpt\" as top 5\n",
      "Epoch 178, global step 17362: train_loss_ssl was not in top 5\n",
      "Epoch 179, global step 17459: train_loss_ssl was not in top 5\n",
      "Epoch 180, global step 17556: train_loss_ssl reached 2.54469 (best 2.52913), saving model to \"/home/shatz/Documents/more_better/saved_models/resnet_moco/epoch=180-train_loss_ssl=2.54.ckpt\" as top 5\n",
      "Epoch 181, global step 17653: train_loss_ssl was not in top 5\n",
      "Epoch 182, global step 17750: train_loss_ssl was not in top 5\n",
      "Epoch 183, global step 17847: train_loss_ssl was not in top 5\n",
      "Epoch 184, global step 17944: train_loss_ssl was not in top 5\n",
      "Epoch 185, global step 18041: train_loss_ssl reached 2.60200 (best 2.52913), saving model to \"/home/shatz/Documents/more_better/saved_models/resnet_moco/epoch=185-train_loss_ssl=2.60.ckpt\" as top 5\n",
      "Epoch 186, global step 18138: train_loss_ssl reached 2.58507 (best 2.52913), saving model to \"/home/shatz/Documents/more_better/saved_models/resnet_moco/epoch=186-train_loss_ssl=2.59.ckpt\" as top 5\n",
      "Epoch 187, global step 18235: train_loss_ssl was not in top 5\n",
      "Epoch 188, global step 18332: train_loss_ssl was not in top 5\n",
      "Epoch 189, global step 18429: train_loss_ssl was not in top 5\n",
      "Epoch 190, global step 18526: train_loss_ssl was not in top 5\n",
      "Epoch 191, global step 18623: train_loss_ssl was not in top 5\n",
      "Epoch 192, global step 18720: train_loss_ssl was not in top 5\n",
      "Epoch 193, global step 18817: train_loss_ssl was not in top 5\n",
      "Epoch 194, global step 18914: train_loss_ssl was not in top 5\n",
      "Epoch 195, global step 19011: train_loss_ssl was not in top 5\n",
      "Epoch 196, global step 19108: train_loss_ssl was not in top 5\n",
      "Epoch 197, global step 19205: train_loss_ssl reached 2.57428 (best 2.52913), saving model to \"/home/shatz/Documents/more_better/saved_models/resnet_moco/epoch=197-train_loss_ssl=2.57.ckpt\" as top 5\n",
      "Epoch 198, global step 19302: train_loss_ssl was not in top 5\n",
      "Epoch 199, global step 19399: train_loss_ssl was not in top 5\n",
      "Epoch 200, global step 19496: train_loss_ssl was not in top 5\n",
      "Epoch 201, global step 19593: train_loss_ssl was not in top 5\n",
      "Epoch 202, global step 19690: train_loss_ssl was not in top 5\n",
      "Epoch 203, global step 19787: train_loss_ssl was not in top 5\n",
      "Epoch 204, global step 19884: train_loss_ssl reached 2.57150 (best 2.52913), saving model to \"/home/shatz/Documents/more_better/saved_models/resnet_moco/epoch=204-train_loss_ssl=2.57.ckpt\" as top 5\n",
      "Epoch 205, global step 19981: train_loss_ssl was not in top 5\n",
      "Epoch 206, global step 20078: train_loss_ssl was not in top 5\n",
      "Epoch 207, global step 20175: train_loss_ssl was not in top 5\n",
      "Epoch 208, global step 20272: train_loss_ssl was not in top 5\n",
      "Epoch 209, global step 20369: train_loss_ssl was not in top 5\n",
      "Epoch 210, global step 20466: train_loss_ssl reached 2.49231 (best 2.49231), saving model to \"/home/shatz/Documents/more_better/saved_models/resnet_moco/epoch=210-train_loss_ssl=2.49.ckpt\" as top 5\n",
      "Epoch 211, global step 20563: train_loss_ssl was not in top 5\n",
      "Epoch 212, global step 20660: train_loss_ssl was not in top 5\n",
      "Epoch 213, global step 20757: train_loss_ssl was not in top 5\n",
      "Epoch 214, global step 20854: train_loss_ssl was not in top 5\n",
      "Epoch 215, global step 20951: train_loss_ssl was not in top 5\n",
      "Epoch 216, global step 21048: train_loss_ssl was not in top 5\n",
      "Epoch 217, global step 21145: train_loss_ssl was not in top 5\n",
      "Epoch 218, global step 21242: train_loss_ssl was not in top 5\n",
      "Epoch 219, global step 21339: train_loss_ssl was not in top 5\n",
      "Epoch 220, global step 21436: train_loss_ssl was not in top 5\n",
      "Epoch 221, global step 21533: train_loss_ssl was not in top 5\n",
      "Epoch 222, global step 21630: train_loss_ssl was not in top 5\n",
      "Epoch 223, global step 21727: train_loss_ssl was not in top 5\n",
      "Epoch 224, global step 21824: train_loss_ssl was not in top 5\n",
      "Epoch 225, global step 21921: train_loss_ssl was not in top 5\n",
      "Epoch 226, global step 22018: train_loss_ssl reached 2.54409 (best 2.49231), saving model to \"/home/shatz/Documents/more_better/saved_models/resnet_moco/epoch=226-train_loss_ssl=2.54.ckpt\" as top 5\n",
      "Epoch 227, global step 22115: train_loss_ssl was not in top 5\n",
      "Epoch 228, global step 22212: train_loss_ssl was not in top 5\n",
      "Epoch 229, global step 22309: train_loss_ssl was not in top 5\n",
      "Epoch 230, global step 22406: train_loss_ssl was not in top 5\n",
      "Epoch 231, global step 22503: train_loss_ssl was not in top 5\n",
      "Epoch 232, global step 22600: train_loss_ssl was not in top 5\n",
      "Epoch 233, global step 22697: train_loss_ssl was not in top 5\n",
      "Epoch 234, global step 22794: train_loss_ssl was not in top 5\n",
      "Epoch 235, global step 22891: train_loss_ssl was not in top 5\n",
      "Epoch 236, global step 22988: train_loss_ssl was not in top 5\n",
      "Epoch 237, global step 23085: train_loss_ssl was not in top 5\n",
      "Epoch 238, global step 23182: train_loss_ssl reached 2.44911 (best 2.44911), saving model to \"/home/shatz/Documents/more_better/saved_models/resnet_moco/epoch=238-train_loss_ssl=2.45.ckpt\" as top 5\n",
      "Epoch 239, global step 23279: train_loss_ssl was not in top 5\n",
      "Epoch 240, global step 23376: train_loss_ssl reached 2.53109 (best 2.44911), saving model to \"/home/shatz/Documents/more_better/saved_models/resnet_moco/epoch=240-train_loss_ssl=2.53.ckpt\" as top 5\n",
      "Epoch 241, global step 23473: train_loss_ssl was not in top 5\n",
      "Epoch 242, global step 23570: train_loss_ssl was not in top 5\n",
      "Epoch 243, global step 23667: train_loss_ssl reached 2.50950 (best 2.44911), saving model to \"/home/shatz/Documents/more_better/saved_models/resnet_moco/epoch=243-train_loss_ssl=2.51.ckpt\" as top 5\n",
      "Epoch 244, global step 23764: train_loss_ssl was not in top 5\n",
      "Epoch 245, global step 23861: train_loss_ssl was not in top 5\n",
      "Epoch 246, global step 23958: train_loss_ssl was not in top 5\n",
      "Epoch 247, global step 24055: train_loss_ssl was not in top 5\n",
      "Epoch 248, global step 24152: train_loss_ssl was not in top 5\n",
      "Epoch 249, global step 24249: train_loss_ssl was not in top 5\n",
      "Epoch 250, global step 24346: train_loss_ssl was not in top 5\n",
      "Epoch 251, global step 24443: train_loss_ssl was not in top 5\n",
      "Epoch 252, global step 24540: train_loss_ssl was not in top 5\n",
      "Epoch 253, global step 24637: train_loss_ssl was not in top 5\n",
      "Epoch 254, global step 24734: train_loss_ssl was not in top 5\n",
      "Epoch 255, global step 24831: train_loss_ssl reached 2.44904 (best 2.44904), saving model to \"/home/shatz/Documents/more_better/saved_models/resnet_moco/epoch=255-train_loss_ssl=2.45.ckpt\" as top 5\n",
      "Epoch 256, global step 24928: train_loss_ssl reached 2.50522 (best 2.44904), saving model to \"/home/shatz/Documents/more_better/saved_models/resnet_moco/epoch=256-train_loss_ssl=2.51.ckpt\" as top 5\n",
      "Epoch 257, global step 25025: train_loss_ssl was not in top 5\n",
      "Epoch 258, global step 25122: train_loss_ssl was not in top 5\n",
      "Epoch 259, global step 25219: train_loss_ssl was not in top 5\n",
      "Epoch 260, global step 25316: train_loss_ssl was not in top 5\n",
      "Epoch 261, global step 25413: train_loss_ssl was not in top 5\n",
      "Epoch 262, global step 25510: train_loss_ssl was not in top 5\n",
      "Epoch 263, global step 25607: train_loss_ssl was not in top 5\n",
      "Epoch 264, global step 25704: train_loss_ssl was not in top 5\n",
      "Epoch 265, global step 25801: train_loss_ssl was not in top 5\n",
      "Epoch 266, global step 25898: train_loss_ssl was not in top 5\n",
      "Epoch 267, global step 25995: train_loss_ssl was not in top 5\n",
      "Epoch 268, global step 26092: train_loss_ssl was not in top 5\n",
      "Epoch 269, global step 26189: train_loss_ssl was not in top 5\n",
      "Epoch 270, global step 26286: train_loss_ssl was not in top 5\n",
      "Epoch 271, global step 26383: train_loss_ssl was not in top 5\n",
      "Epoch 272, global step 26480: train_loss_ssl was not in top 5\n",
      "Epoch 273, global step 26577: train_loss_ssl was not in top 5\n",
      "Epoch 274, global step 26674: train_loss_ssl was not in top 5\n",
      "Epoch 275, global step 26771: train_loss_ssl was not in top 5\n",
      "Epoch 276, global step 26868: train_loss_ssl was not in top 5\n",
      "Epoch 277, global step 26965: train_loss_ssl was not in top 5\n",
      "Epoch 278, global step 27062: train_loss_ssl was not in top 5\n",
      "Epoch 279, global step 27159: train_loss_ssl was not in top 5\n"
     ]
    },
    {
     "name": "stderr",
     "output_type": "stream",
     "text": [
      "Epoch 280, global step 27256: train_loss_ssl was not in top 5\n",
      "Epoch 281, global step 27353: train_loss_ssl was not in top 5\n",
      "Epoch 282, global step 27450: train_loss_ssl reached 2.47742 (best 2.44904), saving model to \"/home/shatz/Documents/more_better/saved_models/resnet_moco/epoch=282-train_loss_ssl=2.48.ckpt\" as top 5\n",
      "Epoch 283, global step 27547: train_loss_ssl reached 2.39391 (best 2.39391), saving model to \"/home/shatz/Documents/more_better/saved_models/resnet_moco/epoch=283-train_loss_ssl=2.39.ckpt\" as top 5\n",
      "Epoch 284, global step 27644: train_loss_ssl was not in top 5\n",
      "Epoch 285, global step 27741: train_loss_ssl reached 2.46602 (best 2.39391), saving model to \"/home/shatz/Documents/more_better/saved_models/resnet_moco/epoch=285-train_loss_ssl=2.47.ckpt\" as top 5\n",
      "Epoch 286, global step 27838: train_loss_ssl was not in top 5\n",
      "Epoch 287, global step 27935: train_loss_ssl was not in top 5\n",
      "Epoch 288, global step 28032: train_loss_ssl was not in top 5\n",
      "Epoch 289, global step 28129: train_loss_ssl was not in top 5\n",
      "Epoch 290, global step 28226: train_loss_ssl was not in top 5\n",
      "Epoch 291, global step 28323: train_loss_ssl was not in top 5\n",
      "Epoch 292, global step 28420: train_loss_ssl was not in top 5\n",
      "Epoch 293, global step 28517: train_loss_ssl was not in top 5\n",
      "Epoch 294, global step 28614: train_loss_ssl was not in top 5\n",
      "Epoch 295, global step 28711: train_loss_ssl was not in top 5\n",
      "Epoch 296, global step 28808: train_loss_ssl was not in top 5\n",
      "Epoch 297, global step 28905: train_loss_ssl was not in top 5\n",
      "Epoch 298, global step 29002: train_loss_ssl was not in top 5\n",
      "Epoch 299, global step 29099: train_loss_ssl was not in top 5\n",
      "Epoch 300, global step 29196: train_loss_ssl was not in top 5\n",
      "Epoch 301, global step 29293: train_loss_ssl was not in top 5\n",
      "Epoch 302, global step 29390: train_loss_ssl was not in top 5\n",
      "Epoch 303, global step 29487: train_loss_ssl was not in top 5\n",
      "Epoch 304, global step 29584: train_loss_ssl was not in top 5\n",
      "Epoch 305, global step 29681: train_loss_ssl was not in top 5\n",
      "Epoch 306, global step 29778: train_loss_ssl was not in top 5\n",
      "Epoch 307, global step 29875: train_loss_ssl was not in top 5\n",
      "Epoch 308, global step 29972: train_loss_ssl was not in top 5\n",
      "Epoch 309, global step 30069: train_loss_ssl was not in top 5\n",
      "Epoch 310, global step 30166: train_loss_ssl was not in top 5\n",
      "Epoch 311, global step 30263: train_loss_ssl was not in top 5\n",
      "Epoch 312, global step 30360: train_loss_ssl was not in top 5\n",
      "Epoch 313, global step 30457: train_loss_ssl was not in top 5\n",
      "Epoch 314, global step 30554: train_loss_ssl was not in top 5\n",
      "Epoch 315, global step 30651: train_loss_ssl was not in top 5\n",
      "IOPub message rate exceeded.\n",
      "The notebook server will temporarily stop sending output\n",
      "to the client in order to avoid crashing it.\n",
      "To change this limit, set the config variable\n",
      "`--NotebookApp.iopub_msg_rate_limit`.\n",
      "\n",
      "Current values:\n",
      "NotebookApp.iopub_msg_rate_limit=1000.0 (msgs/sec)\n",
      "NotebookApp.rate_limit_window=3.0 (secs)\n",
      "\n",
      "Epoch 352, global step 34240: train_loss_ssl reached 2.38932 (best 2.33053), saving model to \"/home/shatz/Documents/more_better/saved_models/resnet_moco/epoch=352-train_loss_ssl=2.39.ckpt\" as top 5\n",
      "Epoch 353, global step 34337: train_loss_ssl was not in top 5\n",
      "Epoch 354, global step 34434: train_loss_ssl was not in top 5\n",
      "Epoch 355, global step 34531: train_loss_ssl reached 2.33468 (best 2.33053), saving model to \"/home/shatz/Documents/more_better/saved_models/resnet_moco/epoch=355-train_loss_ssl=2.33.ckpt\" as top 5\n",
      "Epoch 356, global step 34628: train_loss_ssl was not in top 5\n",
      "Epoch 357, global step 34725: train_loss_ssl was not in top 5\n",
      "Epoch 358, global step 34822: train_loss_ssl was not in top 5\n",
      "Epoch 359, global step 34919: train_loss_ssl was not in top 5\n",
      "Epoch 360, global step 35016: train_loss_ssl was not in top 5\n",
      "IOPub message rate exceeded.\n",
      "The notebook server will temporarily stop sending output\n",
      "to the client in order to avoid crashing it.\n",
      "To change this limit, set the config variable\n",
      "`--NotebookApp.iopub_msg_rate_limit`.\n",
      "\n",
      "Current values:\n",
      "NotebookApp.iopub_msg_rate_limit=1000.0 (msgs/sec)\n",
      "NotebookApp.rate_limit_window=3.0 (secs)\n",
      "\n",
      "Epoch 397, global step 38605: train_loss_ssl was not in top 5\n",
      "Epoch 398, global step 38702: train_loss_ssl was not in top 5\n",
      "Epoch 399, global step 38799: train_loss_ssl was not in top 5\n",
      "Epoch 400, global step 38896: train_loss_ssl was not in top 5\n",
      "Epoch 401, global step 38993: train_loss_ssl was not in top 5\n",
      "Epoch 402, global step 39090: train_loss_ssl was not in top 5\n",
      "Epoch 403, global step 39187: train_loss_ssl was not in top 5\n",
      "Epoch 404, global step 39284: train_loss_ssl reached 2.37001 (best 2.33053), saving model to \"/home/shatz/Documents/more_better/saved_models/resnet_moco/epoch=404-train_loss_ssl=2.37.ckpt\" as top 5\n",
      "Epoch 405, global step 39381: train_loss_ssl was not in top 5\n",
      "IOPub message rate exceeded.\n",
      "The notebook server will temporarily stop sending output\n",
      "to the client in order to avoid crashing it.\n",
      "To change this limit, set the config variable\n",
      "`--NotebookApp.iopub_msg_rate_limit`.\n",
      "\n",
      "Current values:\n",
      "NotebookApp.iopub_msg_rate_limit=1000.0 (msgs/sec)\n",
      "NotebookApp.rate_limit_window=3.0 (secs)\n",
      "\n",
      "Epoch 431, global step 41903: train_loss_ssl was not in top 5\n",
      "Epoch 432, global step 42000: train_loss_ssl was not in top 5\n",
      "Epoch 433, global step 42097: train_loss_ssl was not in top 5\n",
      "Epoch 434, global step 42194: train_loss_ssl was not in top 5\n",
      "Epoch 435, global step 42291: train_loss_ssl was not in top 5\n",
      "Epoch 436, global step 42388: train_loss_ssl was not in top 5\n",
      "Epoch 437, global step 42485: train_loss_ssl was not in top 5\n",
      "Epoch 438, global step 42582: train_loss_ssl was not in top 5\n",
      "Epoch 439, global step 42679: train_loss_ssl was not in top 5\n",
      "IOPub message rate exceeded.\n",
      "The notebook server will temporarily stop sending output\n",
      "to the client in order to avoid crashing it.\n",
      "To change this limit, set the config variable\n",
      "`--NotebookApp.iopub_msg_rate_limit`.\n",
      "\n",
      "Current values:\n",
      "NotebookApp.iopub_msg_rate_limit=1000.0 (msgs/sec)\n",
      "NotebookApp.rate_limit_window=3.0 (secs)\n",
      "\n",
      "Epoch 474, global step 46074: train_loss_ssl was not in top 5\n",
      "Epoch 475, global step 46171: train_loss_ssl was not in top 5\n",
      "Epoch 476, global step 46268: train_loss_ssl was not in top 5\n",
      "Epoch 477, global step 46365: train_loss_ssl was not in top 5\n",
      "Epoch 478, global step 46462: train_loss_ssl was not in top 5\n",
      "Epoch 479, global step 46559: train_loss_ssl was not in top 5\n",
      "Epoch 480, global step 46656: train_loss_ssl was not in top 5\n",
      "Epoch 481, global step 46753: train_loss_ssl reached 2.31313 (best 2.31313), saving model to \"/home/shatz/Documents/more_better/saved_models/resnet_moco/epoch=481-train_loss_ssl=2.31.ckpt\" as top 5\n",
      "Epoch 482, global step 46850: train_loss_ssl was not in top 5\n",
      "IOPub message rate exceeded.\n",
      "The notebook server will temporarily stop sending output\n",
      "to the client in order to avoid crashing it.\n",
      "To change this limit, set the config variable\n",
      "`--NotebookApp.iopub_msg_rate_limit`.\n",
      "\n",
      "Current values:\n",
      "NotebookApp.iopub_msg_rate_limit=1000.0 (msgs/sec)\n",
      "NotebookApp.rate_limit_window=3.0 (secs)\n",
      "\n",
      "Epoch 518, global step 50342: train_loss_ssl was not in top 5\n",
      "Epoch 519, global step 50439: train_loss_ssl reached 2.34737 (best 2.31313), saving model to \"/home/shatz/Documents/more_better/saved_models/resnet_moco/epoch=519-train_loss_ssl=2.35.ckpt\" as top 5\n",
      "Epoch 520, global step 50536: train_loss_ssl was not in top 5\n",
      "Epoch 521, global step 50633: train_loss_ssl was not in top 5\n",
      "Epoch 522, global step 50730: train_loss_ssl was not in top 5\n",
      "Epoch 523, global step 50827: train_loss_ssl was not in top 5\n",
      "Epoch 524, global step 50924: train_loss_ssl was not in top 5\n",
      "Epoch 525, global step 51021: train_loss_ssl was not in top 5\n",
      "Epoch 526, global step 51118: train_loss_ssl was not in top 5\n",
      "IOPub message rate exceeded.\n",
      "The notebook server will temporarily stop sending output\n",
      "to the client in order to avoid crashing it.\n",
      "To change this limit, set the config variable\n",
      "`--NotebookApp.iopub_msg_rate_limit`.\n",
      "\n",
      "Current values:\n",
      "NotebookApp.iopub_msg_rate_limit=1000.0 (msgs/sec)\n",
      "NotebookApp.rate_limit_window=3.0 (secs)\n",
      "\n",
      "Epoch 562, global step 54610: train_loss_ssl was not in top 5\n",
      "Epoch 563, global step 54707: train_loss_ssl was not in top 5\n",
      "Epoch 564, global step 54804: train_loss_ssl was not in top 5\n"
     ]
    },
    {
     "name": "stderr",
     "output_type": "stream",
     "text": [
      "Epoch 565, global step 54901: train_loss_ssl was not in top 5\n",
      "Epoch 566, global step 54998: train_loss_ssl was not in top 5\n",
      "Epoch 567, global step 55095: train_loss_ssl was not in top 5\n",
      "Epoch 568, global step 55192: train_loss_ssl was not in top 5\n",
      "Epoch 569, global step 55289: train_loss_ssl was not in top 5\n",
      "IOPub message rate exceeded.\n",
      "The notebook server will temporarily stop sending output\n",
      "to the client in order to avoid crashing it.\n",
      "To change this limit, set the config variable\n",
      "`--NotebookApp.iopub_msg_rate_limit`.\n",
      "\n",
      "Current values:\n",
      "NotebookApp.iopub_msg_rate_limit=1000.0 (msgs/sec)\n",
      "NotebookApp.rate_limit_window=3.0 (secs)\n",
      "\n",
      "Epoch 605, global step 58781: train_loss_ssl was not in top 5\n",
      "Epoch 606, global step 58878: train_loss_ssl was not in top 5\n",
      "Epoch 607, global step 58975: train_loss_ssl was not in top 5\n",
      "Epoch 608, global step 59072: train_loss_ssl was not in top 5\n",
      "Epoch 609, global step 59169: train_loss_ssl was not in top 5\n",
      "Epoch 610, global step 59266: train_loss_ssl was not in top 5\n",
      "Epoch 611, global step 59363: train_loss_ssl was not in top 5\n",
      "Epoch 612, global step 59460: train_loss_ssl was not in top 5\n",
      "Epoch 613, global step 59557: train_loss_ssl was not in top 5\n",
      "IOPub message rate exceeded.\n",
      "The notebook server will temporarily stop sending output\n",
      "to the client in order to avoid crashing it.\n",
      "To change this limit, set the config variable\n",
      "`--NotebookApp.iopub_msg_rate_limit`.\n",
      "\n",
      "Current values:\n",
      "NotebookApp.iopub_msg_rate_limit=1000.0 (msgs/sec)\n",
      "NotebookApp.rate_limit_window=3.0 (secs)\n",
      "\n",
      "Epoch 627, global step 60915: train_loss_ssl was not in top 5\n",
      "Epoch 628, global step 61012: train_loss_ssl was not in top 5\n",
      "Epoch 629, global step 61109: train_loss_ssl was not in top 5\n",
      "Epoch 630, global step 61206: train_loss_ssl was not in top 5\n",
      "Epoch 631, global step 61303: train_loss_ssl was not in top 5\n",
      "Epoch 632, global step 61400: train_loss_ssl was not in top 5\n",
      "Epoch 633, global step 61497: train_loss_ssl was not in top 5\n",
      "IOPub message rate exceeded.\n",
      "The notebook server will temporarily stop sending output\n",
      "to the client in order to avoid crashing it.\n",
      "To change this limit, set the config variable\n",
      "`--NotebookApp.iopub_msg_rate_limit`.\n",
      "\n",
      "Current values:\n",
      "NotebookApp.iopub_msg_rate_limit=1000.0 (msgs/sec)\n",
      "NotebookApp.rate_limit_window=3.0 (secs)\n",
      "\n",
      "Epoch 654, global step 63534: train_loss_ssl was not in top 5\n",
      "Epoch 655, global step 63631: train_loss_ssl was not in top 5\n",
      "IOPub message rate exceeded.\n",
      "The notebook server will temporarily stop sending output\n",
      "to the client in order to avoid crashing it.\n",
      "To change this limit, set the config variable\n",
      "`--NotebookApp.iopub_msg_rate_limit`.\n",
      "\n",
      "Current values:\n",
      "NotebookApp.iopub_msg_rate_limit=1000.0 (msgs/sec)\n",
      "NotebookApp.rate_limit_window=3.0 (secs)\n",
      "\n",
      "Epoch 670, global step 65086: train_loss_ssl was not in top 5\n",
      "Epoch 671, global step 65183: train_loss_ssl was not in top 5\n",
      "Epoch 672, global step 65280: train_loss_ssl was not in top 5\n",
      "Epoch 673, global step 65377: train_loss_ssl was not in top 5\n",
      "Epoch 674, global step 65474: train_loss_ssl reached 2.26319 (best 2.25178), saving model to \"/home/shatz/Documents/more_better/saved_models/resnet_moco/epoch=674-train_loss_ssl=2.26.ckpt\" as top 5\n",
      "Epoch 675, global step 65571: train_loss_ssl was not in top 5\n",
      "Epoch 676, global step 65668: train_loss_ssl was not in top 5\n",
      "IOPub message rate exceeded.\n",
      "The notebook server will temporarily stop sending output\n",
      "to the client in order to avoid crashing it.\n",
      "To change this limit, set the config variable\n",
      "`--NotebookApp.iopub_msg_rate_limit`.\n",
      "\n",
      "Current values:\n",
      "NotebookApp.iopub_msg_rate_limit=1000.0 (msgs/sec)\n",
      "NotebookApp.rate_limit_window=3.0 (secs)\n",
      "\n",
      "Epoch 697, global step 67705: train_loss_ssl was not in top 5\n",
      "Epoch 698, global step 67802: train_loss_ssl was not in top 5\n",
      "IOPub message rate exceeded.\n",
      "The notebook server will temporarily stop sending output\n",
      "to the client in order to avoid crashing it.\n",
      "To change this limit, set the config variable\n",
      "`--NotebookApp.iopub_msg_rate_limit`.\n",
      "\n",
      "Current values:\n",
      "NotebookApp.iopub_msg_rate_limit=1000.0 (msgs/sec)\n",
      "NotebookApp.rate_limit_window=3.0 (secs)\n",
      "\n",
      "Epoch 712, global step 69160: train_loss_ssl was not in top 5\n",
      "Epoch 713, global step 69257: train_loss_ssl was not in top 5\n",
      "Epoch 714, global step 69354: train_loss_ssl was not in top 5\n",
      "Epoch 715, global step 69451: train_loss_ssl was not in top 5\n",
      "Epoch 716, global step 69548: train_loss_ssl was not in top 5\n",
      "Epoch 717, global step 69645: train_loss_ssl was not in top 5\n",
      "Epoch 718, global step 69742: train_loss_ssl was not in top 5\n",
      "IOPub message rate exceeded.\n",
      "The notebook server will temporarily stop sending output\n",
      "to the client in order to avoid crashing it.\n",
      "To change this limit, set the config variable\n",
      "`--NotebookApp.iopub_msg_rate_limit`.\n",
      "\n",
      "Current values:\n",
      "NotebookApp.iopub_msg_rate_limit=1000.0 (msgs/sec)\n",
      "NotebookApp.rate_limit_window=3.0 (secs)\n",
      "\n",
      "Epoch 740, global step 71876: train_loss_ssl was not in top 5\n",
      "Epoch 741, global step 71973: train_loss_ssl was not in top 5\n",
      "IOPub message rate exceeded.\n",
      "The notebook server will temporarily stop sending output\n",
      "to the client in order to avoid crashing it.\n",
      "To change this limit, set the config variable\n",
      "`--NotebookApp.iopub_msg_rate_limit`.\n",
      "\n",
      "Current values:\n",
      "NotebookApp.iopub_msg_rate_limit=1000.0 (msgs/sec)\n",
      "NotebookApp.rate_limit_window=3.0 (secs)\n",
      "\n",
      "Epoch 756, global step 73428: train_loss_ssl was not in top 5\n",
      "Epoch 757, global step 73525: train_loss_ssl was not in top 5\n",
      "Epoch 758, global step 73622: train_loss_ssl was not in top 5\n",
      "Epoch 759, global step 73719: train_loss_ssl was not in top 5\n",
      "Epoch 760, global step 73816: train_loss_ssl was not in top 5\n",
      "Epoch 761, global step 73913: train_loss_ssl was not in top 5\n",
      "Epoch 762, global step 74010: train_loss_ssl was not in top 5\n",
      "IOPub message rate exceeded.\n",
      "The notebook server will temporarily stop sending output\n",
      "to the client in order to avoid crashing it.\n",
      "To change this limit, set the config variable\n",
      "`--NotebookApp.iopub_msg_rate_limit`.\n",
      "\n",
      "Current values:\n",
      "NotebookApp.iopub_msg_rate_limit=1000.0 (msgs/sec)\n",
      "NotebookApp.rate_limit_window=3.0 (secs)\n",
      "\n",
      "Epoch 784, global step 76144: train_loss_ssl was not in top 5\n",
      "Epoch 785, global step 76241: train_loss_ssl was not in top 5\n",
      "IOPub message rate exceeded.\n",
      "The notebook server will temporarily stop sending output\n",
      "to the client in order to avoid crashing it.\n",
      "To change this limit, set the config variable\n",
      "`--NotebookApp.iopub_msg_rate_limit`.\n",
      "\n",
      "Current values:\n",
      "NotebookApp.iopub_msg_rate_limit=1000.0 (msgs/sec)\n",
      "NotebookApp.rate_limit_window=3.0 (secs)\n",
      "\n",
      "Epoch 799, global step 77599: train_loss_ssl was not in top 5\n",
      "Epoch 800, global step 77696: train_loss_ssl was not in top 5\n",
      "Epoch 801, global step 77793: train_loss_ssl was not in top 5\n",
      "Epoch 802, global step 77890: train_loss_ssl was not in top 5\n",
      "Epoch 803, global step 77987: train_loss_ssl was not in top 5\n",
      "Epoch 804, global step 78084: train_loss_ssl was not in top 5\n",
      "Epoch 805, global step 78181: train_loss_ssl was not in top 5\n",
      "IOPub message rate exceeded.\n",
      "The notebook server will temporarily stop sending output\n",
      "to the client in order to avoid crashing it.\n",
      "To change this limit, set the config variable\n",
      "`--NotebookApp.iopub_msg_rate_limit`.\n",
      "\n",
      "Current values:\n",
      "NotebookApp.iopub_msg_rate_limit=1000.0 (msgs/sec)\n",
      "NotebookApp.rate_limit_window=3.0 (secs)\n",
      "\n",
      "Epoch 827, global step 80315: train_loss_ssl was not in top 5\n",
      "Epoch 828, global step 80412: train_loss_ssl was not in top 5\n",
      "IOPub message rate exceeded.\n",
      "The notebook server will temporarily stop sending output\n",
      "to the client in order to avoid crashing it.\n",
      "To change this limit, set the config variable\n",
      "`--NotebookApp.iopub_msg_rate_limit`.\n",
      "\n",
      "Current values:\n",
      "NotebookApp.iopub_msg_rate_limit=1000.0 (msgs/sec)\n",
      "NotebookApp.rate_limit_window=3.0 (secs)\n",
      "\n",
      "Epoch 842, global step 81770: train_loss_ssl was not in top 5\n",
      "Epoch 843, global step 81867: train_loss_ssl was not in top 5\n",
      "Epoch 844, global step 81964: train_loss_ssl was not in top 5\n",
      "Epoch 845, global step 82061: train_loss_ssl was not in top 5\n",
      "Epoch 846, global step 82158: train_loss_ssl was not in top 5\n",
      "Epoch 847, global step 82255: train_loss_ssl was not in top 5\n",
      "Epoch 848, global step 82352: train_loss_ssl was not in top 5\n",
      "IOPub message rate exceeded.\n",
      "The notebook server will temporarily stop sending output\n",
      "to the client in order to avoid crashing it.\n",
      "To change this limit, set the config variable\n",
      "`--NotebookApp.iopub_msg_rate_limit`.\n",
      "\n",
      "Current values:\n",
      "NotebookApp.iopub_msg_rate_limit=1000.0 (msgs/sec)\n",
      "NotebookApp.rate_limit_window=3.0 (secs)\n",
      "\n"
     ]
    },
    {
     "name": "stderr",
     "output_type": "stream",
     "text": [
      "Epoch 870, global step 84486: train_loss_ssl was not in top 5\n",
      "Epoch 871, global step 84583: train_loss_ssl was not in top 5\n",
      "IOPub message rate exceeded.\n",
      "The notebook server will temporarily stop sending output\n",
      "to the client in order to avoid crashing it.\n",
      "To change this limit, set the config variable\n",
      "`--NotebookApp.iopub_msg_rate_limit`.\n",
      "\n",
      "Current values:\n",
      "NotebookApp.iopub_msg_rate_limit=1000.0 (msgs/sec)\n",
      "NotebookApp.rate_limit_window=3.0 (secs)\n",
      "\n",
      "Epoch 885, global step 85941: train_loss_ssl was not in top 5\n",
      "Epoch 886, global step 86038: train_loss_ssl was not in top 5\n",
      "Epoch 887, global step 86135: train_loss_ssl was not in top 5\n",
      "Epoch 888, global step 86232: train_loss_ssl was not in top 5\n",
      "Epoch 889, global step 86329: train_loss_ssl was not in top 5\n",
      "Epoch 890, global step 86426: train_loss_ssl was not in top 5\n",
      "Epoch 891, global step 86523: train_loss_ssl was not in top 5\n",
      "IOPub message rate exceeded.\n",
      "The notebook server will temporarily stop sending output\n",
      "to the client in order to avoid crashing it.\n",
      "To change this limit, set the config variable\n",
      "`--NotebookApp.iopub_msg_rate_limit`.\n",
      "\n",
      "Current values:\n",
      "NotebookApp.iopub_msg_rate_limit=1000.0 (msgs/sec)\n",
      "NotebookApp.rate_limit_window=3.0 (secs)\n",
      "\n",
      "Epoch 913, global step 88657: train_loss_ssl was not in top 5\n",
      "Epoch 914, global step 88754: train_loss_ssl was not in top 5\n",
      "IOPub message rate exceeded.\n",
      "The notebook server will temporarily stop sending output\n",
      "to the client in order to avoid crashing it.\n",
      "To change this limit, set the config variable\n",
      "`--NotebookApp.iopub_msg_rate_limit`.\n",
      "\n",
      "Current values:\n",
      "NotebookApp.iopub_msg_rate_limit=1000.0 (msgs/sec)\n",
      "NotebookApp.rate_limit_window=3.0 (secs)\n",
      "\n",
      "Epoch 929, global step 90209: train_loss_ssl was not in top 5\n",
      "Epoch 930, global step 90306: train_loss_ssl was not in top 5\n",
      "Epoch 931, global step 90403: train_loss_ssl was not in top 5\n",
      "Epoch 932, global step 90500: train_loss_ssl was not in top 5\n",
      "Epoch 933, global step 90597: train_loss_ssl was not in top 5\n",
      "Epoch 934, global step 90694: train_loss_ssl was not in top 5\n",
      "Epoch 935, global step 90791: train_loss_ssl was not in top 5\n",
      "IOPub message rate exceeded.\n",
      "The notebook server will temporarily stop sending output\n",
      "to the client in order to avoid crashing it.\n",
      "To change this limit, set the config variable\n",
      "`--NotebookApp.iopub_msg_rate_limit`.\n",
      "\n",
      "Current values:\n",
      "NotebookApp.iopub_msg_rate_limit=1000.0 (msgs/sec)\n",
      "NotebookApp.rate_limit_window=3.0 (secs)\n",
      "\n",
      "Epoch 958, global step 93022: train_loss_ssl was not in top 5\n",
      "IOPub message rate exceeded.\n",
      "The notebook server will temporarily stop sending output\n",
      "to the client in order to avoid crashing it.\n",
      "To change this limit, set the config variable\n",
      "`--NotebookApp.iopub_msg_rate_limit`.\n",
      "\n",
      "Current values:\n",
      "NotebookApp.iopub_msg_rate_limit=1000.0 (msgs/sec)\n",
      "NotebookApp.rate_limit_window=3.0 (secs)\n",
      "\n",
      "Epoch 973, global step 94477: train_loss_ssl was not in top 5\n",
      "Epoch 974, global step 94574: train_loss_ssl was not in top 5\n",
      "Epoch 975, global step 94671: train_loss_ssl was not in top 5\n",
      "Epoch 976, global step 94768: train_loss_ssl was not in top 5\n",
      "Epoch 977, global step 94865: train_loss_ssl was not in top 5\n",
      "Epoch 978, global step 94962: train_loss_ssl was not in top 5\n",
      "Epoch 979, global step 95059: train_loss_ssl was not in top 5\n",
      "IOPub message rate exceeded.\n",
      "The notebook server will temporarily stop sending output\n",
      "to the client in order to avoid crashing it.\n",
      "To change this limit, set the config variable\n",
      "`--NotebookApp.iopub_msg_rate_limit`.\n",
      "\n",
      "Current values:\n",
      "NotebookApp.iopub_msg_rate_limit=1000.0 (msgs/sec)\n",
      "NotebookApp.rate_limit_window=3.0 (secs)\n",
      "\n",
      "Epoch 1000, global step 97096: train_loss_ssl was not in top 5\n",
      "Epoch 1001, global step 97193: train_loss_ssl was not in top 5\n",
      "IOPub message rate exceeded.\n",
      "The notebook server will temporarily stop sending output\n",
      "to the client in order to avoid crashing it.\n",
      "To change this limit, set the config variable\n",
      "`--NotebookApp.iopub_msg_rate_limit`.\n",
      "\n",
      "Current values:\n",
      "NotebookApp.iopub_msg_rate_limit=1000.0 (msgs/sec)\n",
      "NotebookApp.rate_limit_window=3.0 (secs)\n",
      "\n",
      "Epoch 1013, global step 98357: train_loss_ssl was not in top 5\n",
      "Epoch 1014, global step 98454: train_loss_ssl was not in top 5\n",
      "Epoch 1015, global step 98551: train_loss_ssl was not in top 5\n",
      "Epoch 1016, global step 98648: train_loss_ssl was not in top 5\n",
      "Epoch 1017, global step 98745: train_loss_ssl was not in top 5\n",
      "Epoch 1018, global step 98842: train_loss_ssl was not in top 5\n",
      "Epoch 1019, global step 98939: train_loss_ssl was not in top 5\n",
      "IOPub message rate exceeded.\n",
      "The notebook server will temporarily stop sending output\n",
      "to the client in order to avoid crashing it.\n",
      "To change this limit, set the config variable\n",
      "`--NotebookApp.iopub_msg_rate_limit`.\n",
      "\n",
      "Current values:\n",
      "NotebookApp.iopub_msg_rate_limit=1000.0 (msgs/sec)\n",
      "NotebookApp.rate_limit_window=3.0 (secs)\n",
      "\n",
      "Epoch 1035, global step 100491: train_loss_ssl was not in top 5\n",
      "Epoch 1036, global step 100588: train_loss_ssl was not in top 5\n",
      "IOPub message rate exceeded.\n",
      "The notebook server will temporarily stop sending output\n",
      "to the client in order to avoid crashing it.\n",
      "To change this limit, set the config variable\n",
      "`--NotebookApp.iopub_msg_rate_limit`.\n",
      "\n",
      "Current values:\n",
      "NotebookApp.iopub_msg_rate_limit=1000.0 (msgs/sec)\n",
      "NotebookApp.rate_limit_window=3.0 (secs)\n",
      "\n",
      "Epoch 1053, global step 102237: train_loss_ssl was not in top 5\n",
      "Epoch 1054, global step 102334: train_loss_ssl was not in top 5\n",
      "Epoch 1055, global step 102431: train_loss_ssl was not in top 5\n",
      "Epoch 1056, global step 102528: train_loss_ssl was not in top 5\n",
      "Epoch 1057, global step 102625: train_loss_ssl was not in top 5\n",
      "Epoch 1058, global step 102722: train_loss_ssl was not in top 5\n",
      "Epoch 1059, global step 102819: train_loss_ssl reached 2.25092 (best 2.19772), saving model to \"/home/shatz/Documents/more_better/saved_models/resnet_moco/epoch=1059-train_loss_ssl=2.25.ckpt\" as top 5\n",
      "IOPub message rate exceeded.\n",
      "The notebook server will temporarily stop sending output\n",
      "to the client in order to avoid crashing it.\n",
      "To change this limit, set the config variable\n",
      "`--NotebookApp.iopub_msg_rate_limit`.\n",
      "\n",
      "Current values:\n",
      "NotebookApp.iopub_msg_rate_limit=1000.0 (msgs/sec)\n",
      "NotebookApp.rate_limit_window=3.0 (secs)\n",
      "\n",
      "Epoch 1078, global step 104662: train_loss_ssl was not in top 5\n",
      "Epoch 1079, global step 104759: train_loss_ssl was not in top 5\n",
      "IOPub message rate exceeded.\n",
      "The notebook server will temporarily stop sending output\n",
      "to the client in order to avoid crashing it.\n",
      "To change this limit, set the config variable\n",
      "`--NotebookApp.iopub_msg_rate_limit`.\n",
      "\n",
      "Current values:\n",
      "NotebookApp.iopub_msg_rate_limit=1000.0 (msgs/sec)\n",
      "NotebookApp.rate_limit_window=3.0 (secs)\n",
      "\n",
      "Epoch 1097, global step 106505: train_loss_ssl was not in top 5\n",
      "Epoch 1098, global step 106602: train_loss_ssl was not in top 5\n",
      "Epoch 1099, global step 106699: train_loss_ssl was not in top 5\n",
      "Epoch 1100, global step 106796: train_loss_ssl was not in top 5\n",
      "Epoch 1101, global step 106893: train_loss_ssl was not in top 5\n",
      "Epoch 1102, global step 106990: train_loss_ssl was not in top 5\n",
      "Epoch 1103, global step 107087: train_loss_ssl was not in top 5\n",
      "IOPub message rate exceeded.\n",
      "The notebook server will temporarily stop sending output\n",
      "to the client in order to avoid crashing it.\n",
      "To change this limit, set the config variable\n",
      "`--NotebookApp.iopub_msg_rate_limit`.\n",
      "\n",
      "Current values:\n",
      "NotebookApp.iopub_msg_rate_limit=1000.0 (msgs/sec)\n",
      "NotebookApp.rate_limit_window=3.0 (secs)\n",
      "\n",
      "Epoch 1121, global step 108833: train_loss_ssl was not in top 5\n",
      "Epoch 1122, global step 108930: train_loss_ssl was not in top 5\n",
      "IOPub message rate exceeded.\n",
      "The notebook server will temporarily stop sending output\n",
      "to the client in order to avoid crashing it.\n",
      "To change this limit, set the config variable\n",
      "`--NotebookApp.iopub_msg_rate_limit`.\n",
      "\n",
      "Current values:\n",
      "NotebookApp.iopub_msg_rate_limit=1000.0 (msgs/sec)\n",
      "NotebookApp.rate_limit_window=3.0 (secs)\n",
      "\n",
      "Epoch 1140, global step 110676: train_loss_ssl reached 2.19858 (best 2.19772), saving model to \"/home/shatz/Documents/more_better/saved_models/resnet_moco/epoch=1140-train_loss_ssl=2.20.ckpt\" as top 5\n",
      "Epoch 1141, global step 110773: train_loss_ssl was not in top 5\n",
      "Epoch 1142, global step 110870: train_loss_ssl was not in top 5\n",
      "Epoch 1143, global step 110967: train_loss_ssl was not in top 5\n"
     ]
    },
    {
     "name": "stderr",
     "output_type": "stream",
     "text": [
      "Epoch 1144, global step 111064: train_loss_ssl was not in top 5\n",
      "Epoch 1145, global step 111161: train_loss_ssl reached 2.23836 (best 2.19772), saving model to \"/home/shatz/Documents/more_better/saved_models/resnet_moco/epoch=1145-train_loss_ssl=2.24.ckpt\" as top 5\n",
      "Epoch 1146, global step 111258: train_loss_ssl was not in top 5\n",
      "IOPub message rate exceeded.\n",
      "The notebook server will temporarily stop sending output\n",
      "to the client in order to avoid crashing it.\n",
      "To change this limit, set the config variable\n",
      "`--NotebookApp.iopub_msg_rate_limit`.\n",
      "\n",
      "Current values:\n",
      "NotebookApp.iopub_msg_rate_limit=1000.0 (msgs/sec)\n",
      "NotebookApp.rate_limit_window=3.0 (secs)\n",
      "\n",
      "Epoch 1164, global step 113004: train_loss_ssl was not in top 5\n",
      "Epoch 1165, global step 113101: train_loss_ssl was not in top 5\n",
      "IOPub message rate exceeded.\n",
      "The notebook server will temporarily stop sending output\n",
      "to the client in order to avoid crashing it.\n",
      "To change this limit, set the config variable\n",
      "`--NotebookApp.iopub_msg_rate_limit`.\n",
      "\n",
      "Current values:\n",
      "NotebookApp.iopub_msg_rate_limit=1000.0 (msgs/sec)\n",
      "NotebookApp.rate_limit_window=3.0 (secs)\n",
      "\n",
      "Epoch 1183, global step 114847: train_loss_ssl was not in top 5\n",
      "Epoch 1184, global step 114944: train_loss_ssl was not in top 5\n",
      "Epoch 1185, global step 115041: train_loss_ssl was not in top 5\n",
      "Epoch 1186, global step 115138: train_loss_ssl was not in top 5\n",
      "Epoch 1187, global step 115235: train_loss_ssl was not in top 5\n",
      "Epoch 1188, global step 115332: train_loss_ssl was not in top 5\n",
      "Epoch 1189, global step 115429: train_loss_ssl was not in top 5\n",
      "IOPub message rate exceeded.\n",
      "The notebook server will temporarily stop sending output\n",
      "to the client in order to avoid crashing it.\n",
      "To change this limit, set the config variable\n",
      "`--NotebookApp.iopub_msg_rate_limit`.\n",
      "\n",
      "Current values:\n",
      "NotebookApp.iopub_msg_rate_limit=1000.0 (msgs/sec)\n",
      "NotebookApp.rate_limit_window=3.0 (secs)\n",
      "\n",
      "Epoch 1207, global step 117175: train_loss_ssl was not in top 5\n",
      "Epoch 1208, global step 117272: train_loss_ssl was not in top 5\n",
      "IOPub message rate exceeded.\n",
      "The notebook server will temporarily stop sending output\n",
      "to the client in order to avoid crashing it.\n",
      "To change this limit, set the config variable\n",
      "`--NotebookApp.iopub_msg_rate_limit`.\n",
      "\n",
      "Current values:\n",
      "NotebookApp.iopub_msg_rate_limit=1000.0 (msgs/sec)\n",
      "NotebookApp.rate_limit_window=3.0 (secs)\n",
      "\n",
      "Epoch 1226, global step 119018: train_loss_ssl was not in top 5\n",
      "Epoch 1227, global step 119115: train_loss_ssl was not in top 5\n",
      "Epoch 1228, global step 119212: train_loss_ssl was not in top 5\n",
      "Epoch 1229, global step 119309: train_loss_ssl was not in top 5\n",
      "Epoch 1230, global step 119406: train_loss_ssl was not in top 5\n",
      "Epoch 1231, global step 119503: train_loss_ssl was not in top 5\n",
      "Epoch 1232, global step 119600: train_loss_ssl was not in top 5\n",
      "IOPub message rate exceeded.\n",
      "The notebook server will temporarily stop sending output\n",
      "to the client in order to avoid crashing it.\n",
      "To change this limit, set the config variable\n",
      "`--NotebookApp.iopub_msg_rate_limit`.\n",
      "\n",
      "Current values:\n",
      "NotebookApp.iopub_msg_rate_limit=1000.0 (msgs/sec)\n",
      "NotebookApp.rate_limit_window=3.0 (secs)\n",
      "\n",
      "Epoch 1250, global step 121346: train_loss_ssl was not in top 5\n",
      "Epoch 1251, global step 121443: train_loss_ssl was not in top 5\n",
      "IOPub message rate exceeded.\n",
      "The notebook server will temporarily stop sending output\n",
      "to the client in order to avoid crashing it.\n",
      "To change this limit, set the config variable\n",
      "`--NotebookApp.iopub_msg_rate_limit`.\n",
      "\n",
      "Current values:\n",
      "NotebookApp.iopub_msg_rate_limit=1000.0 (msgs/sec)\n",
      "NotebookApp.rate_limit_window=3.0 (secs)\n",
      "\n",
      "Epoch 1269, global step 123189: train_loss_ssl was not in top 5\n",
      "Epoch 1270, global step 123286: train_loss_ssl was not in top 5\n",
      "Epoch 1271, global step 123383: train_loss_ssl was not in top 5\n",
      "Epoch 1272, global step 123480: train_loss_ssl was not in top 5\n",
      "Epoch 1273, global step 123577: train_loss_ssl was not in top 5\n",
      "Epoch 1274, global step 123674: train_loss_ssl was not in top 5\n",
      "Epoch 1275, global step 123771: train_loss_ssl was not in top 5\n",
      "IOPub message rate exceeded.\n",
      "The notebook server will temporarily stop sending output\n",
      "to the client in order to avoid crashing it.\n",
      "To change this limit, set the config variable\n",
      "`--NotebookApp.iopub_msg_rate_limit`.\n",
      "\n",
      "Current values:\n",
      "NotebookApp.iopub_msg_rate_limit=1000.0 (msgs/sec)\n",
      "NotebookApp.rate_limit_window=3.0 (secs)\n",
      "\n",
      "Epoch 1293, global step 125517: train_loss_ssl was not in top 5\n",
      "Epoch 1294, global step 125614: train_loss_ssl was not in top 5\n",
      "IOPub message rate exceeded.\n",
      "The notebook server will temporarily stop sending output\n",
      "to the client in order to avoid crashing it.\n",
      "To change this limit, set the config variable\n",
      "`--NotebookApp.iopub_msg_rate_limit`.\n",
      "\n",
      "Current values:\n",
      "NotebookApp.iopub_msg_rate_limit=1000.0 (msgs/sec)\n",
      "NotebookApp.rate_limit_window=3.0 (secs)\n",
      "\n",
      "Epoch 1312, global step 127360: train_loss_ssl was not in top 5\n",
      "Epoch 1313, global step 127457: train_loss_ssl was not in top 5\n",
      "Epoch 1314, global step 127554: train_loss_ssl was not in top 5\n",
      "Epoch 1315, global step 127651: train_loss_ssl was not in top 5\n",
      "Epoch 1316, global step 127748: train_loss_ssl was not in top 5\n",
      "Epoch 1317, global step 127845: train_loss_ssl was not in top 5\n",
      "Epoch 1318, global step 127942: train_loss_ssl was not in top 5\n",
      "IOPub message rate exceeded.\n",
      "The notebook server will temporarily stop sending output\n",
      "to the client in order to avoid crashing it.\n",
      "To change this limit, set the config variable\n",
      "`--NotebookApp.iopub_msg_rate_limit`.\n",
      "\n",
      "Current values:\n",
      "NotebookApp.iopub_msg_rate_limit=1000.0 (msgs/sec)\n",
      "NotebookApp.rate_limit_window=3.0 (secs)\n",
      "\n",
      "Epoch 1336, global step 129688: train_loss_ssl was not in top 5\n",
      "Epoch 1337, global step 129785: train_loss_ssl was not in top 5\n",
      "IOPub message rate exceeded.\n",
      "The notebook server will temporarily stop sending output\n",
      "to the client in order to avoid crashing it.\n",
      "To change this limit, set the config variable\n",
      "`--NotebookApp.iopub_msg_rate_limit`.\n",
      "\n",
      "Current values:\n",
      "NotebookApp.iopub_msg_rate_limit=1000.0 (msgs/sec)\n",
      "NotebookApp.rate_limit_window=3.0 (secs)\n",
      "\n",
      "Epoch 1356, global step 131628: train_loss_ssl was not in top 5\n",
      "Epoch 1357, global step 131725: train_loss_ssl was not in top 5\n",
      "Epoch 1358, global step 131822: train_loss_ssl was not in top 5\n",
      "Epoch 1359, global step 131919: train_loss_ssl was not in top 5\n",
      "Epoch 1360, global step 132016: train_loss_ssl was not in top 5\n",
      "Epoch 1361, global step 132113: train_loss_ssl was not in top 5\n",
      "IOPub message rate exceeded.\n",
      "The notebook server will temporarily stop sending output\n",
      "to the client in order to avoid crashing it.\n",
      "To change this limit, set the config variable\n",
      "`--NotebookApp.iopub_msg_rate_limit`.\n",
      "\n",
      "Current values:\n",
      "NotebookApp.iopub_msg_rate_limit=1000.0 (msgs/sec)\n",
      "NotebookApp.rate_limit_window=3.0 (secs)\n",
      "\n",
      "Epoch 1379, global step 133859: train_loss_ssl was not in top 5\n",
      "Epoch 1380, global step 133956: train_loss_ssl was not in top 5\n",
      "IOPub message rate exceeded.\n",
      "The notebook server will temporarily stop sending output\n",
      "to the client in order to avoid crashing it.\n",
      "To change this limit, set the config variable\n",
      "`--NotebookApp.iopub_msg_rate_limit`.\n",
      "\n",
      "Current values:\n",
      "NotebookApp.iopub_msg_rate_limit=1000.0 (msgs/sec)\n",
      "NotebookApp.rate_limit_window=3.0 (secs)\n",
      "\n",
      "Epoch 1398, global step 135702: train_loss_ssl was not in top 5\n",
      "Epoch 1399, global step 135799: train_loss_ssl was not in top 5\n",
      "Epoch 1400, global step 135896: train_loss_ssl was not in top 5\n",
      "Epoch 1401, global step 135993: train_loss_ssl was not in top 5\n",
      "Epoch 1402, global step 136090: train_loss_ssl was not in top 5\n",
      "Epoch 1403, global step 136187: train_loss_ssl was not in top 5\n",
      "Epoch 1404, global step 136284: train_loss_ssl was not in top 5\n",
      "IOPub message rate exceeded.\n",
      "The notebook server will temporarily stop sending output\n",
      "to the client in order to avoid crashing it.\n",
      "To change this limit, set the config variable\n",
      "`--NotebookApp.iopub_msg_rate_limit`.\n",
      "\n",
      "Current values:\n",
      "NotebookApp.iopub_msg_rate_limit=1000.0 (msgs/sec)\n",
      "NotebookApp.rate_limit_window=3.0 (secs)\n",
      "\n",
      "Epoch 1422, global step 138030: train_loss_ssl was not in top 5\n",
      "Epoch 1423, global step 138127: train_loss_ssl was not in top 5\n",
      "IOPub message rate exceeded.\n",
      "The notebook server will temporarily stop sending output\n",
      "to the client in order to avoid crashing it.\n",
      "To change this limit, set the config variable\n",
      "`--NotebookApp.iopub_msg_rate_limit`.\n",
      "\n",
      "Current values:\n",
      "NotebookApp.iopub_msg_rate_limit=1000.0 (msgs/sec)\n",
      "NotebookApp.rate_limit_window=3.0 (secs)\n",
      "\n"
     ]
    },
    {
     "name": "stderr",
     "output_type": "stream",
     "text": [
      "Epoch 1441, global step 139873: train_loss_ssl was not in top 5\n",
      "Epoch 1442, global step 139970: train_loss_ssl was not in top 5\n",
      "Epoch 1443, global step 140067: train_loss_ssl was not in top 5\n",
      "Epoch 1444, global step 140164: train_loss_ssl was not in top 5\n",
      "Epoch 1445, global step 140261: train_loss_ssl was not in top 5\n",
      "Epoch 1446, global step 140358: train_loss_ssl was not in top 5\n",
      "Epoch 1447, global step 140455: train_loss_ssl was not in top 5\n",
      "IOPub message rate exceeded.\n",
      "The notebook server will temporarily stop sending output\n",
      "to the client in order to avoid crashing it.\n",
      "To change this limit, set the config variable\n",
      "`--NotebookApp.iopub_msg_rate_limit`.\n",
      "\n",
      "Current values:\n",
      "NotebookApp.iopub_msg_rate_limit=1000.0 (msgs/sec)\n",
      "NotebookApp.rate_limit_window=3.0 (secs)\n",
      "\n",
      "Epoch 1464, global step 142104: train_loss_ssl was not in top 5\n",
      "Epoch 1465, global step 142201: train_loss_ssl was not in top 5\n",
      "IOPub message rate exceeded.\n",
      "The notebook server will temporarily stop sending output\n",
      "to the client in order to avoid crashing it.\n",
      "To change this limit, set the config variable\n",
      "`--NotebookApp.iopub_msg_rate_limit`.\n",
      "\n",
      "Current values:\n",
      "NotebookApp.iopub_msg_rate_limit=1000.0 (msgs/sec)\n",
      "NotebookApp.rate_limit_window=3.0 (secs)\n",
      "\n",
      "Epoch 1483, global step 143947: train_loss_ssl was not in top 5\n",
      "Epoch 1484, global step 144044: train_loss_ssl was not in top 5\n",
      "Epoch 1485, global step 144141: train_loss_ssl was not in top 5\n",
      "Epoch 1486, global step 144238: train_loss_ssl was not in top 5\n",
      "Epoch 1487, global step 144335: train_loss_ssl was not in top 5\n",
      "Epoch 1488, global step 144432: train_loss_ssl was not in top 5\n",
      "Epoch 1489, global step 144529: train_loss_ssl was not in top 5\n",
      "IOPub message rate exceeded.\n",
      "The notebook server will temporarily stop sending output\n",
      "to the client in order to avoid crashing it.\n",
      "To change this limit, set the config variable\n",
      "`--NotebookApp.iopub_msg_rate_limit`.\n",
      "\n",
      "Current values:\n",
      "NotebookApp.iopub_msg_rate_limit=1000.0 (msgs/sec)\n",
      "NotebookApp.rate_limit_window=3.0 (secs)\n",
      "\n",
      "Epoch 1507, global step 146275: train_loss_ssl was not in top 5\n",
      "Epoch 1508, global step 146372: train_loss_ssl was not in top 5\n",
      "IOPub message rate exceeded.\n",
      "The notebook server will temporarily stop sending output\n",
      "to the client in order to avoid crashing it.\n",
      "To change this limit, set the config variable\n",
      "`--NotebookApp.iopub_msg_rate_limit`.\n",
      "\n",
      "Current values:\n",
      "NotebookApp.iopub_msg_rate_limit=1000.0 (msgs/sec)\n",
      "NotebookApp.rate_limit_window=3.0 (secs)\n",
      "\n",
      "Epoch 1527, global step 148215: train_loss_ssl was not in top 5\n",
      "Epoch 1528, global step 148312: train_loss_ssl was not in top 5\n",
      "Epoch 1529, global step 148409: train_loss_ssl was not in top 5\n",
      "Epoch 1530, global step 148506: train_loss_ssl was not in top 5\n",
      "Epoch 1531, global step 148603: train_loss_ssl was not in top 5\n",
      "Epoch 1532, global step 148700: train_loss_ssl was not in top 5\n",
      "Epoch 1533, global step 148797: train_loss_ssl was not in top 5\n",
      "IOPub message rate exceeded.\n",
      "The notebook server will temporarily stop sending output\n",
      "to the client in order to avoid crashing it.\n",
      "To change this limit, set the config variable\n",
      "`--NotebookApp.iopub_msg_rate_limit`.\n",
      "\n",
      "Current values:\n",
      "NotebookApp.iopub_msg_rate_limit=1000.0 (msgs/sec)\n",
      "NotebookApp.rate_limit_window=3.0 (secs)\n",
      "\n",
      "Epoch 1552, global step 150640: train_loss_ssl was not in top 5\n",
      "Epoch 1553, global step 150737: train_loss_ssl was not in top 5\n",
      "IOPub message rate exceeded.\n",
      "The notebook server will temporarily stop sending output\n",
      "to the client in order to avoid crashing it.\n",
      "To change this limit, set the config variable\n",
      "`--NotebookApp.iopub_msg_rate_limit`.\n",
      "\n",
      "Current values:\n",
      "NotebookApp.iopub_msg_rate_limit=1000.0 (msgs/sec)\n",
      "NotebookApp.rate_limit_window=3.0 (secs)\n",
      "\n",
      "Epoch 1571, global step 152483: train_loss_ssl was not in top 5\n",
      "Epoch 1572, global step 152580: train_loss_ssl was not in top 5\n",
      "Epoch 1573, global step 152677: train_loss_ssl was not in top 5\n",
      "Epoch 1574, global step 152774: train_loss_ssl was not in top 5\n",
      "Epoch 1575, global step 152871: train_loss_ssl was not in top 5\n",
      "Epoch 1576, global step 152968: train_loss_ssl was not in top 5\n",
      "Epoch 1577, global step 153065: train_loss_ssl was not in top 5\n",
      "IOPub message rate exceeded.\n",
      "The notebook server will temporarily stop sending output\n",
      "to the client in order to avoid crashing it.\n",
      "To change this limit, set the config variable\n",
      "`--NotebookApp.iopub_msg_rate_limit`.\n",
      "\n",
      "Current values:\n",
      "NotebookApp.iopub_msg_rate_limit=1000.0 (msgs/sec)\n",
      "NotebookApp.rate_limit_window=3.0 (secs)\n",
      "\n",
      "Epoch 1593, global step 154617: train_loss_ssl was not in top 5\n",
      "Epoch 1594, global step 154714: train_loss_ssl was not in top 5\n",
      "IOPub message rate exceeded.\n",
      "The notebook server will temporarily stop sending output\n",
      "to the client in order to avoid crashing it.\n",
      "To change this limit, set the config variable\n",
      "`--NotebookApp.iopub_msg_rate_limit`.\n",
      "\n",
      "Current values:\n",
      "NotebookApp.iopub_msg_rate_limit=1000.0 (msgs/sec)\n",
      "NotebookApp.rate_limit_window=3.0 (secs)\n",
      "\n",
      "Epoch 1611, global step 156363: train_loss_ssl was not in top 5\n",
      "Epoch 1612, global step 156460: train_loss_ssl was not in top 5\n",
      "Epoch 1613, global step 156557: train_loss_ssl was not in top 5\n",
      "Epoch 1614, global step 156654: train_loss_ssl was not in top 5\n",
      "Epoch 1615, global step 156751: train_loss_ssl was not in top 5\n",
      "Epoch 1616, global step 156848: train_loss_ssl was not in top 5\n",
      "Epoch 1617, global step 156945: train_loss_ssl was not in top 5\n",
      "IOPub message rate exceeded.\n",
      "The notebook server will temporarily stop sending output\n",
      "to the client in order to avoid crashing it.\n",
      "To change this limit, set the config variable\n",
      "`--NotebookApp.iopub_msg_rate_limit`.\n",
      "\n",
      "Current values:\n",
      "NotebookApp.iopub_msg_rate_limit=1000.0 (msgs/sec)\n",
      "NotebookApp.rate_limit_window=3.0 (secs)\n",
      "\n",
      "Epoch 1632, global step 158400: train_loss_ssl was not in top 5\n",
      "Epoch 1633, global step 158497: train_loss_ssl was not in top 5\n",
      "IOPub message rate exceeded.\n",
      "The notebook server will temporarily stop sending output\n",
      "to the client in order to avoid crashing it.\n",
      "To change this limit, set the config variable\n",
      "`--NotebookApp.iopub_msg_rate_limit`.\n",
      "\n",
      "Current values:\n",
      "NotebookApp.iopub_msg_rate_limit=1000.0 (msgs/sec)\n",
      "NotebookApp.rate_limit_window=3.0 (secs)\n",
      "\n",
      "Epoch 1650, global step 160146: train_loss_ssl was not in top 5\n",
      "Epoch 1651, global step 160243: train_loss_ssl was not in top 5\n",
      "Epoch 1652, global step 160340: train_loss_ssl was not in top 5\n",
      "Epoch 1653, global step 160437: train_loss_ssl was not in top 5\n",
      "Epoch 1654, global step 160534: train_loss_ssl was not in top 5\n",
      "Epoch 1655, global step 160631: train_loss_ssl was not in top 5\n",
      "Epoch 1656, global step 160728: train_loss_ssl was not in top 5\n",
      "IOPub message rate exceeded.\n",
      "The notebook server will temporarily stop sending output\n",
      "to the client in order to avoid crashing it.\n",
      "To change this limit, set the config variable\n",
      "`--NotebookApp.iopub_msg_rate_limit`.\n",
      "\n",
      "Current values:\n",
      "NotebookApp.iopub_msg_rate_limit=1000.0 (msgs/sec)\n",
      "NotebookApp.rate_limit_window=3.0 (secs)\n",
      "\n",
      "Epoch 1675, global step 162571: train_loss_ssl was not in top 5\n",
      "Epoch 1676, global step 162668: train_loss_ssl was not in top 5\n",
      "IOPub message rate exceeded.\n",
      "The notebook server will temporarily stop sending output\n",
      "to the client in order to avoid crashing it.\n",
      "To change this limit, set the config variable\n",
      "`--NotebookApp.iopub_msg_rate_limit`.\n",
      "\n",
      "Current values:\n",
      "NotebookApp.iopub_msg_rate_limit=1000.0 (msgs/sec)\n",
      "NotebookApp.rate_limit_window=3.0 (secs)\n",
      "\n",
      "Epoch 1693, global step 164317: train_loss_ssl was not in top 5\n",
      "Epoch 1694, global step 164414: train_loss_ssl was not in top 5\n",
      "Epoch 1695, global step 164511: train_loss_ssl was not in top 5\n",
      "Epoch 1696, global step 164608: train_loss_ssl was not in top 5\n",
      "Epoch 1697, global step 164705: train_loss_ssl was not in top 5\n",
      "Epoch 1698, global step 164802: train_loss_ssl was not in top 5\n",
      "Epoch 1699, global step 164899: train_loss_ssl was not in top 5\n",
      "IOPub message rate exceeded.\n",
      "The notebook server will temporarily stop sending output\n",
      "to the client in order to avoid crashing it.\n",
      "To change this limit, set the config variable\n",
      "`--NotebookApp.iopub_msg_rate_limit`.\n",
      "\n",
      "Current values:\n",
      "NotebookApp.iopub_msg_rate_limit=1000.0 (msgs/sec)\n",
      "NotebookApp.rate_limit_window=3.0 (secs)\n",
      "\n",
      "Epoch 1718, global step 166742: train_loss_ssl was not in top 5\n"
     ]
    },
    {
     "name": "stderr",
     "output_type": "stream",
     "text": [
      "Epoch 1719, global step 166839: train_loss_ssl was not in top 5\n",
      "IOPub message rate exceeded.\n",
      "The notebook server will temporarily stop sending output\n",
      "to the client in order to avoid crashing it.\n",
      "To change this limit, set the config variable\n",
      "`--NotebookApp.iopub_msg_rate_limit`.\n",
      "\n",
      "Current values:\n",
      "NotebookApp.iopub_msg_rate_limit=1000.0 (msgs/sec)\n",
      "NotebookApp.rate_limit_window=3.0 (secs)\n",
      "\n",
      "Epoch 1737, global step 168585: train_loss_ssl was not in top 5\n",
      "Epoch 1738, global step 168682: train_loss_ssl was not in top 5\n",
      "Epoch 1739, global step 168779: train_loss_ssl was not in top 5\n",
      "Epoch 1740, global step 168876: train_loss_ssl was not in top 5\n",
      "Epoch 1741, global step 168973: train_loss_ssl was not in top 5\n",
      "Epoch 1742, global step 169070: train_loss_ssl was not in top 5\n",
      "Epoch 1743, global step 169167: train_loss_ssl was not in top 5\n",
      "IOPub message rate exceeded.\n",
      "The notebook server will temporarily stop sending output\n",
      "to the client in order to avoid crashing it.\n",
      "To change this limit, set the config variable\n",
      "`--NotebookApp.iopub_msg_rate_limit`.\n",
      "\n",
      "Current values:\n",
      "NotebookApp.iopub_msg_rate_limit=1000.0 (msgs/sec)\n",
      "NotebookApp.rate_limit_window=3.0 (secs)\n",
      "\n",
      "Epoch 1762, global step 171010: train_loss_ssl was not in top 5\n",
      "Epoch 1763, global step 171107: train_loss_ssl was not in top 5\n",
      "IOPub message rate exceeded.\n",
      "The notebook server will temporarily stop sending output\n",
      "to the client in order to avoid crashing it.\n",
      "To change this limit, set the config variable\n",
      "`--NotebookApp.iopub_msg_rate_limit`.\n",
      "\n",
      "Current values:\n",
      "NotebookApp.iopub_msg_rate_limit=1000.0 (msgs/sec)\n",
      "NotebookApp.rate_limit_window=3.0 (secs)\n",
      "\n",
      "Epoch 1781, global step 172853: train_loss_ssl was not in top 5\n",
      "Epoch 1782, global step 172950: train_loss_ssl was not in top 5\n",
      "Epoch 1783, global step 173047: train_loss_ssl was not in top 5\n",
      "Epoch 1784, global step 173144: train_loss_ssl was not in top 5\n",
      "Epoch 1785, global step 173241: train_loss_ssl was not in top 5\n",
      "Epoch 1786, global step 173338: train_loss_ssl was not in top 5\n",
      "Epoch 1787, global step 173435: train_loss_ssl was not in top 5\n",
      "IOPub message rate exceeded.\n",
      "The notebook server will temporarily stop sending output\n",
      "to the client in order to avoid crashing it.\n",
      "To change this limit, set the config variable\n",
      "`--NotebookApp.iopub_msg_rate_limit`.\n",
      "\n",
      "Current values:\n",
      "NotebookApp.iopub_msg_rate_limit=1000.0 (msgs/sec)\n",
      "NotebookApp.rate_limit_window=3.0 (secs)\n",
      "\n",
      "Epoch 1805, global step 175181: train_loss_ssl was not in top 5\n",
      "Epoch 1806, global step 175278: train_loss_ssl was not in top 5\n",
      "IOPub message rate exceeded.\n",
      "The notebook server will temporarily stop sending output\n",
      "to the client in order to avoid crashing it.\n",
      "To change this limit, set the config variable\n",
      "`--NotebookApp.iopub_msg_rate_limit`.\n",
      "\n",
      "Current values:\n",
      "NotebookApp.iopub_msg_rate_limit=1000.0 (msgs/sec)\n",
      "NotebookApp.rate_limit_window=3.0 (secs)\n",
      "\n",
      "Epoch 1823, global step 176927: train_loss_ssl was not in top 5\n",
      "Epoch 1824, global step 177024: train_loss_ssl was not in top 5\n",
      "Epoch 1825, global step 177121: train_loss_ssl was not in top 5\n",
      "Epoch 1826, global step 177218: train_loss_ssl was not in top 5\n",
      "Epoch 1827, global step 177315: train_loss_ssl was not in top 5\n",
      "Epoch 1828, global step 177412: train_loss_ssl was not in top 5\n",
      "Epoch 1829, global step 177509: train_loss_ssl was not in top 5\n",
      "IOPub message rate exceeded.\n",
      "The notebook server will temporarily stop sending output\n",
      "to the client in order to avoid crashing it.\n",
      "To change this limit, set the config variable\n",
      "`--NotebookApp.iopub_msg_rate_limit`.\n",
      "\n",
      "Current values:\n",
      "NotebookApp.iopub_msg_rate_limit=1000.0 (msgs/sec)\n",
      "NotebookApp.rate_limit_window=3.0 (secs)\n",
      "\n",
      "Epoch 1848, global step 179352: train_loss_ssl was not in top 5\n",
      "Epoch 1849, global step 179449: train_loss_ssl was not in top 5\n",
      "IOPub message rate exceeded.\n",
      "The notebook server will temporarily stop sending output\n",
      "to the client in order to avoid crashing it.\n",
      "To change this limit, set the config variable\n",
      "`--NotebookApp.iopub_msg_rate_limit`.\n",
      "\n",
      "Current values:\n",
      "NotebookApp.iopub_msg_rate_limit=1000.0 (msgs/sec)\n",
      "NotebookApp.rate_limit_window=3.0 (secs)\n",
      "\n",
      "Epoch 1867, global step 181195: train_loss_ssl was not in top 5\n",
      "Epoch 1868, global step 181292: train_loss_ssl was not in top 5\n",
      "Epoch 1869, global step 181389: train_loss_ssl was not in top 5\n",
      "Epoch 1870, global step 181486: train_loss_ssl was not in top 5\n",
      "Epoch 1871, global step 181583: train_loss_ssl was not in top 5\n",
      "Epoch 1872, global step 181680: train_loss_ssl was not in top 5\n",
      "Epoch 1873, global step 181777: train_loss_ssl was not in top 5\n",
      "IOPub message rate exceeded.\n",
      "The notebook server will temporarily stop sending output\n",
      "to the client in order to avoid crashing it.\n",
      "To change this limit, set the config variable\n",
      "`--NotebookApp.iopub_msg_rate_limit`.\n",
      "\n",
      "Current values:\n",
      "NotebookApp.iopub_msg_rate_limit=1000.0 (msgs/sec)\n",
      "NotebookApp.rate_limit_window=3.0 (secs)\n",
      "\n",
      "Epoch 1891, global step 183523: train_loss_ssl was not in top 5\n",
      "Epoch 1892, global step 183620: train_loss_ssl was not in top 5\n",
      "IOPub message rate exceeded.\n",
      "The notebook server will temporarily stop sending output\n",
      "to the client in order to avoid crashing it.\n",
      "To change this limit, set the config variable\n",
      "`--NotebookApp.iopub_msg_rate_limit`.\n",
      "\n",
      "Current values:\n",
      "NotebookApp.iopub_msg_rate_limit=1000.0 (msgs/sec)\n",
      "NotebookApp.rate_limit_window=3.0 (secs)\n",
      "\n",
      "Epoch 1909, global step 185269: train_loss_ssl was not in top 5\n",
      "Epoch 1910, global step 185366: train_loss_ssl was not in top 5\n",
      "Epoch 1911, global step 185463: train_loss_ssl was not in top 5\n",
      "Epoch 1912, global step 185560: train_loss_ssl was not in top 5\n",
      "Epoch 1913, global step 185657: train_loss_ssl was not in top 5\n",
      "Epoch 1914, global step 185754: train_loss_ssl was not in top 5\n",
      "Epoch 1915, global step 185851: train_loss_ssl was not in top 5\n",
      "IOPub message rate exceeded.\n",
      "The notebook server will temporarily stop sending output\n",
      "to the client in order to avoid crashing it.\n",
      "To change this limit, set the config variable\n",
      "`--NotebookApp.iopub_msg_rate_limit`.\n",
      "\n",
      "Current values:\n",
      "NotebookApp.iopub_msg_rate_limit=1000.0 (msgs/sec)\n",
      "NotebookApp.rate_limit_window=3.0 (secs)\n",
      "\n",
      "Epoch 1934, global step 187694: train_loss_ssl was not in top 5\n",
      "Epoch 1935, global step 187791: train_loss_ssl was not in top 5\n",
      "IOPub message rate exceeded.\n",
      "The notebook server will temporarily stop sending output\n",
      "to the client in order to avoid crashing it.\n",
      "To change this limit, set the config variable\n",
      "`--NotebookApp.iopub_msg_rate_limit`.\n",
      "\n",
      "Current values:\n",
      "NotebookApp.iopub_msg_rate_limit=1000.0 (msgs/sec)\n",
      "NotebookApp.rate_limit_window=3.0 (secs)\n",
      "\n",
      "Epoch 1952, global step 189440: train_loss_ssl was not in top 5\n",
      "Epoch 1953, global step 189537: train_loss_ssl was not in top 5\n",
      "Epoch 1954, global step 189634: train_loss_ssl reached 2.17327 (best 2.16815), saving model to \"/home/shatz/Documents/more_better/saved_models/resnet_moco/epoch=1954-train_loss_ssl=2.17.ckpt\" as top 5\n",
      "Epoch 1955, global step 189731: train_loss_ssl was not in top 5\n",
      "Epoch 1956, global step 189828: train_loss_ssl was not in top 5\n",
      "Epoch 1957, global step 189925: train_loss_ssl was not in top 5\n",
      "Epoch 1958, global step 190022: train_loss_ssl was not in top 5\n",
      "IOPub message rate exceeded.\n",
      "The notebook server will temporarily stop sending output\n",
      "to the client in order to avoid crashing it.\n",
      "To change this limit, set the config variable\n",
      "`--NotebookApp.iopub_msg_rate_limit`.\n",
      "\n",
      "Current values:\n",
      "NotebookApp.iopub_msg_rate_limit=1000.0 (msgs/sec)\n",
      "NotebookApp.rate_limit_window=3.0 (secs)\n",
      "\n",
      "Epoch 1977, global step 191865: train_loss_ssl was not in top 5\n",
      "Epoch 1978, global step 191962: train_loss_ssl was not in top 5\n",
      "IOPub message rate exceeded.\n",
      "The notebook server will temporarily stop sending output\n",
      "to the client in order to avoid crashing it.\n",
      "To change this limit, set the config variable\n",
      "`--NotebookApp.iopub_msg_rate_limit`.\n",
      "\n",
      "Current values:\n",
      "NotebookApp.iopub_msg_rate_limit=1000.0 (msgs/sec)\n",
      "NotebookApp.rate_limit_window=3.0 (secs)\n",
      "\n",
      "Epoch 1995, global step 193611: train_loss_ssl was not in top 5\n",
      "Epoch 1996, global step 193708: train_loss_ssl was not in top 5\n",
      "Epoch 1997, global step 193805: train_loss_ssl was not in top 5\n",
      "Epoch 1998, global step 193902: train_loss_ssl was not in top 5\n",
      "Epoch 1999, global step 193999: train_loss_ssl was not in top 5\n"
     ]
    },
    {
     "name": "stderr",
     "output_type": "stream",
     "text": [
      "Epoch 2000, global step 194096: train_loss_ssl was not in top 5\n",
      "Epoch 2001, global step 194193: train_loss_ssl was not in top 5\n",
      "IOPub message rate exceeded.\n",
      "The notebook server will temporarily stop sending output\n",
      "to the client in order to avoid crashing it.\n",
      "To change this limit, set the config variable\n",
      "`--NotebookApp.iopub_msg_rate_limit`.\n",
      "\n",
      "Current values:\n",
      "NotebookApp.iopub_msg_rate_limit=1000.0 (msgs/sec)\n",
      "NotebookApp.rate_limit_window=3.0 (secs)\n",
      "\n",
      "Epoch 2021, global step 196133: train_loss_ssl was not in top 5\n",
      "Epoch 2022, global step 196230: train_loss_ssl was not in top 5\n",
      "IOPub message rate exceeded.\n",
      "The notebook server will temporarily stop sending output\n",
      "to the client in order to avoid crashing it.\n",
      "To change this limit, set the config variable\n",
      "`--NotebookApp.iopub_msg_rate_limit`.\n",
      "\n",
      "Current values:\n",
      "NotebookApp.iopub_msg_rate_limit=1000.0 (msgs/sec)\n",
      "NotebookApp.rate_limit_window=3.0 (secs)\n",
      "\n",
      "Epoch 2039, global step 197879: train_loss_ssl was not in top 5\n",
      "Epoch 2040, global step 197976: train_loss_ssl was not in top 5\n",
      "Epoch 2041, global step 198073: train_loss_ssl was not in top 5\n",
      "Epoch 2042, global step 198170: train_loss_ssl was not in top 5\n",
      "Epoch 2043, global step 198267: train_loss_ssl was not in top 5\n",
      "Epoch 2044, global step 198364: train_loss_ssl was not in top 5\n",
      "Epoch 2045, global step 198461: train_loss_ssl was not in top 5\n",
      "IOPub message rate exceeded.\n",
      "The notebook server will temporarily stop sending output\n",
      "to the client in order to avoid crashing it.\n",
      "To change this limit, set the config variable\n",
      "`--NotebookApp.iopub_msg_rate_limit`.\n",
      "\n",
      "Current values:\n",
      "NotebookApp.iopub_msg_rate_limit=1000.0 (msgs/sec)\n",
      "NotebookApp.rate_limit_window=3.0 (secs)\n",
      "\n",
      "Epoch 2063, global step 200207: train_loss_ssl was not in top 5\n",
      "Epoch 2064, global step 200304: train_loss_ssl was not in top 5\n",
      "IOPub message rate exceeded.\n",
      "The notebook server will temporarily stop sending output\n",
      "to the client in order to avoid crashing it.\n",
      "To change this limit, set the config variable\n",
      "`--NotebookApp.iopub_msg_rate_limit`.\n",
      "\n",
      "Current values:\n",
      "NotebookApp.iopub_msg_rate_limit=1000.0 (msgs/sec)\n",
      "NotebookApp.rate_limit_window=3.0 (secs)\n",
      "\n",
      "Epoch 2082, global step 202050: train_loss_ssl was not in top 5\n",
      "Epoch 2083, global step 202147: train_loss_ssl was not in top 5\n",
      "Epoch 2084, global step 202244: train_loss_ssl was not in top 5\n",
      "Epoch 2085, global step 202341: train_loss_ssl reached 2.16070 (best 2.14633), saving model to \"/home/shatz/Documents/more_better/saved_models/resnet_moco/epoch=2085-train_loss_ssl=2.16.ckpt\" as top 5\n",
      "Epoch 2086, global step 202438: train_loss_ssl was not in top 5\n",
      "Epoch 2087, global step 202535: train_loss_ssl reached 2.14511 (best 2.14511), saving model to \"/home/shatz/Documents/more_better/saved_models/resnet_moco/epoch=2087-train_loss_ssl=2.15.ckpt\" as top 5\n",
      "Epoch 2088, global step 202632: train_loss_ssl was not in top 5\n",
      "IOPub message rate exceeded.\n",
      "The notebook server will temporarily stop sending output\n",
      "to the client in order to avoid crashing it.\n",
      "To change this limit, set the config variable\n",
      "`--NotebookApp.iopub_msg_rate_limit`.\n",
      "\n",
      "Current values:\n",
      "NotebookApp.iopub_msg_rate_limit=1000.0 (msgs/sec)\n",
      "NotebookApp.rate_limit_window=3.0 (secs)\n",
      "\n",
      "Epoch 2107, global step 204475: train_loss_ssl was not in top 5\n",
      "IOPub message rate exceeded.\n",
      "The notebook server will temporarily stop sending output\n",
      "to the client in order to avoid crashing it.\n",
      "To change this limit, set the config variable\n",
      "`--NotebookApp.iopub_msg_rate_limit`.\n",
      "\n",
      "Current values:\n",
      "NotebookApp.iopub_msg_rate_limit=1000.0 (msgs/sec)\n",
      "NotebookApp.rate_limit_window=3.0 (secs)\n",
      "\n",
      "Epoch 2125, global step 206221: train_loss_ssl was not in top 5\n",
      "Epoch 2126, global step 206318: train_loss_ssl was not in top 5\n",
      "Epoch 2127, global step 206415: train_loss_ssl was not in top 5\n",
      "Epoch 2128, global step 206512: train_loss_ssl reached 2.16262 (best 2.14511), saving model to \"/home/shatz/Documents/more_better/saved_models/resnet_moco/epoch=2128-train_loss_ssl=2.16.ckpt\" as top 5\n",
      "Epoch 2129, global step 206609: train_loss_ssl was not in top 5\n",
      "Epoch 2130, global step 206706: train_loss_ssl was not in top 5\n",
      "Epoch 2131, global step 206803: train_loss_ssl was not in top 5\n",
      "IOPub message rate exceeded.\n",
      "The notebook server will temporarily stop sending output\n",
      "to the client in order to avoid crashing it.\n",
      "To change this limit, set the config variable\n",
      "`--NotebookApp.iopub_msg_rate_limit`.\n",
      "\n",
      "Current values:\n",
      "NotebookApp.iopub_msg_rate_limit=1000.0 (msgs/sec)\n",
      "NotebookApp.rate_limit_window=3.0 (secs)\n",
      "\n",
      "Epoch 2151, global step 208743: train_loss_ssl was not in top 5\n",
      "Epoch 2152, global step 208840: train_loss_ssl was not in top 5\n",
      "IOPub message rate exceeded.\n",
      "The notebook server will temporarily stop sending output\n",
      "to the client in order to avoid crashing it.\n",
      "To change this limit, set the config variable\n",
      "`--NotebookApp.iopub_msg_rate_limit`.\n",
      "\n",
      "Current values:\n",
      "NotebookApp.iopub_msg_rate_limit=1000.0 (msgs/sec)\n",
      "NotebookApp.rate_limit_window=3.0 (secs)\n",
      "\n",
      "Epoch 2169, global step 210489: train_loss_ssl was not in top 5\n",
      "Epoch 2170, global step 210586: train_loss_ssl was not in top 5\n",
      "Epoch 2171, global step 210683: train_loss_ssl was not in top 5\n",
      "Epoch 2172, global step 210780: train_loss_ssl was not in top 5\n",
      "Epoch 2173, global step 210877: train_loss_ssl was not in top 5\n",
      "Epoch 2174, global step 210974: train_loss_ssl was not in top 5\n",
      "Epoch 2175, global step 211071: train_loss_ssl was not in top 5\n",
      "IOPub message rate exceeded.\n",
      "The notebook server will temporarily stop sending output\n",
      "to the client in order to avoid crashing it.\n",
      "To change this limit, set the config variable\n",
      "`--NotebookApp.iopub_msg_rate_limit`.\n",
      "\n",
      "Current values:\n",
      "NotebookApp.iopub_msg_rate_limit=1000.0 (msgs/sec)\n",
      "NotebookApp.rate_limit_window=3.0 (secs)\n",
      "\n",
      "Epoch 2195, global step 213011: train_loss_ssl was not in top 5\n",
      "Epoch 2196, global step 213108: train_loss_ssl was not in top 5\n",
      "IOPub message rate exceeded.\n",
      "The notebook server will temporarily stop sending output\n",
      "to the client in order to avoid crashing it.\n",
      "To change this limit, set the config variable\n",
      "`--NotebookApp.iopub_msg_rate_limit`.\n",
      "\n",
      "Current values:\n",
      "NotebookApp.iopub_msg_rate_limit=1000.0 (msgs/sec)\n",
      "NotebookApp.rate_limit_window=3.0 (secs)\n",
      "\n",
      "Epoch 2212, global step 214660: train_loss_ssl was not in top 5\n",
      "Epoch 2213, global step 214757: train_loss_ssl was not in top 5\n",
      "Epoch 2214, global step 214854: train_loss_ssl was not in top 5\n",
      "Epoch 2215, global step 214951: train_loss_ssl was not in top 5\n",
      "Epoch 2216, global step 215048: train_loss_ssl was not in top 5\n",
      "Epoch 2217, global step 215145: train_loss_ssl was not in top 5\n",
      "Epoch 2218, global step 215242: train_loss_ssl was not in top 5\n",
      "IOPub message rate exceeded.\n",
      "The notebook server will temporarily stop sending output\n",
      "to the client in order to avoid crashing it.\n",
      "To change this limit, set the config variable\n",
      "`--NotebookApp.iopub_msg_rate_limit`.\n",
      "\n",
      "Current values:\n",
      "NotebookApp.iopub_msg_rate_limit=1000.0 (msgs/sec)\n",
      "NotebookApp.rate_limit_window=3.0 (secs)\n",
      "\n",
      "Epoch 2233, global step 216697: train_loss_ssl was not in top 5\n",
      "IOPub message rate exceeded.\n",
      "The notebook server will temporarily stop sending output\n",
      "to the client in order to avoid crashing it.\n",
      "To change this limit, set the config variable\n",
      "`--NotebookApp.iopub_msg_rate_limit`.\n",
      "\n",
      "Current values:\n",
      "NotebookApp.iopub_msg_rate_limit=1000.0 (msgs/sec)\n",
      "NotebookApp.rate_limit_window=3.0 (secs)\n",
      "\n",
      "Epoch 2248, global step 218152: train_loss_ssl was not in top 5\n",
      "Epoch 2249, global step 218249: train_loss_ssl was not in top 5\n",
      "Epoch 2250, global step 218346: train_loss_ssl was not in top 5\n",
      "Epoch 2251, global step 218443: train_loss_ssl was not in top 5\n",
      "Epoch 2252, global step 218540: train_loss_ssl was not in top 5\n",
      "Epoch 2253, global step 218637: train_loss_ssl was not in top 5\n",
      "Epoch 2254, global step 218734: train_loss_ssl was not in top 5\n",
      "IOPub message rate exceeded.\n",
      "The notebook server will temporarily stop sending output\n",
      "to the client in order to avoid crashing it.\n",
      "To change this limit, set the config variable\n",
      "`--NotebookApp.iopub_msg_rate_limit`.\n",
      "\n",
      "Current values:\n",
      "NotebookApp.iopub_msg_rate_limit=1000.0 (msgs/sec)\n",
      "NotebookApp.rate_limit_window=3.0 (secs)\n",
      "\n",
      "Epoch 2273, global step 220577: train_loss_ssl was not in top 5\n",
      "Epoch 2274, global step 220674: train_loss_ssl was not in top 5\n"
     ]
    },
    {
     "name": "stderr",
     "output_type": "stream",
     "text": [
      "IOPub message rate exceeded.\n",
      "The notebook server will temporarily stop sending output\n",
      "to the client in order to avoid crashing it.\n",
      "To change this limit, set the config variable\n",
      "`--NotebookApp.iopub_msg_rate_limit`.\n",
      "\n",
      "Current values:\n",
      "NotebookApp.iopub_msg_rate_limit=1000.0 (msgs/sec)\n",
      "NotebookApp.rate_limit_window=3.0 (secs)\n",
      "\n",
      "Epoch 2291, global step 222323: train_loss_ssl was not in top 5\n",
      "Epoch 2292, global step 222420: train_loss_ssl was not in top 5\n",
      "Epoch 2293, global step 222517: train_loss_ssl was not in top 5\n",
      "Epoch 2294, global step 222614: train_loss_ssl was not in top 5\n",
      "Epoch 2295, global step 222711: train_loss_ssl was not in top 5\n",
      "Epoch 2296, global step 222808: train_loss_ssl was not in top 5\n",
      "Epoch 2297, global step 222905: train_loss_ssl was not in top 5\n",
      "IOPub message rate exceeded.\n",
      "The notebook server will temporarily stop sending output\n",
      "to the client in order to avoid crashing it.\n",
      "To change this limit, set the config variable\n",
      "`--NotebookApp.iopub_msg_rate_limit`.\n",
      "\n",
      "Current values:\n",
      "NotebookApp.iopub_msg_rate_limit=1000.0 (msgs/sec)\n",
      "NotebookApp.rate_limit_window=3.0 (secs)\n",
      "\n",
      "Epoch 2316, global step 224748: train_loss_ssl was not in top 5\n",
      "Epoch 2317, global step 224845: train_loss_ssl was not in top 5\n",
      "Epoch 2318, global step 224942: train_loss_ssl was not in top 5\n",
      "Epoch 2319, global step 225039: train_loss_ssl was not in top 5\n",
      "Epoch 2320, global step 225136: train_loss_ssl was not in top 5\n",
      "Epoch 2321, global step 225233: train_loss_ssl was not in top 5\n",
      "Epoch 2322, global step 225330: train_loss_ssl was not in top 5\n",
      "Epoch 2323, global step 225427: train_loss_ssl was not in top 5\n",
      "Epoch 2324, global step 225524: train_loss_ssl was not in top 5\n",
      "IOPub message rate exceeded.\n",
      "The notebook server will temporarily stop sending output\n",
      "to the client in order to avoid crashing it.\n",
      "To change this limit, set the config variable\n",
      "`--NotebookApp.iopub_msg_rate_limit`.\n",
      "\n",
      "Current values:\n",
      "NotebookApp.iopub_msg_rate_limit=1000.0 (msgs/sec)\n",
      "NotebookApp.rate_limit_window=3.0 (secs)\n",
      "\n",
      "Epoch 2359, global step 228919: train_loss_ssl was not in top 5\n",
      "Epoch 2360, global step 229016: train_loss_ssl was not in top 5\n",
      "Epoch 2361, global step 229113: train_loss_ssl was not in top 5\n",
      "Epoch 2362, global step 229210: train_loss_ssl was not in top 5\n",
      "Epoch 2363, global step 229307: train_loss_ssl was not in top 5\n",
      "Epoch 2364, global step 229404: train_loss_ssl was not in top 5\n",
      "Epoch 2365, global step 229501: train_loss_ssl was not in top 5\n",
      "Epoch 2366, global step 229598: train_loss_ssl was not in top 5\n",
      "Epoch 2367, global step 229695: train_loss_ssl was not in top 5\n",
      "IOPub message rate exceeded.\n",
      "The notebook server will temporarily stop sending output\n",
      "to the client in order to avoid crashing it.\n",
      "To change this limit, set the config variable\n",
      "`--NotebookApp.iopub_msg_rate_limit`.\n",
      "\n",
      "Current values:\n",
      "NotebookApp.iopub_msg_rate_limit=1000.0 (msgs/sec)\n",
      "NotebookApp.rate_limit_window=3.0 (secs)\n",
      "\n",
      "Epoch 2403, global step 233187: train_loss_ssl was not in top 5\n",
      "Epoch 2404, global step 233284: train_loss_ssl was not in top 5\n",
      "Epoch 2405, global step 233381: train_loss_ssl was not in top 5\n",
      "Epoch 2406, global step 233478: train_loss_ssl was not in top 5\n",
      "Epoch 2407, global step 233575: train_loss_ssl was not in top 5\n",
      "Epoch 2408, global step 233672: train_loss_ssl was not in top 5\n",
      "Epoch 2409, global step 233769: train_loss_ssl was not in top 5\n",
      "Epoch 2410, global step 233866: train_loss_ssl was not in top 5\n",
      "Epoch 2411, global step 233963: train_loss_ssl was not in top 5\n",
      "IOPub message rate exceeded.\n",
      "The notebook server will temporarily stop sending output\n",
      "to the client in order to avoid crashing it.\n",
      "To change this limit, set the config variable\n",
      "`--NotebookApp.iopub_msg_rate_limit`.\n",
      "\n",
      "Current values:\n",
      "NotebookApp.iopub_msg_rate_limit=1000.0 (msgs/sec)\n",
      "NotebookApp.rate_limit_window=3.0 (secs)\n",
      "\n",
      "Epoch 2446, global step 237358: train_loss_ssl was not in top 5\n",
      "Epoch 2447, global step 237455: train_loss_ssl was not in top 5\n",
      "Epoch 2448, global step 237552: train_loss_ssl was not in top 5\n",
      "Epoch 2449, global step 237649: train_loss_ssl was not in top 5\n",
      "Epoch 2450, global step 237746: train_loss_ssl was not in top 5\n",
      "Epoch 2451, global step 237843: train_loss_ssl was not in top 5\n",
      "Epoch 2452, global step 237940: train_loss_ssl was not in top 5\n",
      "Epoch 2453, global step 238037: train_loss_ssl was not in top 5\n",
      "Epoch 2454, global step 238134: train_loss_ssl was not in top 5\n",
      "IOPub message rate exceeded.\n",
      "The notebook server will temporarily stop sending output\n",
      "to the client in order to avoid crashing it.\n",
      "To change this limit, set the config variable\n",
      "`--NotebookApp.iopub_msg_rate_limit`.\n",
      "\n",
      "Current values:\n",
      "NotebookApp.iopub_msg_rate_limit=1000.0 (msgs/sec)\n",
      "NotebookApp.rate_limit_window=3.0 (secs)\n",
      "\n",
      "Epoch 2490, global step 241626: train_loss_ssl was not in top 5\n",
      "Epoch 2491, global step 241723: train_loss_ssl was not in top 5\n",
      "Epoch 2492, global step 241820: train_loss_ssl was not in top 5\n",
      "Epoch 2493, global step 241917: train_loss_ssl was not in top 5\n",
      "Epoch 2494, global step 242014: train_loss_ssl was not in top 5\n",
      "Epoch 2495, global step 242111: train_loss_ssl was not in top 5\n",
      "Epoch 2496, global step 242208: train_loss_ssl was not in top 5\n",
      "Epoch 2497, global step 242305: train_loss_ssl was not in top 5\n",
      "IOPub message rate exceeded.\n",
      "The notebook server will temporarily stop sending output\n",
      "to the client in order to avoid crashing it.\n",
      "To change this limit, set the config variable\n",
      "`--NotebookApp.iopub_msg_rate_limit`.\n",
      "\n",
      "Current values:\n",
      "NotebookApp.iopub_msg_rate_limit=1000.0 (msgs/sec)\n",
      "NotebookApp.rate_limit_window=3.0 (secs)\n",
      "\n",
      "Epoch 2533, global step 245797: train_loss_ssl was not in top 5\n",
      "Epoch 2534, global step 245894: train_loss_ssl was not in top 5\n",
      "Epoch 2535, global step 245991: train_loss_ssl was not in top 5\n",
      "Epoch 2536, global step 246088: train_loss_ssl reached 2.13543 (best 2.11758), saving model to \"/home/shatz/Documents/more_better/saved_models/resnet_moco/epoch=2536-train_loss_ssl=2.14.ckpt\" as top 5\n",
      "Epoch 2537, global step 246185: train_loss_ssl was not in top 5\n",
      "Epoch 2538, global step 246282: train_loss_ssl was not in top 5\n",
      "Epoch 2539, global step 246379: train_loss_ssl was not in top 5\n",
      "Epoch 2540, global step 246476: train_loss_ssl was not in top 5\n",
      "Epoch 2541, global step 246573: train_loss_ssl was not in top 5\n",
      "IOPub message rate exceeded.\n",
      "The notebook server will temporarily stop sending output\n",
      "to the client in order to avoid crashing it.\n",
      "To change this limit, set the config variable\n",
      "`--NotebookApp.iopub_msg_rate_limit`.\n",
      "\n",
      "Current values:\n",
      "NotebookApp.iopub_msg_rate_limit=1000.0 (msgs/sec)\n",
      "NotebookApp.rate_limit_window=3.0 (secs)\n",
      "\n",
      "Epoch 2576, global step 249968: train_loss_ssl was not in top 5\n",
      "Epoch 2577, global step 250065: train_loss_ssl was not in top 5\n",
      "Epoch 2578, global step 250162: train_loss_ssl was not in top 5\n",
      "Epoch 2579, global step 250259: train_loss_ssl was not in top 5\n",
      "Epoch 2580, global step 250356: train_loss_ssl was not in top 5\n",
      "Epoch 2581, global step 250453: train_loss_ssl was not in top 5\n",
      "Epoch 2582, global step 250550: train_loss_ssl was not in top 5\n",
      "Epoch 2583, global step 250647: train_loss_ssl was not in top 5\n",
      "Epoch 2584, global step 250744: train_loss_ssl was not in top 5\n",
      "IOPub message rate exceeded.\n",
      "The notebook server will temporarily stop sending output\n",
      "to the client in order to avoid crashing it.\n",
      "To change this limit, set the config variable\n",
      "`--NotebookApp.iopub_msg_rate_limit`.\n",
      "\n",
      "Current values:\n",
      "NotebookApp.iopub_msg_rate_limit=1000.0 (msgs/sec)\n",
      "NotebookApp.rate_limit_window=3.0 (secs)\n",
      "\n",
      "Epoch 2620, global step 254236: train_loss_ssl was not in top 5\n",
      "Epoch 2621, global step 254333: train_loss_ssl was not in top 5\n",
      "Epoch 2622, global step 254430: train_loss_ssl was not in top 5\n",
      "Epoch 2623, global step 254527: train_loss_ssl was not in top 5\n",
      "Epoch 2624, global step 254624: train_loss_ssl was not in top 5\n",
      "Epoch 2625, global step 254721: train_loss_ssl was not in top 5\n",
      "Epoch 2626, global step 254818: train_loss_ssl was not in top 5\n",
      "Epoch 2627, global step 254915: train_loss_ssl was not in top 5\n",
      "IOPub message rate exceeded.\n",
      "The notebook server will temporarily stop sending output\n",
      "to the client in order to avoid crashing it.\n",
      "To change this limit, set the config variable\n",
      "`--NotebookApp.iopub_msg_rate_limit`.\n",
      "\n",
      "Current values:\n",
      "NotebookApp.iopub_msg_rate_limit=1000.0 (msgs/sec)\n",
      "NotebookApp.rate_limit_window=3.0 (secs)\n",
      "\n"
     ]
    },
    {
     "name": "stderr",
     "output_type": "stream",
     "text": [
      "Epoch 2663, global step 258407: train_loss_ssl was not in top 5\n",
      "Epoch 2664, global step 258504: train_loss_ssl was not in top 5\n",
      "Epoch 2665, global step 258601: train_loss_ssl was not in top 5\n",
      "Epoch 2666, global step 258698: train_loss_ssl was not in top 5\n",
      "Epoch 2667, global step 258795: train_loss_ssl was not in top 5\n",
      "Epoch 2668, global step 258892: train_loss_ssl was not in top 5\n",
      "Epoch 2669, global step 258989: train_loss_ssl was not in top 5\n",
      "Epoch 2670, global step 259086: train_loss_ssl was not in top 5\n",
      "Epoch 2671, global step 259183: train_loss_ssl was not in top 5\n",
      "IOPub message rate exceeded.\n",
      "The notebook server will temporarily stop sending output\n",
      "to the client in order to avoid crashing it.\n",
      "To change this limit, set the config variable\n",
      "`--NotebookApp.iopub_msg_rate_limit`.\n",
      "\n",
      "Current values:\n",
      "NotebookApp.iopub_msg_rate_limit=1000.0 (msgs/sec)\n",
      "NotebookApp.rate_limit_window=3.0 (secs)\n",
      "\n"
     ]
    },
    {
     "data": {
      "application/vnd.jupyter.widget-view+json": {
       "model_id": "",
       "version_major": 2,
       "version_minor": 0
      },
      "text/plain": [
       "Validating: 0it [00:00, ?it/s]"
      ]
     },
     "metadata": {},
     "output_type": "display_data"
    },
    {
     "data": {
      "application/vnd.jupyter.widget-view+json": {
       "model_id": "",
       "version_major": 2,
       "version_minor": 0
      },
      "text/plain": [
       "Validating: 0it [00:00, ?it/s]"
      ]
     },
     "metadata": {},
     "output_type": "display_data"
    },
    {
     "data": {
      "application/vnd.jupyter.widget-view+json": {
       "model_id": "",
       "version_major": 2,
       "version_minor": 0
      },
      "text/plain": [
       "Validating: 0it [00:00, ?it/s]"
      ]
     },
     "metadata": {},
     "output_type": "display_data"
    },
    {
     "data": {
      "application/vnd.jupyter.widget-view+json": {
       "model_id": "",
       "version_major": 2,
       "version_minor": 0
      },
      "text/plain": [
       "Validating: 0it [00:00, ?it/s]"
      ]
     },
     "metadata": {},
     "output_type": "display_data"
    },
    {
     "data": {
      "application/vnd.jupyter.widget-view+json": {
       "model_id": "",
       "version_major": 2,
       "version_minor": 0
      },
      "text/plain": [
       "Validating: 0it [00:00, ?it/s]"
      ]
     },
     "metadata": {},
     "output_type": "display_data"
    },
    {
     "data": {
      "application/vnd.jupyter.widget-view+json": {
       "model_id": "",
       "version_major": 2,
       "version_minor": 0
      },
      "text/plain": [
       "Validating: 0it [00:00, ?it/s]"
      ]
     },
     "metadata": {},
     "output_type": "display_data"
    },
    {
     "data": {
      "application/vnd.jupyter.widget-view+json": {
       "model_id": "",
       "version_major": 2,
       "version_minor": 0
      },
      "text/plain": [
       "Validating: 0it [00:00, ?it/s]"
      ]
     },
     "metadata": {},
     "output_type": "display_data"
    },
    {
     "name": "stderr",
     "output_type": "stream",
     "text": [
      "IOPub message rate exceeded.\n",
      "The notebook server will temporarily stop sending output\n",
      "to the client in order to avoid crashing it.\n",
      "To change this limit, set the config variable\n",
      "`--NotebookApp.iopub_msg_rate_limit`.\n",
      "\n",
      "Current values:\n",
      "NotebookApp.iopub_msg_rate_limit=1000.0 (msgs/sec)\n",
      "NotebookApp.rate_limit_window=3.0 (secs)\n",
      "\n"
     ]
    },
    {
     "data": {
      "application/vnd.jupyter.widget-view+json": {
       "model_id": "",
       "version_major": 2,
       "version_minor": 0
      },
      "text/plain": [
       "Validating: 0it [00:00, ?it/s]"
      ]
     },
     "metadata": {},
     "output_type": "display_data"
    },
    {
     "data": {
      "application/vnd.jupyter.widget-view+json": {
       "model_id": "",
       "version_major": 2,
       "version_minor": 0
      },
      "text/plain": [
       "Validating: 0it [00:00, ?it/s]"
      ]
     },
     "metadata": {},
     "output_type": "display_data"
    },
    {
     "data": {
      "application/vnd.jupyter.widget-view+json": {
       "model_id": "",
       "version_major": 2,
       "version_minor": 0
      },
      "text/plain": [
       "Validating: 0it [00:00, ?it/s]"
      ]
     },
     "metadata": {},
     "output_type": "display_data"
    },
    {
     "data": {
      "application/vnd.jupyter.widget-view+json": {
       "model_id": "",
       "version_major": 2,
       "version_minor": 0
      },
      "text/plain": [
       "Validating: 0it [00:00, ?it/s]"
      ]
     },
     "metadata": {},
     "output_type": "display_data"
    },
    {
     "data": {
      "application/vnd.jupyter.widget-view+json": {
       "model_id": "",
       "version_major": 2,
       "version_minor": 0
      },
      "text/plain": [
       "Validating: 0it [00:00, ?it/s]"
      ]
     },
     "metadata": {},
     "output_type": "display_data"
    },
    {
     "data": {
      "application/vnd.jupyter.widget-view+json": {
       "model_id": "",
       "version_major": 2,
       "version_minor": 0
      },
      "text/plain": [
       "Validating: 0it [00:00, ?it/s]"
      ]
     },
     "metadata": {},
     "output_type": "display_data"
    },
    {
     "data": {
      "application/vnd.jupyter.widget-view+json": {
       "model_id": "",
       "version_major": 2,
       "version_minor": 0
      },
      "text/plain": [
       "Validating: 0it [00:00, ?it/s]"
      ]
     },
     "metadata": {},
     "output_type": "display_data"
    },
    {
     "data": {
      "application/vnd.jupyter.widget-view+json": {
       "model_id": "5e39e99a46e04fbab71ce7a9981f8c49",
       "version_major": 2,
       "version_minor": 0
      },
      "text/plain": [
       "Validating: 0it [00:00, ?it/s]"
      ]
     },
     "metadata": {},
     "output_type": "display_data"
    },
    {
     "name": "stderr",
     "output_type": "stream",
     "text": [
      "IOPub message rate exceeded.\n",
      "The notebook server will temporarily stop sending output\n",
      "to the client in order to avoid crashing it.\n",
      "To change this limit, set the config variable\n",
      "`--NotebookApp.iopub_msg_rate_limit`.\n",
      "\n",
      "Current values:\n",
      "NotebookApp.iopub_msg_rate_limit=1000.0 (msgs/sec)\n",
      "NotebookApp.rate_limit_window=3.0 (secs)\n",
      "\n",
      "Epoch 2718, global step 263742: train_loss_ssl was not in top 5\n",
      "Epoch 2719, global step 263839: train_loss_ssl was not in top 5\n",
      "Epoch 2720, global step 263936: train_loss_ssl was not in top 5\n",
      "Epoch 2721, global step 264033: train_loss_ssl was not in top 5\n",
      "Epoch 2722, global step 264130: train_loss_ssl was not in top 5\n",
      "Epoch 2723, global step 264227: train_loss_ssl was not in top 5\n",
      "Epoch 2724, global step 264324: train_loss_ssl was not in top 5\n",
      "Epoch 2725, global step 264421: train_loss_ssl was not in top 5\n",
      "Epoch 2726, global step 264518: train_loss_ssl was not in top 5\n",
      "IOPub message rate exceeded.\n",
      "The notebook server will temporarily stop sending output\n",
      "to the client in order to avoid crashing it.\n",
      "To change this limit, set the config variable\n",
      "`--NotebookApp.iopub_msg_rate_limit`.\n",
      "\n",
      "Current values:\n",
      "NotebookApp.iopub_msg_rate_limit=1000.0 (msgs/sec)\n",
      "NotebookApp.rate_limit_window=3.0 (secs)\n",
      "\n",
      "Epoch 2757, global step 267525: train_loss_ssl was not in top 5\n",
      "Epoch 2758, global step 267622: train_loss_ssl was not in top 5\n",
      "Epoch 2759, global step 267719: train_loss_ssl was not in top 5\n",
      "Epoch 2760, global step 267816: train_loss_ssl was not in top 5\n",
      "Epoch 2761, global step 267913: train_loss_ssl was not in top 5\n",
      "Epoch 2762, global step 268010: train_loss_ssl was not in top 5\n",
      "Epoch 2763, global step 268107: train_loss_ssl was not in top 5\n",
      "Epoch 2764, global step 268204: train_loss_ssl was not in top 5\n",
      "Epoch 2765, global step 268301: train_loss_ssl was not in top 5\n",
      "IOPub message rate exceeded.\n",
      "The notebook server will temporarily stop sending output\n",
      "to the client in order to avoid crashing it.\n",
      "To change this limit, set the config variable\n",
      "`--NotebookApp.iopub_msg_rate_limit`.\n",
      "\n",
      "Current values:\n",
      "NotebookApp.iopub_msg_rate_limit=1000.0 (msgs/sec)\n",
      "NotebookApp.rate_limit_window=3.0 (secs)\n",
      "\n",
      "Epoch 2798, global step 271502: train_loss_ssl was not in top 5\n",
      "Epoch 2799, global step 271599: train_loss_ssl was not in top 5\n",
      "Epoch 2800, global step 271696: train_loss_ssl was not in top 5\n",
      "Epoch 2801, global step 271793: train_loss_ssl was not in top 5\n",
      "Epoch 2802, global step 271890: train_loss_ssl was not in top 5\n",
      "Epoch 2803, global step 271987: train_loss_ssl was not in top 5\n",
      "Epoch 2804, global step 272084: train_loss_ssl was not in top 5\n",
      "Epoch 2805, global step 272181: train_loss_ssl was not in top 5\n",
      "IOPub message rate exceeded.\n",
      "The notebook server will temporarily stop sending output\n",
      "to the client in order to avoid crashing it.\n",
      "To change this limit, set the config variable\n",
      "`--NotebookApp.iopub_msg_rate_limit`.\n",
      "\n",
      "Current values:\n",
      "NotebookApp.iopub_msg_rate_limit=1000.0 (msgs/sec)\n",
      "NotebookApp.rate_limit_window=3.0 (secs)\n",
      "\n",
      "Epoch 2840, global step 275576: train_loss_ssl was not in top 5\n",
      "Epoch 2841, global step 275673: train_loss_ssl was not in top 5\n",
      "Epoch 2842, global step 275770: train_loss_ssl was not in top 5\n",
      "Epoch 2843, global step 275867: train_loss_ssl was not in top 5\n",
      "Epoch 2844, global step 275964: train_loss_ssl was not in top 5\n",
      "Epoch 2845, global step 276061: train_loss_ssl was not in top 5\n",
      "Epoch 2846, global step 276158: train_loss_ssl was not in top 5\n",
      "Epoch 2847, global step 276255: train_loss_ssl was not in top 5\n",
      "Epoch 2848, global step 276352: train_loss_ssl was not in top 5\n",
      "IOPub message rate exceeded.\n",
      "The notebook server will temporarily stop sending output\n",
      "to the client in order to avoid crashing it.\n",
      "To change this limit, set the config variable\n",
      "`--NotebookApp.iopub_msg_rate_limit`.\n",
      "\n",
      "Current values:\n",
      "NotebookApp.iopub_msg_rate_limit=1000.0 (msgs/sec)\n",
      "NotebookApp.rate_limit_window=3.0 (secs)\n",
      "\n",
      "Epoch 2884, global step 279844: train_loss_ssl was not in top 5\n",
      "Epoch 2885, global step 279941: train_loss_ssl was not in top 5\n",
      "Epoch 2886, global step 280038: train_loss_ssl was not in top 5\n",
      "Epoch 2887, global step 280135: train_loss_ssl was not in top 5\n",
      "Epoch 2888, global step 280232: train_loss_ssl was not in top 5\n",
      "Epoch 2889, global step 280329: train_loss_ssl was not in top 5\n",
      "Epoch 2890, global step 280426: train_loss_ssl was not in top 5\n",
      "Epoch 2891, global step 280523: train_loss_ssl was not in top 5\n",
      "Epoch 2892, global step 280620: train_loss_ssl was not in top 5\n",
      "IOPub message rate exceeded.\n",
      "The notebook server will temporarily stop sending output\n",
      "to the client in order to avoid crashing it.\n",
      "To change this limit, set the config variable\n",
      "`--NotebookApp.iopub_msg_rate_limit`.\n",
      "\n",
      "Current values:\n",
      "NotebookApp.iopub_msg_rate_limit=1000.0 (msgs/sec)\n",
      "NotebookApp.rate_limit_window=3.0 (secs)\n",
      "\n",
      "Epoch 2926, global step 283918: train_loss_ssl reached 2.04979 (best 2.03855), saving model to \"/home/shatz/Documents/more_better/saved_models/resnet_moco/epoch=2926-train_loss_ssl=2.05.ckpt\" as top 5\n",
      "Epoch 2927, global step 284015: train_loss_ssl was not in top 5\n",
      "Epoch 2928, global step 284112: train_loss_ssl was not in top 5\n",
      "Epoch 2929, global step 284209: train_loss_ssl was not in top 5\n",
      "Epoch 2930, global step 284306: train_loss_ssl was not in top 5\n",
      "Epoch 2931, global step 284403: train_loss_ssl was not in top 5\n",
      "Epoch 2932, global step 284500: train_loss_ssl was not in top 5\n",
      "Epoch 2933, global step 284597: train_loss_ssl was not in top 5\n",
      "Epoch 2934, global step 284694: train_loss_ssl was not in top 5\n",
      "IOPub message rate exceeded.\n",
      "The notebook server will temporarily stop sending output\n",
      "to the client in order to avoid crashing it.\n",
      "To change this limit, set the config variable\n",
      "`--NotebookApp.iopub_msg_rate_limit`.\n",
      "\n",
      "Current values:\n",
      "NotebookApp.iopub_msg_rate_limit=1000.0 (msgs/sec)\n",
      "NotebookApp.rate_limit_window=3.0 (secs)\n",
      "\n",
      "Epoch 2969, global step 288089: train_loss_ssl was not in top 5\n",
      "Epoch 2970, global step 288186: train_loss_ssl was not in top 5\n",
      "Epoch 2971, global step 288283: train_loss_ssl was not in top 5\n",
      "Epoch 2972, global step 288380: train_loss_ssl was not in top 5\n",
      "Epoch 2973, global step 288477: train_loss_ssl was not in top 5\n",
      "Epoch 2974, global step 288574: train_loss_ssl was not in top 5\n",
      "Epoch 2975, global step 288671: train_loss_ssl was not in top 5\n",
      "Epoch 2976, global step 288768: train_loss_ssl was not in top 5\n",
      "Epoch 2977, global step 288865: train_loss_ssl was not in top 5\n",
      "IOPub message rate exceeded.\n",
      "The notebook server will temporarily stop sending output\n",
      "to the client in order to avoid crashing it.\n",
      "To change this limit, set the config variable\n",
      "`--NotebookApp.iopub_msg_rate_limit`.\n",
      "\n",
      "Current values:\n",
      "NotebookApp.iopub_msg_rate_limit=1000.0 (msgs/sec)\n",
      "NotebookApp.rate_limit_window=3.0 (secs)\n",
      "\n"
     ]
    },
    {
     "data": {
      "application/vnd.jupyter.widget-view+json": {
       "model_id": "",
       "version_major": 2,
       "version_minor": 0
      },
      "text/plain": [
       "Validating: 0it [00:00, ?it/s]"
      ]
     },
     "metadata": {},
     "output_type": "display_data"
    },
    {
     "data": {
      "application/vnd.jupyter.widget-view+json": {
       "model_id": "",
       "version_major": 2,
       "version_minor": 0
      },
      "text/plain": [
       "Validating: 0it [00:00, ?it/s]"
      ]
     },
     "metadata": {},
     "output_type": "display_data"
    },
    {
     "data": {
      "application/vnd.jupyter.widget-view+json": {
       "model_id": "",
       "version_major": 2,
       "version_minor": 0
      },
      "text/plain": [
       "Validating: 0it [00:00, ?it/s]"
      ]
     },
     "metadata": {},
     "output_type": "display_data"
    },
    {
     "data": {
      "application/vnd.jupyter.widget-view+json": {
       "model_id": "",
       "version_major": 2,
       "version_minor": 0
      },
      "text/plain": [
       "Validating: 0it [00:00, ?it/s]"
      ]
     },
     "metadata": {},
     "output_type": "display_data"
    },
    {
     "data": {
      "application/vnd.jupyter.widget-view+json": {
       "model_id": "",
       "version_major": 2,
       "version_minor": 0
      },
      "text/plain": [
       "Validating: 0it [00:00, ?it/s]"
      ]
     },
     "metadata": {},
     "output_type": "display_data"
    },
    {
     "data": {
      "application/vnd.jupyter.widget-view+json": {
       "model_id": "",
       "version_major": 2,
       "version_minor": 0
      },
      "text/plain": [
       "Validating: 0it [00:00, ?it/s]"
      ]
     },
     "metadata": {},
     "output_type": "display_data"
    },
    {
     "data": {
      "application/vnd.jupyter.widget-view+json": {
       "model_id": "",
       "version_major": 2,
       "version_minor": 0
      },
      "text/plain": [
       "Validating: 0it [00:00, ?it/s]"
      ]
     },
     "metadata": {},
     "output_type": "display_data"
    },
    {
     "name": "stderr",
     "output_type": "stream",
     "text": [
      "IOPub message rate exceeded.\n",
      "The notebook server will temporarily stop sending output\n",
      "to the client in order to avoid crashing it.\n",
      "To change this limit, set the config variable\n",
      "`--NotebookApp.iopub_msg_rate_limit`.\n",
      "\n",
      "Current values:\n",
      "NotebookApp.iopub_msg_rate_limit=1000.0 (msgs/sec)\n",
      "NotebookApp.rate_limit_window=3.0 (secs)\n",
      "\n"
     ]
    },
    {
     "data": {
      "application/vnd.jupyter.widget-view+json": {
       "model_id": "",
       "version_major": 2,
       "version_minor": 0
      },
      "text/plain": [
       "Validating: 0it [00:00, ?it/s]"
      ]
     },
     "metadata": {},
     "output_type": "display_data"
    },
    {
     "data": {
      "application/vnd.jupyter.widget-view+json": {
       "model_id": "",
       "version_major": 2,
       "version_minor": 0
      },
      "text/plain": [
       "Validating: 0it [00:00, ?it/s]"
      ]
     },
     "metadata": {},
     "output_type": "display_data"
    },
    {
     "data": {
      "application/vnd.jupyter.widget-view+json": {
       "model_id": "",
       "version_major": 2,
       "version_minor": 0
      },
      "text/plain": [
       "Validating: 0it [00:00, ?it/s]"
      ]
     },
     "metadata": {},
     "output_type": "display_data"
    },
    {
     "data": {
      "application/vnd.jupyter.widget-view+json": {
       "model_id": "",
       "version_major": 2,
       "version_minor": 0
      },
      "text/plain": [
       "Validating: 0it [00:00, ?it/s]"
      ]
     },
     "metadata": {},
     "output_type": "display_data"
    },
    {
     "data": {
      "application/vnd.jupyter.widget-view+json": {
       "model_id": "",
       "version_major": 2,
       "version_minor": 0
      },
      "text/plain": [
       "Validating: 0it [00:00, ?it/s]"
      ]
     },
     "metadata": {},
     "output_type": "display_data"
    },
    {
     "data": {
      "application/vnd.jupyter.widget-view+json": {
       "model_id": "",
       "version_major": 2,
       "version_minor": 0
      },
      "text/plain": [
       "Validating: 0it [00:00, ?it/s]"
      ]
     },
     "metadata": {},
     "output_type": "display_data"
    },
    {
     "data": {
      "application/vnd.jupyter.widget-view+json": {
       "model_id": "",
       "version_major": 2,
       "version_minor": 0
      },
      "text/plain": [
       "Validating: 0it [00:00, ?it/s]"
      ]
     },
     "metadata": {},
     "output_type": "display_data"
    },
    {
     "name": "stderr",
     "output_type": "stream",
     "text": [
      "IOPub message rate exceeded.\n",
      "The notebook server will temporarily stop sending output\n",
      "to the client in order to avoid crashing it.\n",
      "To change this limit, set the config variable\n",
      "`--NotebookApp.iopub_msg_rate_limit`.\n",
      "\n",
      "Current values:\n",
      "NotebookApp.iopub_msg_rate_limit=1000.0 (msgs/sec)\n",
      "NotebookApp.rate_limit_window=3.0 (secs)\n",
      "\n",
      "Epoch 3024, global step 293424: train_loss_ssl was not in top 5\n",
      "Epoch 3025, global step 293521: train_loss_ssl was not in top 5\n",
      "Epoch 3026, global step 293618: train_loss_ssl was not in top 5\n",
      "Epoch 3027, global step 293715: train_loss_ssl was not in top 5\n",
      "Epoch 3028, global step 293812: train_loss_ssl was not in top 5\n",
      "Epoch 3029, global step 293909: train_loss_ssl was not in top 5\n",
      "Epoch 3030, global step 294006: train_loss_ssl was not in top 5\n",
      "Epoch 3031, global step 294103: train_loss_ssl was not in top 5\n",
      "Epoch 3032, global step 294200: train_loss_ssl was not in top 5\n",
      "IOPub message rate exceeded.\n",
      "The notebook server will temporarily stop sending output\n",
      "to the client in order to avoid crashing it.\n",
      "To change this limit, set the config variable\n",
      "`--NotebookApp.iopub_msg_rate_limit`.\n",
      "\n",
      "Current values:\n",
      "NotebookApp.iopub_msg_rate_limit=1000.0 (msgs/sec)\n",
      "NotebookApp.rate_limit_window=3.0 (secs)\n",
      "\n",
      "Epoch 3068, global step 297692: train_loss_ssl was not in top 5\n",
      "Epoch 3069, global step 297789: train_loss_ssl was not in top 5\n",
      "Epoch 3070, global step 297886: train_loss_ssl was not in top 5\n",
      "Epoch 3071, global step 297983: train_loss_ssl was not in top 5\n",
      "Epoch 3072, global step 298080: train_loss_ssl was not in top 5\n",
      "Epoch 3073, global step 298177: train_loss_ssl was not in top 5\n",
      "Epoch 3074, global step 298274: train_loss_ssl was not in top 5\n",
      "Epoch 3075, global step 298371: train_loss_ssl was not in top 5\n",
      "Epoch 3076, global step 298468: train_loss_ssl was not in top 5\n",
      "IOPub message rate exceeded.\n",
      "The notebook server will temporarily stop sending output\n",
      "to the client in order to avoid crashing it.\n",
      "To change this limit, set the config variable\n",
      "`--NotebookApp.iopub_msg_rate_limit`.\n",
      "\n",
      "Current values:\n",
      "NotebookApp.iopub_msg_rate_limit=1000.0 (msgs/sec)\n",
      "NotebookApp.rate_limit_window=3.0 (secs)\n",
      "\n",
      "Epoch 3111, global step 301863: train_loss_ssl was not in top 5\n",
      "Epoch 3112, global step 301960: train_loss_ssl was not in top 5\n",
      "Epoch 3113, global step 302057: train_loss_ssl was not in top 5\n",
      "Epoch 3114, global step 302154: train_loss_ssl was not in top 5\n",
      "Epoch 3115, global step 302251: train_loss_ssl was not in top 5\n",
      "Epoch 3116, global step 302348: train_loss_ssl was not in top 5\n",
      "Epoch 3117, global step 302445: train_loss_ssl was not in top 5\n",
      "Epoch 3118, global step 302542: train_loss_ssl reached 2.07157 (best 2.03855), saving model to \"/home/shatz/Documents/more_better/saved_models/resnet_moco/epoch=3118-train_loss_ssl=2.07.ckpt\" as top 5\n",
      "Epoch 3119, global step 302639: train_loss_ssl was not in top 5\n",
      "IOPub message rate exceeded.\n",
      "The notebook server will temporarily stop sending output\n",
      "to the client in order to avoid crashing it.\n",
      "To change this limit, set the config variable\n",
      "`--NotebookApp.iopub_msg_rate_limit`.\n",
      "\n",
      "Current values:\n",
      "NotebookApp.iopub_msg_rate_limit=1000.0 (msgs/sec)\n",
      "NotebookApp.rate_limit_window=3.0 (secs)\n",
      "\n",
      "Epoch 3155, global step 306131: train_loss_ssl was not in top 5\n",
      "Epoch 3156, global step 306228: train_loss_ssl was not in top 5\n",
      "Epoch 3157, global step 306325: train_loss_ssl was not in top 5\n",
      "Epoch 3158, global step 306422: train_loss_ssl was not in top 5\n",
      "Epoch 3159, global step 306519: train_loss_ssl was not in top 5\n",
      "Epoch 3160, global step 306616: train_loss_ssl was not in top 5\n",
      "Epoch 3161, global step 306713: train_loss_ssl was not in top 5\n",
      "Epoch 3162, global step 306810: train_loss_ssl was not in top 5\n",
      "Epoch 3163, global step 306907: train_loss_ssl was not in top 5\n",
      "IOPub message rate exceeded.\n",
      "The notebook server will temporarily stop sending output\n",
      "to the client in order to avoid crashing it.\n",
      "To change this limit, set the config variable\n",
      "`--NotebookApp.iopub_msg_rate_limit`.\n",
      "\n",
      "Current values:\n",
      "NotebookApp.iopub_msg_rate_limit=1000.0 (msgs/sec)\n",
      "NotebookApp.rate_limit_window=3.0 (secs)\n",
      "\n",
      "Epoch 3200, global step 310496: train_loss_ssl was not in top 5\n",
      "Epoch 3201, global step 310593: train_loss_ssl was not in top 5\n",
      "Epoch 3202, global step 310690: train_loss_ssl was not in top 5\n",
      "Epoch 3203, global step 310787: train_loss_ssl was not in top 5\n",
      "Epoch 3204, global step 310884: train_loss_ssl was not in top 5\n",
      "Epoch 3205, global step 310981: train_loss_ssl was not in top 5\n",
      "Epoch 3206, global step 311078: train_loss_ssl was not in top 5\n",
      "Epoch 3207, global step 311175: train_loss_ssl was not in top 5\n",
      "IOPub message rate exceeded.\n",
      "The notebook server will temporarily stop sending output\n",
      "to the client in order to avoid crashing it.\n",
      "To change this limit, set the config variable\n",
      "`--NotebookApp.iopub_msg_rate_limit`.\n",
      "\n",
      "Current values:\n",
      "NotebookApp.iopub_msg_rate_limit=1000.0 (msgs/sec)\n",
      "NotebookApp.rate_limit_window=3.0 (secs)\n",
      "\n",
      "Epoch 3244, global step 314764: train_loss_ssl was not in top 5\n",
      "Epoch 3245, global step 314861: train_loss_ssl was not in top 5\n",
      "Epoch 3246, global step 314958: train_loss_ssl was not in top 5\n",
      "Epoch 3247, global step 315055: train_loss_ssl was not in top 5\n",
      "Epoch 3248, global step 315152: train_loss_ssl was not in top 5\n",
      "Epoch 3249, global step 315249: train_loss_ssl was not in top 5\n",
      "Epoch 3250, global step 315346: train_loss_ssl was not in top 5\n",
      "Epoch 3251, global step 315443: train_loss_ssl was not in top 5\n",
      "Epoch 3252, global step 315540: train_loss_ssl was not in top 5\n",
      "IOPub message rate exceeded.\n",
      "The notebook server will temporarily stop sending output\n",
      "to the client in order to avoid crashing it.\n",
      "To change this limit, set the config variable\n",
      "`--NotebookApp.iopub_msg_rate_limit`.\n",
      "\n",
      "Current values:\n",
      "NotebookApp.iopub_msg_rate_limit=1000.0 (msgs/sec)\n",
      "NotebookApp.rate_limit_window=3.0 (secs)\n",
      "\n",
      "Epoch 3282, global step 318450: train_loss_ssl was not in top 5\n",
      "Epoch 3283, global step 318547: train_loss_ssl was not in top 5\n",
      "Epoch 3284, global step 318644: train_loss_ssl was not in top 5\n",
      "Epoch 3285, global step 318741: train_loss_ssl was not in top 5\n",
      "Epoch 3286, global step 318838: train_loss_ssl was not in top 5\n",
      "Epoch 3287, global step 318935: train_loss_ssl was not in top 5\n",
      "Epoch 3288, global step 319032: train_loss_ssl was not in top 5\n",
      "Epoch 3289, global step 319129: train_loss_ssl was not in top 5\n",
      "Epoch 3290, global step 319226: train_loss_ssl was not in top 5\n",
      "IOPub message rate exceeded.\n",
      "The notebook server will temporarily stop sending output\n",
      "to the client in order to avoid crashing it.\n",
      "To change this limit, set the config variable\n",
      "`--NotebookApp.iopub_msg_rate_limit`.\n",
      "\n",
      "Current values:\n",
      "NotebookApp.iopub_msg_rate_limit=1000.0 (msgs/sec)\n",
      "NotebookApp.rate_limit_window=3.0 (secs)\n",
      "\n"
     ]
    },
    {
     "data": {
      "application/vnd.jupyter.widget-view+json": {
       "model_id": "",
       "version_major": 2,
       "version_minor": 0
      },
      "text/plain": [
       "Validating: 0it [00:00, ?it/s]"
      ]
     },
     "metadata": {},
     "output_type": "display_data"
    },
    {
     "data": {
      "application/vnd.jupyter.widget-view+json": {
       "model_id": "",
       "version_major": 2,
       "version_minor": 0
      },
      "text/plain": [
       "Validating: 0it [00:00, ?it/s]"
      ]
     },
     "metadata": {},
     "output_type": "display_data"
    },
    {
     "data": {
      "application/vnd.jupyter.widget-view+json": {
       "model_id": "",
       "version_major": 2,
       "version_minor": 0
      },
      "text/plain": [
       "Validating: 0it [00:00, ?it/s]"
      ]
     },
     "metadata": {},
     "output_type": "display_data"
    },
    {
     "data": {
      "application/vnd.jupyter.widget-view+json": {
       "model_id": "",
       "version_major": 2,
       "version_minor": 0
      },
      "text/plain": [
       "Validating: 0it [00:00, ?it/s]"
      ]
     },
     "metadata": {},
     "output_type": "display_data"
    },
    {
     "data": {
      "application/vnd.jupyter.widget-view+json": {
       "model_id": "",
       "version_major": 2,
       "version_minor": 0
      },
      "text/plain": [
       "Validating: 0it [00:00, ?it/s]"
      ]
     },
     "metadata": {},
     "output_type": "display_data"
    },
    {
     "data": {
      "application/vnd.jupyter.widget-view+json": {
       "model_id": "",
       "version_major": 2,
       "version_minor": 0
      },
      "text/plain": [
       "Validating: 0it [00:00, ?it/s]"
      ]
     },
     "metadata": {},
     "output_type": "display_data"
    },
    {
     "data": {
      "application/vnd.jupyter.widget-view+json": {
       "model_id": "",
       "version_major": 2,
       "version_minor": 0
      },
      "text/plain": [
       "Validating: 0it [00:00, ?it/s]"
      ]
     },
     "metadata": {},
     "output_type": "display_data"
    },
    {
     "data": {
      "application/vnd.jupyter.widget-view+json": {
       "model_id": "a40a7573ac1e43f2aa2f3a23e26188ba",
       "version_major": 2,
       "version_minor": 0
      },
      "text/plain": [
       "Validating: 0it [00:00, ?it/s]"
      ]
     },
     "metadata": {},
     "output_type": "display_data"
    },
    {
     "name": "stderr",
     "output_type": "stream",
     "text": [
      "IOPub message rate exceeded.\n",
      "The notebook server will temporarily stop sending output\n",
      "to the client in order to avoid crashing it.\n",
      "To change this limit, set the config variable\n",
      "`--NotebookApp.iopub_msg_rate_limit`.\n",
      "\n",
      "Current values:\n",
      "NotebookApp.iopub_msg_rate_limit=1000.0 (msgs/sec)\n",
      "NotebookApp.rate_limit_window=3.0 (secs)\n",
      "\n"
     ]
    },
    {
     "data": {
      "application/vnd.jupyter.widget-view+json": {
       "model_id": "",
       "version_major": 2,
       "version_minor": 0
      },
      "text/plain": [
       "Validating: 0it [00:00, ?it/s]"
      ]
     },
     "metadata": {},
     "output_type": "display_data"
    },
    {
     "data": {
      "application/vnd.jupyter.widget-view+json": {
       "model_id": "",
       "version_major": 2,
       "version_minor": 0
      },
      "text/plain": [
       "Validating: 0it [00:00, ?it/s]"
      ]
     },
     "metadata": {},
     "output_type": "display_data"
    },
    {
     "data": {
      "application/vnd.jupyter.widget-view+json": {
       "model_id": "",
       "version_major": 2,
       "version_minor": 0
      },
      "text/plain": [
       "Validating: 0it [00:00, ?it/s]"
      ]
     },
     "metadata": {},
     "output_type": "display_data"
    },
    {
     "data": {
      "application/vnd.jupyter.widget-view+json": {
       "model_id": "",
       "version_major": 2,
       "version_minor": 0
      },
      "text/plain": [
       "Validating: 0it [00:00, ?it/s]"
      ]
     },
     "metadata": {},
     "output_type": "display_data"
    },
    {
     "data": {
      "application/vnd.jupyter.widget-view+json": {
       "model_id": "",
       "version_major": 2,
       "version_minor": 0
      },
      "text/plain": [
       "Validating: 0it [00:00, ?it/s]"
      ]
     },
     "metadata": {},
     "output_type": "display_data"
    },
    {
     "data": {
      "application/vnd.jupyter.widget-view+json": {
       "model_id": "",
       "version_major": 2,
       "version_minor": 0
      },
      "text/plain": [
       "Validating: 0it [00:00, ?it/s]"
      ]
     },
     "metadata": {},
     "output_type": "display_data"
    },
    {
     "data": {
      "application/vnd.jupyter.widget-view+json": {
       "model_id": "",
       "version_major": 2,
       "version_minor": 0
      },
      "text/plain": [
       "Validating: 0it [00:00, ?it/s]"
      ]
     },
     "metadata": {},
     "output_type": "display_data"
    },
    {
     "data": {
      "application/vnd.jupyter.widget-view+json": {
       "model_id": "345a8f280f2c45ffb3440bbf2ff82015",
       "version_major": 2,
       "version_minor": 0
      },
      "text/plain": [
       "Validating: 0it [00:00, ?it/s]"
      ]
     },
     "metadata": {},
     "output_type": "display_data"
    },
    {
     "name": "stderr",
     "output_type": "stream",
     "text": [
      "IOPub message rate exceeded.\n",
      "The notebook server will temporarily stop sending output\n",
      "to the client in order to avoid crashing it.\n",
      "To change this limit, set the config variable\n",
      "`--NotebookApp.iopub_msg_rate_limit`.\n",
      "\n",
      "Current values:\n",
      "NotebookApp.iopub_msg_rate_limit=1000.0 (msgs/sec)\n",
      "NotebookApp.rate_limit_window=3.0 (secs)\n",
      "\n",
      "Epoch 3335, global step 323591: train_loss_ssl was not in top 5\n",
      "Epoch 3336, global step 323688: train_loss_ssl was not in top 5\n",
      "Epoch 3337, global step 323785: train_loss_ssl was not in top 5\n",
      "Epoch 3338, global step 323882: train_loss_ssl was not in top 5\n",
      "Epoch 3339, global step 323979: train_loss_ssl was not in top 5\n",
      "Epoch 3340, global step 324076: train_loss_ssl was not in top 5\n",
      "Epoch 3341, global step 324173: train_loss_ssl was not in top 5\n",
      "Epoch 3342, global step 324270: train_loss_ssl was not in top 5\n",
      "Epoch 3343, global step 324367: train_loss_ssl was not in top 5\n",
      "IOPub message rate exceeded.\n",
      "The notebook server will temporarily stop sending output\n",
      "to the client in order to avoid crashing it.\n",
      "To change this limit, set the config variable\n",
      "`--NotebookApp.iopub_msg_rate_limit`.\n",
      "\n",
      "Current values:\n",
      "NotebookApp.iopub_msg_rate_limit=1000.0 (msgs/sec)\n",
      "NotebookApp.rate_limit_window=3.0 (secs)\n",
      "\n",
      "Epoch 3379, global step 327859: train_loss_ssl was not in top 5\n",
      "Epoch 3380, global step 327956: train_loss_ssl was not in top 5\n",
      "Epoch 3381, global step 328053: train_loss_ssl was not in top 5\n",
      "Epoch 3382, global step 328150: train_loss_ssl was not in top 5\n",
      "Epoch 3383, global step 328247: train_loss_ssl was not in top 5\n",
      "Epoch 3384, global step 328344: train_loss_ssl was not in top 5\n",
      "Epoch 3385, global step 328441: train_loss_ssl was not in top 5\n",
      "Epoch 3386, global step 328538: train_loss_ssl was not in top 5\n",
      "IOPub message rate exceeded.\n",
      "The notebook server will temporarily stop sending output\n",
      "to the client in order to avoid crashing it.\n",
      "To change this limit, set the config variable\n",
      "`--NotebookApp.iopub_msg_rate_limit`.\n",
      "\n",
      "Current values:\n",
      "NotebookApp.iopub_msg_rate_limit=1000.0 (msgs/sec)\n",
      "NotebookApp.rate_limit_window=3.0 (secs)\n",
      "\n",
      "Epoch 3422, global step 332030: train_loss_ssl was not in top 5\n",
      "Epoch 3423, global step 332127: train_loss_ssl was not in top 5\n",
      "Epoch 3424, global step 332224: train_loss_ssl was not in top 5\n",
      "Epoch 3425, global step 332321: train_loss_ssl was not in top 5\n",
      "Epoch 3426, global step 332418: train_loss_ssl was not in top 5\n",
      "Epoch 3427, global step 332515: train_loss_ssl was not in top 5\n",
      "Epoch 3428, global step 332612: train_loss_ssl was not in top 5\n",
      "Epoch 3429, global step 332709: train_loss_ssl was not in top 5\n",
      "Epoch 3430, global step 332806: train_loss_ssl was not in top 5\n",
      "IOPub message rate exceeded.\n",
      "The notebook server will temporarily stop sending output\n",
      "to the client in order to avoid crashing it.\n",
      "To change this limit, set the config variable\n",
      "`--NotebookApp.iopub_msg_rate_limit`.\n",
      "\n",
      "Current values:\n",
      "NotebookApp.iopub_msg_rate_limit=1000.0 (msgs/sec)\n",
      "NotebookApp.rate_limit_window=3.0 (secs)\n",
      "\n",
      "Epoch 3465, global step 336201: train_loss_ssl was not in top 5\n",
      "Epoch 3466, global step 336298: train_loss_ssl was not in top 5\n",
      "Epoch 3467, global step 336395: train_loss_ssl was not in top 5\n",
      "Epoch 3468, global step 336492: train_loss_ssl was not in top 5\n",
      "Epoch 3469, global step 336589: train_loss_ssl was not in top 5\n",
      "Epoch 3470, global step 336686: train_loss_ssl was not in top 5\n",
      "Epoch 3471, global step 336783: train_loss_ssl was not in top 5\n",
      "Epoch 3472, global step 336880: train_loss_ssl was not in top 5\n",
      "Epoch 3473, global step 336977: train_loss_ssl was not in top 5\n",
      "IOPub message rate exceeded.\n",
      "The notebook server will temporarily stop sending output\n",
      "to the client in order to avoid crashing it.\n",
      "To change this limit, set the config variable\n",
      "`--NotebookApp.iopub_msg_rate_limit`.\n",
      "\n",
      "Current values:\n",
      "NotebookApp.iopub_msg_rate_limit=1000.0 (msgs/sec)\n",
      "NotebookApp.rate_limit_window=3.0 (secs)\n",
      "\n",
      "Epoch 3509, global step 340469: train_loss_ssl was not in top 5\n",
      "Epoch 3510, global step 340566: train_loss_ssl was not in top 5\n",
      "Epoch 3511, global step 340663: train_loss_ssl was not in top 5\n",
      "Epoch 3512, global step 340760: train_loss_ssl was not in top 5\n",
      "Epoch 3513, global step 340857: train_loss_ssl was not in top 5\n",
      "Epoch 3514, global step 340954: train_loss_ssl was not in top 5\n",
      "Epoch 3515, global step 341051: train_loss_ssl was not in top 5\n",
      "Epoch 3516, global step 341148: train_loss_ssl was not in top 5\n",
      "Epoch 3517, global step 341245: train_loss_ssl was not in top 5\n",
      "IOPub message rate exceeded.\n",
      "The notebook server will temporarily stop sending output\n",
      "to the client in order to avoid crashing it.\n",
      "To change this limit, set the config variable\n",
      "`--NotebookApp.iopub_msg_rate_limit`.\n",
      "\n",
      "Current values:\n",
      "NotebookApp.iopub_msg_rate_limit=1000.0 (msgs/sec)\n",
      "NotebookApp.rate_limit_window=3.0 (secs)\n",
      "\n",
      "Epoch 3553, global step 344737: train_loss_ssl was not in top 5\n",
      "Epoch 3554, global step 344834: train_loss_ssl was not in top 5\n",
      "Epoch 3555, global step 344931: train_loss_ssl was not in top 5\n",
      "Epoch 3556, global step 345028: train_loss_ssl was not in top 5\n",
      "Epoch 3557, global step 345125: train_loss_ssl was not in top 5\n",
      "Epoch 3558, global step 345222: train_loss_ssl was not in top 5\n",
      "Epoch 3559, global step 345319: train_loss_ssl was not in top 5\n",
      "Epoch 3560, global step 345416: train_loss_ssl was not in top 5\n",
      "Epoch 3561, global step 345513: train_loss_ssl was not in top 5\n",
      "IOPub message rate exceeded.\n",
      "The notebook server will temporarily stop sending output\n",
      "to the client in order to avoid crashing it.\n",
      "To change this limit, set the config variable\n",
      "`--NotebookApp.iopub_msg_rate_limit`.\n",
      "\n",
      "Current values:\n",
      "NotebookApp.iopub_msg_rate_limit=1000.0 (msgs/sec)\n",
      "NotebookApp.rate_limit_window=3.0 (secs)\n",
      "\n",
      "Epoch 3596, global step 348908: train_loss_ssl was not in top 5\n",
      "Epoch 3597, global step 349005: train_loss_ssl was not in top 5\n",
      "Epoch 3598, global step 349102: train_loss_ssl was not in top 5\n",
      "Epoch 3599, global step 349199: train_loss_ssl was not in top 5\n",
      "GPU available: True, used: True\n",
      "TPU available: False, using: 0 TPU cores\n",
      "IPU available: False, using: 0 IPUs\n",
      "LOCAL_RANK: 0 - CUDA_VISIBLE_DEVICES: [0]\n",
      "\n",
      "  | Name        | Type       | Params\n",
      "-------------------------------------------\n",
      "0 | resnet_moco | MoCo       | 23.0 M\n",
      "1 | fc          | Sequential | 267 K \n",
      "2 | accuracy    | Accuracy   | 0     \n",
      "-------------------------------------------\n",
      "267 K     Trainable params\n",
      "23.0 M    Non-trainable params\n",
      "23.3 M    Total params\n",
      "93.048    Total estimated model params size (MB)\n"
     ]
    },
    {
     "name": "stdout",
     "output_type": "stream",
     "text": [
      "... training downstream classifier...\n"
     ]
    },
    {
     "data": {
      "application/vnd.jupyter.widget-view+json": {
       "model_id": "",
       "version_major": 2,
       "version_minor": 0
      },
      "text/plain": [
       "Validation sanity check: 0it [00:00, ?it/s]"
      ]
     },
     "metadata": {},
     "output_type": "display_data"
    },
    {
     "data": {
      "application/vnd.jupyter.widget-view+json": {
       "model_id": "f9f9a95d9d85447b9a7dffb78a1b4949",
       "version_major": 2,
       "version_minor": 0
      },
      "text/plain": [
       "Training: -1it [00:00, ?it/s]"
      ]
     },
     "metadata": {},
     "output_type": "display_data"
    },
    {
     "data": {
      "application/vnd.jupyter.widget-view+json": {
       "model_id": "",
       "version_major": 2,
       "version_minor": 0
      },
      "text/plain": [
       "Validating: 0it [00:00, ?it/s]"
      ]
     },
     "metadata": {},
     "output_type": "display_data"
    },
    {
     "data": {
      "application/vnd.jupyter.widget-view+json": {
       "model_id": "",
       "version_major": 2,
       "version_minor": 0
      },
      "text/plain": [
       "Validating: 0it [00:00, ?it/s]"
      ]
     },
     "metadata": {},
     "output_type": "display_data"
    },
    {
     "data": {
      "application/vnd.jupyter.widget-view+json": {
       "model_id": "",
       "version_major": 2,
       "version_minor": 0
      },
      "text/plain": [
       "Validating: 0it [00:00, ?it/s]"
      ]
     },
     "metadata": {},
     "output_type": "display_data"
    },
    {
     "name": "stderr",
     "output_type": "stream",
     "text": [
      "IOPub message rate exceeded.\n",
      "The notebook server will temporarily stop sending output\n",
      "to the client in order to avoid crashing it.\n",
      "To change this limit, set the config variable\n",
      "`--NotebookApp.iopub_msg_rate_limit`.\n",
      "\n",
      "Current values:\n",
      "NotebookApp.iopub_msg_rate_limit=1000.0 (msgs/sec)\n",
      "NotebookApp.rate_limit_window=3.0 (secs)\n",
      "\n"
     ]
    },
    {
     "data": {
      "application/vnd.jupyter.widget-view+json": {
       "model_id": "",
       "version_major": 2,
       "version_minor": 0
      },
      "text/plain": [
       "Validating: 0it [00:00, ?it/s]"
      ]
     },
     "metadata": {},
     "output_type": "display_data"
    },
    {
     "data": {
      "application/vnd.jupyter.widget-view+json": {
       "model_id": "",
       "version_major": 2,
       "version_minor": 0
      },
      "text/plain": [
       "Validating: 0it [00:00, ?it/s]"
      ]
     },
     "metadata": {},
     "output_type": "display_data"
    },
    {
     "data": {
      "application/vnd.jupyter.widget-view+json": {
       "model_id": "",
       "version_major": 2,
       "version_minor": 0
      },
      "text/plain": [
       "Validating: 0it [00:00, ?it/s]"
      ]
     },
     "metadata": {},
     "output_type": "display_data"
    },
    {
     "data": {
      "application/vnd.jupyter.widget-view+json": {
       "model_id": "",
       "version_major": 2,
       "version_minor": 0
      },
      "text/plain": [
       "Validating: 0it [00:00, ?it/s]"
      ]
     },
     "metadata": {},
     "output_type": "display_data"
    },
    {
     "data": {
      "application/vnd.jupyter.widget-view+json": {
       "model_id": "",
       "version_major": 2,
       "version_minor": 0
      },
      "text/plain": [
       "Validating: 0it [00:00, ?it/s]"
      ]
     },
     "metadata": {},
     "output_type": "display_data"
    },
    {
     "data": {
      "application/vnd.jupyter.widget-view+json": {
       "model_id": "",
       "version_major": 2,
       "version_minor": 0
      },
      "text/plain": [
       "Validating: 0it [00:00, ?it/s]"
      ]
     },
     "metadata": {},
     "output_type": "display_data"
    },
    {
     "data": {
      "application/vnd.jupyter.widget-view+json": {
       "model_id": "",
       "version_major": 2,
       "version_minor": 0
      },
      "text/plain": [
       "Validating: 0it [00:00, ?it/s]"
      ]
     },
     "metadata": {},
     "output_type": "display_data"
    },
    {
     "data": {
      "application/vnd.jupyter.widget-view+json": {
       "model_id": "0d23a844876144119fd9448956d09f8a",
       "version_major": 2,
       "version_minor": 0
      },
      "text/plain": [
       "Validating: 0it [00:00, ?it/s]"
      ]
     },
     "metadata": {},
     "output_type": "display_data"
    },
    {
     "name": "stderr",
     "output_type": "stream",
     "text": [
      "IOPub message rate exceeded.\n",
      "The notebook server will temporarily stop sending output\n",
      "to the client in order to avoid crashing it.\n",
      "To change this limit, set the config variable\n",
      "`--NotebookApp.iopub_msg_rate_limit`.\n",
      "\n",
      "Current values:\n",
      "NotebookApp.iopub_msg_rate_limit=1000.0 (msgs/sec)\n",
      "NotebookApp.rate_limit_window=3.0 (secs)\n",
      "\n",
      "Epoch 3609, global step 350169: train_loss_ssl was not in top 5\n",
      "Epoch 3610, global step 350266: train_loss_ssl was not in top 5\n",
      "Epoch 3611, global step 350363: train_loss_ssl was not in top 5\n",
      "Epoch 3612, global step 350460: train_loss_ssl was not in top 5\n",
      "Epoch 3613, global step 350557: train_loss_ssl was not in top 5\n",
      "Epoch 3614, global step 350654: train_loss_ssl was not in top 5\n",
      "Epoch 3615, global step 350751: train_loss_ssl was not in top 5\n",
      "Epoch 3616, global step 350848: train_loss_ssl was not in top 5\n",
      "Epoch 3617, global step 350945: train_loss_ssl was not in top 5\n",
      "IOPub message rate exceeded.\n",
      "The notebook server will temporarily stop sending output\n",
      "to the client in order to avoid crashing it.\n",
      "To change this limit, set the config variable\n",
      "`--NotebookApp.iopub_msg_rate_limit`.\n",
      "\n",
      "Current values:\n",
      "NotebookApp.iopub_msg_rate_limit=1000.0 (msgs/sec)\n",
      "NotebookApp.rate_limit_window=3.0 (secs)\n",
      "\n",
      "Epoch 3654, global step 354534: train_loss_ssl was not in top 5\n",
      "Epoch 3655, global step 354631: train_loss_ssl was not in top 5\n",
      "Epoch 3656, global step 354728: train_loss_ssl was not in top 5\n",
      "Epoch 3657, global step 354825: train_loss_ssl was not in top 5\n",
      "Epoch 3658, global step 354922: train_loss_ssl was not in top 5\n",
      "Epoch 3659, global step 355019: train_loss_ssl was not in top 5\n",
      "Epoch 3660, global step 355116: train_loss_ssl was not in top 5\n",
      "Epoch 3661, global step 355213: train_loss_ssl was not in top 5\n",
      "IOPub message rate exceeded.\n",
      "The notebook server will temporarily stop sending output\n",
      "to the client in order to avoid crashing it.\n",
      "To change this limit, set the config variable\n",
      "`--NotebookApp.iopub_msg_rate_limit`.\n",
      "\n",
      "Current values:\n",
      "NotebookApp.iopub_msg_rate_limit=1000.0 (msgs/sec)\n",
      "NotebookApp.rate_limit_window=3.0 (secs)\n",
      "\n",
      "Epoch 3698, global step 358802: train_loss_ssl was not in top 5\n",
      "Epoch 3699, global step 358899: train_loss_ssl was not in top 5\n",
      "Epoch 3700, global step 358996: train_loss_ssl was not in top 5\n",
      "Epoch 3701, global step 359093: train_loss_ssl was not in top 5\n",
      "Epoch 3702, global step 359190: train_loss_ssl was not in top 5\n",
      "Epoch 3703, global step 359287: train_loss_ssl was not in top 5\n",
      "Epoch 3704, global step 359384: train_loss_ssl was not in top 5\n",
      "Epoch 3705, global step 359481: train_loss_ssl was not in top 5\n",
      "Epoch 3706, global step 359578: train_loss_ssl was not in top 5\n",
      "IOPub message rate exceeded.\n",
      "The notebook server will temporarily stop sending output\n",
      "to the client in order to avoid crashing it.\n",
      "To change this limit, set the config variable\n",
      "`--NotebookApp.iopub_msg_rate_limit`.\n",
      "\n",
      "Current values:\n",
      "NotebookApp.iopub_msg_rate_limit=1000.0 (msgs/sec)\n",
      "NotebookApp.rate_limit_window=3.0 (secs)\n",
      "\n",
      "Epoch 3739, global step 362779: train_loss_ssl was not in top 5\n",
      "Epoch 3740, global step 362876: train_loss_ssl was not in top 5\n",
      "Epoch 3741, global step 362973: train_loss_ssl was not in top 5\n",
      "Epoch 3742, global step 363070: train_loss_ssl was not in top 5\n",
      "Epoch 3743, global step 363167: train_loss_ssl was not in top 5\n",
      "Epoch 3744, global step 363264: train_loss_ssl was not in top 5\n",
      "Epoch 3745, global step 363361: train_loss_ssl was not in top 5\n",
      "Epoch 3746, global step 363458: train_loss_ssl was not in top 5\n",
      "IOPub message rate exceeded.\n",
      "The notebook server will temporarily stop sending output\n",
      "to the client in order to avoid crashing it.\n",
      "To change this limit, set the config variable\n",
      "`--NotebookApp.iopub_msg_rate_limit`.\n",
      "\n",
      "Current values:\n",
      "NotebookApp.iopub_msg_rate_limit=1000.0 (msgs/sec)\n",
      "NotebookApp.rate_limit_window=3.0 (secs)\n",
      "\n",
      "Epoch 3774, global step 366174: train_loss_ssl was not in top 5\n",
      "Epoch 3775, global step 366271: train_loss_ssl was not in top 5\n",
      "Epoch 3776, global step 366368: train_loss_ssl was not in top 5\n",
      "Epoch 3777, global step 366465: train_loss_ssl was not in top 5\n",
      "Epoch 3778, global step 366562: train_loss_ssl was not in top 5\n",
      "Epoch 3779, global step 366659: train_loss_ssl was not in top 5\n",
      "IOPub message rate exceeded.\n",
      "The notebook server will temporarily stop sending output\n",
      "to the client in order to avoid crashing it.\n",
      "To change this limit, set the config variable\n",
      "`--NotebookApp.iopub_msg_rate_limit`.\n",
      "\n",
      "Current values:\n",
      "NotebookApp.iopub_msg_rate_limit=1000.0 (msgs/sec)\n",
      "NotebookApp.rate_limit_window=3.0 (secs)\n",
      "\n",
      "Epoch 3785, global step 367241: train_loss_ssl was not in top 5\n",
      "Epoch 3786, global step 367338: train_loss_ssl was not in top 5\n",
      "Epoch 3787, global step 367435: train_loss_ssl was not in top 5\n",
      "Epoch 3788, global step 367532: train_loss_ssl was not in top 5\n",
      "IOPub message rate exceeded.\n",
      "The notebook server will temporarily stop sending output\n",
      "to the client in order to avoid crashing it.\n",
      "To change this limit, set the config variable\n",
      "`--NotebookApp.iopub_msg_rate_limit`.\n",
      "\n",
      "Current values:\n",
      "NotebookApp.iopub_msg_rate_limit=1000.0 (msgs/sec)\n",
      "NotebookApp.rate_limit_window=3.0 (secs)\n",
      "\n",
      "Epoch 3818, global step 370442: train_loss_ssl was not in top 5\n",
      "Epoch 3819, global step 370539: train_loss_ssl was not in top 5\n",
      "Epoch 3820, global step 370636: train_loss_ssl was not in top 5\n",
      "Epoch 3821, global step 370733: train_loss_ssl was not in top 5\n",
      "Epoch 3822, global step 370830: train_loss_ssl was not in top 5\n",
      "IOPub message rate exceeded.\n",
      "The notebook server will temporarily stop sending output\n",
      "to the client in order to avoid crashing it.\n",
      "To change this limit, set the config variable\n",
      "`--NotebookApp.iopub_msg_rate_limit`.\n",
      "\n",
      "Current values:\n",
      "NotebookApp.iopub_msg_rate_limit=1000.0 (msgs/sec)\n",
      "NotebookApp.rate_limit_window=3.0 (secs)\n",
      "\n",
      "Epoch 3829, global step 371509: train_loss_ssl was not in top 5\n",
      "Epoch 3830, global step 371606: train_loss_ssl was not in top 5\n",
      "Epoch 3831, global step 371703: train_loss_ssl was not in top 5\n",
      "IOPub message rate exceeded.\n",
      "The notebook server will temporarily stop sending output\n",
      "to the client in order to avoid crashing it.\n",
      "To change this limit, set the config variable\n",
      "`--NotebookApp.iopub_msg_rate_limit`.\n",
      "\n",
      "Current values:\n",
      "NotebookApp.iopub_msg_rate_limit=1000.0 (msgs/sec)\n",
      "NotebookApp.rate_limit_window=3.0 (secs)\n",
      "\n",
      "Epoch 3861, global step 374613: train_loss_ssl was not in top 5\n",
      "Epoch 3862, global step 374710: train_loss_ssl was not in top 5\n",
      "Epoch 3863, global step 374807: train_loss_ssl was not in top 5\n",
      "Epoch 3864, global step 374904: train_loss_ssl was not in top 5\n",
      "Epoch 3865, global step 375001: train_loss_ssl was not in top 5\n",
      "IOPub message rate exceeded.\n",
      "The notebook server will temporarily stop sending output\n",
      "to the client in order to avoid crashing it.\n",
      "To change this limit, set the config variable\n",
      "`--NotebookApp.iopub_msg_rate_limit`.\n",
      "\n",
      "Current values:\n",
      "NotebookApp.iopub_msg_rate_limit=1000.0 (msgs/sec)\n",
      "NotebookApp.rate_limit_window=3.0 (secs)\n",
      "\n",
      "Epoch 3871, global step 375583: train_loss_ssl was not in top 5\n",
      "Epoch 3872, global step 375680: train_loss_ssl was not in top 5\n",
      "Epoch 3873, global step 375777: train_loss_ssl was not in top 5\n",
      "Epoch 3874, global step 375874: train_loss_ssl was not in top 5\n",
      "IOPub message rate exceeded.\n",
      "The notebook server will temporarily stop sending output\n",
      "to the client in order to avoid crashing it.\n",
      "To change this limit, set the config variable\n",
      "`--NotebookApp.iopub_msg_rate_limit`.\n",
      "\n",
      "Current values:\n",
      "NotebookApp.iopub_msg_rate_limit=1000.0 (msgs/sec)\n",
      "NotebookApp.rate_limit_window=3.0 (secs)\n",
      "\n"
     ]
    },
    {
     "data": {
      "application/vnd.jupyter.widget-view+json": {
       "model_id": "",
       "version_major": 2,
       "version_minor": 0
      },
      "text/plain": [
       "Validating: 0it [00:00, ?it/s]"
      ]
     },
     "metadata": {},
     "output_type": "display_data"
    },
    {
     "data": {
      "application/vnd.jupyter.widget-view+json": {
       "model_id": "",
       "version_major": 2,
       "version_minor": 0
      },
      "text/plain": [
       "Validating: 0it [00:00, ?it/s]"
      ]
     },
     "metadata": {},
     "output_type": "display_data"
    },
    {
     "data": {
      "application/vnd.jupyter.widget-view+json": {
       "model_id": "",
       "version_major": 2,
       "version_minor": 0
      },
      "text/plain": [
       "Validating: 0it [00:00, ?it/s]"
      ]
     },
     "metadata": {},
     "output_type": "display_data"
    },
    {
     "data": {
      "application/vnd.jupyter.widget-view+json": {
       "model_id": "",
       "version_major": 2,
       "version_minor": 0
      },
      "text/plain": [
       "Validating: 0it [00:00, ?it/s]"
      ]
     },
     "metadata": {},
     "output_type": "display_data"
    },
    {
     "data": {
      "application/vnd.jupyter.widget-view+json": {
       "model_id": "",
       "version_major": 2,
       "version_minor": 0
      },
      "text/plain": [
       "Validating: 0it [00:00, ?it/s]"
      ]
     },
     "metadata": {},
     "output_type": "display_data"
    },
    {
     "name": "stderr",
     "output_type": "stream",
     "text": [
      "IOPub message rate exceeded.\n",
      "The notebook server will temporarily stop sending output\n",
      "to the client in order to avoid crashing it.\n",
      "To change this limit, set the config variable\n",
      "`--NotebookApp.iopub_msg_rate_limit`.\n",
      "\n",
      "Current values:\n",
      "NotebookApp.iopub_msg_rate_limit=1000.0 (msgs/sec)\n",
      "NotebookApp.rate_limit_window=3.0 (secs)\n",
      "\n"
     ]
    },
    {
     "data": {
      "application/vnd.jupyter.widget-view+json": {
       "model_id": "",
       "version_major": 2,
       "version_minor": 0
      },
      "text/plain": [
       "Validating: 0it [00:00, ?it/s]"
      ]
     },
     "metadata": {},
     "output_type": "display_data"
    },
    {
     "data": {
      "application/vnd.jupyter.widget-view+json": {
       "model_id": "",
       "version_major": 2,
       "version_minor": 0
      },
      "text/plain": [
       "Validating: 0it [00:00, ?it/s]"
      ]
     },
     "metadata": {},
     "output_type": "display_data"
    },
    {
     "name": "stderr",
     "output_type": "stream",
     "text": [
      "IOPub message rate exceeded.\n",
      "The notebook server will temporarily stop sending output\n",
      "to the client in order to avoid crashing it.\n",
      "To change this limit, set the config variable\n",
      "`--NotebookApp.iopub_msg_rate_limit`.\n",
      "\n",
      "Current values:\n",
      "NotebookApp.iopub_msg_rate_limit=1000.0 (msgs/sec)\n",
      "NotebookApp.rate_limit_window=3.0 (secs)\n",
      "\n"
     ]
    },
    {
     "data": {
      "application/vnd.jupyter.widget-view+json": {
       "model_id": "",
       "version_major": 2,
       "version_minor": 0
      },
      "text/plain": [
       "Validating: 0it [00:00, ?it/s]"
      ]
     },
     "metadata": {},
     "output_type": "display_data"
    },
    {
     "data": {
      "application/vnd.jupyter.widget-view+json": {
       "model_id": "",
       "version_major": 2,
       "version_minor": 0
      },
      "text/plain": [
       "Validating: 0it [00:00, ?it/s]"
      ]
     },
     "metadata": {},
     "output_type": "display_data"
    },
    {
     "data": {
      "application/vnd.jupyter.widget-view+json": {
       "model_id": "",
       "version_major": 2,
       "version_minor": 0
      },
      "text/plain": [
       "Validating: 0it [00:00, ?it/s]"
      ]
     },
     "metadata": {},
     "output_type": "display_data"
    },
    {
     "data": {
      "application/vnd.jupyter.widget-view+json": {
       "model_id": "",
       "version_major": 2,
       "version_minor": 0
      },
      "text/plain": [
       "Validating: 0it [00:00, ?it/s]"
      ]
     },
     "metadata": {},
     "output_type": "display_data"
    },
    {
     "name": "stderr",
     "output_type": "stream",
     "text": [
      "IOPub message rate exceeded.\n",
      "The notebook server will temporarily stop sending output\n",
      "to the client in order to avoid crashing it.\n",
      "To change this limit, set the config variable\n",
      "`--NotebookApp.iopub_msg_rate_limit`.\n",
      "\n",
      "Current values:\n",
      "NotebookApp.iopub_msg_rate_limit=1000.0 (msgs/sec)\n",
      "NotebookApp.rate_limit_window=3.0 (secs)\n",
      "\n"
     ]
    },
    {
     "data": {
      "application/vnd.jupyter.widget-view+json": {
       "model_id": "",
       "version_major": 2,
       "version_minor": 0
      },
      "text/plain": [
       "Validating: 0it [00:00, ?it/s]"
      ]
     },
     "metadata": {},
     "output_type": "display_data"
    },
    {
     "data": {
      "application/vnd.jupyter.widget-view+json": {
       "model_id": "",
       "version_major": 2,
       "version_minor": 0
      },
      "text/plain": [
       "Validating: 0it [00:00, ?it/s]"
      ]
     },
     "metadata": {},
     "output_type": "display_data"
    },
    {
     "data": {
      "application/vnd.jupyter.widget-view+json": {
       "model_id": "",
       "version_major": 2,
       "version_minor": 0
      },
      "text/plain": [
       "Validating: 0it [00:00, ?it/s]"
      ]
     },
     "metadata": {},
     "output_type": "display_data"
    },
    {
     "name": "stderr",
     "output_type": "stream",
     "text": [
      "IOPub message rate exceeded.\n",
      "The notebook server will temporarily stop sending output\n",
      "to the client in order to avoid crashing it.\n",
      "To change this limit, set the config variable\n",
      "`--NotebookApp.iopub_msg_rate_limit`.\n",
      "\n",
      "Current values:\n",
      "NotebookApp.iopub_msg_rate_limit=1000.0 (msgs/sec)\n",
      "NotebookApp.rate_limit_window=3.0 (secs)\n",
      "\n",
      "Epoch 3915, global step 379851: train_loss_ssl reached 1.98870 (best 1.98870), saving model to \"/home/shatz/Documents/more_better/saved_models/resnet_moco/epoch=3915-train_loss_ssl=1.99.ckpt\" as top 5\n",
      "Epoch 3916, global step 379948: train_loss_ssl was not in top 5\n",
      "Epoch 3917, global step 380045: train_loss_ssl was not in top 5\n",
      "Epoch 3918, global step 380142: train_loss_ssl was not in top 5\n",
      "Epoch 3919, global step 380239: train_loss_ssl was not in top 5\n",
      "Epoch 3920, global step 380336: train_loss_ssl was not in top 5\n",
      "IOPub message rate exceeded.\n",
      "The notebook server will temporarily stop sending output\n",
      "to the client in order to avoid crashing it.\n",
      "To change this limit, set the config variable\n",
      "`--NotebookApp.iopub_msg_rate_limit`.\n",
      "\n",
      "Current values:\n",
      "NotebookApp.iopub_msg_rate_limit=1000.0 (msgs/sec)\n",
      "NotebookApp.rate_limit_window=3.0 (secs)\n",
      "\n",
      "Epoch 3926, global step 380918: train_loss_ssl was not in top 5\n",
      "Epoch 3927, global step 381015: train_loss_ssl was not in top 5\n",
      "Epoch 3928, global step 381112: train_loss_ssl was not in top 5\n",
      "IOPub message rate exceeded.\n",
      "The notebook server will temporarily stop sending output\n",
      "to the client in order to avoid crashing it.\n",
      "To change this limit, set the config variable\n",
      "`--NotebookApp.iopub_msg_rate_limit`.\n",
      "\n",
      "Current values:\n",
      "NotebookApp.iopub_msg_rate_limit=1000.0 (msgs/sec)\n",
      "NotebookApp.rate_limit_window=3.0 (secs)\n",
      "\n",
      "Epoch 3959, global step 384119: train_loss_ssl was not in top 5\n",
      "Epoch 3960, global step 384216: train_loss_ssl was not in top 5\n",
      "Epoch 3961, global step 384313: train_loss_ssl was not in top 5\n",
      "Epoch 3962, global step 384410: train_loss_ssl was not in top 5\n",
      "Epoch 3963, global step 384507: train_loss_ssl was not in top 5\n",
      "IOPub message rate exceeded.\n",
      "The notebook server will temporarily stop sending output\n",
      "to the client in order to avoid crashing it.\n",
      "To change this limit, set the config variable\n",
      "`--NotebookApp.iopub_msg_rate_limit`.\n",
      "\n",
      "Current values:\n",
      "NotebookApp.iopub_msg_rate_limit=1000.0 (msgs/sec)\n",
      "NotebookApp.rate_limit_window=3.0 (secs)\n",
      "\n",
      "Epoch 3969, global step 385089: train_loss_ssl was not in top 5\n",
      "Epoch 3970, global step 385186: train_loss_ssl was not in top 5\n",
      "Epoch 3971, global step 385283: train_loss_ssl was not in top 5\n",
      "Epoch 3972, global step 385380: train_loss_ssl was not in top 5\n",
      "IOPub message rate exceeded.\n",
      "The notebook server will temporarily stop sending output\n",
      "to the client in order to avoid crashing it.\n",
      "To change this limit, set the config variable\n",
      "`--NotebookApp.iopub_msg_rate_limit`.\n",
      "\n",
      "Current values:\n",
      "NotebookApp.iopub_msg_rate_limit=1000.0 (msgs/sec)\n",
      "NotebookApp.rate_limit_window=3.0 (secs)\n",
      "\n",
      "Epoch 4002, global step 388290: train_loss_ssl was not in top 5\n",
      "Epoch 4003, global step 388387: train_loss_ssl was not in top 5\n",
      "Epoch 4004, global step 388484: train_loss_ssl was not in top 5\n",
      "Epoch 4005, global step 388581: train_loss_ssl was not in top 5\n",
      "Epoch 4006, global step 388678: train_loss_ssl was not in top 5\n",
      "IOPub message rate exceeded.\n",
      "The notebook server will temporarily stop sending output\n",
      "to the client in order to avoid crashing it.\n",
      "To change this limit, set the config variable\n",
      "`--NotebookApp.iopub_msg_rate_limit`.\n",
      "\n",
      "Current values:\n",
      "NotebookApp.iopub_msg_rate_limit=1000.0 (msgs/sec)\n",
      "NotebookApp.rate_limit_window=3.0 (secs)\n",
      "\n",
      "Epoch 4012, global step 389260: train_loss_ssl was not in top 5\n",
      "Epoch 4013, global step 389357: train_loss_ssl reached 2.01938 (best 1.98870), saving model to \"/home/shatz/Documents/more_better/saved_models/resnet_moco/epoch=4013-train_loss_ssl=2.02.ckpt\" as top 5\n",
      "Epoch 4014, global step 389454: train_loss_ssl was not in top 5\n",
      "Epoch 4015, global step 389551: train_loss_ssl was not in top 5\n",
      "IOPub message rate exceeded.\n",
      "The notebook server will temporarily stop sending output\n",
      "to the client in order to avoid crashing it.\n",
      "To change this limit, set the config variable\n",
      "`--NotebookApp.iopub_msg_rate_limit`.\n",
      "\n",
      "Current values:\n",
      "NotebookApp.iopub_msg_rate_limit=1000.0 (msgs/sec)\n",
      "NotebookApp.rate_limit_window=3.0 (secs)\n",
      "\n",
      "Epoch 4019, global step 389939: train_loss_ssl was not in top 5\n",
      "Epoch 4020, global step 390036: train_loss_ssl was not in top 5\n",
      "Epoch 4021, global step 390133: train_loss_ssl was not in top 5\n",
      "Epoch 4022, global step 390230: train_loss_ssl was not in top 5\n",
      "Epoch 4023, global step 390327: train_loss_ssl was not in top 5\n",
      "IOPub message rate exceeded.\n",
      "The notebook server will temporarily stop sending output\n",
      "to the client in order to avoid crashing it.\n",
      "To change this limit, set the config variable\n",
      "`--NotebookApp.iopub_msg_rate_limit`.\n",
      "\n",
      "Current values:\n",
      "NotebookApp.iopub_msg_rate_limit=1000.0 (msgs/sec)\n",
      "NotebookApp.rate_limit_window=3.0 (secs)\n",
      "\n",
      "Epoch 4029, global step 390909: train_loss_ssl was not in top 5\n",
      "Epoch 4030, global step 391006: train_loss_ssl was not in top 5\n",
      "Epoch 4031, global step 391103: train_loss_ssl was not in top 5\n",
      "Epoch 4032, global step 391200: train_loss_ssl was not in top 5\n",
      "IOPub message rate exceeded.\n",
      "The notebook server will temporarily stop sending output\n",
      "to the client in order to avoid crashing it.\n",
      "To change this limit, set the config variable\n",
      "`--NotebookApp.iopub_msg_rate_limit`.\n",
      "\n",
      "Current values:\n",
      "NotebookApp.iopub_msg_rate_limit=1000.0 (msgs/sec)\n",
      "NotebookApp.rate_limit_window=3.0 (secs)\n",
      "\n",
      "Epoch 4063, global step 394207: train_loss_ssl was not in top 5\n",
      "Epoch 4064, global step 394304: train_loss_ssl was not in top 5\n",
      "Epoch 4065, global step 394401: train_loss_ssl was not in top 5\n",
      "Epoch 4066, global step 394498: train_loss_ssl was not in top 5\n",
      "Epoch 4067, global step 394595: train_loss_ssl was not in top 5\n",
      "IOPub message rate exceeded.\n",
      "The notebook server will temporarily stop sending output\n",
      "to the client in order to avoid crashing it.\n",
      "To change this limit, set the config variable\n",
      "`--NotebookApp.iopub_msg_rate_limit`.\n",
      "\n",
      "Current values:\n",
      "NotebookApp.iopub_msg_rate_limit=1000.0 (msgs/sec)\n",
      "NotebookApp.rate_limit_window=3.0 (secs)\n",
      "\n",
      "Epoch 4074, global step 395274: train_loss_ssl was not in top 5\n",
      "Epoch 4075, global step 395371: train_loss_ssl was not in top 5\n",
      "Epoch 4076, global step 395468: train_loss_ssl was not in top 5\n",
      "IOPub message rate exceeded.\n",
      "The notebook server will temporarily stop sending output\n",
      "to the client in order to avoid crashing it.\n",
      "To change this limit, set the config variable\n",
      "`--NotebookApp.iopub_msg_rate_limit`.\n",
      "\n",
      "Current values:\n",
      "NotebookApp.iopub_msg_rate_limit=1000.0 (msgs/sec)\n",
      "NotebookApp.rate_limit_window=3.0 (secs)\n",
      "\n",
      "Epoch 4105, global step 398281: train_loss_ssl was not in top 5\n",
      "Epoch 4106, global step 398378: train_loss_ssl was not in top 5\n",
      "Epoch 4107, global step 398475: train_loss_ssl was not in top 5\n",
      "Epoch 4108, global step 398572: train_loss_ssl was not in top 5\n",
      "Epoch 4109, global step 398669: train_loss_ssl was not in top 5\n",
      "IOPub message rate exceeded.\n",
      "The notebook server will temporarily stop sending output\n",
      "to the client in order to avoid crashing it.\n",
      "To change this limit, set the config variable\n",
      "`--NotebookApp.iopub_msg_rate_limit`.\n",
      "\n",
      "Current values:\n",
      "NotebookApp.iopub_msg_rate_limit=1000.0 (msgs/sec)\n",
      "NotebookApp.rate_limit_window=3.0 (secs)\n",
      "\n",
      "Epoch 4116, global step 399348: train_loss_ssl was not in top 5\n",
      "Epoch 4117, global step 399445: train_loss_ssl was not in top 5\n",
      "Epoch 4118, global step 399542: train_loss_ssl was not in top 5\n",
      "IOPub message rate exceeded.\n",
      "The notebook server will temporarily stop sending output\n",
      "to the client in order to avoid crashing it.\n",
      "To change this limit, set the config variable\n",
      "`--NotebookApp.iopub_msg_rate_limit`.\n",
      "\n",
      "Current values:\n",
      "NotebookApp.iopub_msg_rate_limit=1000.0 (msgs/sec)\n",
      "NotebookApp.rate_limit_window=3.0 (secs)\n",
      "\n",
      "Epoch 4148, global step 402452: train_loss_ssl was not in top 5\n",
      "Epoch 4149, global step 402549: train_loss_ssl was not in top 5\n",
      "Epoch 4150, global step 402646: train_loss_ssl was not in top 5\n",
      "Epoch 4151, global step 402743: train_loss_ssl was not in top 5\n",
      "Epoch 4152, global step 402840: train_loss_ssl was not in top 5\n",
      "Epoch 4153, global step 402937: train_loss_ssl was not in top 5\n"
     ]
    },
    {
     "name": "stderr",
     "output_type": "stream",
     "text": [
      "IOPub message rate exceeded.\n",
      "The notebook server will temporarily stop sending output\n",
      "to the client in order to avoid crashing it.\n",
      "To change this limit, set the config variable\n",
      "`--NotebookApp.iopub_msg_rate_limit`.\n",
      "\n",
      "Current values:\n",
      "NotebookApp.iopub_msg_rate_limit=1000.0 (msgs/sec)\n",
      "NotebookApp.rate_limit_window=3.0 (secs)\n",
      "\n",
      "Epoch 4160, global step 403616: train_loss_ssl was not in top 5\n",
      "Epoch 4161, global step 403713: train_loss_ssl was not in top 5\n",
      "Epoch 4162, global step 403810: train_loss_ssl was not in top 5\n",
      "IOPub message rate exceeded.\n",
      "The notebook server will temporarily stop sending output\n",
      "to the client in order to avoid crashing it.\n",
      "To change this limit, set the config variable\n",
      "`--NotebookApp.iopub_msg_rate_limit`.\n",
      "\n",
      "Current values:\n",
      "NotebookApp.iopub_msg_rate_limit=1000.0 (msgs/sec)\n",
      "NotebookApp.rate_limit_window=3.0 (secs)\n",
      "\n",
      "Epoch 4192, global step 406720: train_loss_ssl was not in top 5\n",
      "Epoch 4193, global step 406817: train_loss_ssl reached 1.97974 (best 1.97974), saving model to \"/home/shatz/Documents/more_better/saved_models/resnet_moco/epoch=4193-train_loss_ssl=1.98.ckpt\" as top 5\n",
      "Epoch 4194, global step 406914: train_loss_ssl was not in top 5\n",
      "Epoch 4195, global step 407011: train_loss_ssl was not in top 5\n",
      "Epoch 4196, global step 407108: train_loss_ssl was not in top 5\n",
      "IOPub message rate exceeded.\n",
      "The notebook server will temporarily stop sending output\n",
      "to the client in order to avoid crashing it.\n",
      "To change this limit, set the config variable\n",
      "`--NotebookApp.iopub_msg_rate_limit`.\n",
      "\n",
      "Current values:\n",
      "NotebookApp.iopub_msg_rate_limit=1000.0 (msgs/sec)\n",
      "NotebookApp.rate_limit_window=3.0 (secs)\n",
      "\n"
     ]
    },
    {
     "data": {
      "application/vnd.jupyter.widget-view+json": {
       "model_id": "",
       "version_major": 2,
       "version_minor": 0
      },
      "text/plain": [
       "Validating: 0it [00:00, ?it/s]"
      ]
     },
     "metadata": {},
     "output_type": "display_data"
    },
    {
     "data": {
      "application/vnd.jupyter.widget-view+json": {
       "model_id": "",
       "version_major": 2,
       "version_minor": 0
      },
      "text/plain": [
       "Validating: 0it [00:00, ?it/s]"
      ]
     },
     "metadata": {},
     "output_type": "display_data"
    },
    {
     "data": {
      "application/vnd.jupyter.widget-view+json": {
       "model_id": "",
       "version_major": 2,
       "version_minor": 0
      },
      "text/plain": [
       "Validating: 0it [00:00, ?it/s]"
      ]
     },
     "metadata": {},
     "output_type": "display_data"
    },
    {
     "name": "stderr",
     "output_type": "stream",
     "text": [
      "IOPub message rate exceeded.\n",
      "The notebook server will temporarily stop sending output\n",
      "to the client in order to avoid crashing it.\n",
      "To change this limit, set the config variable\n",
      "`--NotebookApp.iopub_msg_rate_limit`.\n",
      "\n",
      "Current values:\n",
      "NotebookApp.iopub_msg_rate_limit=1000.0 (msgs/sec)\n",
      "NotebookApp.rate_limit_window=3.0 (secs)\n",
      "\n"
     ]
    },
    {
     "data": {
      "application/vnd.jupyter.widget-view+json": {
       "model_id": "",
       "version_major": 2,
       "version_minor": 0
      },
      "text/plain": [
       "Validating: 0it [00:00, ?it/s]"
      ]
     },
     "metadata": {},
     "output_type": "display_data"
    },
    {
     "data": {
      "application/vnd.jupyter.widget-view+json": {
       "model_id": "",
       "version_major": 2,
       "version_minor": 0
      },
      "text/plain": [
       "Validating: 0it [00:00, ?it/s]"
      ]
     },
     "metadata": {},
     "output_type": "display_data"
    },
    {
     "data": {
      "application/vnd.jupyter.widget-view+json": {
       "model_id": "",
       "version_major": 2,
       "version_minor": 0
      },
      "text/plain": [
       "Validating: 0it [00:00, ?it/s]"
      ]
     },
     "metadata": {},
     "output_type": "display_data"
    },
    {
     "data": {
      "application/vnd.jupyter.widget-view+json": {
       "model_id": "",
       "version_major": 2,
       "version_minor": 0
      },
      "text/plain": [
       "Validating: 0it [00:00, ?it/s]"
      ]
     },
     "metadata": {},
     "output_type": "display_data"
    },
    {
     "data": {
      "application/vnd.jupyter.widget-view+json": {
       "model_id": "",
       "version_major": 2,
       "version_minor": 0
      },
      "text/plain": [
       "Validating: 0it [00:00, ?it/s]"
      ]
     },
     "metadata": {},
     "output_type": "display_data"
    },
    {
     "name": "stderr",
     "output_type": "stream",
     "text": [
      "IOPub message rate exceeded.\n",
      "The notebook server will temporarily stop sending output\n",
      "to the client in order to avoid crashing it.\n",
      "To change this limit, set the config variable\n",
      "`--NotebookApp.iopub_msg_rate_limit`.\n",
      "\n",
      "Current values:\n",
      "NotebookApp.iopub_msg_rate_limit=1000.0 (msgs/sec)\n",
      "NotebookApp.rate_limit_window=3.0 (secs)\n",
      "\n"
     ]
    },
    {
     "data": {
      "application/vnd.jupyter.widget-view+json": {
       "model_id": "",
       "version_major": 2,
       "version_minor": 0
      },
      "text/plain": [
       "Validating: 0it [00:00, ?it/s]"
      ]
     },
     "metadata": {},
     "output_type": "display_data"
    },
    {
     "data": {
      "application/vnd.jupyter.widget-view+json": {
       "model_id": "",
       "version_major": 2,
       "version_minor": 0
      },
      "text/plain": [
       "Validating: 0it [00:00, ?it/s]"
      ]
     },
     "metadata": {},
     "output_type": "display_data"
    },
    {
     "name": "stderr",
     "output_type": "stream",
     "text": [
      "IOPub message rate exceeded.\n",
      "The notebook server will temporarily stop sending output\n",
      "to the client in order to avoid crashing it.\n",
      "To change this limit, set the config variable\n",
      "`--NotebookApp.iopub_msg_rate_limit`.\n",
      "\n",
      "Current values:\n",
      "NotebookApp.iopub_msg_rate_limit=1000.0 (msgs/sec)\n",
      "NotebookApp.rate_limit_window=3.0 (secs)\n",
      "\n"
     ]
    },
    {
     "data": {
      "application/vnd.jupyter.widget-view+json": {
       "model_id": "",
       "version_major": 2,
       "version_minor": 0
      },
      "text/plain": [
       "Validating: 0it [00:00, ?it/s]"
      ]
     },
     "metadata": {},
     "output_type": "display_data"
    },
    {
     "data": {
      "application/vnd.jupyter.widget-view+json": {
       "model_id": "",
       "version_major": 2,
       "version_minor": 0
      },
      "text/plain": [
       "Validating: 0it [00:00, ?it/s]"
      ]
     },
     "metadata": {},
     "output_type": "display_data"
    },
    {
     "data": {
      "application/vnd.jupyter.widget-view+json": {
       "model_id": "",
       "version_major": 2,
       "version_minor": 0
      },
      "text/plain": [
       "Validating: 0it [00:00, ?it/s]"
      ]
     },
     "metadata": {},
     "output_type": "display_data"
    },
    {
     "data": {
      "application/vnd.jupyter.widget-view+json": {
       "model_id": "",
       "version_major": 2,
       "version_minor": 0
      },
      "text/plain": [
       "Validating: 0it [00:00, ?it/s]"
      ]
     },
     "metadata": {},
     "output_type": "display_data"
    },
    {
     "data": {
      "application/vnd.jupyter.widget-view+json": {
       "model_id": "7fb3ce2e239a4e67a3427681e261327e",
       "version_major": 2,
       "version_minor": 0
      },
      "text/plain": [
       "Validating: 0it [00:00, ?it/s]"
      ]
     },
     "metadata": {},
     "output_type": "display_data"
    },
    {
     "name": "stderr",
     "output_type": "stream",
     "text": [
      "IOPub message rate exceeded.\n",
      "The notebook server will temporarily stop sending output\n",
      "to the client in order to avoid crashing it.\n",
      "To change this limit, set the config variable\n",
      "`--NotebookApp.iopub_msg_rate_limit`.\n",
      "\n",
      "Current values:\n",
      "NotebookApp.iopub_msg_rate_limit=1000.0 (msgs/sec)\n",
      "NotebookApp.rate_limit_window=3.0 (secs)\n",
      "\n",
      "Epoch 4206, global step 408078: train_loss_ssl was not in top 5\n",
      "Epoch 4207, global step 408175: train_loss_ssl was not in top 5\n",
      "Epoch 4208, global step 408272: train_loss_ssl was not in top 5\n",
      "IOPub message rate exceeded.\n",
      "The notebook server will temporarily stop sending output\n",
      "to the client in order to avoid crashing it.\n",
      "To change this limit, set the config variable\n",
      "`--NotebookApp.iopub_msg_rate_limit`.\n",
      "\n",
      "Current values:\n",
      "NotebookApp.iopub_msg_rate_limit=1000.0 (msgs/sec)\n",
      "NotebookApp.rate_limit_window=3.0 (secs)\n",
      "\n",
      "Epoch 4238, global step 411182: train_loss_ssl was not in top 5\n",
      "Epoch 4239, global step 411279: train_loss_ssl was not in top 5\n",
      "Epoch 4240, global step 411376: train_loss_ssl was not in top 5\n",
      "Epoch 4241, global step 411473: train_loss_ssl was not in top 5\n",
      "Epoch 4242, global step 411570: train_loss_ssl was not in top 5\n",
      "IOPub message rate exceeded.\n",
      "The notebook server will temporarily stop sending output\n",
      "to the client in order to avoid crashing it.\n",
      "To change this limit, set the config variable\n",
      "`--NotebookApp.iopub_msg_rate_limit`.\n",
      "\n",
      "Current values:\n",
      "NotebookApp.iopub_msg_rate_limit=1000.0 (msgs/sec)\n",
      "NotebookApp.rate_limit_window=3.0 (secs)\n",
      "\n",
      "Epoch 4249, global step 412249: train_loss_ssl was not in top 5\n",
      "Epoch 4250, global step 412346: train_loss_ssl was not in top 5\n",
      "Epoch 4251, global step 412443: train_loss_ssl was not in top 5\n",
      "IOPub message rate exceeded.\n",
      "The notebook server will temporarily stop sending output\n",
      "to the client in order to avoid crashing it.\n",
      "To change this limit, set the config variable\n",
      "`--NotebookApp.iopub_msg_rate_limit`.\n",
      "\n",
      "Current values:\n",
      "NotebookApp.iopub_msg_rate_limit=1000.0 (msgs/sec)\n",
      "NotebookApp.rate_limit_window=3.0 (secs)\n",
      "\n",
      "Epoch 4281, global step 415353: train_loss_ssl was not in top 5\n",
      "Epoch 4282, global step 415450: train_loss_ssl was not in top 5\n",
      "Epoch 4283, global step 415547: train_loss_ssl was not in top 5\n",
      "Epoch 4284, global step 415644: train_loss_ssl was not in top 5\n",
      "Epoch 4285, global step 415741: train_loss_ssl was not in top 5\n",
      "Epoch 4286, global step 415838: train_loss_ssl was not in top 5\n",
      "IOPub message rate exceeded.\n",
      "The notebook server will temporarily stop sending output\n",
      "to the client in order to avoid crashing it.\n",
      "To change this limit, set the config variable\n",
      "`--NotebookApp.iopub_msg_rate_limit`.\n",
      "\n",
      "Current values:\n",
      "NotebookApp.iopub_msg_rate_limit=1000.0 (msgs/sec)\n",
      "NotebookApp.rate_limit_window=3.0 (secs)\n",
      "\n",
      "Epoch 4292, global step 416420: train_loss_ssl was not in top 5\n",
      "Epoch 4293, global step 416517: train_loss_ssl was not in top 5\n",
      "Epoch 4294, global step 416614: train_loss_ssl was not in top 5\n",
      "Epoch 4295, global step 416711: train_loss_ssl was not in top 5\n",
      "IOPub message rate exceeded.\n",
      "The notebook server will temporarily stop sending output\n",
      "to the client in order to avoid crashing it.\n",
      "To change this limit, set the config variable\n",
      "`--NotebookApp.iopub_msg_rate_limit`.\n",
      "\n",
      "Current values:\n",
      "NotebookApp.iopub_msg_rate_limit=1000.0 (msgs/sec)\n",
      "NotebookApp.rate_limit_window=3.0 (secs)\n",
      "\n",
      "Epoch 4324, global step 419524: train_loss_ssl was not in top 5\n",
      "Epoch 4325, global step 419621: train_loss_ssl was not in top 5\n",
      "Epoch 4326, global step 419718: train_loss_ssl was not in top 5\n",
      "Epoch 4327, global step 419815: train_loss_ssl was not in top 5\n",
      "Epoch 4328, global step 419912: train_loss_ssl was not in top 5\n",
      "Epoch 4329, global step 420009: train_loss_ssl was not in top 5\n",
      "IOPub message rate exceeded.\n",
      "The notebook server will temporarily stop sending output\n",
      "to the client in order to avoid crashing it.\n",
      "To change this limit, set the config variable\n",
      "`--NotebookApp.iopub_msg_rate_limit`.\n",
      "\n",
      "Current values:\n",
      "NotebookApp.iopub_msg_rate_limit=1000.0 (msgs/sec)\n",
      "NotebookApp.rate_limit_window=3.0 (secs)\n",
      "\n",
      "Epoch 4335, global step 420591: train_loss_ssl was not in top 5\n",
      "Epoch 4336, global step 420688: train_loss_ssl was not in top 5\n",
      "Epoch 4337, global step 420785: train_loss_ssl was not in top 5\n",
      "IOPub message rate exceeded.\n",
      "The notebook server will temporarily stop sending output\n",
      "to the client in order to avoid crashing it.\n",
      "To change this limit, set the config variable\n",
      "`--NotebookApp.iopub_msg_rate_limit`.\n",
      "\n",
      "Current values:\n",
      "NotebookApp.iopub_msg_rate_limit=1000.0 (msgs/sec)\n",
      "NotebookApp.rate_limit_window=3.0 (secs)\n",
      "\n",
      "Epoch 4367, global step 423695: train_loss_ssl was not in top 5\n",
      "Epoch 4368, global step 423792: train_loss_ssl was not in top 5\n",
      "Epoch 4369, global step 423889: train_loss_ssl was not in top 5\n",
      "Epoch 4370, global step 423986: train_loss_ssl was not in top 5\n",
      "Epoch 4371, global step 424083: train_loss_ssl was not in top 5\n",
      "Epoch 4372, global step 424180: train_loss_ssl was not in top 5\n",
      "IOPub message rate exceeded.\n",
      "The notebook server will temporarily stop sending output\n",
      "to the client in order to avoid crashing it.\n",
      "To change this limit, set the config variable\n",
      "`--NotebookApp.iopub_msg_rate_limit`.\n",
      "\n",
      "Current values:\n",
      "NotebookApp.iopub_msg_rate_limit=1000.0 (msgs/sec)\n",
      "NotebookApp.rate_limit_window=3.0 (secs)\n",
      "\n",
      "Epoch 4378, global step 424762: train_loss_ssl was not in top 5\n",
      "Epoch 4379, global step 424859: train_loss_ssl was not in top 5\n",
      "Epoch 4380, global step 424956: train_loss_ssl was not in top 5\n",
      "IOPub message rate exceeded.\n",
      "The notebook server will temporarily stop sending output\n",
      "to the client in order to avoid crashing it.\n",
      "To change this limit, set the config variable\n",
      "`--NotebookApp.iopub_msg_rate_limit`.\n",
      "\n",
      "Current values:\n",
      "NotebookApp.iopub_msg_rate_limit=1000.0 (msgs/sec)\n",
      "NotebookApp.rate_limit_window=3.0 (secs)\n",
      "\n",
      "Epoch 4410, global step 427866: train_loss_ssl was not in top 5\n",
      "Epoch 4411, global step 427963: train_loss_ssl was not in top 5\n",
      "Epoch 4412, global step 428060: train_loss_ssl was not in top 5\n",
      "Epoch 4413, global step 428157: train_loss_ssl was not in top 5\n",
      "Epoch 4414, global step 428254: train_loss_ssl was not in top 5\n",
      "Epoch 4415, global step 428351: train_loss_ssl was not in top 5\n",
      "IOPub message rate exceeded.\n",
      "The notebook server will temporarily stop sending output\n",
      "to the client in order to avoid crashing it.\n",
      "To change this limit, set the config variable\n",
      "`--NotebookApp.iopub_msg_rate_limit`.\n",
      "\n",
      "Current values:\n",
      "NotebookApp.iopub_msg_rate_limit=1000.0 (msgs/sec)\n",
      "NotebookApp.rate_limit_window=3.0 (secs)\n",
      "\n",
      "Epoch 4421, global step 428933: train_loss_ssl was not in top 5\n",
      "Epoch 4422, global step 429030: train_loss_ssl was not in top 5\n",
      "Epoch 4423, global step 429127: train_loss_ssl was not in top 5\n",
      "IOPub message rate exceeded.\n",
      "The notebook server will temporarily stop sending output\n",
      "to the client in order to avoid crashing it.\n",
      "To change this limit, set the config variable\n",
      "`--NotebookApp.iopub_msg_rate_limit`.\n",
      "\n",
      "Current values:\n",
      "NotebookApp.iopub_msg_rate_limit=1000.0 (msgs/sec)\n",
      "NotebookApp.rate_limit_window=3.0 (secs)\n",
      "\n",
      "Epoch 4454, global step 432134: train_loss_ssl reached 1.99217 (best 1.97974), saving model to \"/home/shatz/Documents/more_better/saved_models/resnet_moco/epoch=4454-train_loss_ssl=1.99.ckpt\" as top 5\n",
      "Epoch 4455, global step 432231: train_loss_ssl was not in top 5\n",
      "Epoch 4456, global step 432328: train_loss_ssl was not in top 5\n",
      "Epoch 4457, global step 432425: train_loss_ssl was not in top 5\n",
      "Epoch 4458, global step 432522: train_loss_ssl was not in top 5\n",
      "IOPub message rate exceeded.\n",
      "The notebook server will temporarily stop sending output\n",
      "to the client in order to avoid crashing it.\n",
      "To change this limit, set the config variable\n",
      "`--NotebookApp.iopub_msg_rate_limit`.\n",
      "\n",
      "Current values:\n",
      "NotebookApp.iopub_msg_rate_limit=1000.0 (msgs/sec)\n",
      "NotebookApp.rate_limit_window=3.0 (secs)\n",
      "\n",
      "Epoch 4464, global step 433104: train_loss_ssl was not in top 5\n",
      "Epoch 4465, global step 433201: train_loss_ssl was not in top 5\n",
      "Epoch 4466, global step 433298: train_loss_ssl was not in top 5\n",
      "IOPub message rate exceeded.\n",
      "The notebook server will temporarily stop sending output\n",
      "to the client in order to avoid crashing it.\n",
      "To change this limit, set the config variable\n",
      "`--NotebookApp.iopub_msg_rate_limit`.\n",
      "\n",
      "Current values:\n",
      "NotebookApp.iopub_msg_rate_limit=1000.0 (msgs/sec)\n",
      "NotebookApp.rate_limit_window=3.0 (secs)\n",
      "\n"
     ]
    },
    {
     "name": "stderr",
     "output_type": "stream",
     "text": [
      "Epoch 4497, global step 436305: train_loss_ssl was not in top 5\n",
      "Epoch 4498, global step 436402: train_loss_ssl was not in top 5\n",
      "Epoch 4499, global step 436499: train_loss_ssl was not in top 5\n",
      "GPU available: True, used: True\n",
      "TPU available: False, using: 0 TPU cores\n",
      "IPU available: False, using: 0 IPUs\n",
      "LOCAL_RANK: 0 - CUDA_VISIBLE_DEVICES: [0]\n",
      "\n",
      "  | Name        | Type       | Params\n",
      "-------------------------------------------\n",
      "0 | resnet_moco | MoCo       | 23.0 M\n",
      "1 | fc          | Sequential | 267 K \n",
      "2 | accuracy    | Accuracy   | 0     \n",
      "-------------------------------------------\n",
      "267 K     Trainable params\n",
      "23.0 M    Non-trainable params\n",
      "23.3 M    Total params\n",
      "93.048    Total estimated model params size (MB)\n"
     ]
    },
    {
     "name": "stdout",
     "output_type": "stream",
     "text": [
      "... training downstream classifier...\n"
     ]
    },
    {
     "data": {
      "application/vnd.jupyter.widget-view+json": {
       "model_id": "",
       "version_major": 2,
       "version_minor": 0
      },
      "text/plain": [
       "Validation sanity check: 0it [00:00, ?it/s]"
      ]
     },
     "metadata": {},
     "output_type": "display_data"
    },
    {
     "data": {
      "application/vnd.jupyter.widget-view+json": {
       "model_id": "86b1bc249e6148b58c60cfcac8a46c26",
       "version_major": 2,
       "version_minor": 0
      },
      "text/plain": [
       "Training: -1it [00:00, ?it/s]"
      ]
     },
     "metadata": {},
     "output_type": "display_data"
    },
    {
     "data": {
      "application/vnd.jupyter.widget-view+json": {
       "model_id": "",
       "version_major": 2,
       "version_minor": 0
      },
      "text/plain": [
       "Validating: 0it [00:00, ?it/s]"
      ]
     },
     "metadata": {},
     "output_type": "display_data"
    },
    {
     "name": "stderr",
     "output_type": "stream",
     "text": [
      "IOPub message rate exceeded.\n",
      "The notebook server will temporarily stop sending output\n",
      "to the client in order to avoid crashing it.\n",
      "To change this limit, set the config variable\n",
      "`--NotebookApp.iopub_msg_rate_limit`.\n",
      "\n",
      "Current values:\n",
      "NotebookApp.iopub_msg_rate_limit=1000.0 (msgs/sec)\n",
      "NotebookApp.rate_limit_window=3.0 (secs)\n",
      "\n"
     ]
    },
    {
     "data": {
      "application/vnd.jupyter.widget-view+json": {
       "model_id": "",
       "version_major": 2,
       "version_minor": 0
      },
      "text/plain": [
       "Validating: 0it [00:00, ?it/s]"
      ]
     },
     "metadata": {},
     "output_type": "display_data"
    },
    {
     "data": {
      "application/vnd.jupyter.widget-view+json": {
       "model_id": "",
       "version_major": 2,
       "version_minor": 0
      },
      "text/plain": [
       "Validating: 0it [00:00, ?it/s]"
      ]
     },
     "metadata": {},
     "output_type": "display_data"
    },
    {
     "data": {
      "application/vnd.jupyter.widget-view+json": {
       "model_id": "",
       "version_major": 2,
       "version_minor": 0
      },
      "text/plain": [
       "Validating: 0it [00:00, ?it/s]"
      ]
     },
     "metadata": {},
     "output_type": "display_data"
    },
    {
     "name": "stderr",
     "output_type": "stream",
     "text": [
      "IOPub message rate exceeded.\n",
      "The notebook server will temporarily stop sending output\n",
      "to the client in order to avoid crashing it.\n",
      "To change this limit, set the config variable\n",
      "`--NotebookApp.iopub_msg_rate_limit`.\n",
      "\n",
      "Current values:\n",
      "NotebookApp.iopub_msg_rate_limit=1000.0 (msgs/sec)\n",
      "NotebookApp.rate_limit_window=3.0 (secs)\n",
      "\n"
     ]
    },
    {
     "data": {
      "application/vnd.jupyter.widget-view+json": {
       "model_id": "",
       "version_major": 2,
       "version_minor": 0
      },
      "text/plain": [
       "Validating: 0it [00:00, ?it/s]"
      ]
     },
     "metadata": {},
     "output_type": "display_data"
    },
    {
     "data": {
      "application/vnd.jupyter.widget-view+json": {
       "model_id": "",
       "version_major": 2,
       "version_minor": 0
      },
      "text/plain": [
       "Validating: 0it [00:00, ?it/s]"
      ]
     },
     "metadata": {},
     "output_type": "display_data"
    },
    {
     "data": {
      "application/vnd.jupyter.widget-view+json": {
       "model_id": "",
       "version_major": 2,
       "version_minor": 0
      },
      "text/plain": [
       "Validating: 0it [00:00, ?it/s]"
      ]
     },
     "metadata": {},
     "output_type": "display_data"
    },
    {
     "data": {
      "application/vnd.jupyter.widget-view+json": {
       "model_id": "",
       "version_major": 2,
       "version_minor": 0
      },
      "text/plain": [
       "Validating: 0it [00:00, ?it/s]"
      ]
     },
     "metadata": {},
     "output_type": "display_data"
    },
    {
     "name": "stderr",
     "output_type": "stream",
     "text": [
      "IOPub message rate exceeded.\n",
      "The notebook server will temporarily stop sending output\n",
      "to the client in order to avoid crashing it.\n",
      "To change this limit, set the config variable\n",
      "`--NotebookApp.iopub_msg_rate_limit`.\n",
      "\n",
      "Current values:\n",
      "NotebookApp.iopub_msg_rate_limit=1000.0 (msgs/sec)\n",
      "NotebookApp.rate_limit_window=3.0 (secs)\n",
      "\n"
     ]
    },
    {
     "data": {
      "application/vnd.jupyter.widget-view+json": {
       "model_id": "",
       "version_major": 2,
       "version_minor": 0
      },
      "text/plain": [
       "Validating: 0it [00:00, ?it/s]"
      ]
     },
     "metadata": {},
     "output_type": "display_data"
    },
    {
     "data": {
      "application/vnd.jupyter.widget-view+json": {
       "model_id": "",
       "version_major": 2,
       "version_minor": 0
      },
      "text/plain": [
       "Validating: 0it [00:00, ?it/s]"
      ]
     },
     "metadata": {},
     "output_type": "display_data"
    },
    {
     "data": {
      "application/vnd.jupyter.widget-view+json": {
       "model_id": "",
       "version_major": 2,
       "version_minor": 0
      },
      "text/plain": [
       "Validating: 0it [00:00, ?it/s]"
      ]
     },
     "metadata": {},
     "output_type": "display_data"
    },
    {
     "name": "stderr",
     "output_type": "stream",
     "text": [
      "IOPub message rate exceeded.\n",
      "The notebook server will temporarily stop sending output\n",
      "to the client in order to avoid crashing it.\n",
      "To change this limit, set the config variable\n",
      "`--NotebookApp.iopub_msg_rate_limit`.\n",
      "\n",
      "Current values:\n",
      "NotebookApp.iopub_msg_rate_limit=1000.0 (msgs/sec)\n",
      "NotebookApp.rate_limit_window=3.0 (secs)\n",
      "\n",
      "Epoch 4509, global step 437469: train_loss_ssl was not in top 5\n",
      "Epoch 4510, global step 437566: train_loss_ssl was not in top 5\n",
      "Epoch 4511, global step 437663: train_loss_ssl was not in top 5\n",
      "Epoch 4512, global step 437760: train_loss_ssl was not in top 5\n",
      "Epoch 4513, global step 437857: train_loss_ssl was not in top 5\n",
      "Epoch 4514, global step 437954: train_loss_ssl was not in top 5\n",
      "IOPub message rate exceeded.\n",
      "The notebook server will temporarily stop sending output\n",
      "to the client in order to avoid crashing it.\n",
      "To change this limit, set the config variable\n",
      "`--NotebookApp.iopub_msg_rate_limit`.\n",
      "\n",
      "Current values:\n",
      "NotebookApp.iopub_msg_rate_limit=1000.0 (msgs/sec)\n",
      "NotebookApp.rate_limit_window=3.0 (secs)\n",
      "\n",
      "Epoch 4520, global step 438536: train_loss_ssl was not in top 5\n",
      "Epoch 4521, global step 438633: train_loss_ssl was not in top 5\n",
      "Epoch 4522, global step 438730: train_loss_ssl was not in top 5\n",
      "IOPub message rate exceeded.\n",
      "The notebook server will temporarily stop sending output\n",
      "to the client in order to avoid crashing it.\n",
      "To change this limit, set the config variable\n",
      "`--NotebookApp.iopub_msg_rate_limit`.\n",
      "\n",
      "Current values:\n",
      "NotebookApp.iopub_msg_rate_limit=1000.0 (msgs/sec)\n",
      "NotebookApp.rate_limit_window=3.0 (secs)\n",
      "\n",
      "Epoch 4553, global step 441737: train_loss_ssl was not in top 5\n",
      "Epoch 4554, global step 441834: train_loss_ssl was not in top 5\n",
      "Epoch 4555, global step 441931: train_loss_ssl was not in top 5\n",
      "Epoch 4556, global step 442028: train_loss_ssl was not in top 5\n",
      "Epoch 4557, global step 442125: train_loss_ssl reached 1.99264 (best 1.97974), saving model to \"/home/shatz/Documents/more_better/saved_models/resnet_moco/epoch=4557-train_loss_ssl=1.99.ckpt\" as top 5\n",
      "IOPub message rate exceeded.\n",
      "The notebook server will temporarily stop sending output\n",
      "to the client in order to avoid crashing it.\n",
      "To change this limit, set the config variable\n",
      "`--NotebookApp.iopub_msg_rate_limit`.\n",
      "\n",
      "Current values:\n",
      "NotebookApp.iopub_msg_rate_limit=1000.0 (msgs/sec)\n",
      "NotebookApp.rate_limit_window=3.0 (secs)\n",
      "\n",
      "Epoch 4564, global step 442804: train_loss_ssl was not in top 5\n",
      "Epoch 4565, global step 442901: train_loss_ssl reached 1.97528 (best 1.97528), saving model to \"/home/shatz/Documents/more_better/saved_models/resnet_moco/epoch=4565-train_loss_ssl=1.98.ckpt\" as top 5\n",
      "Epoch 4566, global step 442998: train_loss_ssl was not in top 5\n",
      "IOPub message rate exceeded.\n",
      "The notebook server will temporarily stop sending output\n",
      "to the client in order to avoid crashing it.\n",
      "To change this limit, set the config variable\n",
      "`--NotebookApp.iopub_msg_rate_limit`.\n",
      "\n",
      "Current values:\n",
      "NotebookApp.iopub_msg_rate_limit=1000.0 (msgs/sec)\n",
      "NotebookApp.rate_limit_window=3.0 (secs)\n",
      "\n",
      "Epoch 4595, global step 445811: train_loss_ssl was not in top 5\n",
      "Epoch 4596, global step 445908: train_loss_ssl was not in top 5\n",
      "Epoch 4597, global step 446005: train_loss_ssl was not in top 5\n",
      "Epoch 4598, global step 446102: train_loss_ssl was not in top 5\n",
      "Epoch 4599, global step 446199: train_loss_ssl was not in top 5\n",
      "Epoch 4600, global step 446296: train_loss_ssl was not in top 5\n",
      "IOPub message rate exceeded.\n",
      "The notebook server will temporarily stop sending output\n",
      "to the client in order to avoid crashing it.\n",
      "To change this limit, set the config variable\n",
      "`--NotebookApp.iopub_msg_rate_limit`.\n",
      "\n",
      "Current values:\n",
      "NotebookApp.iopub_msg_rate_limit=1000.0 (msgs/sec)\n",
      "NotebookApp.rate_limit_window=3.0 (secs)\n",
      "\n",
      "Epoch 4607, global step 446975: train_loss_ssl was not in top 5\n",
      "Epoch 4608, global step 447072: train_loss_ssl was not in top 5\n",
      "Epoch 4609, global step 447169: train_loss_ssl was not in top 5\n",
      "Epoch 4610, global step 447266: train_loss_ssl was not in top 5\n",
      "IOPub message rate exceeded.\n",
      "The notebook server will temporarily stop sending output\n",
      "to the client in order to avoid crashing it.\n",
      "To change this limit, set the config variable\n",
      "`--NotebookApp.iopub_msg_rate_limit`.\n",
      "\n",
      "Current values:\n",
      "NotebookApp.iopub_msg_rate_limit=1000.0 (msgs/sec)\n",
      "NotebookApp.rate_limit_window=3.0 (secs)\n",
      "\n",
      "Epoch 4640, global step 450176: train_loss_ssl was not in top 5\n",
      "Epoch 4641, global step 450273: train_loss_ssl was not in top 5\n",
      "Epoch 4642, global step 450370: train_loss_ssl was not in top 5\n",
      "Epoch 4643, global step 450467: train_loss_ssl was not in top 5\n",
      "Epoch 4644, global step 450564: train_loss_ssl was not in top 5\n",
      "Epoch 4645, global step 450661: train_loss_ssl was not in top 5\n",
      "IOPub message rate exceeded.\n",
      "The notebook server will temporarily stop sending output\n",
      "to the client in order to avoid crashing it.\n",
      "To change this limit, set the config variable\n",
      "`--NotebookApp.iopub_msg_rate_limit`.\n",
      "\n",
      "Current values:\n",
      "NotebookApp.iopub_msg_rate_limit=1000.0 (msgs/sec)\n",
      "NotebookApp.rate_limit_window=3.0 (secs)\n",
      "\n",
      "Epoch 4652, global step 451340: train_loss_ssl was not in top 5\n",
      "Epoch 4653, global step 451437: train_loss_ssl was not in top 5\n",
      "Epoch 4654, global step 451534: train_loss_ssl was not in top 5\n",
      "IOPub message rate exceeded.\n",
      "The notebook server will temporarily stop sending output\n",
      "to the client in order to avoid crashing it.\n",
      "To change this limit, set the config variable\n",
      "`--NotebookApp.iopub_msg_rate_limit`.\n",
      "\n",
      "Current values:\n",
      "NotebookApp.iopub_msg_rate_limit=1000.0 (msgs/sec)\n",
      "NotebookApp.rate_limit_window=3.0 (secs)\n",
      "\n",
      "Epoch 4684, global step 454444: train_loss_ssl was not in top 5\n",
      "Epoch 4685, global step 454541: train_loss_ssl was not in top 5\n",
      "Epoch 4686, global step 454638: train_loss_ssl was not in top 5\n",
      "Epoch 4687, global step 454735: train_loss_ssl was not in top 5\n",
      "Epoch 4688, global step 454832: train_loss_ssl was not in top 5\n",
      "Epoch 4689, global step 454929: train_loss_ssl was not in top 5\n",
      "IOPub message rate exceeded.\n",
      "The notebook server will temporarily stop sending output\n",
      "to the client in order to avoid crashing it.\n",
      "To change this limit, set the config variable\n",
      "`--NotebookApp.iopub_msg_rate_limit`.\n",
      "\n",
      "Current values:\n",
      "NotebookApp.iopub_msg_rate_limit=1000.0 (msgs/sec)\n",
      "NotebookApp.rate_limit_window=3.0 (secs)\n",
      "\n",
      "Epoch 4696, global step 455608: train_loss_ssl was not in top 5\n",
      "Epoch 4697, global step 455705: train_loss_ssl was not in top 5\n",
      "Epoch 4698, global step 455802: train_loss_ssl was not in top 5\n",
      "IOPub message rate exceeded.\n",
      "The notebook server will temporarily stop sending output\n",
      "to the client in order to avoid crashing it.\n",
      "To change this limit, set the config variable\n",
      "`--NotebookApp.iopub_msg_rate_limit`.\n",
      "\n",
      "Current values:\n",
      "NotebookApp.iopub_msg_rate_limit=1000.0 (msgs/sec)\n",
      "NotebookApp.rate_limit_window=3.0 (secs)\n",
      "\n",
      "Epoch 4717, global step 457645: train_loss_ssl was not in top 5\n",
      "Epoch 4718, global step 457742: train_loss_ssl was not in top 5\n",
      "Epoch 4719, global step 457839: train_loss_ssl was not in top 5\n",
      "Epoch 4720, global step 457936: train_loss_ssl was not in top 5\n",
      "Epoch 4721, global step 458033: train_loss_ssl was not in top 5\n",
      "Epoch 4722, global step 458130: train_loss_ssl was not in top 5\n",
      "IOPub message rate exceeded.\n",
      "The notebook server will temporarily stop sending output\n",
      "to the client in order to avoid crashing it.\n",
      "To change this limit, set the config variable\n",
      "`--NotebookApp.iopub_msg_rate_limit`.\n",
      "\n",
      "Current values:\n",
      "NotebookApp.iopub_msg_rate_limit=1000.0 (msgs/sec)\n",
      "NotebookApp.rate_limit_window=3.0 (secs)\n",
      "\n",
      "Epoch 4728, global step 458712: train_loss_ssl was not in top 5\n",
      "Epoch 4729, global step 458809: train_loss_ssl was not in top 5\n",
      "Epoch 4730, global step 458906: train_loss_ssl was not in top 5\n",
      "IOPub message rate exceeded.\n",
      "The notebook server will temporarily stop sending output\n",
      "to the client in order to avoid crashing it.\n",
      "To change this limit, set the config variable\n",
      "`--NotebookApp.iopub_msg_rate_limit`.\n",
      "\n",
      "Current values:\n",
      "NotebookApp.iopub_msg_rate_limit=1000.0 (msgs/sec)\n",
      "NotebookApp.rate_limit_window=3.0 (secs)\n",
      "\n",
      "Epoch 4760, global step 461816: train_loss_ssl was not in top 5\n",
      "Epoch 4761, global step 461913: train_loss_ssl was not in top 5\n",
      "Epoch 4762, global step 462010: train_loss_ssl was not in top 5\n",
      "Epoch 4763, global step 462107: train_loss_ssl was not in top 5\n"
     ]
    },
    {
     "name": "stderr",
     "output_type": "stream",
     "text": [
      "Epoch 4764, global step 462204: train_loss_ssl was not in top 5\n",
      "IOPub message rate exceeded.\n",
      "The notebook server will temporarily stop sending output\n",
      "to the client in order to avoid crashing it.\n",
      "To change this limit, set the config variable\n",
      "`--NotebookApp.iopub_msg_rate_limit`.\n",
      "\n",
      "Current values:\n",
      "NotebookApp.iopub_msg_rate_limit=1000.0 (msgs/sec)\n",
      "NotebookApp.rate_limit_window=3.0 (secs)\n",
      "\n",
      "Epoch 4772, global step 462980: train_loss_ssl was not in top 5\n",
      "Epoch 4773, global step 463077: train_loss_ssl was not in top 5\n",
      "Epoch 4774, global step 463174: train_loss_ssl was not in top 5\n",
      "IOPub message rate exceeded.\n",
      "The notebook server will temporarily stop sending output\n",
      "to the client in order to avoid crashing it.\n",
      "To change this limit, set the config variable\n",
      "`--NotebookApp.iopub_msg_rate_limit`.\n",
      "\n",
      "Current values:\n",
      "NotebookApp.iopub_msg_rate_limit=1000.0 (msgs/sec)\n",
      "NotebookApp.rate_limit_window=3.0 (secs)\n",
      "\n"
     ]
    },
    {
     "data": {
      "application/vnd.jupyter.widget-view+json": {
       "model_id": "",
       "version_major": 2,
       "version_minor": 0
      },
      "text/plain": [
       "Validating: 0it [00:00, ?it/s]"
      ]
     },
     "metadata": {},
     "output_type": "display_data"
    },
    {
     "data": {
      "application/vnd.jupyter.widget-view+json": {
       "model_id": "",
       "version_major": 2,
       "version_minor": 0
      },
      "text/plain": [
       "Validating: 0it [00:00, ?it/s]"
      ]
     },
     "metadata": {},
     "output_type": "display_data"
    },
    {
     "data": {
      "application/vnd.jupyter.widget-view+json": {
       "model_id": "",
       "version_major": 2,
       "version_minor": 0
      },
      "text/plain": [
       "Validating: 0it [00:00, ?it/s]"
      ]
     },
     "metadata": {},
     "output_type": "display_data"
    },
    {
     "data": {
      "application/vnd.jupyter.widget-view+json": {
       "model_id": "",
       "version_major": 2,
       "version_minor": 0
      },
      "text/plain": [
       "Validating: 0it [00:00, ?it/s]"
      ]
     },
     "metadata": {},
     "output_type": "display_data"
    },
    {
     "data": {
      "application/vnd.jupyter.widget-view+json": {
       "model_id": "3ae8014a61bb412e95de8db508d3db23",
       "version_major": 2,
       "version_minor": 0
      },
      "text/plain": [
       "Validating: 0it [00:00, ?it/s]"
      ]
     },
     "metadata": {},
     "output_type": "display_data"
    },
    {
     "name": "stderr",
     "output_type": "stream",
     "text": [
      "IOPub message rate exceeded.\n",
      "The notebook server will temporarily stop sending output\n",
      "to the client in order to avoid crashing it.\n",
      "To change this limit, set the config variable\n",
      "`--NotebookApp.iopub_msg_rate_limit`.\n",
      "\n",
      "Current values:\n",
      "NotebookApp.iopub_msg_rate_limit=1000.0 (msgs/sec)\n",
      "NotebookApp.rate_limit_window=3.0 (secs)\n",
      "\n"
     ]
    },
    {
     "data": {
      "application/vnd.jupyter.widget-view+json": {
       "model_id": "",
       "version_major": 2,
       "version_minor": 0
      },
      "text/plain": [
       "Validating: 0it [00:00, ?it/s]"
      ]
     },
     "metadata": {},
     "output_type": "display_data"
    },
    {
     "data": {
      "application/vnd.jupyter.widget-view+json": {
       "model_id": "",
       "version_major": 2,
       "version_minor": 0
      },
      "text/plain": [
       "Validating: 0it [00:00, ?it/s]"
      ]
     },
     "metadata": {},
     "output_type": "display_data"
    },
    {
     "name": "stderr",
     "output_type": "stream",
     "text": [
      "IOPub message rate exceeded.\n",
      "The notebook server will temporarily stop sending output\n",
      "to the client in order to avoid crashing it.\n",
      "To change this limit, set the config variable\n",
      "`--NotebookApp.iopub_msg_rate_limit`.\n",
      "\n",
      "Current values:\n",
      "NotebookApp.iopub_msg_rate_limit=1000.0 (msgs/sec)\n",
      "NotebookApp.rate_limit_window=3.0 (secs)\n",
      "\n"
     ]
    },
    {
     "data": {
      "application/vnd.jupyter.widget-view+json": {
       "model_id": "",
       "version_major": 2,
       "version_minor": 0
      },
      "text/plain": [
       "Validating: 0it [00:00, ?it/s]"
      ]
     },
     "metadata": {},
     "output_type": "display_data"
    },
    {
     "data": {
      "application/vnd.jupyter.widget-view+json": {
       "model_id": "",
       "version_major": 2,
       "version_minor": 0
      },
      "text/plain": [
       "Validating: 0it [00:00, ?it/s]"
      ]
     },
     "metadata": {},
     "output_type": "display_data"
    },
    {
     "data": {
      "application/vnd.jupyter.widget-view+json": {
       "model_id": "",
       "version_major": 2,
       "version_minor": 0
      },
      "text/plain": [
       "Validating: 0it [00:00, ?it/s]"
      ]
     },
     "metadata": {},
     "output_type": "display_data"
    },
    {
     "data": {
      "application/vnd.jupyter.widget-view+json": {
       "model_id": "",
       "version_major": 2,
       "version_minor": 0
      },
      "text/plain": [
       "Validating: 0it [00:00, ?it/s]"
      ]
     },
     "metadata": {},
     "output_type": "display_data"
    },
    {
     "data": {
      "application/vnd.jupyter.widget-view+json": {
       "model_id": "",
       "version_major": 2,
       "version_minor": 0
      },
      "text/plain": [
       "Validating: 0it [00:00, ?it/s]"
      ]
     },
     "metadata": {},
     "output_type": "display_data"
    },
    {
     "name": "stderr",
     "output_type": "stream",
     "text": [
      "IOPub message rate exceeded.\n",
      "The notebook server will temporarily stop sending output\n",
      "to the client in order to avoid crashing it.\n",
      "To change this limit, set the config variable\n",
      "`--NotebookApp.iopub_msg_rate_limit`.\n",
      "\n",
      "Current values:\n",
      "NotebookApp.iopub_msg_rate_limit=1000.0 (msgs/sec)\n",
      "NotebookApp.rate_limit_window=3.0 (secs)\n",
      "\n"
     ]
    },
    {
     "data": {
      "application/vnd.jupyter.widget-view+json": {
       "model_id": "",
       "version_major": 2,
       "version_minor": 0
      },
      "text/plain": [
       "Validating: 0it [00:00, ?it/s]"
      ]
     },
     "metadata": {},
     "output_type": "display_data"
    },
    {
     "data": {
      "application/vnd.jupyter.widget-view+json": {
       "model_id": "",
       "version_major": 2,
       "version_minor": 0
      },
      "text/plain": [
       "Validating: 0it [00:00, ?it/s]"
      ]
     },
     "metadata": {},
     "output_type": "display_data"
    },
    {
     "name": "stderr",
     "output_type": "stream",
     "text": [
      "IOPub message rate exceeded.\n",
      "The notebook server will temporarily stop sending output\n",
      "to the client in order to avoid crashing it.\n",
      "To change this limit, set the config variable\n",
      "`--NotebookApp.iopub_msg_rate_limit`.\n",
      "\n",
      "Current values:\n",
      "NotebookApp.iopub_msg_rate_limit=1000.0 (msgs/sec)\n",
      "NotebookApp.rate_limit_window=3.0 (secs)\n",
      "\n",
      "Epoch 4815, global step 467151: train_loss_ssl was not in top 5\n",
      "Epoch 4816, global step 467248: train_loss_ssl reached 1.97556 (best 1.94828), saving model to \"/home/shatz/Documents/more_better/saved_models/resnet_moco/epoch=4816-train_loss_ssl=1.98.ckpt\" as top 5\n",
      "Epoch 4817, global step 467345: train_loss_ssl was not in top 5\n",
      "Epoch 4818, global step 467442: train_loss_ssl was not in top 5\n",
      "Epoch 4819, global step 467539: train_loss_ssl was not in top 5\n",
      "Epoch 4820, global step 467636: train_loss_ssl was not in top 5\n",
      "IOPub message rate exceeded.\n",
      "The notebook server will temporarily stop sending output\n",
      "to the client in order to avoid crashing it.\n",
      "To change this limit, set the config variable\n",
      "`--NotebookApp.iopub_msg_rate_limit`.\n",
      "\n",
      "Current values:\n",
      "NotebookApp.iopub_msg_rate_limit=1000.0 (msgs/sec)\n",
      "NotebookApp.rate_limit_window=3.0 (secs)\n",
      "\n",
      "Epoch 4828, global step 468412: train_loss_ssl was not in top 5\n",
      "Epoch 4829, global step 468509: train_loss_ssl was not in top 5\n",
      "Epoch 4830, global step 468606: train_loss_ssl was not in top 5\n",
      "IOPub message rate exceeded.\n",
      "The notebook server will temporarily stop sending output\n",
      "to the client in order to avoid crashing it.\n",
      "To change this limit, set the config variable\n",
      "`--NotebookApp.iopub_msg_rate_limit`.\n",
      "\n",
      "Current values:\n",
      "NotebookApp.iopub_msg_rate_limit=1000.0 (msgs/sec)\n",
      "NotebookApp.rate_limit_window=3.0 (secs)\n",
      "\n",
      "Epoch 4859, global step 471419: train_loss_ssl was not in top 5\n",
      "Epoch 4860, global step 471516: train_loss_ssl was not in top 5\n",
      "Epoch 4861, global step 471613: train_loss_ssl was not in top 5\n",
      "Epoch 4862, global step 471710: train_loss_ssl was not in top 5\n",
      "Epoch 4863, global step 471807: train_loss_ssl was not in top 5\n",
      "Epoch 4864, global step 471904: train_loss_ssl reached 1.93504 (best 1.93504), saving model to \"/home/shatz/Documents/more_better/saved_models/resnet_moco/epoch=4864-train_loss_ssl=1.94.ckpt\" as top 5\n",
      "IOPub message rate exceeded.\n",
      "The notebook server will temporarily stop sending output\n",
      "to the client in order to avoid crashing it.\n",
      "To change this limit, set the config variable\n",
      "`--NotebookApp.iopub_msg_rate_limit`.\n",
      "\n",
      "Current values:\n",
      "NotebookApp.iopub_msg_rate_limit=1000.0 (msgs/sec)\n",
      "NotebookApp.rate_limit_window=3.0 (secs)\n",
      "\n",
      "Epoch 4872, global step 472680: train_loss_ssl was not in top 5\n",
      "Epoch 4873, global step 472777: train_loss_ssl was not in top 5\n",
      "Epoch 4874, global step 472874: train_loss_ssl was not in top 5\n",
      "IOPub message rate exceeded.\n",
      "The notebook server will temporarily stop sending output\n",
      "to the client in order to avoid crashing it.\n",
      "To change this limit, set the config variable\n",
      "`--NotebookApp.iopub_msg_rate_limit`.\n",
      "\n",
      "Current values:\n",
      "NotebookApp.iopub_msg_rate_limit=1000.0 (msgs/sec)\n",
      "NotebookApp.rate_limit_window=3.0 (secs)\n",
      "\n",
      "Epoch 4902, global step 475590: train_loss_ssl was not in top 5\n",
      "Epoch 4903, global step 475687: train_loss_ssl was not in top 5\n",
      "Epoch 4904, global step 475784: train_loss_ssl was not in top 5\n",
      "Epoch 4905, global step 475881: train_loss_ssl was not in top 5\n",
      "Epoch 4906, global step 475978: train_loss_ssl was not in top 5\n",
      "Epoch 4907, global step 476075: train_loss_ssl was not in top 5\n",
      "IOPub message rate exceeded.\n",
      "The notebook server will temporarily stop sending output\n",
      "to the client in order to avoid crashing it.\n",
      "To change this limit, set the config variable\n",
      "`--NotebookApp.iopub_msg_rate_limit`.\n",
      "\n",
      "Current values:\n",
      "NotebookApp.iopub_msg_rate_limit=1000.0 (msgs/sec)\n",
      "NotebookApp.rate_limit_window=3.0 (secs)\n",
      "\n",
      "Epoch 4915, global step 476851: train_loss_ssl was not in top 5\n",
      "Epoch 4916, global step 476948: train_loss_ssl was not in top 5\n",
      "Epoch 4917, global step 477045: train_loss_ssl was not in top 5\n",
      "IOPub message rate exceeded.\n",
      "The notebook server will temporarily stop sending output\n",
      "to the client in order to avoid crashing it.\n",
      "To change this limit, set the config variable\n",
      "`--NotebookApp.iopub_msg_rate_limit`.\n",
      "\n",
      "Current values:\n",
      "NotebookApp.iopub_msg_rate_limit=1000.0 (msgs/sec)\n",
      "NotebookApp.rate_limit_window=3.0 (secs)\n",
      "\n",
      "Epoch 4945, global step 479761: train_loss_ssl was not in top 5\n",
      "Epoch 4946, global step 479858: train_loss_ssl was not in top 5\n",
      "Epoch 4947, global step 479955: train_loss_ssl was not in top 5\n",
      "Epoch 4948, global step 480052: train_loss_ssl was not in top 5\n",
      "Epoch 4949, global step 480149: train_loss_ssl was not in top 5\n",
      "Epoch 4950, global step 480246: train_loss_ssl was not in top 5\n",
      "IOPub message rate exceeded.\n",
      "The notebook server will temporarily stop sending output\n",
      "to the client in order to avoid crashing it.\n",
      "To change this limit, set the config variable\n",
      "`--NotebookApp.iopub_msg_rate_limit`.\n",
      "\n",
      "Current values:\n",
      "NotebookApp.iopub_msg_rate_limit=1000.0 (msgs/sec)\n",
      "NotebookApp.rate_limit_window=3.0 (secs)\n",
      "\n",
      "Epoch 4959, global step 481119: train_loss_ssl was not in top 5\n",
      "Epoch 4960, global step 481216: train_loss_ssl was not in top 5\n",
      "Epoch 4961, global step 481313: train_loss_ssl was not in top 5\n",
      "IOPub message rate exceeded.\n",
      "The notebook server will temporarily stop sending output\n",
      "to the client in order to avoid crashing it.\n",
      "To change this limit, set the config variable\n",
      "`--NotebookApp.iopub_msg_rate_limit`.\n",
      "\n",
      "Current values:\n",
      "NotebookApp.iopub_msg_rate_limit=1000.0 (msgs/sec)\n",
      "NotebookApp.rate_limit_window=3.0 (secs)\n",
      "\n",
      "Epoch 4989, global step 484029: train_loss_ssl was not in top 5\n",
      "Epoch 4990, global step 484126: train_loss_ssl was not in top 5\n",
      "Epoch 4991, global step 484223: train_loss_ssl was not in top 5\n",
      "Epoch 4992, global step 484320: train_loss_ssl was not in top 5\n",
      "Epoch 4993, global step 484417: train_loss_ssl was not in top 5\n",
      "IOPub message rate exceeded.\n",
      "The notebook server will temporarily stop sending output\n",
      "to the client in order to avoid crashing it.\n",
      "To change this limit, set the config variable\n",
      "`--NotebookApp.iopub_msg_rate_limit`.\n",
      "\n",
      "Current values:\n",
      "NotebookApp.iopub_msg_rate_limit=1000.0 (msgs/sec)\n",
      "NotebookApp.rate_limit_window=3.0 (secs)\n",
      "\n",
      "Epoch 5002, global step 485290: train_loss_ssl was not in top 5\n",
      "Epoch 5003, global step 485387: train_loss_ssl was not in top 5\n",
      "Epoch 5004, global step 485484: train_loss_ssl was not in top 5\n",
      "Epoch 5005, global step 485581: train_loss_ssl was not in top 5\n",
      "IOPub message rate exceeded.\n",
      "The notebook server will temporarily stop sending output\n",
      "to the client in order to avoid crashing it.\n",
      "To change this limit, set the config variable\n",
      "`--NotebookApp.iopub_msg_rate_limit`.\n",
      "\n",
      "Current values:\n",
      "NotebookApp.iopub_msg_rate_limit=1000.0 (msgs/sec)\n",
      "NotebookApp.rate_limit_window=3.0 (secs)\n",
      "\n",
      "Epoch 5033, global step 488297: train_loss_ssl was not in top 5\n",
      "Epoch 5034, global step 488394: train_loss_ssl was not in top 5\n",
      "Epoch 5035, global step 488491: train_loss_ssl was not in top 5\n",
      "Epoch 5036, global step 488588: train_loss_ssl was not in top 5\n",
      "Epoch 5037, global step 488685: train_loss_ssl was not in top 5\n",
      "IOPub message rate exceeded.\n",
      "The notebook server will temporarily stop sending output\n",
      "to the client in order to avoid crashing it.\n",
      "To change this limit, set the config variable\n",
      "`--NotebookApp.iopub_msg_rate_limit`.\n",
      "\n",
      "Current values:\n",
      "NotebookApp.iopub_msg_rate_limit=1000.0 (msgs/sec)\n",
      "NotebookApp.rate_limit_window=3.0 (secs)\n",
      "\n",
      "Epoch 5046, global step 489558: train_loss_ssl was not in top 5\n",
      "Epoch 5047, global step 489655: train_loss_ssl was not in top 5\n",
      "Epoch 5048, global step 489752: train_loss_ssl was not in top 5\n",
      "IOPub message rate exceeded.\n",
      "The notebook server will temporarily stop sending output\n",
      "to the client in order to avoid crashing it.\n",
      "To change this limit, set the config variable\n",
      "`--NotebookApp.iopub_msg_rate_limit`.\n",
      "\n",
      "Current values:\n",
      "NotebookApp.iopub_msg_rate_limit=1000.0 (msgs/sec)\n",
      "NotebookApp.rate_limit_window=3.0 (secs)\n",
      "\n",
      "Epoch 5076, global step 492468: train_loss_ssl was not in top 5\n",
      "Epoch 5077, global step 492565: train_loss_ssl was not in top 5\n",
      "Epoch 5078, global step 492662: train_loss_ssl reached 1.94728 (best 1.87635), saving model to \"/home/shatz/Documents/more_better/saved_models/resnet_moco/epoch=5078-train_loss_ssl=1.95.ckpt\" as top 5\n"
     ]
    },
    {
     "name": "stderr",
     "output_type": "stream",
     "text": [
      "Epoch 5079, global step 492759: train_loss_ssl was not in top 5\n",
      "Epoch 5080, global step 492856: train_loss_ssl was not in top 5\n",
      "Epoch 5081, global step 492953: train_loss_ssl was not in top 5\n",
      "IOPub message rate exceeded.\n",
      "The notebook server will temporarily stop sending output\n",
      "to the client in order to avoid crashing it.\n",
      "To change this limit, set the config variable\n",
      "`--NotebookApp.iopub_msg_rate_limit`.\n",
      "\n",
      "Current values:\n",
      "NotebookApp.iopub_msg_rate_limit=1000.0 (msgs/sec)\n",
      "NotebookApp.rate_limit_window=3.0 (secs)\n",
      "\n",
      "Epoch 5089, global step 493729: train_loss_ssl was not in top 5\n",
      "Epoch 5090, global step 493826: train_loss_ssl was not in top 5\n",
      "Epoch 5091, global step 493923: train_loss_ssl was not in top 5\n",
      "Epoch 5092, global step 494020: train_loss_ssl was not in top 5\n",
      "IOPub message rate exceeded.\n",
      "The notebook server will temporarily stop sending output\n",
      "to the client in order to avoid crashing it.\n",
      "To change this limit, set the config variable\n",
      "`--NotebookApp.iopub_msg_rate_limit`.\n",
      "\n",
      "Current values:\n",
      "NotebookApp.iopub_msg_rate_limit=1000.0 (msgs/sec)\n",
      "NotebookApp.rate_limit_window=3.0 (secs)\n",
      "\n"
     ]
    },
    {
     "data": {
      "application/vnd.jupyter.widget-view+json": {
       "model_id": "",
       "version_major": 2,
       "version_minor": 0
      },
      "text/plain": [
       "Validating: 0it [00:00, ?it/s]"
      ]
     },
     "metadata": {},
     "output_type": "display_data"
    },
    {
     "data": {
      "application/vnd.jupyter.widget-view+json": {
       "model_id": "",
       "version_major": 2,
       "version_minor": 0
      },
      "text/plain": [
       "Validating: 0it [00:00, ?it/s]"
      ]
     },
     "metadata": {},
     "output_type": "display_data"
    },
    {
     "data": {
      "application/vnd.jupyter.widget-view+json": {
       "model_id": "",
       "version_major": 2,
       "version_minor": 0
      },
      "text/plain": [
       "Validating: 0it [00:00, ?it/s]"
      ]
     },
     "metadata": {},
     "output_type": "display_data"
    },
    {
     "data": {
      "application/vnd.jupyter.widget-view+json": {
       "model_id": "",
       "version_major": 2,
       "version_minor": 0
      },
      "text/plain": [
       "Validating: 0it [00:00, ?it/s]"
      ]
     },
     "metadata": {},
     "output_type": "display_data"
    },
    {
     "data": {
      "application/vnd.jupyter.widget-view+json": {
       "model_id": "900eb6ba7119436d9d949717488e759b",
       "version_major": 2,
       "version_minor": 0
      },
      "text/plain": [
       "Validating: 0it [00:00, ?it/s]"
      ]
     },
     "metadata": {},
     "output_type": "display_data"
    },
    {
     "name": "stderr",
     "output_type": "stream",
     "text": [
      "IOPub message rate exceeded.\n",
      "The notebook server will temporarily stop sending output\n",
      "to the client in order to avoid crashing it.\n",
      "To change this limit, set the config variable\n",
      "`--NotebookApp.iopub_msg_rate_limit`.\n",
      "\n",
      "Current values:\n",
      "NotebookApp.iopub_msg_rate_limit=1000.0 (msgs/sec)\n",
      "NotebookApp.rate_limit_window=3.0 (secs)\n",
      "\n"
     ]
    },
    {
     "data": {
      "application/vnd.jupyter.widget-view+json": {
       "model_id": "",
       "version_major": 2,
       "version_minor": 0
      },
      "text/plain": [
       "Validating: 0it [00:00, ?it/s]"
      ]
     },
     "metadata": {},
     "output_type": "display_data"
    },
    {
     "data": {
      "application/vnd.jupyter.widget-view+json": {
       "model_id": "",
       "version_major": 2,
       "version_minor": 0
      },
      "text/plain": [
       "Validating: 0it [00:00, ?it/s]"
      ]
     },
     "metadata": {},
     "output_type": "display_data"
    },
    {
     "name": "stderr",
     "output_type": "stream",
     "text": [
      "IOPub message rate exceeded.\n",
      "The notebook server will temporarily stop sending output\n",
      "to the client in order to avoid crashing it.\n",
      "To change this limit, set the config variable\n",
      "`--NotebookApp.iopub_msg_rate_limit`.\n",
      "\n",
      "Current values:\n",
      "NotebookApp.iopub_msg_rate_limit=1000.0 (msgs/sec)\n",
      "NotebookApp.rate_limit_window=3.0 (secs)\n",
      "\n"
     ]
    },
    {
     "data": {
      "application/vnd.jupyter.widget-view+json": {
       "model_id": "",
       "version_major": 2,
       "version_minor": 0
      },
      "text/plain": [
       "Validating: 0it [00:00, ?it/s]"
      ]
     },
     "metadata": {},
     "output_type": "display_data"
    },
    {
     "data": {
      "application/vnd.jupyter.widget-view+json": {
       "model_id": "",
       "version_major": 2,
       "version_minor": 0
      },
      "text/plain": [
       "Validating: 0it [00:00, ?it/s]"
      ]
     },
     "metadata": {},
     "output_type": "display_data"
    },
    {
     "data": {
      "application/vnd.jupyter.widget-view+json": {
       "model_id": "",
       "version_major": 2,
       "version_minor": 0
      },
      "text/plain": [
       "Validating: 0it [00:00, ?it/s]"
      ]
     },
     "metadata": {},
     "output_type": "display_data"
    },
    {
     "data": {
      "application/vnd.jupyter.widget-view+json": {
       "model_id": "",
       "version_major": 2,
       "version_minor": 0
      },
      "text/plain": [
       "Validating: 0it [00:00, ?it/s]"
      ]
     },
     "metadata": {},
     "output_type": "display_data"
    },
    {
     "data": {
      "application/vnd.jupyter.widget-view+json": {
       "model_id": "",
       "version_major": 2,
       "version_minor": 0
      },
      "text/plain": [
       "Validating: 0it [00:00, ?it/s]"
      ]
     },
     "metadata": {},
     "output_type": "display_data"
    },
    {
     "name": "stderr",
     "output_type": "stream",
     "text": [
      "IOPub message rate exceeded.\n",
      "The notebook server will temporarily stop sending output\n",
      "to the client in order to avoid crashing it.\n",
      "To change this limit, set the config variable\n",
      "`--NotebookApp.iopub_msg_rate_limit`.\n",
      "\n",
      "Current values:\n",
      "NotebookApp.iopub_msg_rate_limit=1000.0 (msgs/sec)\n",
      "NotebookApp.rate_limit_window=3.0 (secs)\n",
      "\n",
      "Epoch 5103, global step 495087: train_loss_ssl was not in top 5\n",
      "Epoch 5104, global step 495184: train_loss_ssl was not in top 5\n",
      "Epoch 5105, global step 495281: train_loss_ssl was not in top 5\n",
      "IOPub message rate exceeded.\n",
      "The notebook server will temporarily stop sending output\n",
      "to the client in order to avoid crashing it.\n",
      "To change this limit, set the config variable\n",
      "`--NotebookApp.iopub_msg_rate_limit`.\n",
      "\n",
      "Current values:\n",
      "NotebookApp.iopub_msg_rate_limit=1000.0 (msgs/sec)\n",
      "NotebookApp.rate_limit_window=3.0 (secs)\n",
      "\n",
      "Epoch 5134, global step 498094: train_loss_ssl was not in top 5\n",
      "Epoch 5135, global step 498191: train_loss_ssl was not in top 5\n",
      "Epoch 5136, global step 498288: train_loss_ssl was not in top 5\n",
      "Epoch 5137, global step 498385: train_loss_ssl was not in top 5\n",
      "Epoch 5138, global step 498482: train_loss_ssl was not in top 5\n",
      "IOPub message rate exceeded.\n",
      "The notebook server will temporarily stop sending output\n",
      "to the client in order to avoid crashing it.\n",
      "To change this limit, set the config variable\n",
      "`--NotebookApp.iopub_msg_rate_limit`.\n",
      "\n",
      "Current values:\n",
      "NotebookApp.iopub_msg_rate_limit=1000.0 (msgs/sec)\n",
      "NotebookApp.rate_limit_window=3.0 (secs)\n",
      "\n",
      "Epoch 5147, global step 499355: train_loss_ssl was not in top 5\n",
      "Epoch 5148, global step 499452: train_loss_ssl was not in top 5\n",
      "Epoch 5149, global step 499549: train_loss_ssl was not in top 5\n",
      "IOPub message rate exceeded.\n",
      "The notebook server will temporarily stop sending output\n",
      "to the client in order to avoid crashing it.\n",
      "To change this limit, set the config variable\n",
      "`--NotebookApp.iopub_msg_rate_limit`.\n",
      "\n",
      "Current values:\n",
      "NotebookApp.iopub_msg_rate_limit=1000.0 (msgs/sec)\n",
      "NotebookApp.rate_limit_window=3.0 (secs)\n",
      "\n",
      "Epoch 5174, global step 501974: train_loss_ssl was not in top 5\n",
      "Epoch 5175, global step 502071: train_loss_ssl was not in top 5\n",
      "Epoch 5176, global step 502168: train_loss_ssl was not in top 5\n",
      "Epoch 5177, global step 502265: train_loss_ssl was not in top 5\n",
      "Epoch 5178, global step 502362: train_loss_ssl was not in top 5\n",
      "IOPub message rate exceeded.\n",
      "The notebook server will temporarily stop sending output\n",
      "to the client in order to avoid crashing it.\n",
      "To change this limit, set the config variable\n",
      "`--NotebookApp.iopub_msg_rate_limit`.\n",
      "\n",
      "Current values:\n",
      "NotebookApp.iopub_msg_rate_limit=1000.0 (msgs/sec)\n",
      "NotebookApp.rate_limit_window=3.0 (secs)\n",
      "\n",
      "Epoch 5182, global step 502750: train_loss_ssl was not in top 5\n",
      "Epoch 5183, global step 502847: train_loss_ssl was not in top 5\n",
      "Epoch 5184, global step 502944: train_loss_ssl was not in top 5\n",
      "IOPub message rate exceeded.\n",
      "The notebook server will temporarily stop sending output\n",
      "to the client in order to avoid crashing it.\n",
      "To change this limit, set the config variable\n",
      "`--NotebookApp.iopub_msg_rate_limit`.\n",
      "\n",
      "Current values:\n",
      "NotebookApp.iopub_msg_rate_limit=1000.0 (msgs/sec)\n",
      "NotebookApp.rate_limit_window=3.0 (secs)\n",
      "\n",
      "Epoch 5212, global step 505660: train_loss_ssl was not in top 5\n",
      "Epoch 5213, global step 505757: train_loss_ssl was not in top 5\n",
      "Epoch 5214, global step 505854: train_loss_ssl was not in top 5\n",
      "Epoch 5215, global step 505951: train_loss_ssl was not in top 5\n",
      "Epoch 5216, global step 506048: train_loss_ssl reached 1.91124 (best 1.87635), saving model to \"/home/shatz/Documents/more_better/saved_models/resnet_moco/epoch=5216-train_loss_ssl=1.91.ckpt\" as top 5\n",
      "IOPub message rate exceeded.\n",
      "The notebook server will temporarily stop sending output\n",
      "to the client in order to avoid crashing it.\n",
      "To change this limit, set the config variable\n",
      "`--NotebookApp.iopub_msg_rate_limit`.\n",
      "\n",
      "Current values:\n",
      "NotebookApp.iopub_msg_rate_limit=1000.0 (msgs/sec)\n",
      "NotebookApp.rate_limit_window=3.0 (secs)\n",
      "\n",
      "Epoch 5224, global step 506824: train_loss_ssl was not in top 5\n",
      "Epoch 5225, global step 506921: train_loss_ssl was not in top 5\n",
      "Epoch 5226, global step 507018: train_loss_ssl was not in top 5\n",
      "Epoch 5227, global step 507115: train_loss_ssl was not in top 5\n",
      "IOPub message rate exceeded.\n",
      "The notebook server will temporarily stop sending output\n",
      "to the client in order to avoid crashing it.\n",
      "To change this limit, set the config variable\n",
      "`--NotebookApp.iopub_msg_rate_limit`.\n",
      "\n",
      "Current values:\n",
      "NotebookApp.iopub_msg_rate_limit=1000.0 (msgs/sec)\n",
      "NotebookApp.rate_limit_window=3.0 (secs)\n",
      "\n",
      "Epoch 5256, global step 509928: train_loss_ssl was not in top 5\n",
      "Epoch 5257, global step 510025: train_loss_ssl was not in top 5\n",
      "Epoch 5258, global step 510122: train_loss_ssl was not in top 5\n",
      "Epoch 5259, global step 510219: train_loss_ssl was not in top 5\n",
      "Epoch 5260, global step 510316: train_loss_ssl was not in top 5\n",
      "IOPub message rate exceeded.\n",
      "The notebook server will temporarily stop sending output\n",
      "to the client in order to avoid crashing it.\n",
      "To change this limit, set the config variable\n",
      "`--NotebookApp.iopub_msg_rate_limit`.\n",
      "\n",
      "Current values:\n",
      "NotebookApp.iopub_msg_rate_limit=1000.0 (msgs/sec)\n",
      "NotebookApp.rate_limit_window=3.0 (secs)\n",
      "\n",
      "Epoch 5268, global step 511092: train_loss_ssl was not in top 5\n",
      "Epoch 5269, global step 511189: train_loss_ssl was not in top 5\n",
      "Epoch 5270, global step 511286: train_loss_ssl was not in top 5\n",
      "Epoch 5271, global step 511383: train_loss_ssl was not in top 5\n",
      "IOPub message rate exceeded.\n",
      "The notebook server will temporarily stop sending output\n",
      "to the client in order to avoid crashing it.\n",
      "To change this limit, set the config variable\n",
      "`--NotebookApp.iopub_msg_rate_limit`.\n",
      "\n",
      "Current values:\n",
      "NotebookApp.iopub_msg_rate_limit=1000.0 (msgs/sec)\n",
      "NotebookApp.rate_limit_window=3.0 (secs)\n",
      "\n",
      "Epoch 5299, global step 514099: train_loss_ssl was not in top 5\n",
      "Epoch 5300, global step 514196: train_loss_ssl was not in top 5\n",
      "Epoch 5301, global step 514293: train_loss_ssl was not in top 5\n",
      "Epoch 5302, global step 514390: train_loss_ssl was not in top 5\n",
      "Epoch 5303, global step 514487: train_loss_ssl was not in top 5\n",
      "Epoch 5304, global step 514584: train_loss_ssl was not in top 5\n",
      "IOPub message rate exceeded.\n",
      "The notebook server will temporarily stop sending output\n",
      "to the client in order to avoid crashing it.\n",
      "To change this limit, set the config variable\n",
      "`--NotebookApp.iopub_msg_rate_limit`.\n",
      "\n",
      "Current values:\n",
      "NotebookApp.iopub_msg_rate_limit=1000.0 (msgs/sec)\n",
      "NotebookApp.rate_limit_window=3.0 (secs)\n",
      "\n",
      "Epoch 5313, global step 515457: train_loss_ssl was not in top 5\n",
      "Epoch 5314, global step 515554: train_loss_ssl was not in top 5\n",
      "Epoch 5315, global step 515651: train_loss_ssl was not in top 5\n",
      "IOPub message rate exceeded.\n",
      "The notebook server will temporarily stop sending output\n",
      "to the client in order to avoid crashing it.\n",
      "To change this limit, set the config variable\n",
      "`--NotebookApp.iopub_msg_rate_limit`.\n",
      "\n",
      "Current values:\n",
      "NotebookApp.iopub_msg_rate_limit=1000.0 (msgs/sec)\n",
      "NotebookApp.rate_limit_window=3.0 (secs)\n",
      "\n",
      "Epoch 5343, global step 518367: train_loss_ssl was not in top 5\n",
      "Epoch 5344, global step 518464: train_loss_ssl was not in top 5\n",
      "Epoch 5345, global step 518561: train_loss_ssl was not in top 5\n",
      "Epoch 5346, global step 518658: train_loss_ssl was not in top 5\n",
      "Epoch 5347, global step 518755: train_loss_ssl was not in top 5\n",
      "Epoch 5348, global step 518852: train_loss_ssl was not in top 5\n",
      "IOPub message rate exceeded.\n",
      "The notebook server will temporarily stop sending output\n",
      "to the client in order to avoid crashing it.\n",
      "To change this limit, set the config variable\n",
      "`--NotebookApp.iopub_msg_rate_limit`.\n",
      "\n",
      "Current values:\n",
      "NotebookApp.iopub_msg_rate_limit=1000.0 (msgs/sec)\n",
      "NotebookApp.rate_limit_window=3.0 (secs)\n",
      "\n",
      "Epoch 5356, global step 519628: train_loss_ssl was not in top 5\n",
      "Epoch 5357, global step 519725: train_loss_ssl was not in top 5\n",
      "Epoch 5358, global step 519822: train_loss_ssl was not in top 5\n",
      "Epoch 5359, global step 519919: train_loss_ssl was not in top 5\n",
      "IOPub message rate exceeded.\n",
      "The notebook server will temporarily stop sending output\n",
      "to the client in order to avoid crashing it.\n",
      "To change this limit, set the config variable\n",
      "`--NotebookApp.iopub_msg_rate_limit`.\n",
      "\n",
      "Current values:\n",
      "NotebookApp.iopub_msg_rate_limit=1000.0 (msgs/sec)\n",
      "NotebookApp.rate_limit_window=3.0 (secs)\n",
      "\n"
     ]
    },
    {
     "name": "stderr",
     "output_type": "stream",
     "text": [
      "Epoch 5388, global step 522732: train_loss_ssl was not in top 5\n",
      "Epoch 5389, global step 522829: train_loss_ssl was not in top 5\n",
      "Epoch 5390, global step 522926: train_loss_ssl was not in top 5\n",
      "Epoch 5391, global step 523023: train_loss_ssl was not in top 5\n",
      "Epoch 5392, global step 523120: train_loss_ssl was not in top 5\n",
      "IOPub message rate exceeded.\n",
      "The notebook server will temporarily stop sending output\n",
      "to the client in order to avoid crashing it.\n",
      "To change this limit, set the config variable\n",
      "`--NotebookApp.iopub_msg_rate_limit`.\n",
      "\n",
      "Current values:\n",
      "NotebookApp.iopub_msg_rate_limit=1000.0 (msgs/sec)\n",
      "NotebookApp.rate_limit_window=3.0 (secs)\n",
      "\n",
      "GPU available: True, used: True\n",
      "TPU available: False, using: 0 TPU cores\n",
      "IPU available: False, using: 0 IPUs\n",
      "LOCAL_RANK: 0 - CUDA_VISIBLE_DEVICES: [0]\n",
      "\n",
      "  | Name        | Type       | Params\n",
      "-------------------------------------------\n",
      "0 | resnet_moco | MoCo       | 23.0 M\n",
      "1 | fc          | Sequential | 267 K \n",
      "2 | accuracy    | Accuracy   | 0     \n",
      "-------------------------------------------\n",
      "267 K     Trainable params\n",
      "23.0 M    Non-trainable params\n",
      "23.3 M    Total params\n",
      "93.048    Total estimated model params size (MB)\n"
     ]
    },
    {
     "name": "stdout",
     "output_type": "stream",
     "text": [
      "... training downstream classifier...\n"
     ]
    },
    {
     "data": {
      "application/vnd.jupyter.widget-view+json": {
       "model_id": "",
       "version_major": 2,
       "version_minor": 0
      },
      "text/plain": [
       "Validation sanity check: 0it [00:00, ?it/s]"
      ]
     },
     "metadata": {},
     "output_type": "display_data"
    },
    {
     "data": {
      "application/vnd.jupyter.widget-view+json": {
       "model_id": "f0b584aebab74a6080a3299f325b91e6",
       "version_major": 2,
       "version_minor": 0
      },
      "text/plain": [
       "Training: -1it [00:00, ?it/s]"
      ]
     },
     "metadata": {},
     "output_type": "display_data"
    },
    {
     "data": {
      "application/vnd.jupyter.widget-view+json": {
       "model_id": "",
       "version_major": 2,
       "version_minor": 0
      },
      "text/plain": [
       "Validating: 0it [00:00, ?it/s]"
      ]
     },
     "metadata": {},
     "output_type": "display_data"
    },
    {
     "data": {
      "application/vnd.jupyter.widget-view+json": {
       "model_id": "",
       "version_major": 2,
       "version_minor": 0
      },
      "text/plain": [
       "Validating: 0it [00:00, ?it/s]"
      ]
     },
     "metadata": {},
     "output_type": "display_data"
    },
    {
     "name": "stderr",
     "output_type": "stream",
     "text": [
      "IOPub message rate exceeded.\n",
      "The notebook server will temporarily stop sending output\n",
      "to the client in order to avoid crashing it.\n",
      "To change this limit, set the config variable\n",
      "`--NotebookApp.iopub_msg_rate_limit`.\n",
      "\n",
      "Current values:\n",
      "NotebookApp.iopub_msg_rate_limit=1000.0 (msgs/sec)\n",
      "NotebookApp.rate_limit_window=3.0 (secs)\n",
      "\n"
     ]
    },
    {
     "data": {
      "application/vnd.jupyter.widget-view+json": {
       "model_id": "",
       "version_major": 2,
       "version_minor": 0
      },
      "text/plain": [
       "Validating: 0it [00:00, ?it/s]"
      ]
     },
     "metadata": {},
     "output_type": "display_data"
    },
    {
     "data": {
      "application/vnd.jupyter.widget-view+json": {
       "model_id": "",
       "version_major": 2,
       "version_minor": 0
      },
      "text/plain": [
       "Validating: 0it [00:00, ?it/s]"
      ]
     },
     "metadata": {},
     "output_type": "display_data"
    },
    {
     "data": {
      "application/vnd.jupyter.widget-view+json": {
       "model_id": "",
       "version_major": 2,
       "version_minor": 0
      },
      "text/plain": [
       "Validating: 0it [00:00, ?it/s]"
      ]
     },
     "metadata": {},
     "output_type": "display_data"
    },
    {
     "data": {
      "application/vnd.jupyter.widget-view+json": {
       "model_id": "",
       "version_major": 2,
       "version_minor": 0
      },
      "text/plain": [
       "Validating: 0it [00:00, ?it/s]"
      ]
     },
     "metadata": {},
     "output_type": "display_data"
    },
    {
     "name": "stderr",
     "output_type": "stream",
     "text": [
      "IOPub message rate exceeded.\n",
      "The notebook server will temporarily stop sending output\n",
      "to the client in order to avoid crashing it.\n",
      "To change this limit, set the config variable\n",
      "`--NotebookApp.iopub_msg_rate_limit`.\n",
      "\n",
      "Current values:\n",
      "NotebookApp.iopub_msg_rate_limit=1000.0 (msgs/sec)\n",
      "NotebookApp.rate_limit_window=3.0 (secs)\n",
      "\n"
     ]
    },
    {
     "data": {
      "application/vnd.jupyter.widget-view+json": {
       "model_id": "",
       "version_major": 2,
       "version_minor": 0
      },
      "text/plain": [
       "Validating: 0it [00:00, ?it/s]"
      ]
     },
     "metadata": {},
     "output_type": "display_data"
    },
    {
     "data": {
      "application/vnd.jupyter.widget-view+json": {
       "model_id": "",
       "version_major": 2,
       "version_minor": 0
      },
      "text/plain": [
       "Validating: 0it [00:00, ?it/s]"
      ]
     },
     "metadata": {},
     "output_type": "display_data"
    },
    {
     "data": {
      "application/vnd.jupyter.widget-view+json": {
       "model_id": "",
       "version_major": 2,
       "version_minor": 0
      },
      "text/plain": [
       "Validating: 0it [00:00, ?it/s]"
      ]
     },
     "metadata": {},
     "output_type": "display_data"
    },
    {
     "name": "stderr",
     "output_type": "stream",
     "text": [
      "IOPub message rate exceeded.\n",
      "The notebook server will temporarily stop sending output\n",
      "to the client in order to avoid crashing it.\n",
      "To change this limit, set the config variable\n",
      "`--NotebookApp.iopub_msg_rate_limit`.\n",
      "\n",
      "Current values:\n",
      "NotebookApp.iopub_msg_rate_limit=1000.0 (msgs/sec)\n",
      "NotebookApp.rate_limit_window=3.0 (secs)\n",
      "\n"
     ]
    },
    {
     "data": {
      "application/vnd.jupyter.widget-view+json": {
       "model_id": "",
       "version_major": 2,
       "version_minor": 0
      },
      "text/plain": [
       "Validating: 0it [00:00, ?it/s]"
      ]
     },
     "metadata": {},
     "output_type": "display_data"
    },
    {
     "data": {
      "application/vnd.jupyter.widget-view+json": {
       "model_id": "",
       "version_major": 2,
       "version_minor": 0
      },
      "text/plain": [
       "Validating: 0it [00:00, ?it/s]"
      ]
     },
     "metadata": {},
     "output_type": "display_data"
    },
    {
     "name": "stderr",
     "output_type": "stream",
     "text": [
      "Epoch 5400, global step 523896: train_loss_ssl was not in top 5\n"
     ]
    },
    {
     "name": "stdout",
     "output_type": "stream",
     "text": [
      "[1.2162654, 0.83620363, 0.6936849, 0.6158143, 0.5664838, 0.53167933, 0.506424, 0.48677275, 0.47045135, 0.45742738, 0.44611955, 0.43653813, 0.42770958, 0.42011738, 0.41344845, 0.40742478, 0.40194923, 0.39692622, 0.3921018, 0.38792112, 0.38368988, 0.3799118, 0.37616113, 0.37288243, 0.36963934, 0.36663038, 0.36359644, 0.3608855, 0.35822362, 0.3557363, 0.35328424, 0.3509672, 0.34867513, 0.3465029, 0.3444507, 0.34249333, 0.34058982, 0.3387512, 0.3369753, 0.3352391, 0.333567, 0.3320035, 0.33043936, 0.32893178, 0.32744333, 0.32604453, 0.3246025, 0.32329834, 0.32199785, 0.32074052, 0.3195816, 0.3183831, 0.31725094, 0.31619188, 0.3151313, 0.31415483, 0.31318054, 0.31222638, 0.31131938, 0.31045026]\n",
      "[0.6017632, 0.6976055, 0.73959726, 0.7644883, 0.780924, 0.7926995, 0.80173826, 0.8089191, 0.8147345, 0.8195769, 0.8237206, 0.8272593, 0.830365, 0.83311385, 0.8355433, 0.83773065, 0.8396909, 0.8414655, 0.84307736, 0.8445521, 0.84591854, 0.84719247, 0.8483875, 0.849509, 0.85055816, 0.85153633, 0.852458, 0.8533253, 0.8541482, 0.8549311, 0.8556736, 0.85638446, 0.8570621, 0.85770935, 0.8583273, 0.8589185, 0.8594858, 0.8600299, 0.8605548, 0.8610592, 0.86154443, 0.86201215, 0.8624645, 0.86290103, 0.86332226, 0.86373043, 0.8641254, 0.86450815, 0.8648786, 0.86523694, 0.86558396, 0.86592054, 0.86624736, 0.8665652, 0.86687446, 0.8671754, 0.8674683, 0.8677534, 0.868031, 0.86830175]\n",
      "-----\n"
     ]
    },
    {
     "name": "stderr",
     "output_type": "stream",
     "text": [
      "Epoch 5401, global step 523993: train_loss_ssl was not in top 5\n",
      "Epoch 5402, global step 524090: train_loss_ssl was not in top 5\n",
      "Epoch 5403, global step 524187: train_loss_ssl was not in top 5\n",
      "IOPub message rate exceeded.\n",
      "The notebook server will temporarily stop sending output\n",
      "to the client in order to avoid crashing it.\n",
      "To change this limit, set the config variable\n",
      "`--NotebookApp.iopub_msg_rate_limit`.\n",
      "\n",
      "Current values:\n",
      "NotebookApp.iopub_msg_rate_limit=1000.0 (msgs/sec)\n",
      "NotebookApp.rate_limit_window=3.0 (secs)\n",
      "\n",
      "Epoch 5411, global step 524963: train_loss_ssl was not in top 5\n",
      "Epoch 5412, global step 525060: train_loss_ssl was not in top 5\n",
      "Epoch 5413, global step 525157: train_loss_ssl reached 1.91731 (best 1.87635), saving model to \"/home/shatz/Documents/more_better/saved_models/resnet_moco/epoch=5413-train_loss_ssl=1.92.ckpt\" as top 5\n",
      "Epoch 5414, global step 525254: train_loss_ssl was not in top 5\n",
      "IOPub message rate exceeded.\n",
      "The notebook server will temporarily stop sending output\n",
      "to the client in order to avoid crashing it.\n",
      "To change this limit, set the config variable\n",
      "`--NotebookApp.iopub_msg_rate_limit`.\n",
      "\n",
      "Current values:\n",
      "NotebookApp.iopub_msg_rate_limit=1000.0 (msgs/sec)\n",
      "NotebookApp.rate_limit_window=3.0 (secs)\n",
      "\n",
      "Epoch 5442, global step 527970: train_loss_ssl was not in top 5\n",
      "Epoch 5443, global step 528067: train_loss_ssl was not in top 5\n",
      "Epoch 5444, global step 528164: train_loss_ssl was not in top 5\n",
      "Epoch 5445, global step 528261: train_loss_ssl was not in top 5\n",
      "Epoch 5446, global step 528358: train_loss_ssl was not in top 5\n",
      "IOPub message rate exceeded.\n",
      "The notebook server will temporarily stop sending output\n",
      "to the client in order to avoid crashing it.\n",
      "To change this limit, set the config variable\n",
      "`--NotebookApp.iopub_msg_rate_limit`.\n",
      "\n",
      "Current values:\n",
      "NotebookApp.iopub_msg_rate_limit=1000.0 (msgs/sec)\n",
      "NotebookApp.rate_limit_window=3.0 (secs)\n",
      "\n",
      "Epoch 5455, global step 529231: train_loss_ssl was not in top 5\n",
      "Epoch 5456, global step 529328: train_loss_ssl was not in top 5\n",
      "Epoch 5457, global step 529425: train_loss_ssl was not in top 5\n",
      "Epoch 5458, global step 529522: train_loss_ssl was not in top 5\n",
      "IOPub message rate exceeded.\n",
      "The notebook server will temporarily stop sending output\n",
      "to the client in order to avoid crashing it.\n",
      "To change this limit, set the config variable\n",
      "`--NotebookApp.iopub_msg_rate_limit`.\n",
      "\n",
      "Current values:\n",
      "NotebookApp.iopub_msg_rate_limit=1000.0 (msgs/sec)\n",
      "NotebookApp.rate_limit_window=3.0 (secs)\n",
      "\n",
      "Epoch 5485, global step 532141: train_loss_ssl was not in top 5\n",
      "Epoch 5486, global step 532238: train_loss_ssl was not in top 5\n",
      "Epoch 5487, global step 532335: train_loss_ssl reached 1.90837 (best 1.87635), saving model to \"/home/shatz/Documents/more_better/saved_models/resnet_moco/epoch=5487-train_loss_ssl=1.91.ckpt\" as top 5\n",
      "Epoch 5488, global step 532432: train_loss_ssl was not in top 5\n",
      "Epoch 5489, global step 532529: train_loss_ssl was not in top 5\n",
      "IOPub message rate exceeded.\n",
      "The notebook server will temporarily stop sending output\n",
      "to the client in order to avoid crashing it.\n",
      "To change this limit, set the config variable\n",
      "`--NotebookApp.iopub_msg_rate_limit`.\n",
      "\n",
      "Current values:\n",
      "NotebookApp.iopub_msg_rate_limit=1000.0 (msgs/sec)\n",
      "NotebookApp.rate_limit_window=3.0 (secs)\n",
      "\n",
      "Epoch 5498, global step 533402: train_loss_ssl was not in top 5\n",
      "Epoch 5499, global step 533499: train_loss_ssl was not in top 5\n",
      "Epoch 5500, global step 533596: train_loss_ssl was not in top 5\n",
      "Epoch 5501, global step 533693: train_loss_ssl was not in top 5\n",
      "IOPub message rate exceeded.\n",
      "The notebook server will temporarily stop sending output\n",
      "to the client in order to avoid crashing it.\n",
      "To change this limit, set the config variable\n",
      "`--NotebookApp.iopub_msg_rate_limit`.\n",
      "\n",
      "Current values:\n",
      "NotebookApp.iopub_msg_rate_limit=1000.0 (msgs/sec)\n",
      "NotebookApp.rate_limit_window=3.0 (secs)\n",
      "\n",
      "Epoch 5529, global step 536409: train_loss_ssl was not in top 5\n",
      "Epoch 5530, global step 536506: train_loss_ssl was not in top 5\n",
      "Epoch 5531, global step 536603: train_loss_ssl was not in top 5\n",
      "Epoch 5532, global step 536700: train_loss_ssl was not in top 5\n",
      "Epoch 5533, global step 536797: train_loss_ssl was not in top 5\n",
      "IOPub message rate exceeded.\n",
      "The notebook server will temporarily stop sending output\n",
      "to the client in order to avoid crashing it.\n",
      "To change this limit, set the config variable\n",
      "`--NotebookApp.iopub_msg_rate_limit`.\n",
      "\n",
      "Current values:\n",
      "NotebookApp.iopub_msg_rate_limit=1000.0 (msgs/sec)\n",
      "NotebookApp.rate_limit_window=3.0 (secs)\n",
      "\n",
      "Epoch 5542, global step 537670: train_loss_ssl was not in top 5\n",
      "Epoch 5543, global step 537767: train_loss_ssl reached 1.90429 (best 1.87635), saving model to \"/home/shatz/Documents/more_better/saved_models/resnet_moco/epoch=5543-train_loss_ssl=1.90.ckpt\" as top 5\n",
      "Epoch 5544, global step 537864: train_loss_ssl was not in top 5\n",
      "IOPub message rate exceeded.\n",
      "The notebook server will temporarily stop sending output\n",
      "to the client in order to avoid crashing it.\n",
      "To change this limit, set the config variable\n",
      "`--NotebookApp.iopub_msg_rate_limit`.\n",
      "\n",
      "Current values:\n",
      "NotebookApp.iopub_msg_rate_limit=1000.0 (msgs/sec)\n",
      "NotebookApp.rate_limit_window=3.0 (secs)\n",
      "\n",
      "Epoch 5572, global step 540580: train_loss_ssl was not in top 5\n",
      "Epoch 5573, global step 540677: train_loss_ssl was not in top 5\n",
      "Epoch 5574, global step 540774: train_loss_ssl was not in top 5\n",
      "Epoch 5575, global step 540871: train_loss_ssl was not in top 5\n",
      "Epoch 5576, global step 540968: train_loss_ssl was not in top 5\n",
      "IOPub message rate exceeded.\n",
      "The notebook server will temporarily stop sending output\n",
      "to the client in order to avoid crashing it.\n",
      "To change this limit, set the config variable\n",
      "`--NotebookApp.iopub_msg_rate_limit`.\n",
      "\n",
      "Current values:\n",
      "NotebookApp.iopub_msg_rate_limit=1000.0 (msgs/sec)\n",
      "NotebookApp.rate_limit_window=3.0 (secs)\n",
      "\n",
      "Epoch 5585, global step 541841: train_loss_ssl was not in top 5\n",
      "Epoch 5586, global step 541938: train_loss_ssl was not in top 5\n",
      "Epoch 5587, global step 542035: train_loss_ssl was not in top 5\n",
      "Epoch 5588, global step 542132: train_loss_ssl was not in top 5\n",
      "IOPub message rate exceeded.\n",
      "The notebook server will temporarily stop sending output\n",
      "to the client in order to avoid crashing it.\n",
      "To change this limit, set the config variable\n",
      "`--NotebookApp.iopub_msg_rate_limit`.\n",
      "\n",
      "Current values:\n",
      "NotebookApp.iopub_msg_rate_limit=1000.0 (msgs/sec)\n",
      "NotebookApp.rate_limit_window=3.0 (secs)\n",
      "\n",
      "Epoch 5616, global step 544848: train_loss_ssl was not in top 5\n",
      "Epoch 5617, global step 544945: train_loss_ssl was not in top 5\n",
      "Epoch 5618, global step 545042: train_loss_ssl was not in top 5\n",
      "Epoch 5619, global step 545139: train_loss_ssl was not in top 5\n",
      "Epoch 5620, global step 545236: train_loss_ssl was not in top 5\n",
      "IOPub message rate exceeded.\n",
      "The notebook server will temporarily stop sending output\n",
      "to the client in order to avoid crashing it.\n",
      "To change this limit, set the config variable\n",
      "`--NotebookApp.iopub_msg_rate_limit`.\n",
      "\n",
      "Current values:\n",
      "NotebookApp.iopub_msg_rate_limit=1000.0 (msgs/sec)\n",
      "NotebookApp.rate_limit_window=3.0 (secs)\n",
      "\n",
      "Epoch 5629, global step 546109: train_loss_ssl was not in top 5\n",
      "Epoch 5630, global step 546206: train_loss_ssl was not in top 5\n",
      "Epoch 5631, global step 546303: train_loss_ssl was not in top 5\n",
      "Epoch 5632, global step 546400: train_loss_ssl was not in top 5\n",
      "IOPub message rate exceeded.\n",
      "The notebook server will temporarily stop sending output\n",
      "to the client in order to avoid crashing it.\n",
      "To change this limit, set the config variable\n",
      "`--NotebookApp.iopub_msg_rate_limit`.\n",
      "\n",
      "Current values:\n",
      "NotebookApp.iopub_msg_rate_limit=1000.0 (msgs/sec)\n",
      "NotebookApp.rate_limit_window=3.0 (secs)\n",
      "\n",
      "Epoch 5659, global step 549019: train_loss_ssl was not in top 5\n",
      "Epoch 5660, global step 549116: train_loss_ssl was not in top 5\n",
      "Epoch 5661, global step 549213: train_loss_ssl was not in top 5\n",
      "Epoch 5662, global step 549310: train_loss_ssl was not in top 5\n",
      "Epoch 5663, global step 549407: train_loss_ssl was not in top 5\n",
      "Epoch 5664, global step 549504: train_loss_ssl was not in top 5\n",
      "IOPub message rate exceeded.\n",
      "The notebook server will temporarily stop sending output\n",
      "to the client in order to avoid crashing it.\n",
      "To change this limit, set the config variable\n",
      "`--NotebookApp.iopub_msg_rate_limit`.\n",
      "\n",
      "Current values:\n",
      "NotebookApp.iopub_msg_rate_limit=1000.0 (msgs/sec)\n",
      "NotebookApp.rate_limit_window=3.0 (secs)\n",
      "\n"
     ]
    },
    {
     "name": "stderr",
     "output_type": "stream",
     "text": [
      "Epoch 5673, global step 550377: train_loss_ssl was not in top 5\n",
      "Epoch 5674, global step 550474: train_loss_ssl was not in top 5\n",
      "Epoch 5675, global step 550571: train_loss_ssl was not in top 5\n",
      "IOPub message rate exceeded.\n",
      "The notebook server will temporarily stop sending output\n",
      "to the client in order to avoid crashing it.\n",
      "To change this limit, set the config variable\n",
      "`--NotebookApp.iopub_msg_rate_limit`.\n",
      "\n",
      "Current values:\n",
      "NotebookApp.iopub_msg_rate_limit=1000.0 (msgs/sec)\n",
      "NotebookApp.rate_limit_window=3.0 (secs)\n",
      "\n"
     ]
    },
    {
     "data": {
      "application/vnd.jupyter.widget-view+json": {
       "model_id": "",
       "version_major": 2,
       "version_minor": 0
      },
      "text/plain": [
       "Validating: 0it [00:00, ?it/s]"
      ]
     },
     "metadata": {},
     "output_type": "display_data"
    },
    {
     "data": {
      "application/vnd.jupyter.widget-view+json": {
       "model_id": "",
       "version_major": 2,
       "version_minor": 0
      },
      "text/plain": [
       "Validating: 0it [00:00, ?it/s]"
      ]
     },
     "metadata": {},
     "output_type": "display_data"
    },
    {
     "data": {
      "application/vnd.jupyter.widget-view+json": {
       "model_id": "",
       "version_major": 2,
       "version_minor": 0
      },
      "text/plain": [
       "Validating: 0it [00:00, ?it/s]"
      ]
     },
     "metadata": {},
     "output_type": "display_data"
    },
    {
     "data": {
      "application/vnd.jupyter.widget-view+json": {
       "model_id": "",
       "version_major": 2,
       "version_minor": 0
      },
      "text/plain": [
       "Validating: 0it [00:00, ?it/s]"
      ]
     },
     "metadata": {},
     "output_type": "display_data"
    },
    {
     "name": "stderr",
     "output_type": "stream",
     "text": [
      "IOPub message rate exceeded.\n",
      "The notebook server will temporarily stop sending output\n",
      "to the client in order to avoid crashing it.\n",
      "To change this limit, set the config variable\n",
      "`--NotebookApp.iopub_msg_rate_limit`.\n",
      "\n",
      "Current values:\n",
      "NotebookApp.iopub_msg_rate_limit=1000.0 (msgs/sec)\n",
      "NotebookApp.rate_limit_window=3.0 (secs)\n",
      "\n"
     ]
    },
    {
     "data": {
      "application/vnd.jupyter.widget-view+json": {
       "model_id": "",
       "version_major": 2,
       "version_minor": 0
      },
      "text/plain": [
       "Validating: 0it [00:00, ?it/s]"
      ]
     },
     "metadata": {},
     "output_type": "display_data"
    },
    {
     "data": {
      "application/vnd.jupyter.widget-view+json": {
       "model_id": "",
       "version_major": 2,
       "version_minor": 0
      },
      "text/plain": [
       "Validating: 0it [00:00, ?it/s]"
      ]
     },
     "metadata": {},
     "output_type": "display_data"
    },
    {
     "data": {
      "application/vnd.jupyter.widget-view+json": {
       "model_id": "",
       "version_major": 2,
       "version_minor": 0
      },
      "text/plain": [
       "Validating: 0it [00:00, ?it/s]"
      ]
     },
     "metadata": {},
     "output_type": "display_data"
    },
    {
     "name": "stderr",
     "output_type": "stream",
     "text": [
      "IOPub message rate exceeded.\n",
      "The notebook server will temporarily stop sending output\n",
      "to the client in order to avoid crashing it.\n",
      "To change this limit, set the config variable\n",
      "`--NotebookApp.iopub_msg_rate_limit`.\n",
      "\n",
      "Current values:\n",
      "NotebookApp.iopub_msg_rate_limit=1000.0 (msgs/sec)\n",
      "NotebookApp.rate_limit_window=3.0 (secs)\n",
      "\n"
     ]
    },
    {
     "data": {
      "application/vnd.jupyter.widget-view+json": {
       "model_id": "",
       "version_major": 2,
       "version_minor": 0
      },
      "text/plain": [
       "Validating: 0it [00:00, ?it/s]"
      ]
     },
     "metadata": {},
     "output_type": "display_data"
    },
    {
     "data": {
      "application/vnd.jupyter.widget-view+json": {
       "model_id": "",
       "version_major": 2,
       "version_minor": 0
      },
      "text/plain": [
       "Validating: 0it [00:00, ?it/s]"
      ]
     },
     "metadata": {},
     "output_type": "display_data"
    },
    {
     "data": {
      "application/vnd.jupyter.widget-view+json": {
       "model_id": "",
       "version_major": 2,
       "version_minor": 0
      },
      "text/plain": [
       "Validating: 0it [00:00, ?it/s]"
      ]
     },
     "metadata": {},
     "output_type": "display_data"
    },
    {
     "data": {
      "application/vnd.jupyter.widget-view+json": {
       "model_id": "",
       "version_major": 2,
       "version_minor": 0
      },
      "text/plain": [
       "Validating: 0it [00:00, ?it/s]"
      ]
     },
     "metadata": {},
     "output_type": "display_data"
    },
    {
     "data": {
      "application/vnd.jupyter.widget-view+json": {
       "model_id": "667626e48495499fafceb920e076a8e5",
       "version_major": 2,
       "version_minor": 0
      },
      "text/plain": [
       "Validating: 0it [00:00, ?it/s]"
      ]
     },
     "metadata": {},
     "output_type": "display_data"
    },
    {
     "name": "stderr",
     "output_type": "stream",
     "text": [
      "IOPub message rate exceeded.\n",
      "The notebook server will temporarily stop sending output\n",
      "to the client in order to avoid crashing it.\n",
      "To change this limit, set the config variable\n",
      "`--NotebookApp.iopub_msg_rate_limit`.\n",
      "\n",
      "Current values:\n",
      "NotebookApp.iopub_msg_rate_limit=1000.0 (msgs/sec)\n",
      "NotebookApp.rate_limit_window=3.0 (secs)\n",
      "\n"
     ]
    },
    {
     "data": {
      "application/vnd.jupyter.widget-view+json": {
       "model_id": "",
       "version_major": 2,
       "version_minor": 0
      },
      "text/plain": [
       "Validating: 0it [00:00, ?it/s]"
      ]
     },
     "metadata": {},
     "output_type": "display_data"
    },
    {
     "data": {
      "application/vnd.jupyter.widget-view+json": {
       "model_id": "",
       "version_major": 2,
       "version_minor": 0
      },
      "text/plain": [
       "Validating: 0it [00:00, ?it/s]"
      ]
     },
     "metadata": {},
     "output_type": "display_data"
    },
    {
     "data": {
      "application/vnd.jupyter.widget-view+json": {
       "model_id": "",
       "version_major": 2,
       "version_minor": 0
      },
      "text/plain": [
       "Validating: 0it [00:00, ?it/s]"
      ]
     },
     "metadata": {},
     "output_type": "display_data"
    },
    {
     "name": "stderr",
     "output_type": "stream",
     "text": [
      "IOPub message rate exceeded.\n",
      "The notebook server will temporarily stop sending output\n",
      "to the client in order to avoid crashing it.\n",
      "To change this limit, set the config variable\n",
      "`--NotebookApp.iopub_msg_rate_limit`.\n",
      "\n",
      "Current values:\n",
      "NotebookApp.iopub_msg_rate_limit=1000.0 (msgs/sec)\n",
      "NotebookApp.rate_limit_window=3.0 (secs)\n",
      "\n",
      "Epoch 5705, global step 553481: train_loss_ssl was not in top 5\n",
      "Epoch 5706, global step 553578: train_loss_ssl was not in top 5\n",
      "Epoch 5707, global step 553675: train_loss_ssl was not in top 5\n",
      "Epoch 5708, global step 553772: train_loss_ssl was not in top 5\n",
      "Epoch 5709, global step 553869: train_loss_ssl was not in top 5\n",
      "IOPub message rate exceeded.\n",
      "The notebook server will temporarily stop sending output\n",
      "to the client in order to avoid crashing it.\n",
      "To change this limit, set the config variable\n",
      "`--NotebookApp.iopub_msg_rate_limit`.\n",
      "\n",
      "Current values:\n",
      "NotebookApp.iopub_msg_rate_limit=1000.0 (msgs/sec)\n",
      "NotebookApp.rate_limit_window=3.0 (secs)\n",
      "\n",
      "Epoch 5719, global step 554839: train_loss_ssl was not in top 5\n",
      "Epoch 5720, global step 554936: train_loss_ssl was not in top 5\n",
      "Epoch 5721, global step 555033: train_loss_ssl was not in top 5\n",
      "IOPub message rate exceeded.\n",
      "The notebook server will temporarily stop sending output\n",
      "to the client in order to avoid crashing it.\n",
      "To change this limit, set the config variable\n",
      "`--NotebookApp.iopub_msg_rate_limit`.\n",
      "\n",
      "Current values:\n",
      "NotebookApp.iopub_msg_rate_limit=1000.0 (msgs/sec)\n",
      "NotebookApp.rate_limit_window=3.0 (secs)\n",
      "\n",
      "Epoch 5748, global step 557652: train_loss_ssl was not in top 5\n",
      "Epoch 5749, global step 557749: train_loss_ssl was not in top 5\n",
      "Epoch 5750, global step 557846: train_loss_ssl was not in top 5\n",
      "Epoch 5751, global step 557943: train_loss_ssl was not in top 5\n",
      "Epoch 5752, global step 558040: train_loss_ssl was not in top 5\n",
      "Epoch 5753, global step 558137: train_loss_ssl was not in top 5\n",
      "IOPub message rate exceeded.\n",
      "The notebook server will temporarily stop sending output\n",
      "to the client in order to avoid crashing it.\n",
      "To change this limit, set the config variable\n",
      "`--NotebookApp.iopub_msg_rate_limit`.\n",
      "\n",
      "Current values:\n",
      "NotebookApp.iopub_msg_rate_limit=1000.0 (msgs/sec)\n",
      "NotebookApp.rate_limit_window=3.0 (secs)\n",
      "\n",
      "Epoch 5762, global step 559010: train_loss_ssl was not in top 5\n",
      "Epoch 5763, global step 559107: train_loss_ssl was not in top 5\n",
      "Epoch 5764, global step 559204: train_loss_ssl was not in top 5\n",
      "Epoch 5765, global step 559301: train_loss_ssl was not in top 5\n",
      "IOPub message rate exceeded.\n",
      "The notebook server will temporarily stop sending output\n",
      "to the client in order to avoid crashing it.\n",
      "To change this limit, set the config variable\n",
      "`--NotebookApp.iopub_msg_rate_limit`.\n",
      "\n",
      "Current values:\n",
      "NotebookApp.iopub_msg_rate_limit=1000.0 (msgs/sec)\n",
      "NotebookApp.rate_limit_window=3.0 (secs)\n",
      "\n",
      "Epoch 5792, global step 561920: train_loss_ssl was not in top 5\n",
      "Epoch 5793, global step 562017: train_loss_ssl was not in top 5\n",
      "Epoch 5794, global step 562114: train_loss_ssl was not in top 5\n",
      "Epoch 5795, global step 562211: train_loss_ssl was not in top 5\n",
      "Epoch 5796, global step 562308: train_loss_ssl was not in top 5\n",
      "IOPub message rate exceeded.\n",
      "The notebook server will temporarily stop sending output\n",
      "to the client in order to avoid crashing it.\n",
      "To change this limit, set the config variable\n",
      "`--NotebookApp.iopub_msg_rate_limit`.\n",
      "\n",
      "Current values:\n",
      "NotebookApp.iopub_msg_rate_limit=1000.0 (msgs/sec)\n",
      "NotebookApp.rate_limit_window=3.0 (secs)\n",
      "\n",
      "Epoch 5806, global step 563278: train_loss_ssl was not in top 5\n",
      "Epoch 5807, global step 563375: train_loss_ssl was not in top 5\n",
      "Epoch 5808, global step 563472: train_loss_ssl was not in top 5\n",
      "Epoch 5809, global step 563569: train_loss_ssl was not in top 5\n",
      "IOPub message rate exceeded.\n",
      "The notebook server will temporarily stop sending output\n",
      "to the client in order to avoid crashing it.\n",
      "To change this limit, set the config variable\n",
      "`--NotebookApp.iopub_msg_rate_limit`.\n",
      "\n",
      "Current values:\n",
      "NotebookApp.iopub_msg_rate_limit=1000.0 (msgs/sec)\n",
      "NotebookApp.rate_limit_window=3.0 (secs)\n",
      "\n",
      "Epoch 5837, global step 566285: train_loss_ssl was not in top 5\n",
      "Epoch 5838, global step 566382: train_loss_ssl was not in top 5\n",
      "Epoch 5839, global step 566479: train_loss_ssl was not in top 5\n",
      "Epoch 5840, global step 566576: train_loss_ssl was not in top 5\n",
      "Epoch 5841, global step 566673: train_loss_ssl was not in top 5\n",
      "IOPub message rate exceeded.\n",
      "The notebook server will temporarily stop sending output\n",
      "to the client in order to avoid crashing it.\n",
      "To change this limit, set the config variable\n",
      "`--NotebookApp.iopub_msg_rate_limit`.\n",
      "\n",
      "Current values:\n",
      "NotebookApp.iopub_msg_rate_limit=1000.0 (msgs/sec)\n",
      "NotebookApp.rate_limit_window=3.0 (secs)\n",
      "\n",
      "Epoch 5850, global step 567546: train_loss_ssl was not in top 5\n",
      "Epoch 5851, global step 567643: train_loss_ssl was not in top 5\n",
      "Epoch 5852, global step 567740: train_loss_ssl was not in top 5\n",
      "Epoch 5853, global step 567837: train_loss_ssl was not in top 5\n",
      "IOPub message rate exceeded.\n",
      "The notebook server will temporarily stop sending output\n",
      "to the client in order to avoid crashing it.\n",
      "To change this limit, set the config variable\n",
      "`--NotebookApp.iopub_msg_rate_limit`.\n",
      "\n",
      "Current values:\n",
      "NotebookApp.iopub_msg_rate_limit=1000.0 (msgs/sec)\n",
      "NotebookApp.rate_limit_window=3.0 (secs)\n",
      "\n",
      "Epoch 5881, global step 570553: train_loss_ssl was not in top 5\n",
      "Epoch 5882, global step 570650: train_loss_ssl was not in top 5\n",
      "Epoch 5883, global step 570747: train_loss_ssl was not in top 5\n",
      "Epoch 5884, global step 570844: train_loss_ssl was not in top 5\n",
      "Epoch 5885, global step 570941: train_loss_ssl was not in top 5\n",
      "IOPub message rate exceeded.\n",
      "The notebook server will temporarily stop sending output\n",
      "to the client in order to avoid crashing it.\n",
      "To change this limit, set the config variable\n",
      "`--NotebookApp.iopub_msg_rate_limit`.\n",
      "\n",
      "Current values:\n",
      "NotebookApp.iopub_msg_rate_limit=1000.0 (msgs/sec)\n",
      "NotebookApp.rate_limit_window=3.0 (secs)\n",
      "\n",
      "Epoch 5894, global step 571814: train_loss_ssl was not in top 5\n",
      "Epoch 5895, global step 571911: train_loss_ssl was not in top 5\n",
      "Epoch 5896, global step 572008: train_loss_ssl was not in top 5\n",
      "Epoch 5897, global step 572105: train_loss_ssl was not in top 5\n",
      "IOPub message rate exceeded.\n",
      "The notebook server will temporarily stop sending output\n",
      "to the client in order to avoid crashing it.\n",
      "To change this limit, set the config variable\n",
      "`--NotebookApp.iopub_msg_rate_limit`.\n",
      "\n",
      "Current values:\n",
      "NotebookApp.iopub_msg_rate_limit=1000.0 (msgs/sec)\n",
      "NotebookApp.rate_limit_window=3.0 (secs)\n",
      "\n",
      "Epoch 5924, global step 574724: train_loss_ssl was not in top 5\n",
      "Epoch 5925, global step 574821: train_loss_ssl was not in top 5\n",
      "Epoch 5926, global step 574918: train_loss_ssl was not in top 5\n",
      "Epoch 5927, global step 575015: train_loss_ssl was not in top 5\n",
      "Epoch 5928, global step 575112: train_loss_ssl was not in top 5\n",
      "IOPub message rate exceeded.\n",
      "The notebook server will temporarily stop sending output\n",
      "to the client in order to avoid crashing it.\n",
      "To change this limit, set the config variable\n",
      "`--NotebookApp.iopub_msg_rate_limit`.\n",
      "\n",
      "Current values:\n",
      "NotebookApp.iopub_msg_rate_limit=1000.0 (msgs/sec)\n",
      "NotebookApp.rate_limit_window=3.0 (secs)\n",
      "\n",
      "Epoch 5939, global step 576179: train_loss_ssl was not in top 5\n",
      "Epoch 5940, global step 576276: train_loss_ssl was not in top 5\n",
      "Epoch 5941, global step 576373: train_loss_ssl was not in top 5\n",
      "IOPub message rate exceeded.\n",
      "The notebook server will temporarily stop sending output\n",
      "to the client in order to avoid crashing it.\n",
      "To change this limit, set the config variable\n",
      "`--NotebookApp.iopub_msg_rate_limit`.\n",
      "\n",
      "Current values:\n",
      "NotebookApp.iopub_msg_rate_limit=1000.0 (msgs/sec)\n",
      "NotebookApp.rate_limit_window=3.0 (secs)\n",
      "\n",
      "Epoch 5968, global step 578992: train_loss_ssl was not in top 5\n",
      "Epoch 5969, global step 579089: train_loss_ssl was not in top 5\n",
      "Epoch 5970, global step 579186: train_loss_ssl was not in top 5\n",
      "Epoch 5971, global step 579283: train_loss_ssl was not in top 5\n",
      "Epoch 5972, global step 579380: train_loss_ssl was not in top 5\n",
      "IOPub message rate exceeded.\n",
      "The notebook server will temporarily stop sending output\n",
      "to the client in order to avoid crashing it.\n",
      "To change this limit, set the config variable\n",
      "`--NotebookApp.iopub_msg_rate_limit`.\n",
      "\n",
      "Current values:\n",
      "NotebookApp.iopub_msg_rate_limit=1000.0 (msgs/sec)\n",
      "NotebookApp.rate_limit_window=3.0 (secs)\n",
      "\n"
     ]
    },
    {
     "name": "stderr",
     "output_type": "stream",
     "text": [
      "Epoch 5982, global step 580350: train_loss_ssl was not in top 5\n",
      "Epoch 5983, global step 580447: train_loss_ssl reached 1.77703 (best 1.77120), saving model to \"/home/shatz/Documents/more_better/saved_models/resnet_moco/epoch=5983-train_loss_ssl=1.78.ckpt\" as top 5\n",
      "Epoch 5984, global step 580544: train_loss_ssl was not in top 5\n",
      "Epoch 5985, global step 580641: train_loss_ssl was not in top 5\n",
      "IOPub message rate exceeded.\n",
      "The notebook server will temporarily stop sending output\n",
      "to the client in order to avoid crashing it.\n",
      "To change this limit, set the config variable\n",
      "`--NotebookApp.iopub_msg_rate_limit`.\n",
      "\n",
      "Current values:\n",
      "NotebookApp.iopub_msg_rate_limit=1000.0 (msgs/sec)\n",
      "NotebookApp.rate_limit_window=3.0 (secs)\n",
      "\n"
     ]
    },
    {
     "data": {
      "application/vnd.jupyter.widget-view+json": {
       "model_id": "",
       "version_major": 2,
       "version_minor": 0
      },
      "text/plain": [
       "Validating: 0it [00:00, ?it/s]"
      ]
     },
     "metadata": {},
     "output_type": "display_data"
    },
    {
     "data": {
      "application/vnd.jupyter.widget-view+json": {
       "model_id": "",
       "version_major": 2,
       "version_minor": 0
      },
      "text/plain": [
       "Validating: 0it [00:00, ?it/s]"
      ]
     },
     "metadata": {},
     "output_type": "display_data"
    },
    {
     "data": {
      "application/vnd.jupyter.widget-view+json": {
       "model_id": "",
       "version_major": 2,
       "version_minor": 0
      },
      "text/plain": [
       "Validating: 0it [00:00, ?it/s]"
      ]
     },
     "metadata": {},
     "output_type": "display_data"
    },
    {
     "data": {
      "application/vnd.jupyter.widget-view+json": {
       "model_id": "",
       "version_major": 2,
       "version_minor": 0
      },
      "text/plain": [
       "Validating: 0it [00:00, ?it/s]"
      ]
     },
     "metadata": {},
     "output_type": "display_data"
    },
    {
     "name": "stderr",
     "output_type": "stream",
     "text": [
      "IOPub message rate exceeded.\n",
      "The notebook server will temporarily stop sending output\n",
      "to the client in order to avoid crashing it.\n",
      "To change this limit, set the config variable\n",
      "`--NotebookApp.iopub_msg_rate_limit`.\n",
      "\n",
      "Current values:\n",
      "NotebookApp.iopub_msg_rate_limit=1000.0 (msgs/sec)\n",
      "NotebookApp.rate_limit_window=3.0 (secs)\n",
      "\n"
     ]
    },
    {
     "data": {
      "application/vnd.jupyter.widget-view+json": {
       "model_id": "",
       "version_major": 2,
       "version_minor": 0
      },
      "text/plain": [
       "Validating: 0it [00:00, ?it/s]"
      ]
     },
     "metadata": {},
     "output_type": "display_data"
    },
    {
     "data": {
      "application/vnd.jupyter.widget-view+json": {
       "model_id": "",
       "version_major": 2,
       "version_minor": 0
      },
      "text/plain": [
       "Validating: 0it [00:00, ?it/s]"
      ]
     },
     "metadata": {},
     "output_type": "display_data"
    },
    {
     "data": {
      "application/vnd.jupyter.widget-view+json": {
       "model_id": "",
       "version_major": 2,
       "version_minor": 0
      },
      "text/plain": [
       "Validating: 0it [00:00, ?it/s]"
      ]
     },
     "metadata": {},
     "output_type": "display_data"
    },
    {
     "name": "stderr",
     "output_type": "stream",
     "text": [
      "IOPub message rate exceeded.\n",
      "The notebook server will temporarily stop sending output\n",
      "to the client in order to avoid crashing it.\n",
      "To change this limit, set the config variable\n",
      "`--NotebookApp.iopub_msg_rate_limit`.\n",
      "\n",
      "Current values:\n",
      "NotebookApp.iopub_msg_rate_limit=1000.0 (msgs/sec)\n",
      "NotebookApp.rate_limit_window=3.0 (secs)\n",
      "\n"
     ]
    },
    {
     "data": {
      "application/vnd.jupyter.widget-view+json": {
       "model_id": "",
       "version_major": 2,
       "version_minor": 0
      },
      "text/plain": [
       "Validating: 0it [00:00, ?it/s]"
      ]
     },
     "metadata": {},
     "output_type": "display_data"
    },
    {
     "data": {
      "application/vnd.jupyter.widget-view+json": {
       "model_id": "",
       "version_major": 2,
       "version_minor": 0
      },
      "text/plain": [
       "Validating: 0it [00:00, ?it/s]"
      ]
     },
     "metadata": {},
     "output_type": "display_data"
    },
    {
     "data": {
      "application/vnd.jupyter.widget-view+json": {
       "model_id": "",
       "version_major": 2,
       "version_minor": 0
      },
      "text/plain": [
       "Validating: 0it [00:00, ?it/s]"
      ]
     },
     "metadata": {},
     "output_type": "display_data"
    },
    {
     "data": {
      "application/vnd.jupyter.widget-view+json": {
       "model_id": "",
       "version_major": 2,
       "version_minor": 0
      },
      "text/plain": [
       "Validating: 0it [00:00, ?it/s]"
      ]
     },
     "metadata": {},
     "output_type": "display_data"
    },
    {
     "name": "stderr",
     "output_type": "stream",
     "text": [
      "IOPub message rate exceeded.\n",
      "The notebook server will temporarily stop sending output\n",
      "to the client in order to avoid crashing it.\n",
      "To change this limit, set the config variable\n",
      "`--NotebookApp.iopub_msg_rate_limit`.\n",
      "\n",
      "Current values:\n",
      "NotebookApp.iopub_msg_rate_limit=1000.0 (msgs/sec)\n",
      "NotebookApp.rate_limit_window=3.0 (secs)\n",
      "\n"
     ]
    },
    {
     "data": {
      "application/vnd.jupyter.widget-view+json": {
       "model_id": "",
       "version_major": 2,
       "version_minor": 0
      },
      "text/plain": [
       "Validating: 0it [00:00, ?it/s]"
      ]
     },
     "metadata": {},
     "output_type": "display_data"
    },
    {
     "data": {
      "application/vnd.jupyter.widget-view+json": {
       "model_id": "",
       "version_major": 2,
       "version_minor": 0
      },
      "text/plain": [
       "Validating: 0it [00:00, ?it/s]"
      ]
     },
     "metadata": {},
     "output_type": "display_data"
    },
    {
     "data": {
      "application/vnd.jupyter.widget-view+json": {
       "model_id": "",
       "version_major": 2,
       "version_minor": 0
      },
      "text/plain": [
       "Validating: 0it [00:00, ?it/s]"
      ]
     },
     "metadata": {},
     "output_type": "display_data"
    },
    {
     "name": "stderr",
     "output_type": "stream",
     "text": [
      "IOPub message rate exceeded.\n",
      "The notebook server will temporarily stop sending output\n",
      "to the client in order to avoid crashing it.\n",
      "To change this limit, set the config variable\n",
      "`--NotebookApp.iopub_msg_rate_limit`.\n",
      "\n",
      "Current values:\n",
      "NotebookApp.iopub_msg_rate_limit=1000.0 (msgs/sec)\n",
      "NotebookApp.rate_limit_window=3.0 (secs)\n",
      "\n",
      "Epoch 6024, global step 584424: train_loss_ssl was not in top 5\n",
      "Epoch 6025, global step 584521: train_loss_ssl was not in top 5\n",
      "Epoch 6026, global step 584618: train_loss_ssl was not in top 5\n",
      "Epoch 6027, global step 584715: train_loss_ssl was not in top 5\n",
      "Epoch 6028, global step 584812: train_loss_ssl was not in top 5\n",
      "Epoch 6029, global step 584909: train_loss_ssl was not in top 5\n",
      "IOPub message rate exceeded.\n",
      "The notebook server will temporarily stop sending output\n",
      "to the client in order to avoid crashing it.\n",
      "To change this limit, set the config variable\n",
      "`--NotebookApp.iopub_msg_rate_limit`.\n",
      "\n",
      "Current values:\n",
      "NotebookApp.iopub_msg_rate_limit=1000.0 (msgs/sec)\n",
      "NotebookApp.rate_limit_window=3.0 (secs)\n",
      "\n",
      "Epoch 6039, global step 585879: train_loss_ssl was not in top 5\n",
      "Epoch 6040, global step 585976: train_loss_ssl was not in top 5\n",
      "Epoch 6041, global step 586073: train_loss_ssl was not in top 5\n",
      "IOPub message rate exceeded.\n",
      "The notebook server will temporarily stop sending output\n",
      "to the client in order to avoid crashing it.\n",
      "To change this limit, set the config variable\n",
      "`--NotebookApp.iopub_msg_rate_limit`.\n",
      "\n",
      "Current values:\n",
      "NotebookApp.iopub_msg_rate_limit=1000.0 (msgs/sec)\n",
      "NotebookApp.rate_limit_window=3.0 (secs)\n",
      "\n",
      "Epoch 6068, global step 588692: train_loss_ssl was not in top 5\n",
      "Epoch 6069, global step 588789: train_loss_ssl was not in top 5\n",
      "Epoch 6070, global step 588886: train_loss_ssl was not in top 5\n",
      "Epoch 6071, global step 588983: train_loss_ssl was not in top 5\n",
      "Epoch 6072, global step 589080: train_loss_ssl was not in top 5\n",
      "Epoch 6073, global step 589177: train_loss_ssl was not in top 5\n",
      "IOPub message rate exceeded.\n",
      "The notebook server will temporarily stop sending output\n",
      "to the client in order to avoid crashing it.\n",
      "To change this limit, set the config variable\n",
      "`--NotebookApp.iopub_msg_rate_limit`.\n",
      "\n",
      "Current values:\n",
      "NotebookApp.iopub_msg_rate_limit=1000.0 (msgs/sec)\n",
      "NotebookApp.rate_limit_window=3.0 (secs)\n",
      "\n",
      "Epoch 6083, global step 590147: train_loss_ssl was not in top 5\n",
      "Epoch 6084, global step 590244: train_loss_ssl was not in top 5\n",
      "Epoch 6085, global step 590341: train_loss_ssl was not in top 5\n",
      "Epoch 6086, global step 590438: train_loss_ssl was not in top 5\n",
      "Epoch 6087, global step 590535: train_loss_ssl was not in top 5\n",
      "Epoch 6088, global step 590632: train_loss_ssl was not in top 5\n",
      "Epoch 6089, global step 590729: train_loss_ssl was not in top 5\n",
      "Epoch 6090, global step 590826: train_loss_ssl was not in top 5\n",
      "Epoch 6091, global step 590923: train_loss_ssl was not in top 5\n",
      "IOPub message rate exceeded.\n",
      "The notebook server will temporarily stop sending output\n",
      "to the client in order to avoid crashing it.\n",
      "To change this limit, set the config variable\n",
      "`--NotebookApp.iopub_msg_rate_limit`.\n",
      "\n",
      "Current values:\n",
      "NotebookApp.iopub_msg_rate_limit=1000.0 (msgs/sec)\n",
      "NotebookApp.rate_limit_window=3.0 (secs)\n",
      "\n",
      "Epoch 6098, global step 591602: train_loss_ssl was not in top 5\n",
      "Epoch 6099, global step 591699: train_loss_ssl was not in top 5\n",
      "IOPub message rate exceeded.\n",
      "The notebook server will temporarily stop sending output\n",
      "to the client in order to avoid crashing it.\n",
      "To change this limit, set the config variable\n",
      "`--NotebookApp.iopub_msg_rate_limit`.\n",
      "\n",
      "Current values:\n",
      "NotebookApp.iopub_msg_rate_limit=1000.0 (msgs/sec)\n",
      "NotebookApp.rate_limit_window=3.0 (secs)\n",
      "\n",
      "Epoch 6128, global step 594512: train_loss_ssl was not in top 5\n",
      "Epoch 6129, global step 594609: train_loss_ssl was not in top 5\n",
      "Epoch 6130, global step 594706: train_loss_ssl was not in top 5\n",
      "Epoch 6131, global step 594803: train_loss_ssl was not in top 5\n",
      "Epoch 6132, global step 594900: train_loss_ssl was not in top 5\n",
      "Epoch 6133, global step 594997: train_loss_ssl was not in top 5\n",
      "Epoch 6134, global step 595094: train_loss_ssl was not in top 5\n",
      "IOPub message rate exceeded.\n",
      "The notebook server will temporarily stop sending output\n",
      "to the client in order to avoid crashing it.\n",
      "To change this limit, set the config variable\n",
      "`--NotebookApp.iopub_msg_rate_limit`.\n",
      "\n",
      "Current values:\n",
      "NotebookApp.iopub_msg_rate_limit=1000.0 (msgs/sec)\n",
      "NotebookApp.rate_limit_window=3.0 (secs)\n",
      "\n",
      "Epoch 6139, global step 595579: train_loss_ssl was not in top 5\n",
      "Epoch 6140, global step 595676: train_loss_ssl was not in top 5\n",
      "IOPub message rate exceeded.\n",
      "The notebook server will temporarily stop sending output\n",
      "to the client in order to avoid crashing it.\n",
      "To change this limit, set the config variable\n",
      "`--NotebookApp.iopub_msg_rate_limit`.\n",
      "\n",
      "Current values:\n",
      "NotebookApp.iopub_msg_rate_limit=1000.0 (msgs/sec)\n",
      "NotebookApp.rate_limit_window=3.0 (secs)\n",
      "\n",
      "Epoch 6163, global step 597907: train_loss_ssl was not in top 5\n",
      "Epoch 6164, global step 598004: train_loss_ssl was not in top 5\n",
      "Epoch 6165, global step 598101: train_loss_ssl was not in top 5\n",
      "Epoch 6166, global step 598198: train_loss_ssl was not in top 5\n",
      "Epoch 6167, global step 598295: train_loss_ssl was not in top 5\n",
      "Epoch 6168, global step 598392: train_loss_ssl was not in top 5\n",
      "Epoch 6169, global step 598489: train_loss_ssl was not in top 5\n",
      "IOPub message rate exceeded.\n",
      "The notebook server will temporarily stop sending output\n",
      "to the client in order to avoid crashing it.\n",
      "To change this limit, set the config variable\n",
      "`--NotebookApp.iopub_msg_rate_limit`.\n",
      "\n",
      "Current values:\n",
      "NotebookApp.iopub_msg_rate_limit=1000.0 (msgs/sec)\n",
      "NotebookApp.rate_limit_window=3.0 (secs)\n",
      "\n",
      "Epoch 6176, global step 599168: train_loss_ssl was not in top 5\n",
      "Epoch 6177, global step 599265: train_loss_ssl was not in top 5\n",
      "IOPub message rate exceeded.\n",
      "The notebook server will temporarily stop sending output\n",
      "to the client in order to avoid crashing it.\n",
      "To change this limit, set the config variable\n",
      "`--NotebookApp.iopub_msg_rate_limit`.\n",
      "\n",
      "Current values:\n",
      "NotebookApp.iopub_msg_rate_limit=1000.0 (msgs/sec)\n",
      "NotebookApp.rate_limit_window=3.0 (secs)\n",
      "\n",
      "Epoch 6207, global step 602175: train_loss_ssl was not in top 5\n",
      "Epoch 6208, global step 602272: train_loss_ssl was not in top 5\n",
      "Epoch 6209, global step 602369: train_loss_ssl was not in top 5\n",
      "Epoch 6210, global step 602466: train_loss_ssl was not in top 5\n",
      "Epoch 6211, global step 602563: train_loss_ssl was not in top 5\n",
      "Epoch 6212, global step 602660: train_loss_ssl was not in top 5\n",
      "Epoch 6213, global step 602757: train_loss_ssl was not in top 5\n",
      "IOPub message rate exceeded.\n",
      "The notebook server will temporarily stop sending output\n",
      "to the client in order to avoid crashing it.\n",
      "To change this limit, set the config variable\n",
      "`--NotebookApp.iopub_msg_rate_limit`.\n",
      "\n",
      "Current values:\n",
      "NotebookApp.iopub_msg_rate_limit=1000.0 (msgs/sec)\n",
      "NotebookApp.rate_limit_window=3.0 (secs)\n",
      "\n",
      "Epoch 6219, global step 603339: train_loss_ssl was not in top 5\n",
      "Epoch 6220, global step 603436: train_loss_ssl was not in top 5\n",
      "IOPub message rate exceeded.\n",
      "The notebook server will temporarily stop sending output\n",
      "to the client in order to avoid crashing it.\n",
      "To change this limit, set the config variable\n",
      "`--NotebookApp.iopub_msg_rate_limit`.\n",
      "\n",
      "Current values:\n",
      "NotebookApp.iopub_msg_rate_limit=1000.0 (msgs/sec)\n",
      "NotebookApp.rate_limit_window=3.0 (secs)\n",
      "\n",
      "Epoch 6251, global step 606443: train_loss_ssl was not in top 5\n",
      "Epoch 6252, global step 606540: train_loss_ssl was not in top 5\n",
      "Epoch 6253, global step 606637: train_loss_ssl was not in top 5\n",
      "Epoch 6254, global step 606734: train_loss_ssl was not in top 5\n",
      "Epoch 6255, global step 606831: train_loss_ssl was not in top 5\n",
      "Epoch 6256, global step 606928: train_loss_ssl was not in top 5\n",
      "IOPub message rate exceeded.\n",
      "The notebook server will temporarily stop sending output\n",
      "to the client in order to avoid crashing it.\n",
      "To change this limit, set the config variable\n",
      "`--NotebookApp.iopub_msg_rate_limit`.\n",
      "\n",
      "Current values:\n",
      "NotebookApp.iopub_msg_rate_limit=1000.0 (msgs/sec)\n",
      "NotebookApp.rate_limit_window=3.0 (secs)\n",
      "\n",
      "Epoch 6262, global step 607510: train_loss_ssl was not in top 5\n",
      "Epoch 6263, global step 607607: train_loss_ssl was not in top 5\n",
      "IOPub message rate exceeded.\n",
      "The notebook server will temporarily stop sending output\n",
      "to the client in order to avoid crashing it.\n",
      "To change this limit, set the config variable\n",
      "`--NotebookApp.iopub_msg_rate_limit`.\n",
      "\n",
      "Current values:\n",
      "NotebookApp.iopub_msg_rate_limit=1000.0 (msgs/sec)\n",
      "NotebookApp.rate_limit_window=3.0 (secs)\n",
      "\n"
     ]
    },
    {
     "name": "stderr",
     "output_type": "stream",
     "text": [
      "Epoch 6295, global step 610711: train_loss_ssl was not in top 5\n",
      "Epoch 6296, global step 610808: train_loss_ssl was not in top 5\n",
      "Epoch 6297, global step 610905: train_loss_ssl was not in top 5\n",
      "Epoch 6298, global step 611002: train_loss_ssl was not in top 5\n",
      "Epoch 6299, global step 611099: train_loss_ssl was not in top 5\n",
      "GPU available: True, used: True\n",
      "TPU available: False, using: 0 TPU cores\n",
      "IPU available: False, using: 0 IPUs\n",
      "LOCAL_RANK: 0 - CUDA_VISIBLE_DEVICES: [0]\n",
      "\n",
      "  | Name        | Type       | Params\n",
      "-------------------------------------------\n",
      "0 | resnet_moco | MoCo       | 23.0 M\n",
      "1 | fc          | Sequential | 267 K \n",
      "2 | accuracy    | Accuracy   | 0     \n",
      "-------------------------------------------\n",
      "267 K     Trainable params\n",
      "23.0 M    Non-trainable params\n",
      "23.3 M    Total params\n",
      "93.048    Total estimated model params size (MB)\n"
     ]
    },
    {
     "name": "stdout",
     "output_type": "stream",
     "text": [
      "... training downstream classifier...\n"
     ]
    },
    {
     "data": {
      "application/vnd.jupyter.widget-view+json": {
       "model_id": "",
       "version_major": 2,
       "version_minor": 0
      },
      "text/plain": [
       "Validation sanity check: 0it [00:00, ?it/s]"
      ]
     },
     "metadata": {},
     "output_type": "display_data"
    },
    {
     "data": {
      "application/vnd.jupyter.widget-view+json": {
       "model_id": "fae7badea9fb4e268e47c09cc4fd3370",
       "version_major": 2,
       "version_minor": 0
      },
      "text/plain": [
       "Training: -1it [00:00, ?it/s]"
      ]
     },
     "metadata": {},
     "output_type": "display_data"
    },
    {
     "name": "stderr",
     "output_type": "stream",
     "text": [
      "IOPub message rate exceeded.\n",
      "The notebook server will temporarily stop sending output\n",
      "to the client in order to avoid crashing it.\n",
      "To change this limit, set the config variable\n",
      "`--NotebookApp.iopub_msg_rate_limit`.\n",
      "\n",
      "Current values:\n",
      "NotebookApp.iopub_msg_rate_limit=1000.0 (msgs/sec)\n",
      "NotebookApp.rate_limit_window=3.0 (secs)\n",
      "\n"
     ]
    },
    {
     "data": {
      "application/vnd.jupyter.widget-view+json": {
       "model_id": "",
       "version_major": 2,
       "version_minor": 0
      },
      "text/plain": [
       "Validating: 0it [00:00, ?it/s]"
      ]
     },
     "metadata": {},
     "output_type": "display_data"
    },
    {
     "data": {
      "application/vnd.jupyter.widget-view+json": {
       "model_id": "",
       "version_major": 2,
       "version_minor": 0
      },
      "text/plain": [
       "Validating: 0it [00:00, ?it/s]"
      ]
     },
     "metadata": {},
     "output_type": "display_data"
    },
    {
     "name": "stderr",
     "output_type": "stream",
     "text": [
      "IOPub message rate exceeded.\n",
      "The notebook server will temporarily stop sending output\n",
      "to the client in order to avoid crashing it.\n",
      "To change this limit, set the config variable\n",
      "`--NotebookApp.iopub_msg_rate_limit`.\n",
      "\n",
      "Current values:\n",
      "NotebookApp.iopub_msg_rate_limit=1000.0 (msgs/sec)\n",
      "NotebookApp.rate_limit_window=3.0 (secs)\n",
      "\n"
     ]
    },
    {
     "data": {
      "application/vnd.jupyter.widget-view+json": {
       "model_id": "",
       "version_major": 2,
       "version_minor": 0
      },
      "text/plain": [
       "Validating: 0it [00:00, ?it/s]"
      ]
     },
     "metadata": {},
     "output_type": "display_data"
    },
    {
     "data": {
      "application/vnd.jupyter.widget-view+json": {
       "model_id": "",
       "version_major": 2,
       "version_minor": 0
      },
      "text/plain": [
       "Validating: 0it [00:00, ?it/s]"
      ]
     },
     "metadata": {},
     "output_type": "display_data"
    },
    {
     "data": {
      "application/vnd.jupyter.widget-view+json": {
       "model_id": "",
       "version_major": 2,
       "version_minor": 0
      },
      "text/plain": [
       "Validating: 0it [00:00, ?it/s]"
      ]
     },
     "metadata": {},
     "output_type": "display_data"
    },
    {
     "data": {
      "application/vnd.jupyter.widget-view+json": {
       "model_id": "",
       "version_major": 2,
       "version_minor": 0
      },
      "text/plain": [
       "Validating: 0it [00:00, ?it/s]"
      ]
     },
     "metadata": {},
     "output_type": "display_data"
    },
    {
     "data": {
      "application/vnd.jupyter.widget-view+json": {
       "model_id": "",
       "version_major": 2,
       "version_minor": 0
      },
      "text/plain": [
       "Validating: 0it [00:00, ?it/s]"
      ]
     },
     "metadata": {},
     "output_type": "display_data"
    },
    {
     "name": "stderr",
     "output_type": "stream",
     "text": [
      "IOPub message rate exceeded.\n",
      "The notebook server will temporarily stop sending output\n",
      "to the client in order to avoid crashing it.\n",
      "To change this limit, set the config variable\n",
      "`--NotebookApp.iopub_msg_rate_limit`.\n",
      "\n",
      "Current values:\n",
      "NotebookApp.iopub_msg_rate_limit=1000.0 (msgs/sec)\n",
      "NotebookApp.rate_limit_window=3.0 (secs)\n",
      "\n"
     ]
    },
    {
     "data": {
      "application/vnd.jupyter.widget-view+json": {
       "model_id": "",
       "version_major": 2,
       "version_minor": 0
      },
      "text/plain": [
       "Validating: 0it [00:00, ?it/s]"
      ]
     },
     "metadata": {},
     "output_type": "display_data"
    },
    {
     "data": {
      "application/vnd.jupyter.widget-view+json": {
       "model_id": "",
       "version_major": 2,
       "version_minor": 0
      },
      "text/plain": [
       "Validating: 0it [00:00, ?it/s]"
      ]
     },
     "metadata": {},
     "output_type": "display_data"
    },
    {
     "name": "stderr",
     "output_type": "stream",
     "text": [
      "IOPub message rate exceeded.\n",
      "The notebook server will temporarily stop sending output\n",
      "to the client in order to avoid crashing it.\n",
      "To change this limit, set the config variable\n",
      "`--NotebookApp.iopub_msg_rate_limit`.\n",
      "\n",
      "Current values:\n",
      "NotebookApp.iopub_msg_rate_limit=1000.0 (msgs/sec)\n",
      "NotebookApp.rate_limit_window=3.0 (secs)\n",
      "\n",
      "Epoch 6307, global step 611875: train_loss_ssl was not in top 5\n",
      "Epoch 6308, global step 611972: train_loss_ssl was not in top 5\n",
      "Epoch 6309, global step 612069: train_loss_ssl was not in top 5\n",
      "Epoch 6310, global step 612166: train_loss_ssl was not in top 5\n",
      "Epoch 6311, global step 612263: train_loss_ssl was not in top 5\n",
      "Epoch 6312, global step 612360: train_loss_ssl was not in top 5\n",
      "IOPub message rate exceeded.\n",
      "The notebook server will temporarily stop sending output\n",
      "to the client in order to avoid crashing it.\n",
      "To change this limit, set the config variable\n",
      "`--NotebookApp.iopub_msg_rate_limit`.\n",
      "\n",
      "Current values:\n",
      "NotebookApp.iopub_msg_rate_limit=1000.0 (msgs/sec)\n",
      "NotebookApp.rate_limit_window=3.0 (secs)\n",
      "\n",
      "Epoch 6319, global step 613039: train_loss_ssl was not in top 5\n",
      "Epoch 6320, global step 613136: train_loss_ssl was not in top 5\n",
      "IOPub message rate exceeded.\n",
      "The notebook server will temporarily stop sending output\n",
      "to the client in order to avoid crashing it.\n",
      "To change this limit, set the config variable\n",
      "`--NotebookApp.iopub_msg_rate_limit`.\n",
      "\n",
      "Current values:\n",
      "NotebookApp.iopub_msg_rate_limit=1000.0 (msgs/sec)\n",
      "NotebookApp.rate_limit_window=3.0 (secs)\n",
      "\n",
      "Epoch 6351, global step 616143: train_loss_ssl was not in top 5\n",
      "Epoch 6352, global step 616240: train_loss_ssl was not in top 5\n",
      "Epoch 6353, global step 616337: train_loss_ssl was not in top 5\n",
      "Epoch 6354, global step 616434: train_loss_ssl was not in top 5\n",
      "Epoch 6355, global step 616531: train_loss_ssl was not in top 5\n",
      "Epoch 6356, global step 616628: train_loss_ssl reached 1.78279 (best 1.77120), saving model to \"/home/shatz/Documents/more_better/saved_models/resnet_moco/epoch=6356-train_loss_ssl=1.78.ckpt\" as top 5\n",
      "Epoch 6357, global step 616725: train_loss_ssl was not in top 5\n",
      "IOPub message rate exceeded.\n",
      "The notebook server will temporarily stop sending output\n",
      "to the client in order to avoid crashing it.\n",
      "To change this limit, set the config variable\n",
      "`--NotebookApp.iopub_msg_rate_limit`.\n",
      "\n",
      "Current values:\n",
      "NotebookApp.iopub_msg_rate_limit=1000.0 (msgs/sec)\n",
      "NotebookApp.rate_limit_window=3.0 (secs)\n",
      "\n",
      "Epoch 6363, global step 617307: train_loss_ssl was not in top 5\n",
      "Epoch 6364, global step 617404: train_loss_ssl was not in top 5\n",
      "IOPub message rate exceeded.\n",
      "The notebook server will temporarily stop sending output\n",
      "to the client in order to avoid crashing it.\n",
      "To change this limit, set the config variable\n",
      "`--NotebookApp.iopub_msg_rate_limit`.\n",
      "\n",
      "Current values:\n",
      "NotebookApp.iopub_msg_rate_limit=1000.0 (msgs/sec)\n",
      "NotebookApp.rate_limit_window=3.0 (secs)\n",
      "\n",
      "Epoch 6395, global step 620411: train_loss_ssl was not in top 5\n",
      "Epoch 6396, global step 620508: train_loss_ssl was not in top 5\n",
      "Epoch 6397, global step 620605: train_loss_ssl was not in top 5\n",
      "Epoch 6398, global step 620702: train_loss_ssl was not in top 5\n",
      "Epoch 6399, global step 620799: train_loss_ssl was not in top 5\n",
      "Epoch 6400, global step 620896: train_loss_ssl was not in top 5\n",
      "Epoch 6401, global step 620993: train_loss_ssl was not in top 5\n",
      "IOPub message rate exceeded.\n",
      "The notebook server will temporarily stop sending output\n",
      "to the client in order to avoid crashing it.\n",
      "To change this limit, set the config variable\n",
      "`--NotebookApp.iopub_msg_rate_limit`.\n",
      "\n",
      "Current values:\n",
      "NotebookApp.iopub_msg_rate_limit=1000.0 (msgs/sec)\n",
      "NotebookApp.rate_limit_window=3.0 (secs)\n",
      "\n",
      "Epoch 6407, global step 621575: train_loss_ssl was not in top 5\n",
      "Epoch 6408, global step 621672: train_loss_ssl was not in top 5\n",
      "IOPub message rate exceeded.\n",
      "The notebook server will temporarily stop sending output\n",
      "to the client in order to avoid crashing it.\n",
      "To change this limit, set the config variable\n",
      "`--NotebookApp.iopub_msg_rate_limit`.\n",
      "\n",
      "Current values:\n",
      "NotebookApp.iopub_msg_rate_limit=1000.0 (msgs/sec)\n",
      "NotebookApp.rate_limit_window=3.0 (secs)\n",
      "\n",
      "Epoch 6438, global step 624582: train_loss_ssl was not in top 5\n",
      "Epoch 6439, global step 624679: train_loss_ssl was not in top 5\n",
      "Epoch 6440, global step 624776: train_loss_ssl was not in top 5\n",
      "Epoch 6441, global step 624873: train_loss_ssl was not in top 5\n",
      "Epoch 6442, global step 624970: train_loss_ssl was not in top 5\n",
      "Epoch 6443, global step 625067: train_loss_ssl was not in top 5\n",
      "Epoch 6444, global step 625164: train_loss_ssl was not in top 5\n",
      "IOPub message rate exceeded.\n",
      "The notebook server will temporarily stop sending output\n",
      "to the client in order to avoid crashing it.\n",
      "To change this limit, set the config variable\n",
      "`--NotebookApp.iopub_msg_rate_limit`.\n",
      "\n",
      "Current values:\n",
      "NotebookApp.iopub_msg_rate_limit=1000.0 (msgs/sec)\n",
      "NotebookApp.rate_limit_window=3.0 (secs)\n",
      "\n",
      "Epoch 6450, global step 625746: train_loss_ssl was not in top 5\n",
      "Epoch 6451, global step 625843: train_loss_ssl was not in top 5\n",
      "IOPub message rate exceeded.\n",
      "The notebook server will temporarily stop sending output\n",
      "to the client in order to avoid crashing it.\n",
      "To change this limit, set the config variable\n",
      "`--NotebookApp.iopub_msg_rate_limit`.\n",
      "\n",
      "Current values:\n",
      "NotebookApp.iopub_msg_rate_limit=1000.0 (msgs/sec)\n",
      "NotebookApp.rate_limit_window=3.0 (secs)\n",
      "\n",
      "Epoch 6480, global step 628656: train_loss_ssl was not in top 5\n",
      "Epoch 6481, global step 628753: train_loss_ssl was not in top 5\n",
      "Epoch 6482, global step 628850: train_loss_ssl was not in top 5\n",
      "Epoch 6483, global step 628947: train_loss_ssl reached 1.76746 (best 1.75872), saving model to \"/home/shatz/Documents/more_better/saved_models/resnet_moco/epoch=6483-train_loss_ssl=1.77.ckpt\" as top 5\n",
      "Epoch 6484, global step 629044: train_loss_ssl was not in top 5\n",
      "Epoch 6485, global step 629141: train_loss_ssl was not in top 5\n",
      "Epoch 6486, global step 629238: train_loss_ssl was not in top 5\n",
      "IOPub message rate exceeded.\n",
      "The notebook server will temporarily stop sending output\n",
      "to the client in order to avoid crashing it.\n",
      "To change this limit, set the config variable\n",
      "`--NotebookApp.iopub_msg_rate_limit`.\n",
      "\n",
      "Current values:\n",
      "NotebookApp.iopub_msg_rate_limit=1000.0 (msgs/sec)\n",
      "NotebookApp.rate_limit_window=3.0 (secs)\n",
      "\n",
      "Epoch 6493, global step 629917: train_loss_ssl was not in top 5\n",
      "Epoch 6494, global step 630014: train_loss_ssl was not in top 5\n",
      "IOPub message rate exceeded.\n",
      "The notebook server will temporarily stop sending output\n",
      "to the client in order to avoid crashing it.\n",
      "To change this limit, set the config variable\n",
      "`--NotebookApp.iopub_msg_rate_limit`.\n",
      "\n",
      "Current values:\n",
      "NotebookApp.iopub_msg_rate_limit=1000.0 (msgs/sec)\n",
      "NotebookApp.rate_limit_window=3.0 (secs)\n",
      "\n",
      "Epoch 6524, global step 632924: train_loss_ssl was not in top 5\n",
      "Epoch 6525, global step 633021: train_loss_ssl was not in top 5\n",
      "Epoch 6526, global step 633118: train_loss_ssl was not in top 5\n",
      "Epoch 6527, global step 633215: train_loss_ssl was not in top 5\n",
      "Epoch 6528, global step 633312: train_loss_ssl was not in top 5\n",
      "Epoch 6529, global step 633409: train_loss_ssl was not in top 5\n",
      "Epoch 6530, global step 633506: train_loss_ssl was not in top 5\n",
      "IOPub message rate exceeded.\n",
      "The notebook server will temporarily stop sending output\n",
      "to the client in order to avoid crashing it.\n",
      "To change this limit, set the config variable\n",
      "`--NotebookApp.iopub_msg_rate_limit`.\n",
      "\n",
      "Current values:\n",
      "NotebookApp.iopub_msg_rate_limit=1000.0 (msgs/sec)\n",
      "NotebookApp.rate_limit_window=3.0 (secs)\n",
      "\n",
      "Epoch 6536, global step 634088: train_loss_ssl was not in top 5\n",
      "Epoch 6537, global step 634185: train_loss_ssl was not in top 5\n",
      "IOPub message rate exceeded.\n",
      "The notebook server will temporarily stop sending output\n",
      "to the client in order to avoid crashing it.\n",
      "To change this limit, set the config variable\n",
      "`--NotebookApp.iopub_msg_rate_limit`.\n",
      "\n",
      "Current values:\n",
      "NotebookApp.iopub_msg_rate_limit=1000.0 (msgs/sec)\n",
      "NotebookApp.rate_limit_window=3.0 (secs)\n",
      "\n",
      "Epoch 6567, global step 637095: train_loss_ssl was not in top 5\n",
      "Epoch 6568, global step 637192: train_loss_ssl was not in top 5\n",
      "Epoch 6569, global step 637289: train_loss_ssl was not in top 5\n",
      "Epoch 6570, global step 637386: train_loss_ssl was not in top 5\n",
      "Epoch 6571, global step 637483: train_loss_ssl was not in top 5\n"
     ]
    },
    {
     "name": "stderr",
     "output_type": "stream",
     "text": [
      "Epoch 6572, global step 637580: train_loss_ssl was not in top 5\n",
      "Epoch 6573, global step 637677: train_loss_ssl was not in top 5\n",
      "IOPub message rate exceeded.\n",
      "The notebook server will temporarily stop sending output\n",
      "to the client in order to avoid crashing it.\n",
      "To change this limit, set the config variable\n",
      "`--NotebookApp.iopub_msg_rate_limit`.\n",
      "\n",
      "Current values:\n",
      "NotebookApp.iopub_msg_rate_limit=1000.0 (msgs/sec)\n",
      "NotebookApp.rate_limit_window=3.0 (secs)\n",
      "\n",
      "Epoch 6580, global step 638356: train_loss_ssl was not in top 5\n",
      "Epoch 6581, global step 638453: train_loss_ssl reached 1.72031 (best 1.72031), saving model to \"/home/shatz/Documents/more_better/saved_models/resnet_moco/epoch=6581-train_loss_ssl=1.72.ckpt\" as top 5\n",
      "IOPub message rate exceeded.\n",
      "The notebook server will temporarily stop sending output\n",
      "to the client in order to avoid crashing it.\n",
      "To change this limit, set the config variable\n",
      "`--NotebookApp.iopub_msg_rate_limit`.\n",
      "\n",
      "Current values:\n",
      "NotebookApp.iopub_msg_rate_limit=1000.0 (msgs/sec)\n",
      "NotebookApp.rate_limit_window=3.0 (secs)\n",
      "\n"
     ]
    },
    {
     "data": {
      "application/vnd.jupyter.widget-view+json": {
       "model_id": "",
       "version_major": 2,
       "version_minor": 0
      },
      "text/plain": [
       "Validating: 0it [00:00, ?it/s]"
      ]
     },
     "metadata": {},
     "output_type": "display_data"
    },
    {
     "data": {
      "application/vnd.jupyter.widget-view+json": {
       "model_id": "",
       "version_major": 2,
       "version_minor": 0
      },
      "text/plain": [
       "Validating: 0it [00:00, ?it/s]"
      ]
     },
     "metadata": {},
     "output_type": "display_data"
    },
    {
     "data": {
      "application/vnd.jupyter.widget-view+json": {
       "model_id": "",
       "version_major": 2,
       "version_minor": 0
      },
      "text/plain": [
       "Validating: 0it [00:00, ?it/s]"
      ]
     },
     "metadata": {},
     "output_type": "display_data"
    },
    {
     "data": {
      "application/vnd.jupyter.widget-view+json": {
       "model_id": "",
       "version_major": 2,
       "version_minor": 0
      },
      "text/plain": [
       "Validating: 0it [00:00, ?it/s]"
      ]
     },
     "metadata": {},
     "output_type": "display_data"
    },
    {
     "data": {
      "application/vnd.jupyter.widget-view+json": {
       "model_id": "",
       "version_major": 2,
       "version_minor": 0
      },
      "text/plain": [
       "Validating: 0it [00:00, ?it/s]"
      ]
     },
     "metadata": {},
     "output_type": "display_data"
    },
    {
     "name": "stderr",
     "output_type": "stream",
     "text": [
      "IOPub message rate exceeded.\n",
      "The notebook server will temporarily stop sending output\n",
      "to the client in order to avoid crashing it.\n",
      "To change this limit, set the config variable\n",
      "`--NotebookApp.iopub_msg_rate_limit`.\n",
      "\n",
      "Current values:\n",
      "NotebookApp.iopub_msg_rate_limit=1000.0 (msgs/sec)\n",
      "NotebookApp.rate_limit_window=3.0 (secs)\n",
      "\n"
     ]
    },
    {
     "data": {
      "application/vnd.jupyter.widget-view+json": {
       "model_id": "",
       "version_major": 2,
       "version_minor": 0
      },
      "text/plain": [
       "Validating: 0it [00:00, ?it/s]"
      ]
     },
     "metadata": {},
     "output_type": "display_data"
    },
    {
     "data": {
      "application/vnd.jupyter.widget-view+json": {
       "model_id": "",
       "version_major": 2,
       "version_minor": 0
      },
      "text/plain": [
       "Validating: 0it [00:00, ?it/s]"
      ]
     },
     "metadata": {},
     "output_type": "display_data"
    },
    {
     "name": "stderr",
     "output_type": "stream",
     "text": [
      "IOPub message rate exceeded.\n",
      "The notebook server will temporarily stop sending output\n",
      "to the client in order to avoid crashing it.\n",
      "To change this limit, set the config variable\n",
      "`--NotebookApp.iopub_msg_rate_limit`.\n",
      "\n",
      "Current values:\n",
      "NotebookApp.iopub_msg_rate_limit=1000.0 (msgs/sec)\n",
      "NotebookApp.rate_limit_window=3.0 (secs)\n",
      "\n"
     ]
    },
    {
     "data": {
      "application/vnd.jupyter.widget-view+json": {
       "model_id": "",
       "version_major": 2,
       "version_minor": 0
      },
      "text/plain": [
       "Validating: 0it [00:00, ?it/s]"
      ]
     },
     "metadata": {},
     "output_type": "display_data"
    },
    {
     "data": {
      "application/vnd.jupyter.widget-view+json": {
       "model_id": "",
       "version_major": 2,
       "version_minor": 0
      },
      "text/plain": [
       "Validating: 0it [00:00, ?it/s]"
      ]
     },
     "metadata": {},
     "output_type": "display_data"
    },
    {
     "data": {
      "application/vnd.jupyter.widget-view+json": {
       "model_id": "",
       "version_major": 2,
       "version_minor": 0
      },
      "text/plain": [
       "Validating: 0it [00:00, ?it/s]"
      ]
     },
     "metadata": {},
     "output_type": "display_data"
    },
    {
     "data": {
      "application/vnd.jupyter.widget-view+json": {
       "model_id": "",
       "version_major": 2,
       "version_minor": 0
      },
      "text/plain": [
       "Validating: 0it [00:00, ?it/s]"
      ]
     },
     "metadata": {},
     "output_type": "display_data"
    },
    {
     "data": {
      "application/vnd.jupyter.widget-view+json": {
       "model_id": "",
       "version_major": 2,
       "version_minor": 0
      },
      "text/plain": [
       "Validating: 0it [00:00, ?it/s]"
      ]
     },
     "metadata": {},
     "output_type": "display_data"
    },
    {
     "data": {
      "application/vnd.jupyter.widget-view+json": {
       "model_id": "bc14214145b3462285939093c275e092",
       "version_major": 2,
       "version_minor": 0
      },
      "text/plain": [
       "Validating: 0it [00:00, ?it/s]"
      ]
     },
     "metadata": {},
     "output_type": "display_data"
    },
    {
     "name": "stderr",
     "output_type": "stream",
     "text": [
      "IOPub message rate exceeded.\n",
      "The notebook server will temporarily stop sending output\n",
      "to the client in order to avoid crashing it.\n",
      "To change this limit, set the config variable\n",
      "`--NotebookApp.iopub_msg_rate_limit`.\n",
      "\n",
      "Current values:\n",
      "NotebookApp.iopub_msg_rate_limit=1000.0 (msgs/sec)\n",
      "NotebookApp.rate_limit_window=3.0 (secs)\n",
      "\n"
     ]
    },
    {
     "data": {
      "application/vnd.jupyter.widget-view+json": {
       "model_id": "",
       "version_major": 2,
       "version_minor": 0
      },
      "text/plain": [
       "Validating: 0it [00:00, ?it/s]"
      ]
     },
     "metadata": {},
     "output_type": "display_data"
    },
    {
     "data": {
      "application/vnd.jupyter.widget-view+json": {
       "model_id": "",
       "version_major": 2,
       "version_minor": 0
      },
      "text/plain": [
       "Validating: 0it [00:00, ?it/s]"
      ]
     },
     "metadata": {},
     "output_type": "display_data"
    },
    {
     "name": "stderr",
     "output_type": "stream",
     "text": [
      "IOPub message rate exceeded.\n",
      "The notebook server will temporarily stop sending output\n",
      "to the client in order to avoid crashing it.\n",
      "To change this limit, set the config variable\n",
      "`--NotebookApp.iopub_msg_rate_limit`.\n",
      "\n",
      "Current values:\n",
      "NotebookApp.iopub_msg_rate_limit=1000.0 (msgs/sec)\n",
      "NotebookApp.rate_limit_window=3.0 (secs)\n",
      "\n",
      "Epoch 6613, global step 641557: train_loss_ssl was not in top 5\n",
      "Epoch 6614, global step 641654: train_loss_ssl was not in top 5\n",
      "Epoch 6615, global step 641751: train_loss_ssl was not in top 5\n",
      "Epoch 6616, global step 641848: train_loss_ssl was not in top 5\n",
      "Epoch 6617, global step 641945: train_loss_ssl was not in top 5\n",
      "Epoch 6618, global step 642042: train_loss_ssl was not in top 5\n",
      "Epoch 6619, global step 642139: train_loss_ssl was not in top 5\n",
      "Epoch 6620, global step 642236: train_loss_ssl was not in top 5\n",
      "Epoch 6621, global step 642333: train_loss_ssl was not in top 5\n",
      "IOPub message rate exceeded.\n",
      "The notebook server will temporarily stop sending output\n",
      "to the client in order to avoid crashing it.\n",
      "To change this limit, set the config variable\n",
      "`--NotebookApp.iopub_msg_rate_limit`.\n",
      "\n",
      "Current values:\n",
      "NotebookApp.iopub_msg_rate_limit=1000.0 (msgs/sec)\n",
      "NotebookApp.rate_limit_window=3.0 (secs)\n",
      "\n",
      "Epoch 6655, global step 645631: train_loss_ssl was not in top 5\n",
      "Epoch 6656, global step 645728: train_loss_ssl was not in top 5\n",
      "Epoch 6657, global step 645825: train_loss_ssl was not in top 5\n",
      "Epoch 6658, global step 645922: train_loss_ssl was not in top 5\n",
      "Epoch 6659, global step 646019: train_loss_ssl was not in top 5\n",
      "Epoch 6660, global step 646116: train_loss_ssl was not in top 5\n",
      "Epoch 6661, global step 646213: train_loss_ssl was not in top 5\n",
      "Epoch 6662, global step 646310: train_loss_ssl was not in top 5\n",
      "Epoch 6663, global step 646407: train_loss_ssl was not in top 5\n",
      "IOPub message rate exceeded.\n",
      "The notebook server will temporarily stop sending output\n",
      "to the client in order to avoid crashing it.\n",
      "To change this limit, set the config variable\n",
      "`--NotebookApp.iopub_msg_rate_limit`.\n",
      "\n",
      "Current values:\n",
      "NotebookApp.iopub_msg_rate_limit=1000.0 (msgs/sec)\n",
      "NotebookApp.rate_limit_window=3.0 (secs)\n",
      "\n",
      "Epoch 6699, global step 649899: train_loss_ssl was not in top 5\n",
      "Epoch 6700, global step 649996: train_loss_ssl was not in top 5\n",
      "Epoch 6701, global step 650093: train_loss_ssl was not in top 5\n",
      "Epoch 6702, global step 650190: train_loss_ssl was not in top 5\n",
      "Epoch 6703, global step 650287: train_loss_ssl was not in top 5\n",
      "Epoch 6704, global step 650384: train_loss_ssl was not in top 5\n",
      "Epoch 6705, global step 650481: train_loss_ssl was not in top 5\n",
      "Epoch 6706, global step 650578: train_loss_ssl was not in top 5\n",
      "Epoch 6707, global step 650675: train_loss_ssl was not in top 5\n",
      "IOPub message rate exceeded.\n",
      "The notebook server will temporarily stop sending output\n",
      "to the client in order to avoid crashing it.\n",
      "To change this limit, set the config variable\n",
      "`--NotebookApp.iopub_msg_rate_limit`.\n",
      "\n",
      "Current values:\n",
      "NotebookApp.iopub_msg_rate_limit=1000.0 (msgs/sec)\n",
      "NotebookApp.rate_limit_window=3.0 (secs)\n",
      "\n",
      "Epoch 6744, global step 654264: train_loss_ssl reached 1.73306 (best 1.62440), saving model to \"/home/shatz/Documents/more_better/saved_models/resnet_moco/epoch=6744-train_loss_ssl=1.73.ckpt\" as top 5\n",
      "Epoch 6745, global step 654361: train_loss_ssl was not in top 5\n",
      "Epoch 6746, global step 654458: train_loss_ssl was not in top 5\n",
      "Epoch 6747, global step 654555: train_loss_ssl was not in top 5\n",
      "Epoch 6748, global step 654652: train_loss_ssl was not in top 5\n",
      "Epoch 6749, global step 654749: train_loss_ssl was not in top 5\n",
      "Epoch 6750, global step 654846: train_loss_ssl was not in top 5\n",
      "Epoch 6751, global step 654943: train_loss_ssl was not in top 5\n",
      "Epoch 6752, global step 655040: train_loss_ssl was not in top 5\n",
      "IOPub message rate exceeded.\n",
      "The notebook server will temporarily stop sending output\n",
      "to the client in order to avoid crashing it.\n",
      "To change this limit, set the config variable\n",
      "`--NotebookApp.iopub_msg_rate_limit`.\n",
      "\n",
      "Current values:\n",
      "NotebookApp.iopub_msg_rate_limit=1000.0 (msgs/sec)\n",
      "NotebookApp.rate_limit_window=3.0 (secs)\n",
      "\n",
      "Epoch 6788, global step 658532: train_loss_ssl was not in top 5\n",
      "Epoch 6789, global step 658629: train_loss_ssl was not in top 5\n",
      "Epoch 6790, global step 658726: train_loss_ssl was not in top 5\n",
      "Epoch 6791, global step 658823: train_loss_ssl was not in top 5\n",
      "Epoch 6792, global step 658920: train_loss_ssl was not in top 5\n",
      "Epoch 6793, global step 659017: train_loss_ssl was not in top 5\n",
      "Epoch 6794, global step 659114: train_loss_ssl was not in top 5\n",
      "Epoch 6795, global step 659211: train_loss_ssl was not in top 5\n",
      "Epoch 6796, global step 659308: train_loss_ssl was not in top 5\n",
      "IOPub message rate exceeded.\n",
      "The notebook server will temporarily stop sending output\n",
      "to the client in order to avoid crashing it.\n",
      "To change this limit, set the config variable\n",
      "`--NotebookApp.iopub_msg_rate_limit`.\n",
      "\n",
      "Current values:\n",
      "NotebookApp.iopub_msg_rate_limit=1000.0 (msgs/sec)\n",
      "NotebookApp.rate_limit_window=3.0 (secs)\n",
      "\n",
      "Epoch 6832, global step 662800: train_loss_ssl was not in top 5\n",
      "Epoch 6833, global step 662897: train_loss_ssl was not in top 5\n",
      "Epoch 6834, global step 662994: train_loss_ssl was not in top 5\n",
      "Epoch 6835, global step 663091: train_loss_ssl was not in top 5\n",
      "Epoch 6836, global step 663188: train_loss_ssl was not in top 5\n",
      "Epoch 6837, global step 663285: train_loss_ssl was not in top 5\n",
      "Epoch 6838, global step 663382: train_loss_ssl was not in top 5\n",
      "Epoch 6839, global step 663479: train_loss_ssl was not in top 5\n",
      "Epoch 6840, global step 663576: train_loss_ssl was not in top 5\n",
      "IOPub message rate exceeded.\n",
      "The notebook server will temporarily stop sending output\n",
      "to the client in order to avoid crashing it.\n",
      "To change this limit, set the config variable\n",
      "`--NotebookApp.iopub_msg_rate_limit`.\n",
      "\n",
      "Current values:\n",
      "NotebookApp.iopub_msg_rate_limit=1000.0 (msgs/sec)\n",
      "NotebookApp.rate_limit_window=3.0 (secs)\n",
      "\n",
      "Epoch 6876, global step 667068: train_loss_ssl reached 1.68871 (best 1.62440), saving model to \"/home/shatz/Documents/more_better/saved_models/resnet_moco/epoch=6876-train_loss_ssl=1.69.ckpt\" as top 5\n",
      "Epoch 6877, global step 667165: train_loss_ssl was not in top 5\n",
      "Epoch 6878, global step 667262: train_loss_ssl was not in top 5\n",
      "Epoch 6879, global step 667359: train_loss_ssl was not in top 5\n",
      "Epoch 6880, global step 667456: train_loss_ssl was not in top 5\n",
      "Epoch 6881, global step 667553: train_loss_ssl was not in top 5\n",
      "Epoch 6882, global step 667650: train_loss_ssl was not in top 5\n",
      "Epoch 6883, global step 667747: train_loss_ssl was not in top 5\n",
      "Epoch 6884, global step 667844: train_loss_ssl was not in top 5\n",
      "IOPub message rate exceeded.\n",
      "The notebook server will temporarily stop sending output\n",
      "to the client in order to avoid crashing it.\n",
      "To change this limit, set the config variable\n",
      "`--NotebookApp.iopub_msg_rate_limit`.\n",
      "\n",
      "Current values:\n",
      "NotebookApp.iopub_msg_rate_limit=1000.0 (msgs/sec)\n",
      "NotebookApp.rate_limit_window=3.0 (secs)\n",
      "\n"
     ]
    },
    {
     "data": {
      "application/vnd.jupyter.widget-view+json": {
       "model_id": "",
       "version_major": 2,
       "version_minor": 0
      },
      "text/plain": [
       "Validating: 0it [00:00, ?it/s]"
      ]
     },
     "metadata": {},
     "output_type": "display_data"
    },
    {
     "data": {
      "application/vnd.jupyter.widget-view+json": {
       "model_id": "",
       "version_major": 2,
       "version_minor": 0
      },
      "text/plain": [
       "Validating: 0it [00:00, ?it/s]"
      ]
     },
     "metadata": {},
     "output_type": "display_data"
    },
    {
     "data": {
      "application/vnd.jupyter.widget-view+json": {
       "model_id": "",
       "version_major": 2,
       "version_minor": 0
      },
      "text/plain": [
       "Validating: 0it [00:00, ?it/s]"
      ]
     },
     "metadata": {},
     "output_type": "display_data"
    },
    {
     "data": {
      "application/vnd.jupyter.widget-view+json": {
       "model_id": "",
       "version_major": 2,
       "version_minor": 0
      },
      "text/plain": [
       "Validating: 0it [00:00, ?it/s]"
      ]
     },
     "metadata": {},
     "output_type": "display_data"
    },
    {
     "data": {
      "application/vnd.jupyter.widget-view+json": {
       "model_id": "",
       "version_major": 2,
       "version_minor": 0
      },
      "text/plain": [
       "Validating: 0it [00:00, ?it/s]"
      ]
     },
     "metadata": {},
     "output_type": "display_data"
    },
    {
     "data": {
      "application/vnd.jupyter.widget-view+json": {
       "model_id": "",
       "version_major": 2,
       "version_minor": 0
      },
      "text/plain": [
       "Validating: 0it [00:00, ?it/s]"
      ]
     },
     "metadata": {},
     "output_type": "display_data"
    },
    {
     "data": {
      "application/vnd.jupyter.widget-view+json": {
       "model_id": "",
       "version_major": 2,
       "version_minor": 0
      },
      "text/plain": [
       "Validating: 0it [00:00, ?it/s]"
      ]
     },
     "metadata": {},
     "output_type": "display_data"
    },
    {
     "data": {
      "application/vnd.jupyter.widget-view+json": {
       "model_id": "389b22b361fd4defa1c5bcc9c5216af4",
       "version_major": 2,
       "version_minor": 0
      },
      "text/plain": [
       "Validating: 0it [00:00, ?it/s]"
      ]
     },
     "metadata": {},
     "output_type": "display_data"
    },
    {
     "name": "stderr",
     "output_type": "stream",
     "text": [
      "IOPub message rate exceeded.\n",
      "The notebook server will temporarily stop sending output\n",
      "to the client in order to avoid crashing it.\n",
      "To change this limit, set the config variable\n",
      "`--NotebookApp.iopub_msg_rate_limit`.\n",
      "\n",
      "Current values:\n",
      "NotebookApp.iopub_msg_rate_limit=1000.0 (msgs/sec)\n",
      "NotebookApp.rate_limit_window=3.0 (secs)\n",
      "\n"
     ]
    },
    {
     "data": {
      "application/vnd.jupyter.widget-view+json": {
       "model_id": "",
       "version_major": 2,
       "version_minor": 0
      },
      "text/plain": [
       "Validating: 0it [00:00, ?it/s]"
      ]
     },
     "metadata": {},
     "output_type": "display_data"
    },
    {
     "data": {
      "application/vnd.jupyter.widget-view+json": {
       "model_id": "",
       "version_major": 2,
       "version_minor": 0
      },
      "text/plain": [
       "Validating: 0it [00:00, ?it/s]"
      ]
     },
     "metadata": {},
     "output_type": "display_data"
    },
    {
     "data": {
      "application/vnd.jupyter.widget-view+json": {
       "model_id": "",
       "version_major": 2,
       "version_minor": 0
      },
      "text/plain": [
       "Validating: 0it [00:00, ?it/s]"
      ]
     },
     "metadata": {},
     "output_type": "display_data"
    },
    {
     "data": {
      "application/vnd.jupyter.widget-view+json": {
       "model_id": "",
       "version_major": 2,
       "version_minor": 0
      },
      "text/plain": [
       "Validating: 0it [00:00, ?it/s]"
      ]
     },
     "metadata": {},
     "output_type": "display_data"
    },
    {
     "data": {
      "application/vnd.jupyter.widget-view+json": {
       "model_id": "",
       "version_major": 2,
       "version_minor": 0
      },
      "text/plain": [
       "Validating: 0it [00:00, ?it/s]"
      ]
     },
     "metadata": {},
     "output_type": "display_data"
    },
    {
     "data": {
      "application/vnd.jupyter.widget-view+json": {
       "model_id": "",
       "version_major": 2,
       "version_minor": 0
      },
      "text/plain": [
       "Validating: 0it [00:00, ?it/s]"
      ]
     },
     "metadata": {},
     "output_type": "display_data"
    },
    {
     "data": {
      "application/vnd.jupyter.widget-view+json": {
       "model_id": "",
       "version_major": 2,
       "version_minor": 0
      },
      "text/plain": [
       "Validating: 0it [00:00, ?it/s]"
      ]
     },
     "metadata": {},
     "output_type": "display_data"
    },
    {
     "data": {
      "application/vnd.jupyter.widget-view+json": {
       "model_id": "",
       "version_major": 2,
       "version_minor": 0
      },
      "text/plain": [
       "Validating: 0it [00:00, ?it/s]"
      ]
     },
     "metadata": {},
     "output_type": "display_data"
    },
    {
     "name": "stderr",
     "output_type": "stream",
     "text": [
      "IOPub message rate exceeded.\n",
      "The notebook server will temporarily stop sending output\n",
      "to the client in order to avoid crashing it.\n",
      "To change this limit, set the config variable\n",
      "`--NotebookApp.iopub_msg_rate_limit`.\n",
      "\n",
      "Current values:\n",
      "NotebookApp.iopub_msg_rate_limit=1000.0 (msgs/sec)\n",
      "NotebookApp.rate_limit_window=3.0 (secs)\n",
      "\n",
      "Epoch 6933, global step 672597: train_loss_ssl was not in top 5\n",
      "Epoch 6934, global step 672694: train_loss_ssl was not in top 5\n",
      "Epoch 6935, global step 672791: train_loss_ssl was not in top 5\n",
      "Epoch 6936, global step 672888: train_loss_ssl was not in top 5\n",
      "Epoch 6937, global step 672985: train_loss_ssl was not in top 5\n",
      "Epoch 6938, global step 673082: train_loss_ssl was not in top 5\n",
      "Epoch 6939, global step 673179: train_loss_ssl was not in top 5\n",
      "Epoch 6940, global step 673276: train_loss_ssl was not in top 5\n",
      "Epoch 6941, global step 673373: train_loss_ssl was not in top 5\n",
      "IOPub message rate exceeded.\n",
      "The notebook server will temporarily stop sending output\n",
      "to the client in order to avoid crashing it.\n",
      "To change this limit, set the config variable\n",
      "`--NotebookApp.iopub_msg_rate_limit`.\n",
      "\n",
      "Current values:\n",
      "NotebookApp.iopub_msg_rate_limit=1000.0 (msgs/sec)\n",
      "NotebookApp.rate_limit_window=3.0 (secs)\n",
      "\n",
      "Epoch 6978, global step 676962: train_loss_ssl was not in top 5\n",
      "Epoch 6979, global step 677059: train_loss_ssl was not in top 5\n",
      "Epoch 6980, global step 677156: train_loss_ssl was not in top 5\n",
      "Epoch 6981, global step 677253: train_loss_ssl was not in top 5\n",
      "Epoch 6982, global step 677350: train_loss_ssl was not in top 5\n",
      "Epoch 6983, global step 677447: train_loss_ssl was not in top 5\n",
      "Epoch 6984, global step 677544: train_loss_ssl was not in top 5\n",
      "Epoch 6985, global step 677641: train_loss_ssl was not in top 5\n",
      "IOPub message rate exceeded.\n",
      "The notebook server will temporarily stop sending output\n",
      "to the client in order to avoid crashing it.\n",
      "To change this limit, set the config variable\n",
      "`--NotebookApp.iopub_msg_rate_limit`.\n",
      "\n",
      "Current values:\n",
      "NotebookApp.iopub_msg_rate_limit=1000.0 (msgs/sec)\n",
      "NotebookApp.rate_limit_window=3.0 (secs)\n",
      "\n",
      "Epoch 7022, global step 681230: train_loss_ssl was not in top 5\n",
      "Epoch 7023, global step 681327: train_loss_ssl was not in top 5\n",
      "Epoch 7024, global step 681424: train_loss_ssl was not in top 5\n",
      "Epoch 7025, global step 681521: train_loss_ssl reached 1.65676 (best 1.61813), saving model to \"/home/shatz/Documents/more_better/saved_models/resnet_moco/epoch=7025-train_loss_ssl=1.66.ckpt\" as top 5\n",
      "Epoch 7026, global step 681618: train_loss_ssl was not in top 5\n",
      "Epoch 7027, global step 681715: train_loss_ssl was not in top 5\n",
      "Epoch 7028, global step 681812: train_loss_ssl was not in top 5\n",
      "Epoch 7029, global step 681909: train_loss_ssl was not in top 5\n",
      "Epoch 7030, global step 682006: train_loss_ssl was not in top 5\n",
      "IOPub message rate exceeded.\n",
      "The notebook server will temporarily stop sending output\n",
      "to the client in order to avoid crashing it.\n",
      "To change this limit, set the config variable\n",
      "`--NotebookApp.iopub_msg_rate_limit`.\n",
      "\n",
      "Current values:\n",
      "NotebookApp.iopub_msg_rate_limit=1000.0 (msgs/sec)\n",
      "NotebookApp.rate_limit_window=3.0 (secs)\n",
      "\n",
      "Epoch 7066, global step 685498: train_loss_ssl was not in top 5\n",
      "Epoch 7067, global step 685595: train_loss_ssl was not in top 5\n",
      "Epoch 7068, global step 685692: train_loss_ssl was not in top 5\n",
      "Epoch 7069, global step 685789: train_loss_ssl was not in top 5\n",
      "Epoch 7070, global step 685886: train_loss_ssl was not in top 5\n",
      "Epoch 7071, global step 685983: train_loss_ssl was not in top 5\n",
      "Epoch 7072, global step 686080: train_loss_ssl was not in top 5\n",
      "Epoch 7073, global step 686177: train_loss_ssl was not in top 5\n",
      "Epoch 7074, global step 686274: train_loss_ssl was not in top 5\n",
      "IOPub message rate exceeded.\n",
      "The notebook server will temporarily stop sending output\n",
      "to the client in order to avoid crashing it.\n",
      "To change this limit, set the config variable\n",
      "`--NotebookApp.iopub_msg_rate_limit`.\n",
      "\n",
      "Current values:\n",
      "NotebookApp.iopub_msg_rate_limit=1000.0 (msgs/sec)\n",
      "NotebookApp.rate_limit_window=3.0 (secs)\n",
      "\n",
      "Epoch 7111, global step 689863: train_loss_ssl was not in top 5\n",
      "Epoch 7112, global step 689960: train_loss_ssl was not in top 5\n",
      "Epoch 7113, global step 690057: train_loss_ssl was not in top 5\n",
      "Epoch 7114, global step 690154: train_loss_ssl was not in top 5\n",
      "Epoch 7115, global step 690251: train_loss_ssl was not in top 5\n",
      "Epoch 7116, global step 690348: train_loss_ssl was not in top 5\n",
      "Epoch 7117, global step 690445: train_loss_ssl was not in top 5\n",
      "Epoch 7118, global step 690542: train_loss_ssl was not in top 5\n",
      "Epoch 7119, global step 690639: train_loss_ssl was not in top 5\n",
      "IOPub message rate exceeded.\n",
      "The notebook server will temporarily stop sending output\n",
      "to the client in order to avoid crashing it.\n",
      "To change this limit, set the config variable\n",
      "`--NotebookApp.iopub_msg_rate_limit`.\n",
      "\n",
      "Current values:\n",
      "NotebookApp.iopub_msg_rate_limit=1000.0 (msgs/sec)\n",
      "NotebookApp.rate_limit_window=3.0 (secs)\n",
      "\n",
      "Epoch 7152, global step 693840: train_loss_ssl was not in top 5\n",
      "Epoch 7153, global step 693937: train_loss_ssl was not in top 5\n",
      "Epoch 7154, global step 694034: train_loss_ssl was not in top 5\n",
      "Epoch 7155, global step 694131: train_loss_ssl was not in top 5\n",
      "Epoch 7156, global step 694228: train_loss_ssl was not in top 5\n",
      "Epoch 7157, global step 694325: train_loss_ssl was not in top 5\n",
      "Epoch 7158, global step 694422: train_loss_ssl was not in top 5\n",
      "Epoch 7159, global step 694519: train_loss_ssl was not in top 5\n",
      "Epoch 7160, global step 694616: train_loss_ssl was not in top 5\n",
      "IOPub message rate exceeded.\n",
      "The notebook server will temporarily stop sending output\n",
      "to the client in order to avoid crashing it.\n",
      "To change this limit, set the config variable\n",
      "`--NotebookApp.iopub_msg_rate_limit`.\n",
      "\n",
      "Current values:\n",
      "NotebookApp.iopub_msg_rate_limit=1000.0 (msgs/sec)\n",
      "NotebookApp.rate_limit_window=3.0 (secs)\n",
      "\n",
      "Epoch 7191, global step 697623: train_loss_ssl was not in top 5\n",
      "Epoch 7192, global step 697720: train_loss_ssl was not in top 5\n",
      "Epoch 7193, global step 697817: train_loss_ssl was not in top 5\n",
      "Epoch 7194, global step 697914: train_loss_ssl was not in top 5\n",
      "IOPub message rate exceeded.\n",
      "The notebook server will temporarily stop sending output\n",
      "to the client in order to avoid crashing it.\n",
      "To change this limit, set the config variable\n",
      "`--NotebookApp.iopub_msg_rate_limit`.\n",
      "\n",
      "Current values:\n",
      "NotebookApp.iopub_msg_rate_limit=1000.0 (msgs/sec)\n",
      "NotebookApp.rate_limit_window=3.0 (secs)\n",
      "\n",
      "Epoch 7199, global step 698399: train_loss_ssl reached 1.60567 (best 1.60567), saving model to \"/home/shatz/Documents/more_better/saved_models/resnet_moco/epoch=7199-train_loss_ssl=1.61.ckpt\" as top 5\n",
      "GPU available: True, used: True\n",
      "TPU available: False, using: 0 TPU cores\n",
      "IPU available: False, using: 0 IPUs\n",
      "LOCAL_RANK: 0 - CUDA_VISIBLE_DEVICES: [0]\n",
      "\n",
      "  | Name        | Type       | Params\n",
      "-------------------------------------------\n",
      "0 | resnet_moco | MoCo       | 23.0 M\n",
      "1 | fc          | Sequential | 267 K \n",
      "2 | accuracy    | Accuracy   | 0     \n",
      "-------------------------------------------\n",
      "267 K     Trainable params\n",
      "23.0 M    Non-trainable params\n",
      "23.3 M    Total params\n",
      "93.048    Total estimated model params size (MB)\n"
     ]
    },
    {
     "name": "stdout",
     "output_type": "stream",
     "text": [
      "... training downstream classifier...\n"
     ]
    },
    {
     "data": {
      "application/vnd.jupyter.widget-view+json": {
       "model_id": "",
       "version_major": 2,
       "version_minor": 0
      },
      "text/plain": [
       "Validation sanity check: 0it [00:00, ?it/s]"
      ]
     },
     "metadata": {},
     "output_type": "display_data"
    },
    {
     "data": {
      "application/vnd.jupyter.widget-view+json": {
       "model_id": "8934c416e6eb45a698e2986a985578b8",
       "version_major": 2,
       "version_minor": 0
      },
      "text/plain": [
       "Training: -1it [00:00, ?it/s]"
      ]
     },
     "metadata": {},
     "output_type": "display_data"
    },
    {
     "data": {
      "application/vnd.jupyter.widget-view+json": {
       "model_id": "",
       "version_major": 2,
       "version_minor": 0
      },
      "text/plain": [
       "Validating: 0it [00:00, ?it/s]"
      ]
     },
     "metadata": {},
     "output_type": "display_data"
    },
    {
     "data": {
      "application/vnd.jupyter.widget-view+json": {
       "model_id": "e580180ba1ff40269f1a2d5520a2866d",
       "version_major": 2,
       "version_minor": 0
      },
      "text/plain": [
       "Validating: 0it [00:00, ?it/s]"
      ]
     },
     "metadata": {},
     "output_type": "display_data"
    },
    {
     "name": "stderr",
     "output_type": "stream",
     "text": [
      "IOPub message rate exceeded.\n",
      "The notebook server will temporarily stop sending output\n",
      "to the client in order to avoid crashing it.\n",
      "To change this limit, set the config variable\n",
      "`--NotebookApp.iopub_msg_rate_limit`.\n",
      "\n",
      "Current values:\n",
      "NotebookApp.iopub_msg_rate_limit=1000.0 (msgs/sec)\n",
      "NotebookApp.rate_limit_window=3.0 (secs)\n",
      "\n"
     ]
    },
    {
     "data": {
      "application/vnd.jupyter.widget-view+json": {
       "model_id": "",
       "version_major": 2,
       "version_minor": 0
      },
      "text/plain": [
       "Validating: 0it [00:00, ?it/s]"
      ]
     },
     "metadata": {},
     "output_type": "display_data"
    },
    {
     "data": {
      "application/vnd.jupyter.widget-view+json": {
       "model_id": "",
       "version_major": 2,
       "version_minor": 0
      },
      "text/plain": [
       "Validating: 0it [00:00, ?it/s]"
      ]
     },
     "metadata": {},
     "output_type": "display_data"
    },
    {
     "data": {
      "application/vnd.jupyter.widget-view+json": {
       "model_id": "",
       "version_major": 2,
       "version_minor": 0
      },
      "text/plain": [
       "Validating: 0it [00:00, ?it/s]"
      ]
     },
     "metadata": {},
     "output_type": "display_data"
    },
    {
     "data": {
      "application/vnd.jupyter.widget-view+json": {
       "model_id": "",
       "version_major": 2,
       "version_minor": 0
      },
      "text/plain": [
       "Validating: 0it [00:00, ?it/s]"
      ]
     },
     "metadata": {},
     "output_type": "display_data"
    },
    {
     "name": "stderr",
     "output_type": "stream",
     "text": [
      "IOPub message rate exceeded.\n",
      "The notebook server will temporarily stop sending output\n",
      "to the client in order to avoid crashing it.\n",
      "To change this limit, set the config variable\n",
      "`--NotebookApp.iopub_msg_rate_limit`.\n",
      "\n",
      "Current values:\n",
      "NotebookApp.iopub_msg_rate_limit=1000.0 (msgs/sec)\n",
      "NotebookApp.rate_limit_window=3.0 (secs)\n",
      "\n"
     ]
    },
    {
     "data": {
      "application/vnd.jupyter.widget-view+json": {
       "model_id": "",
       "version_major": 2,
       "version_minor": 0
      },
      "text/plain": [
       "Validating: 0it [00:00, ?it/s]"
      ]
     },
     "metadata": {},
     "output_type": "display_data"
    },
    {
     "data": {
      "application/vnd.jupyter.widget-view+json": {
       "model_id": "",
       "version_major": 2,
       "version_minor": 0
      },
      "text/plain": [
       "Validating: 0it [00:00, ?it/s]"
      ]
     },
     "metadata": {},
     "output_type": "display_data"
    },
    {
     "data": {
      "application/vnd.jupyter.widget-view+json": {
       "model_id": "",
       "version_major": 2,
       "version_minor": 0
      },
      "text/plain": [
       "Validating: 0it [00:00, ?it/s]"
      ]
     },
     "metadata": {},
     "output_type": "display_data"
    },
    {
     "name": "stderr",
     "output_type": "stream",
     "text": [
      "IOPub message rate exceeded.\n",
      "The notebook server will temporarily stop sending output\n",
      "to the client in order to avoid crashing it.\n",
      "To change this limit, set the config variable\n",
      "`--NotebookApp.iopub_msg_rate_limit`.\n",
      "\n",
      "Current values:\n",
      "NotebookApp.iopub_msg_rate_limit=1000.0 (msgs/sec)\n",
      "NotebookApp.rate_limit_window=3.0 (secs)\n",
      "\n",
      "Epoch 7202, global step 698690: train_loss_ssl was not in top 5\n",
      "Epoch 7203, global step 698787: train_loss_ssl was not in top 5\n",
      "Epoch 7204, global step 698884: train_loss_ssl was not in top 5\n",
      "Epoch 7205, global step 698981: train_loss_ssl was not in top 5\n",
      "Epoch 7206, global step 699078: train_loss_ssl was not in top 5\n",
      "Epoch 7207, global step 699175: train_loss_ssl was not in top 5\n",
      "Epoch 7208, global step 699272: train_loss_ssl was not in top 5\n",
      "IOPub message rate exceeded.\n",
      "The notebook server will temporarily stop sending output\n",
      "to the client in order to avoid crashing it.\n",
      "To change this limit, set the config variable\n",
      "`--NotebookApp.iopub_msg_rate_limit`.\n",
      "\n",
      "Current values:\n",
      "NotebookApp.iopub_msg_rate_limit=1000.0 (msgs/sec)\n",
      "NotebookApp.rate_limit_window=3.0 (secs)\n",
      "\n",
      "Epoch 7212, global step 699660: train_loss_ssl was not in top 5\n",
      "Epoch 7213, global step 699757: train_loss_ssl was not in top 5\n",
      "IOPub message rate exceeded.\n",
      "The notebook server will temporarily stop sending output\n",
      "to the client in order to avoid crashing it.\n",
      "To change this limit, set the config variable\n",
      "`--NotebookApp.iopub_msg_rate_limit`.\n",
      "\n",
      "Current values:\n",
      "NotebookApp.iopub_msg_rate_limit=1000.0 (msgs/sec)\n",
      "NotebookApp.rate_limit_window=3.0 (secs)\n",
      "\n",
      "Epoch 7246, global step 702958: train_loss_ssl was not in top 5\n",
      "Epoch 7247, global step 703055: train_loss_ssl was not in top 5\n",
      "Epoch 7248, global step 703152: train_loss_ssl was not in top 5\n",
      "Epoch 7249, global step 703249: train_loss_ssl was not in top 5\n",
      "Epoch 7250, global step 703346: train_loss_ssl was not in top 5\n",
      "Epoch 7251, global step 703443: train_loss_ssl was not in top 5\n",
      "IOPub message rate exceeded.\n",
      "The notebook server will temporarily stop sending output\n",
      "to the client in order to avoid crashing it.\n",
      "To change this limit, set the config variable\n",
      "`--NotebookApp.iopub_msg_rate_limit`.\n",
      "\n",
      "Current values:\n",
      "NotebookApp.iopub_msg_rate_limit=1000.0 (msgs/sec)\n",
      "NotebookApp.rate_limit_window=3.0 (secs)\n",
      "\n",
      "Epoch 7256, global step 703928: train_loss_ssl was not in top 5\n",
      "Epoch 7257, global step 704025: train_loss_ssl was not in top 5\n",
      "IOPub message rate exceeded.\n",
      "The notebook server will temporarily stop sending output\n",
      "to the client in order to avoid crashing it.\n",
      "To change this limit, set the config variable\n",
      "`--NotebookApp.iopub_msg_rate_limit`.\n",
      "\n",
      "Current values:\n",
      "NotebookApp.iopub_msg_rate_limit=1000.0 (msgs/sec)\n",
      "NotebookApp.rate_limit_window=3.0 (secs)\n",
      "\n",
      "Epoch 7289, global step 707129: train_loss_ssl was not in top 5\n",
      "Epoch 7290, global step 707226: train_loss_ssl was not in top 5\n",
      "Epoch 7291, global step 707323: train_loss_ssl was not in top 5\n",
      "Epoch 7292, global step 707420: train_loss_ssl was not in top 5\n",
      "Epoch 7293, global step 707517: train_loss_ssl was not in top 5\n",
      "Epoch 7294, global step 707614: train_loss_ssl was not in top 5\n",
      "Epoch 7295, global step 707711: train_loss_ssl was not in top 5\n",
      "IOPub message rate exceeded.\n",
      "The notebook server will temporarily stop sending output\n",
      "to the client in order to avoid crashing it.\n",
      "To change this limit, set the config variable\n",
      "`--NotebookApp.iopub_msg_rate_limit`.\n",
      "\n",
      "Current values:\n",
      "NotebookApp.iopub_msg_rate_limit=1000.0 (msgs/sec)\n",
      "NotebookApp.rate_limit_window=3.0 (secs)\n",
      "\n",
      "Epoch 7300, global step 708196: train_loss_ssl was not in top 5\n",
      "Epoch 7301, global step 708293: train_loss_ssl was not in top 5\n",
      "IOPub message rate exceeded.\n",
      "The notebook server will temporarily stop sending output\n",
      "to the client in order to avoid crashing it.\n",
      "To change this limit, set the config variable\n",
      "`--NotebookApp.iopub_msg_rate_limit`.\n",
      "\n",
      "Current values:\n",
      "NotebookApp.iopub_msg_rate_limit=1000.0 (msgs/sec)\n",
      "NotebookApp.rate_limit_window=3.0 (secs)\n",
      "\n",
      "Epoch 7334, global step 711494: train_loss_ssl was not in top 5\n",
      "Epoch 7335, global step 711591: train_loss_ssl was not in top 5\n",
      "Epoch 7336, global step 711688: train_loss_ssl was not in top 5\n",
      "Epoch 7337, global step 711785: train_loss_ssl was not in top 5\n",
      "Epoch 7338, global step 711882: train_loss_ssl was not in top 5\n",
      "Epoch 7339, global step 711979: train_loss_ssl was not in top 5\n",
      "Epoch 7340, global step 712076: train_loss_ssl was not in top 5\n",
      "IOPub message rate exceeded.\n",
      "The notebook server will temporarily stop sending output\n",
      "to the client in order to avoid crashing it.\n",
      "To change this limit, set the config variable\n",
      "`--NotebookApp.iopub_msg_rate_limit`.\n",
      "\n",
      "Current values:\n",
      "NotebookApp.iopub_msg_rate_limit=1000.0 (msgs/sec)\n",
      "NotebookApp.rate_limit_window=3.0 (secs)\n",
      "\n",
      "Epoch 7344, global step 712464: train_loss_ssl was not in top 5\n",
      "Epoch 7345, global step 712561: train_loss_ssl was not in top 5\n",
      "IOPub message rate exceeded.\n",
      "The notebook server will temporarily stop sending output\n",
      "to the client in order to avoid crashing it.\n",
      "To change this limit, set the config variable\n",
      "`--NotebookApp.iopub_msg_rate_limit`.\n",
      "\n",
      "Current values:\n",
      "NotebookApp.iopub_msg_rate_limit=1000.0 (msgs/sec)\n",
      "NotebookApp.rate_limit_window=3.0 (secs)\n",
      "\n",
      "Epoch 7378, global step 715762: train_loss_ssl was not in top 5\n",
      "Epoch 7379, global step 715859: train_loss_ssl was not in top 5\n",
      "Epoch 7380, global step 715956: train_loss_ssl was not in top 5\n",
      "Epoch 7381, global step 716053: train_loss_ssl was not in top 5\n",
      "Epoch 7382, global step 716150: train_loss_ssl was not in top 5\n",
      "Epoch 7383, global step 716247: train_loss_ssl was not in top 5\n",
      "Epoch 7384, global step 716344: train_loss_ssl was not in top 5\n",
      "IOPub message rate exceeded.\n",
      "The notebook server will temporarily stop sending output\n",
      "to the client in order to avoid crashing it.\n",
      "To change this limit, set the config variable\n",
      "`--NotebookApp.iopub_msg_rate_limit`.\n",
      "\n",
      "Current values:\n",
      "NotebookApp.iopub_msg_rate_limit=1000.0 (msgs/sec)\n",
      "NotebookApp.rate_limit_window=3.0 (secs)\n",
      "\n",
      "Epoch 7388, global step 716732: train_loss_ssl was not in top 5\n",
      "Epoch 7389, global step 716829: train_loss_ssl was not in top 5\n",
      "IOPub message rate exceeded.\n",
      "The notebook server will temporarily stop sending output\n",
      "to the client in order to avoid crashing it.\n",
      "To change this limit, set the config variable\n",
      "`--NotebookApp.iopub_msg_rate_limit`.\n",
      "\n",
      "Current values:\n",
      "NotebookApp.iopub_msg_rate_limit=1000.0 (msgs/sec)\n",
      "NotebookApp.rate_limit_window=3.0 (secs)\n",
      "\n",
      "Epoch 7423, global step 720127: train_loss_ssl was not in top 5\n",
      "Epoch 7424, global step 720224: train_loss_ssl was not in top 5\n",
      "Epoch 7425, global step 720321: train_loss_ssl was not in top 5\n",
      "Epoch 7426, global step 720418: train_loss_ssl was not in top 5\n",
      "Epoch 7427, global step 720515: train_loss_ssl was not in top 5\n",
      "Epoch 7428, global step 720612: train_loss_ssl was not in top 5\n",
      "IOPub message rate exceeded.\n",
      "The notebook server will temporarily stop sending output\n",
      "to the client in order to avoid crashing it.\n",
      "To change this limit, set the config variable\n",
      "`--NotebookApp.iopub_msg_rate_limit`.\n",
      "\n",
      "Current values:\n",
      "NotebookApp.iopub_msg_rate_limit=1000.0 (msgs/sec)\n",
      "NotebookApp.rate_limit_window=3.0 (secs)\n",
      "\n",
      "Epoch 7432, global step 721000: train_loss_ssl was not in top 5\n",
      "Epoch 7433, global step 721097: train_loss_ssl was not in top 5\n",
      "Epoch 7434, global step 721194: train_loss_ssl was not in top 5\n",
      "IOPub message rate exceeded.\n",
      "The notebook server will temporarily stop sending output\n",
      "to the client in order to avoid crashing it.\n",
      "To change this limit, set the config variable\n",
      "`--NotebookApp.iopub_msg_rate_limit`.\n",
      "\n",
      "Current values:\n",
      "NotebookApp.iopub_msg_rate_limit=1000.0 (msgs/sec)\n",
      "NotebookApp.rate_limit_window=3.0 (secs)\n",
      "\n",
      "Epoch 7467, global step 724395: train_loss_ssl was not in top 5\n",
      "Epoch 7468, global step 724492: train_loss_ssl was not in top 5\n",
      "Epoch 7469, global step 724589: train_loss_ssl was not in top 5\n",
      "Epoch 7470, global step 724686: train_loss_ssl was not in top 5\n",
      "Epoch 7471, global step 724783: train_loss_ssl was not in top 5\n",
      "Epoch 7472, global step 724880: train_loss_ssl was not in top 5\n",
      "Epoch 7473, global step 724977: train_loss_ssl was not in top 5\n",
      "Epoch 7474, global step 725074: train_loss_ssl was not in top 5\n",
      "Epoch 7475, global step 725171: train_loss_ssl was not in top 5\n"
     ]
    },
    {
     "name": "stderr",
     "output_type": "stream",
     "text": [
      "IOPub message rate exceeded.\n",
      "The notebook server will temporarily stop sending output\n",
      "to the client in order to avoid crashing it.\n",
      "To change this limit, set the config variable\n",
      "`--NotebookApp.iopub_msg_rate_limit`.\n",
      "\n",
      "Current values:\n",
      "NotebookApp.iopub_msg_rate_limit=1000.0 (msgs/sec)\n",
      "NotebookApp.rate_limit_window=3.0 (secs)\n",
      "\n"
     ]
    },
    {
     "data": {
      "application/vnd.jupyter.widget-view+json": {
       "model_id": "",
       "version_major": 2,
       "version_minor": 0
      },
      "text/plain": [
       "Validating: 0it [00:00, ?it/s]"
      ]
     },
     "metadata": {},
     "output_type": "display_data"
    },
    {
     "data": {
      "application/vnd.jupyter.widget-view+json": {
       "model_id": "",
       "version_major": 2,
       "version_minor": 0
      },
      "text/plain": [
       "Validating: 0it [00:00, ?it/s]"
      ]
     },
     "metadata": {},
     "output_type": "display_data"
    },
    {
     "data": {
      "application/vnd.jupyter.widget-view+json": {
       "model_id": "",
       "version_major": 2,
       "version_minor": 0
      },
      "text/plain": [
       "Validating: 0it [00:00, ?it/s]"
      ]
     },
     "metadata": {},
     "output_type": "display_data"
    },
    {
     "data": {
      "application/vnd.jupyter.widget-view+json": {
       "model_id": "",
       "version_major": 2,
       "version_minor": 0
      },
      "text/plain": [
       "Validating: 0it [00:00, ?it/s]"
      ]
     },
     "metadata": {},
     "output_type": "display_data"
    },
    {
     "data": {
      "application/vnd.jupyter.widget-view+json": {
       "model_id": "",
       "version_major": 2,
       "version_minor": 0
      },
      "text/plain": [
       "Validating: 0it [00:00, ?it/s]"
      ]
     },
     "metadata": {},
     "output_type": "display_data"
    },
    {
     "data": {
      "application/vnd.jupyter.widget-view+json": {
       "model_id": "",
       "version_major": 2,
       "version_minor": 0
      },
      "text/plain": [
       "Validating: 0it [00:00, ?it/s]"
      ]
     },
     "metadata": {},
     "output_type": "display_data"
    },
    {
     "data": {
      "application/vnd.jupyter.widget-view+json": {
       "model_id": "",
       "version_major": 2,
       "version_minor": 0
      },
      "text/plain": [
       "Validating: 0it [00:00, ?it/s]"
      ]
     },
     "metadata": {},
     "output_type": "display_data"
    },
    {
     "name": "stderr",
     "output_type": "stream",
     "text": [
      "IOPub message rate exceeded.\n",
      "The notebook server will temporarily stop sending output\n",
      "to the client in order to avoid crashing it.\n",
      "To change this limit, set the config variable\n",
      "`--NotebookApp.iopub_msg_rate_limit`.\n",
      "\n",
      "Current values:\n",
      "NotebookApp.iopub_msg_rate_limit=1000.0 (msgs/sec)\n",
      "NotebookApp.rate_limit_window=3.0 (secs)\n",
      "\n"
     ]
    },
    {
     "data": {
      "application/vnd.jupyter.widget-view+json": {
       "model_id": "",
       "version_major": 2,
       "version_minor": 0
      },
      "text/plain": [
       "Validating: 0it [00:00, ?it/s]"
      ]
     },
     "metadata": {},
     "output_type": "display_data"
    },
    {
     "data": {
      "application/vnd.jupyter.widget-view+json": {
       "model_id": "",
       "version_major": 2,
       "version_minor": 0
      },
      "text/plain": [
       "Validating: 0it [00:00, ?it/s]"
      ]
     },
     "metadata": {},
     "output_type": "display_data"
    },
    {
     "data": {
      "application/vnd.jupyter.widget-view+json": {
       "model_id": "",
       "version_major": 2,
       "version_minor": 0
      },
      "text/plain": [
       "Validating: 0it [00:00, ?it/s]"
      ]
     },
     "metadata": {},
     "output_type": "display_data"
    },
    {
     "data": {
      "application/vnd.jupyter.widget-view+json": {
       "model_id": "",
       "version_major": 2,
       "version_minor": 0
      },
      "text/plain": [
       "Validating: 0it [00:00, ?it/s]"
      ]
     },
     "metadata": {},
     "output_type": "display_data"
    },
    {
     "data": {
      "application/vnd.jupyter.widget-view+json": {
       "model_id": "",
       "version_major": 2,
       "version_minor": 0
      },
      "text/plain": [
       "Validating: 0it [00:00, ?it/s]"
      ]
     },
     "metadata": {},
     "output_type": "display_data"
    },
    {
     "data": {
      "application/vnd.jupyter.widget-view+json": {
       "model_id": "",
       "version_major": 2,
       "version_minor": 0
      },
      "text/plain": [
       "Validating: 0it [00:00, ?it/s]"
      ]
     },
     "metadata": {},
     "output_type": "display_data"
    },
    {
     "data": {
      "application/vnd.jupyter.widget-view+json": {
       "model_id": "",
       "version_major": 2,
       "version_minor": 0
      },
      "text/plain": [
       "Validating: 0it [00:00, ?it/s]"
      ]
     },
     "metadata": {},
     "output_type": "display_data"
    },
    {
     "name": "stderr",
     "output_type": "stream",
     "text": [
      "IOPub message rate exceeded.\n",
      "The notebook server will temporarily stop sending output\n",
      "to the client in order to avoid crashing it.\n",
      "To change this limit, set the config variable\n",
      "`--NotebookApp.iopub_msg_rate_limit`.\n",
      "\n",
      "Current values:\n",
      "NotebookApp.iopub_msg_rate_limit=1000.0 (msgs/sec)\n",
      "NotebookApp.rate_limit_window=3.0 (secs)\n",
      "\n",
      "Epoch 7521, global step 729633: train_loss_ssl was not in top 5\n",
      "Epoch 7522, global step 729730: train_loss_ssl was not in top 5\n",
      "Epoch 7523, global step 729827: train_loss_ssl was not in top 5\n",
      "Epoch 7524, global step 729924: train_loss_ssl was not in top 5\n",
      "Epoch 7525, global step 730021: train_loss_ssl was not in top 5\n",
      "Epoch 7526, global step 730118: train_loss_ssl was not in top 5\n",
      "Epoch 7527, global step 730215: train_loss_ssl was not in top 5\n",
      "Epoch 7528, global step 730312: train_loss_ssl was not in top 5\n",
      "Epoch 7529, global step 730409: train_loss_ssl was not in top 5\n",
      "IOPub message rate exceeded.\n",
      "The notebook server will temporarily stop sending output\n",
      "to the client in order to avoid crashing it.\n",
      "To change this limit, set the config variable\n",
      "`--NotebookApp.iopub_msg_rate_limit`.\n",
      "\n",
      "Current values:\n",
      "NotebookApp.iopub_msg_rate_limit=1000.0 (msgs/sec)\n",
      "NotebookApp.rate_limit_window=3.0 (secs)\n",
      "\n",
      "Epoch 7565, global step 733901: train_loss_ssl was not in top 5\n",
      "Epoch 7566, global step 733998: train_loss_ssl was not in top 5\n",
      "Epoch 7567, global step 734095: train_loss_ssl was not in top 5\n",
      "Epoch 7568, global step 734192: train_loss_ssl was not in top 5\n",
      "Epoch 7569, global step 734289: train_loss_ssl was not in top 5\n",
      "Epoch 7570, global step 734386: train_loss_ssl reached 1.59584 (best 1.56447), saving model to \"/home/shatz/Documents/more_better/saved_models/resnet_moco/epoch=7570-train_loss_ssl=1.60.ckpt\" as top 5\n",
      "Epoch 7571, global step 734483: train_loss_ssl was not in top 5\n",
      "Epoch 7572, global step 734580: train_loss_ssl was not in top 5\n",
      "Epoch 7573, global step 734677: train_loss_ssl was not in top 5\n",
      "IOPub message rate exceeded.\n",
      "The notebook server will temporarily stop sending output\n",
      "to the client in order to avoid crashing it.\n",
      "To change this limit, set the config variable\n",
      "`--NotebookApp.iopub_msg_rate_limit`.\n",
      "\n",
      "Current values:\n",
      "NotebookApp.iopub_msg_rate_limit=1000.0 (msgs/sec)\n",
      "NotebookApp.rate_limit_window=3.0 (secs)\n",
      "\n",
      "Epoch 7606, global step 737878: train_loss_ssl was not in top 5\n",
      "Epoch 7607, global step 737975: train_loss_ssl was not in top 5\n",
      "Epoch 7608, global step 738072: train_loss_ssl was not in top 5\n",
      "Epoch 7609, global step 738169: train_loss_ssl was not in top 5\n",
      "Epoch 7610, global step 738266: train_loss_ssl was not in top 5\n",
      "Epoch 7611, global step 738363: train_loss_ssl was not in top 5\n",
      "Epoch 7612, global step 738460: train_loss_ssl was not in top 5\n",
      "Epoch 7613, global step 738557: train_loss_ssl was not in top 5\n",
      "Epoch 7614, global step 738654: train_loss_ssl was not in top 5\n",
      "IOPub message rate exceeded.\n",
      "The notebook server will temporarily stop sending output\n",
      "to the client in order to avoid crashing it.\n",
      "To change this limit, set the config variable\n",
      "`--NotebookApp.iopub_msg_rate_limit`.\n",
      "\n",
      "Current values:\n",
      "NotebookApp.iopub_msg_rate_limit=1000.0 (msgs/sec)\n",
      "NotebookApp.rate_limit_window=3.0 (secs)\n",
      "\n",
      "Epoch 7635, global step 740691: train_loss_ssl was not in top 5\n",
      "Epoch 7636, global step 740788: train_loss_ssl was not in top 5\n",
      "Epoch 7637, global step 740885: train_loss_ssl was not in top 5\n",
      "Epoch 7638, global step 740982: train_loss_ssl was not in top 5\n",
      "Epoch 7639, global step 741079: train_loss_ssl was not in top 5\n",
      "Epoch 7640, global step 741176: train_loss_ssl was not in top 5\n",
      "Epoch 7641, global step 741273: train_loss_ssl was not in top 5\n",
      "IOPub message rate exceeded.\n",
      "The notebook server will temporarily stop sending output\n",
      "to the client in order to avoid crashing it.\n",
      "To change this limit, set the config variable\n",
      "`--NotebookApp.iopub_msg_rate_limit`.\n",
      "\n",
      "Current values:\n",
      "NotebookApp.iopub_msg_rate_limit=1000.0 (msgs/sec)\n",
      "NotebookApp.rate_limit_window=3.0 (secs)\n",
      "\n",
      "Epoch 7676, global step 744668: train_loss_ssl was not in top 5\n",
      "Epoch 7677, global step 744765: train_loss_ssl was not in top 5\n",
      "Epoch 7678, global step 744862: train_loss_ssl was not in top 5\n",
      "Epoch 7679, global step 744959: train_loss_ssl was not in top 5\n",
      "Epoch 7680, global step 745056: train_loss_ssl was not in top 5\n",
      "Epoch 7681, global step 745153: train_loss_ssl was not in top 5\n",
      "Epoch 7682, global step 745250: train_loss_ssl was not in top 5\n",
      "Epoch 7683, global step 745347: train_loss_ssl was not in top 5\n",
      "Epoch 7684, global step 745444: train_loss_ssl reached 1.54833 (best 1.54833), saving model to \"/home/shatz/Documents/more_better/saved_models/resnet_moco/epoch=7684-train_loss_ssl=1.55.ckpt\" as top 5\n",
      "IOPub message rate exceeded.\n",
      "The notebook server will temporarily stop sending output\n",
      "to the client in order to avoid crashing it.\n",
      "To change this limit, set the config variable\n",
      "`--NotebookApp.iopub_msg_rate_limit`.\n",
      "\n",
      "Current values:\n",
      "NotebookApp.iopub_msg_rate_limit=1000.0 (msgs/sec)\n",
      "NotebookApp.rate_limit_window=3.0 (secs)\n",
      "\n",
      "Epoch 7720, global step 748936: train_loss_ssl was not in top 5\n",
      "Epoch 7721, global step 749033: train_loss_ssl was not in top 5\n",
      "Epoch 7722, global step 749130: train_loss_ssl was not in top 5\n",
      "Epoch 7723, global step 749227: train_loss_ssl was not in top 5\n",
      "Epoch 7724, global step 749324: train_loss_ssl was not in top 5\n",
      "Epoch 7725, global step 749421: train_loss_ssl was not in top 5\n",
      "Epoch 7726, global step 749518: train_loss_ssl was not in top 5\n",
      "Epoch 7727, global step 749615: train_loss_ssl was not in top 5\n",
      "Epoch 7728, global step 749712: train_loss_ssl was not in top 5\n",
      "IOPub message rate exceeded.\n",
      "The notebook server will temporarily stop sending output\n",
      "to the client in order to avoid crashing it.\n",
      "To change this limit, set the config variable\n",
      "`--NotebookApp.iopub_msg_rate_limit`.\n",
      "\n",
      "Current values:\n",
      "NotebookApp.iopub_msg_rate_limit=1000.0 (msgs/sec)\n",
      "NotebookApp.rate_limit_window=3.0 (secs)\n",
      "\n",
      "Epoch 7764, global step 753204: train_loss_ssl was not in top 5\n",
      "Epoch 7765, global step 753301: train_loss_ssl was not in top 5\n",
      "Epoch 7766, global step 753398: train_loss_ssl was not in top 5\n",
      "Epoch 7767, global step 753495: train_loss_ssl was not in top 5\n",
      "Epoch 7768, global step 753592: train_loss_ssl was not in top 5\n",
      "Epoch 7769, global step 753689: train_loss_ssl was not in top 5\n",
      "Epoch 7770, global step 753786: train_loss_ssl was not in top 5\n",
      "Epoch 7771, global step 753883: train_loss_ssl was not in top 5\n",
      "Epoch 7772, global step 753980: train_loss_ssl was not in top 5\n",
      "IOPub message rate exceeded.\n",
      "The notebook server will temporarily stop sending output\n",
      "to the client in order to avoid crashing it.\n",
      "To change this limit, set the config variable\n",
      "`--NotebookApp.iopub_msg_rate_limit`.\n",
      "\n",
      "Current values:\n",
      "NotebookApp.iopub_msg_rate_limit=1000.0 (msgs/sec)\n",
      "NotebookApp.rate_limit_window=3.0 (secs)\n",
      "\n"
     ]
    },
    {
     "data": {
      "application/vnd.jupyter.widget-view+json": {
       "model_id": "",
       "version_major": 2,
       "version_minor": 0
      },
      "text/plain": [
       "Validating: 0it [00:00, ?it/s]"
      ]
     },
     "metadata": {},
     "output_type": "display_data"
    },
    {
     "data": {
      "application/vnd.jupyter.widget-view+json": {
       "model_id": "",
       "version_major": 2,
       "version_minor": 0
      },
      "text/plain": [
       "Validating: 0it [00:00, ?it/s]"
      ]
     },
     "metadata": {},
     "output_type": "display_data"
    },
    {
     "data": {
      "application/vnd.jupyter.widget-view+json": {
       "model_id": "",
       "version_major": 2,
       "version_minor": 0
      },
      "text/plain": [
       "Validating: 0it [00:00, ?it/s]"
      ]
     },
     "metadata": {},
     "output_type": "display_data"
    },
    {
     "data": {
      "application/vnd.jupyter.widget-view+json": {
       "model_id": "",
       "version_major": 2,
       "version_minor": 0
      },
      "text/plain": [
       "Validating: 0it [00:00, ?it/s]"
      ]
     },
     "metadata": {},
     "output_type": "display_data"
    },
    {
     "data": {
      "application/vnd.jupyter.widget-view+json": {
       "model_id": "",
       "version_major": 2,
       "version_minor": 0
      },
      "text/plain": [
       "Validating: 0it [00:00, ?it/s]"
      ]
     },
     "metadata": {},
     "output_type": "display_data"
    },
    {
     "data": {
      "application/vnd.jupyter.widget-view+json": {
       "model_id": "",
       "version_major": 2,
       "version_minor": 0
      },
      "text/plain": [
       "Validating: 0it [00:00, ?it/s]"
      ]
     },
     "metadata": {},
     "output_type": "display_data"
    },
    {
     "data": {
      "application/vnd.jupyter.widget-view+json": {
       "model_id": "",
       "version_major": 2,
       "version_minor": 0
      },
      "text/plain": [
       "Validating: 0it [00:00, ?it/s]"
      ]
     },
     "metadata": {},
     "output_type": "display_data"
    },
    {
     "name": "stderr",
     "output_type": "stream",
     "text": [
      "IOPub message rate exceeded.\n",
      "The notebook server will temporarily stop sending output\n",
      "to the client in order to avoid crashing it.\n",
      "To change this limit, set the config variable\n",
      "`--NotebookApp.iopub_msg_rate_limit`.\n",
      "\n",
      "Current values:\n",
      "NotebookApp.iopub_msg_rate_limit=1000.0 (msgs/sec)\n",
      "NotebookApp.rate_limit_window=3.0 (secs)\n",
      "\n"
     ]
    },
    {
     "data": {
      "application/vnd.jupyter.widget-view+json": {
       "model_id": "",
       "version_major": 2,
       "version_minor": 0
      },
      "text/plain": [
       "Validating: 0it [00:00, ?it/s]"
      ]
     },
     "metadata": {},
     "output_type": "display_data"
    },
    {
     "data": {
      "application/vnd.jupyter.widget-view+json": {
       "model_id": "",
       "version_major": 2,
       "version_minor": 0
      },
      "text/plain": [
       "Validating: 0it [00:00, ?it/s]"
      ]
     },
     "metadata": {},
     "output_type": "display_data"
    },
    {
     "data": {
      "application/vnd.jupyter.widget-view+json": {
       "model_id": "",
       "version_major": 2,
       "version_minor": 0
      },
      "text/plain": [
       "Validating: 0it [00:00, ?it/s]"
      ]
     },
     "metadata": {},
     "output_type": "display_data"
    },
    {
     "data": {
      "application/vnd.jupyter.widget-view+json": {
       "model_id": "",
       "version_major": 2,
       "version_minor": 0
      },
      "text/plain": [
       "Validating: 0it [00:00, ?it/s]"
      ]
     },
     "metadata": {},
     "output_type": "display_data"
    },
    {
     "data": {
      "application/vnd.jupyter.widget-view+json": {
       "model_id": "",
       "version_major": 2,
       "version_minor": 0
      },
      "text/plain": [
       "Validating: 0it [00:00, ?it/s]"
      ]
     },
     "metadata": {},
     "output_type": "display_data"
    },
    {
     "data": {
      "application/vnd.jupyter.widget-view+json": {
       "model_id": "",
       "version_major": 2,
       "version_minor": 0
      },
      "text/plain": [
       "Validating: 0it [00:00, ?it/s]"
      ]
     },
     "metadata": {},
     "output_type": "display_data"
    },
    {
     "data": {
      "application/vnd.jupyter.widget-view+json": {
       "model_id": "",
       "version_major": 2,
       "version_minor": 0
      },
      "text/plain": [
       "Validating: 0it [00:00, ?it/s]"
      ]
     },
     "metadata": {},
     "output_type": "display_data"
    },
    {
     "name": "stderr",
     "output_type": "stream",
     "text": [
      "IOPub message rate exceeded.\n",
      "The notebook server will temporarily stop sending output\n",
      "to the client in order to avoid crashing it.\n",
      "To change this limit, set the config variable\n",
      "`--NotebookApp.iopub_msg_rate_limit`.\n",
      "\n",
      "Current values:\n",
      "NotebookApp.iopub_msg_rate_limit=1000.0 (msgs/sec)\n",
      "NotebookApp.rate_limit_window=3.0 (secs)\n",
      "\n",
      "Epoch 7821, global step 758733: train_loss_ssl was not in top 5\n",
      "Epoch 7822, global step 758830: train_loss_ssl was not in top 5\n",
      "Epoch 7823, global step 758927: train_loss_ssl was not in top 5\n",
      "Epoch 7824, global step 759024: train_loss_ssl was not in top 5\n",
      "Epoch 7825, global step 759121: train_loss_ssl was not in top 5\n",
      "Epoch 7826, global step 759218: train_loss_ssl was not in top 5\n",
      "Epoch 7827, global step 759315: train_loss_ssl was not in top 5\n",
      "Epoch 7828, global step 759412: train_loss_ssl was not in top 5\n",
      "Epoch 7829, global step 759509: train_loss_ssl was not in top 5\n",
      "IOPub message rate exceeded.\n",
      "The notebook server will temporarily stop sending output\n",
      "to the client in order to avoid crashing it.\n",
      "To change this limit, set the config variable\n",
      "`--NotebookApp.iopub_msg_rate_limit`.\n",
      "\n",
      "Current values:\n",
      "NotebookApp.iopub_msg_rate_limit=1000.0 (msgs/sec)\n",
      "NotebookApp.rate_limit_window=3.0 (secs)\n",
      "\n",
      "Epoch 7865, global step 763001: train_loss_ssl was not in top 5\n",
      "Epoch 7866, global step 763098: train_loss_ssl was not in top 5\n",
      "Epoch 7867, global step 763195: train_loss_ssl was not in top 5\n",
      "Epoch 7868, global step 763292: train_loss_ssl was not in top 5\n",
      "Epoch 7869, global step 763389: train_loss_ssl was not in top 5\n",
      "Epoch 7870, global step 763486: train_loss_ssl was not in top 5\n",
      "Epoch 7871, global step 763583: train_loss_ssl was not in top 5\n",
      "Epoch 7872, global step 763680: train_loss_ssl was not in top 5\n",
      "Epoch 7873, global step 763777: train_loss_ssl was not in top 5\n",
      "IOPub message rate exceeded.\n",
      "The notebook server will temporarily stop sending output\n",
      "to the client in order to avoid crashing it.\n",
      "To change this limit, set the config variable\n",
      "`--NotebookApp.iopub_msg_rate_limit`.\n",
      "\n",
      "Current values:\n",
      "NotebookApp.iopub_msg_rate_limit=1000.0 (msgs/sec)\n",
      "NotebookApp.rate_limit_window=3.0 (secs)\n",
      "\n",
      "Epoch 7909, global step 767269: train_loss_ssl was not in top 5\n",
      "Epoch 7910, global step 767366: train_loss_ssl was not in top 5\n",
      "Epoch 7911, global step 767463: train_loss_ssl was not in top 5\n",
      "Epoch 7912, global step 767560: train_loss_ssl was not in top 5\n",
      "Epoch 7913, global step 767657: train_loss_ssl was not in top 5\n",
      "Epoch 7914, global step 767754: train_loss_ssl was not in top 5\n",
      "Epoch 7915, global step 767851: train_loss_ssl was not in top 5\n",
      "Epoch 7916, global step 767948: train_loss_ssl was not in top 5\n",
      "Epoch 7917, global step 768045: train_loss_ssl was not in top 5\n",
      "IOPub message rate exceeded.\n",
      "The notebook server will temporarily stop sending output\n",
      "to the client in order to avoid crashing it.\n",
      "To change this limit, set the config variable\n",
      "`--NotebookApp.iopub_msg_rate_limit`.\n",
      "\n",
      "Current values:\n",
      "NotebookApp.iopub_msg_rate_limit=1000.0 (msgs/sec)\n",
      "NotebookApp.rate_limit_window=3.0 (secs)\n",
      "\n",
      "Epoch 7953, global step 771537: train_loss_ssl was not in top 5\n",
      "Epoch 7954, global step 771634: train_loss_ssl reached 1.39481 (best 1.39481), saving model to \"/home/shatz/Documents/more_better/saved_models/resnet_moco/epoch=7954-train_loss_ssl=1.39.ckpt\" as top 5\n",
      "Epoch 7955, global step 771731: train_loss_ssl was not in top 5\n",
      "Epoch 7956, global step 771828: train_loss_ssl was not in top 5\n",
      "Epoch 7957, global step 771925: train_loss_ssl was not in top 5\n",
      "Epoch 7958, global step 772022: train_loss_ssl reached 1.51031 (best 1.39481), saving model to \"/home/shatz/Documents/more_better/saved_models/resnet_moco/epoch=7958-train_loss_ssl=1.51.ckpt\" as top 5\n",
      "Epoch 7959, global step 772119: train_loss_ssl was not in top 5\n",
      "Epoch 7960, global step 772216: train_loss_ssl was not in top 5\n",
      "Epoch 7961, global step 772313: train_loss_ssl was not in top 5\n",
      "IOPub message rate exceeded.\n",
      "The notebook server will temporarily stop sending output\n",
      "to the client in order to avoid crashing it.\n",
      "To change this limit, set the config variable\n",
      "`--NotebookApp.iopub_msg_rate_limit`.\n",
      "\n",
      "Current values:\n",
      "NotebookApp.iopub_msg_rate_limit=1000.0 (msgs/sec)\n",
      "NotebookApp.rate_limit_window=3.0 (secs)\n",
      "\n",
      "Epoch 7997, global step 775805: train_loss_ssl was not in top 5\n",
      "Epoch 7998, global step 775902: train_loss_ssl was not in top 5\n",
      "Epoch 7999, global step 775999: train_loss_ssl was not in top 5\n",
      "Epoch 8000, global step 776096: train_loss_ssl was not in top 5\n",
      "Epoch 8001, global step 776193: train_loss_ssl was not in top 5\n",
      "Epoch 8002, global step 776290: train_loss_ssl was not in top 5\n",
      "Epoch 8003, global step 776387: train_loss_ssl was not in top 5\n",
      "Epoch 8004, global step 776484: train_loss_ssl was not in top 5\n",
      "Epoch 8005, global step 776581: train_loss_ssl was not in top 5\n",
      "IOPub message rate exceeded.\n",
      "The notebook server will temporarily stop sending output\n",
      "to the client in order to avoid crashing it.\n",
      "To change this limit, set the config variable\n",
      "`--NotebookApp.iopub_msg_rate_limit`.\n",
      "\n",
      "Current values:\n",
      "NotebookApp.iopub_msg_rate_limit=1000.0 (msgs/sec)\n",
      "NotebookApp.rate_limit_window=3.0 (secs)\n",
      "\n",
      "Epoch 8041, global step 780073: train_loss_ssl was not in top 5\n",
      "Epoch 8042, global step 780170: train_loss_ssl was not in top 5\n",
      "Epoch 8043, global step 780267: train_loss_ssl was not in top 5\n",
      "Epoch 8044, global step 780364: train_loss_ssl was not in top 5\n",
      "Epoch 8045, global step 780461: train_loss_ssl was not in top 5\n",
      "Epoch 8046, global step 780558: train_loss_ssl was not in top 5\n",
      "Epoch 8047, global step 780655: train_loss_ssl was not in top 5\n",
      "Epoch 8048, global step 780752: train_loss_ssl was not in top 5\n",
      "Epoch 8049, global step 780849: train_loss_ssl was not in top 5\n",
      "IOPub message rate exceeded.\n",
      "The notebook server will temporarily stop sending output\n",
      "to the client in order to avoid crashing it.\n",
      "To change this limit, set the config variable\n",
      "`--NotebookApp.iopub_msg_rate_limit`.\n",
      "\n",
      "Current values:\n",
      "NotebookApp.iopub_msg_rate_limit=1000.0 (msgs/sec)\n",
      "NotebookApp.rate_limit_window=3.0 (secs)\n",
      "\n",
      "Epoch 8086, global step 784438: train_loss_ssl was not in top 5\n",
      "Epoch 8087, global step 784535: train_loss_ssl reached 1.47079 (best 1.39481), saving model to \"/home/shatz/Documents/more_better/saved_models/resnet_moco/epoch=8087-train_loss_ssl=1.47.ckpt\" as top 5\n",
      "Epoch 8088, global step 784632: train_loss_ssl was not in top 5\n",
      "Epoch 8089, global step 784729: train_loss_ssl was not in top 5\n",
      "Epoch 8090, global step 784826: train_loss_ssl was not in top 5\n",
      "Epoch 8091, global step 784923: train_loss_ssl was not in top 5\n",
      "Epoch 8092, global step 785020: train_loss_ssl was not in top 5\n",
      "Epoch 8093, global step 785117: train_loss_ssl was not in top 5\n",
      "Epoch 8094, global step 785214: train_loss_ssl was not in top 5\n",
      "IOPub message rate exceeded.\n",
      "The notebook server will temporarily stop sending output\n",
      "to the client in order to avoid crashing it.\n",
      "To change this limit, set the config variable\n",
      "`--NotebookApp.iopub_msg_rate_limit`.\n",
      "\n",
      "Current values:\n",
      "NotebookApp.iopub_msg_rate_limit=1000.0 (msgs/sec)\n",
      "NotebookApp.rate_limit_window=3.0 (secs)\n",
      "\n"
     ]
    },
    {
     "data": {
      "application/vnd.jupyter.widget-view+json": {
       "model_id": "",
       "version_major": 2,
       "version_minor": 0
      },
      "text/plain": [
       "Validating: 0it [00:00, ?it/s]"
      ]
     },
     "metadata": {},
     "output_type": "display_data"
    },
    {
     "data": {
      "application/vnd.jupyter.widget-view+json": {
       "model_id": "",
       "version_major": 2,
       "version_minor": 0
      },
      "text/plain": [
       "Validating: 0it [00:00, ?it/s]"
      ]
     },
     "metadata": {},
     "output_type": "display_data"
    },
    {
     "data": {
      "application/vnd.jupyter.widget-view+json": {
       "model_id": "",
       "version_major": 2,
       "version_minor": 0
      },
      "text/plain": [
       "Validating: 0it [00:00, ?it/s]"
      ]
     },
     "metadata": {},
     "output_type": "display_data"
    },
    {
     "data": {
      "application/vnd.jupyter.widget-view+json": {
       "model_id": "",
       "version_major": 2,
       "version_minor": 0
      },
      "text/plain": [
       "Validating: 0it [00:00, ?it/s]"
      ]
     },
     "metadata": {},
     "output_type": "display_data"
    },
    {
     "data": {
      "application/vnd.jupyter.widget-view+json": {
       "model_id": "",
       "version_major": 2,
       "version_minor": 0
      },
      "text/plain": [
       "Validating: 0it [00:00, ?it/s]"
      ]
     },
     "metadata": {},
     "output_type": "display_data"
    },
    {
     "data": {
      "application/vnd.jupyter.widget-view+json": {
       "model_id": "",
       "version_major": 2,
       "version_minor": 0
      },
      "text/plain": [
       "Validating: 0it [00:00, ?it/s]"
      ]
     },
     "metadata": {},
     "output_type": "display_data"
    },
    {
     "data": {
      "application/vnd.jupyter.widget-view+json": {
       "model_id": "",
       "version_major": 2,
       "version_minor": 0
      },
      "text/plain": [
       "Validating: 0it [00:00, ?it/s]"
      ]
     },
     "metadata": {},
     "output_type": "display_data"
    },
    {
     "name": "stderr",
     "output_type": "stream",
     "text": [
      "IOPub message rate exceeded.\n",
      "The notebook server will temporarily stop sending output\n",
      "to the client in order to avoid crashing it.\n",
      "To change this limit, set the config variable\n",
      "`--NotebookApp.iopub_msg_rate_limit`.\n",
      "\n",
      "Current values:\n",
      "NotebookApp.iopub_msg_rate_limit=1000.0 (msgs/sec)\n",
      "NotebookApp.rate_limit_window=3.0 (secs)\n",
      "\n"
     ]
    },
    {
     "data": {
      "application/vnd.jupyter.widget-view+json": {
       "model_id": "",
       "version_major": 2,
       "version_minor": 0
      },
      "text/plain": [
       "Validating: 0it [00:00, ?it/s]"
      ]
     },
     "metadata": {},
     "output_type": "display_data"
    },
    {
     "data": {
      "application/vnd.jupyter.widget-view+json": {
       "model_id": "",
       "version_major": 2,
       "version_minor": 0
      },
      "text/plain": [
       "Validating: 0it [00:00, ?it/s]"
      ]
     },
     "metadata": {},
     "output_type": "display_data"
    },
    {
     "data": {
      "application/vnd.jupyter.widget-view+json": {
       "model_id": "",
       "version_major": 2,
       "version_minor": 0
      },
      "text/plain": [
       "Validating: 0it [00:00, ?it/s]"
      ]
     },
     "metadata": {},
     "output_type": "display_data"
    },
    {
     "data": {
      "application/vnd.jupyter.widget-view+json": {
       "model_id": "",
       "version_major": 2,
       "version_minor": 0
      },
      "text/plain": [
       "Validating: 0it [00:00, ?it/s]"
      ]
     },
     "metadata": {},
     "output_type": "display_data"
    },
    {
     "data": {
      "application/vnd.jupyter.widget-view+json": {
       "model_id": "",
       "version_major": 2,
       "version_minor": 0
      },
      "text/plain": [
       "Validating: 0it [00:00, ?it/s]"
      ]
     },
     "metadata": {},
     "output_type": "display_data"
    },
    {
     "data": {
      "application/vnd.jupyter.widget-view+json": {
       "model_id": "",
       "version_major": 2,
       "version_minor": 0
      },
      "text/plain": [
       "Validating: 0it [00:00, ?it/s]"
      ]
     },
     "metadata": {},
     "output_type": "display_data"
    },
    {
     "data": {
      "application/vnd.jupyter.widget-view+json": {
       "model_id": "",
       "version_major": 2,
       "version_minor": 0
      },
      "text/plain": [
       "Validating: 0it [00:00, ?it/s]"
      ]
     },
     "metadata": {},
     "output_type": "display_data"
    },
    {
     "data": {
      "application/vnd.jupyter.widget-view+json": {
       "model_id": "",
       "version_major": 2,
       "version_minor": 0
      },
      "text/plain": [
       "Validating: 0it [00:00, ?it/s]"
      ]
     },
     "metadata": {},
     "output_type": "display_data"
    },
    {
     "name": "stderr",
     "output_type": "stream",
     "text": [
      "IOPub message rate exceeded.\n",
      "The notebook server will temporarily stop sending output\n",
      "to the client in order to avoid crashing it.\n",
      "To change this limit, set the config variable\n",
      "`--NotebookApp.iopub_msg_rate_limit`.\n",
      "\n",
      "Current values:\n",
      "NotebookApp.iopub_msg_rate_limit=1000.0 (msgs/sec)\n",
      "NotebookApp.rate_limit_window=3.0 (secs)\n",
      "\n",
      "Epoch 8131, global step 788803: train_loss_ssl was not in top 5\n",
      "Epoch 8132, global step 788900: train_loss_ssl was not in top 5\n",
      "Epoch 8133, global step 788997: train_loss_ssl was not in top 5\n",
      "Epoch 8134, global step 789094: train_loss_ssl was not in top 5\n",
      "Epoch 8135, global step 789191: train_loss_ssl was not in top 5\n",
      "Epoch 8136, global step 789288: train_loss_ssl was not in top 5\n",
      "Epoch 8137, global step 789385: train_loss_ssl was not in top 5\n",
      "Epoch 8138, global step 789482: train_loss_ssl was not in top 5\n",
      "IOPub message rate exceeded.\n",
      "The notebook server will temporarily stop sending output\n",
      "to the client in order to avoid crashing it.\n",
      "To change this limit, set the config variable\n",
      "`--NotebookApp.iopub_msg_rate_limit`.\n",
      "\n",
      "Current values:\n",
      "NotebookApp.iopub_msg_rate_limit=1000.0 (msgs/sec)\n",
      "NotebookApp.rate_limit_window=3.0 (secs)\n",
      "\n",
      "Epoch 8173, global step 792877: train_loss_ssl reached 1.43089 (best 1.39481), saving model to \"/home/shatz/Documents/more_better/saved_models/resnet_moco/epoch=8173-train_loss_ssl=1.43.ckpt\" as top 5\n",
      "Epoch 8174, global step 792974: train_loss_ssl was not in top 5\n",
      "Epoch 8175, global step 793071: train_loss_ssl was not in top 5\n",
      "Epoch 8176, global step 793168: train_loss_ssl was not in top 5\n",
      "Epoch 8177, global step 793265: train_loss_ssl was not in top 5\n",
      "Epoch 8178, global step 793362: train_loss_ssl was not in top 5\n",
      "Epoch 8179, global step 793459: train_loss_ssl was not in top 5\n",
      "Epoch 8180, global step 793556: train_loss_ssl was not in top 5\n",
      "Epoch 8181, global step 793653: train_loss_ssl was not in top 5\n",
      "IOPub message rate exceeded.\n",
      "The notebook server will temporarily stop sending output\n",
      "to the client in order to avoid crashing it.\n",
      "To change this limit, set the config variable\n",
      "`--NotebookApp.iopub_msg_rate_limit`.\n",
      "\n",
      "Current values:\n",
      "NotebookApp.iopub_msg_rate_limit=1000.0 (msgs/sec)\n",
      "NotebookApp.rate_limit_window=3.0 (secs)\n",
      "\n",
      "Epoch 8217, global step 797145: train_loss_ssl was not in top 5\n",
      "Epoch 8218, global step 797242: train_loss_ssl was not in top 5\n",
      "Epoch 8219, global step 797339: train_loss_ssl was not in top 5\n",
      "Epoch 8220, global step 797436: train_loss_ssl was not in top 5\n",
      "Epoch 8221, global step 797533: train_loss_ssl was not in top 5\n",
      "Epoch 8222, global step 797630: train_loss_ssl was not in top 5\n",
      "Epoch 8223, global step 797727: train_loss_ssl was not in top 5\n",
      "Epoch 8224, global step 797824: train_loss_ssl was not in top 5\n",
      "Epoch 8225, global step 797921: train_loss_ssl was not in top 5\n",
      "IOPub message rate exceeded.\n",
      "The notebook server will temporarily stop sending output\n",
      "to the client in order to avoid crashing it.\n",
      "To change this limit, set the config variable\n",
      "`--NotebookApp.iopub_msg_rate_limit`.\n",
      "\n",
      "Current values:\n",
      "NotebookApp.iopub_msg_rate_limit=1000.0 (msgs/sec)\n",
      "NotebookApp.rate_limit_window=3.0 (secs)\n",
      "\n",
      "Epoch 8260, global step 801316: train_loss_ssl was not in top 5\n",
      "Epoch 8261, global step 801413: train_loss_ssl was not in top 5\n",
      "Epoch 8262, global step 801510: train_loss_ssl was not in top 5\n",
      "Epoch 8263, global step 801607: train_loss_ssl was not in top 5\n",
      "Epoch 8264, global step 801704: train_loss_ssl was not in top 5\n",
      "Epoch 8265, global step 801801: train_loss_ssl was not in top 5\n",
      "Epoch 8266, global step 801898: train_loss_ssl was not in top 5\n",
      "Epoch 8267, global step 801995: train_loss_ssl was not in top 5\n",
      "Epoch 8268, global step 802092: train_loss_ssl was not in top 5\n",
      "IOPub message rate exceeded.\n",
      "The notebook server will temporarily stop sending output\n",
      "to the client in order to avoid crashing it.\n",
      "To change this limit, set the config variable\n",
      "`--NotebookApp.iopub_msg_rate_limit`.\n",
      "\n",
      "Current values:\n",
      "NotebookApp.iopub_msg_rate_limit=1000.0 (msgs/sec)\n",
      "NotebookApp.rate_limit_window=3.0 (secs)\n",
      "\n",
      "Epoch 8305, global step 805681: train_loss_ssl was not in top 5\n",
      "Epoch 8306, global step 805778: train_loss_ssl was not in top 5\n",
      "Epoch 8307, global step 805875: train_loss_ssl reached 1.33355 (best 1.33355), saving model to \"/home/shatz/Documents/more_better/saved_models/resnet_moco/epoch=8307-train_loss_ssl=1.33.ckpt\" as top 5\n",
      "Epoch 8308, global step 805972: train_loss_ssl was not in top 5\n",
      "Epoch 8309, global step 806069: train_loss_ssl was not in top 5\n",
      "Epoch 8310, global step 806166: train_loss_ssl was not in top 5\n",
      "Epoch 8311, global step 806263: train_loss_ssl was not in top 5\n",
      "Epoch 8312, global step 806360: train_loss_ssl was not in top 5\n",
      "Epoch 8313, global step 806457: train_loss_ssl was not in top 5\n",
      "IOPub message rate exceeded.\n",
      "The notebook server will temporarily stop sending output\n",
      "to the client in order to avoid crashing it.\n",
      "To change this limit, set the config variable\n",
      "`--NotebookApp.iopub_msg_rate_limit`.\n",
      "\n",
      "Current values:\n",
      "NotebookApp.iopub_msg_rate_limit=1000.0 (msgs/sec)\n",
      "NotebookApp.rate_limit_window=3.0 (secs)\n",
      "\n",
      "Epoch 8349, global step 809949: train_loss_ssl was not in top 5\n",
      "Epoch 8350, global step 810046: train_loss_ssl was not in top 5\n",
      "Epoch 8351, global step 810143: train_loss_ssl was not in top 5\n",
      "Epoch 8352, global step 810240: train_loss_ssl was not in top 5\n",
      "Epoch 8353, global step 810337: train_loss_ssl was not in top 5\n",
      "Epoch 8354, global step 810434: train_loss_ssl was not in top 5\n",
      "Epoch 8355, global step 810531: train_loss_ssl was not in top 5\n",
      "Epoch 8356, global step 810628: train_loss_ssl was not in top 5\n",
      "Epoch 8357, global step 810725: train_loss_ssl was not in top 5\n",
      "IOPub message rate exceeded.\n",
      "The notebook server will temporarily stop sending output\n",
      "to the client in order to avoid crashing it.\n",
      "To change this limit, set the config variable\n",
      "`--NotebookApp.iopub_msg_rate_limit`.\n",
      "\n",
      "Current values:\n",
      "NotebookApp.iopub_msg_rate_limit=1000.0 (msgs/sec)\n",
      "NotebookApp.rate_limit_window=3.0 (secs)\n",
      "\n",
      "Epoch 8392, global step 814120: train_loss_ssl was not in top 5\n",
      "Epoch 8393, global step 814217: train_loss_ssl was not in top 5\n",
      "Epoch 8394, global step 814314: train_loss_ssl was not in top 5\n",
      "Epoch 8395, global step 814411: train_loss_ssl was not in top 5\n",
      "Epoch 8396, global step 814508: train_loss_ssl was not in top 5\n",
      "Epoch 8397, global step 814605: train_loss_ssl was not in top 5\n",
      "Epoch 8398, global step 814702: train_loss_ssl was not in top 5\n",
      "Epoch 8399, global step 814799: train_loss_ssl was not in top 5\n",
      "GPU available: True, used: True\n",
      "TPU available: False, using: 0 TPU cores\n",
      "IPU available: False, using: 0 IPUs\n",
      "LOCAL_RANK: 0 - CUDA_VISIBLE_DEVICES: [0]\n",
      "\n",
      "  | Name        | Type       | Params\n",
      "-------------------------------------------\n",
      "0 | resnet_moco | MoCo       | 23.0 M\n",
      "1 | fc          | Sequential | 267 K \n",
      "2 | accuracy    | Accuracy   | 0     \n",
      "-------------------------------------------\n",
      "267 K     Trainable params\n",
      "23.0 M    Non-trainable params\n",
      "23.3 M    Total params\n",
      "93.048    Total estimated model params size (MB)\n"
     ]
    },
    {
     "name": "stdout",
     "output_type": "stream",
     "text": [
      "... training downstream classifier...\n"
     ]
    },
    {
     "data": {
      "application/vnd.jupyter.widget-view+json": {
       "model_id": "",
       "version_major": 2,
       "version_minor": 0
      },
      "text/plain": [
       "Validation sanity check: 0it [00:00, ?it/s]"
      ]
     },
     "metadata": {},
     "output_type": "display_data"
    },
    {
     "data": {
      "application/vnd.jupyter.widget-view+json": {
       "model_id": "a991f4c0369d46b3b2efc9f98d7f6b57",
       "version_major": 2,
       "version_minor": 0
      },
      "text/plain": [
       "Training: -1it [00:00, ?it/s]"
      ]
     },
     "metadata": {},
     "output_type": "display_data"
    },
    {
     "name": "stderr",
     "output_type": "stream",
     "text": [
      "IOPub message rate exceeded.\n",
      "The notebook server will temporarily stop sending output\n",
      "to the client in order to avoid crashing it.\n",
      "To change this limit, set the config variable\n",
      "`--NotebookApp.iopub_msg_rate_limit`.\n",
      "\n",
      "Current values:\n",
      "NotebookApp.iopub_msg_rate_limit=1000.0 (msgs/sec)\n",
      "NotebookApp.rate_limit_window=3.0 (secs)\n",
      "\n"
     ]
    },
    {
     "data": {
      "application/vnd.jupyter.widget-view+json": {
       "model_id": "",
       "version_major": 2,
       "version_minor": 0
      },
      "text/plain": [
       "Validating: 0it [00:00, ?it/s]"
      ]
     },
     "metadata": {},
     "output_type": "display_data"
    },
    {
     "data": {
      "application/vnd.jupyter.widget-view+json": {
       "model_id": "",
       "version_major": 2,
       "version_minor": 0
      },
      "text/plain": [
       "Validating: 0it [00:00, ?it/s]"
      ]
     },
     "metadata": {},
     "output_type": "display_data"
    },
    {
     "data": {
      "application/vnd.jupyter.widget-view+json": {
       "model_id": "",
       "version_major": 2,
       "version_minor": 0
      },
      "text/plain": [
       "Validating: 0it [00:00, ?it/s]"
      ]
     },
     "metadata": {},
     "output_type": "display_data"
    },
    {
     "data": {
      "application/vnd.jupyter.widget-view+json": {
       "model_id": "",
       "version_major": 2,
       "version_minor": 0
      },
      "text/plain": [
       "Validating: 0it [00:00, ?it/s]"
      ]
     },
     "metadata": {},
     "output_type": "display_data"
    },
    {
     "data": {
      "application/vnd.jupyter.widget-view+json": {
       "model_id": "",
       "version_major": 2,
       "version_minor": 0
      },
      "text/plain": [
       "Validating: 0it [00:00, ?it/s]"
      ]
     },
     "metadata": {},
     "output_type": "display_data"
    },
    {
     "data": {
      "application/vnd.jupyter.widget-view+json": {
       "model_id": "",
       "version_major": 2,
       "version_minor": 0
      },
      "text/plain": [
       "Validating: 0it [00:00, ?it/s]"
      ]
     },
     "metadata": {},
     "output_type": "display_data"
    },
    {
     "data": {
      "application/vnd.jupyter.widget-view+json": {
       "model_id": "",
       "version_major": 2,
       "version_minor": 0
      },
      "text/plain": [
       "Validating: 0it [00:00, ?it/s]"
      ]
     },
     "metadata": {},
     "output_type": "display_data"
    },
    {
     "name": "stderr",
     "output_type": "stream",
     "text": [
      "IOPub message rate exceeded.\n",
      "The notebook server will temporarily stop sending output\n",
      "to the client in order to avoid crashing it.\n",
      "To change this limit, set the config variable\n",
      "`--NotebookApp.iopub_msg_rate_limit`.\n",
      "\n",
      "Current values:\n",
      "NotebookApp.iopub_msg_rate_limit=1000.0 (msgs/sec)\n",
      "NotebookApp.rate_limit_window=3.0 (secs)\n",
      "\n",
      "Epoch 8404, global step 815284: train_loss_ssl was not in top 5\n",
      "Epoch 8405, global step 815381: train_loss_ssl was not in top 5\n",
      "Epoch 8406, global step 815478: train_loss_ssl was not in top 5\n",
      "Epoch 8407, global step 815575: train_loss_ssl was not in top 5\n",
      "Epoch 8408, global step 815672: train_loss_ssl was not in top 5\n",
      "Epoch 8409, global step 815769: train_loss_ssl was not in top 5\n",
      "Epoch 8410, global step 815866: train_loss_ssl was not in top 5\n",
      "Epoch 8411, global step 815963: train_loss_ssl was not in top 5\n",
      "Epoch 8412, global step 816060: train_loss_ssl was not in top 5\n",
      "IOPub message rate exceeded.\n",
      "The notebook server will temporarily stop sending output\n",
      "to the client in order to avoid crashing it.\n",
      "To change this limit, set the config variable\n",
      "`--NotebookApp.iopub_msg_rate_limit`.\n",
      "\n",
      "Current values:\n",
      "NotebookApp.iopub_msg_rate_limit=1000.0 (msgs/sec)\n",
      "NotebookApp.rate_limit_window=3.0 (secs)\n",
      "\n",
      "Epoch 8448, global step 819552: train_loss_ssl was not in top 5\n",
      "Epoch 8449, global step 819649: train_loss_ssl was not in top 5\n",
      "Epoch 8450, global step 819746: train_loss_ssl was not in top 5\n",
      "Epoch 8451, global step 819843: train_loss_ssl was not in top 5\n",
      "Epoch 8452, global step 819940: train_loss_ssl was not in top 5\n",
      "Epoch 8453, global step 820037: train_loss_ssl was not in top 5\n",
      "Epoch 8454, global step 820134: train_loss_ssl was not in top 5\n",
      "Epoch 8455, global step 820231: train_loss_ssl was not in top 5\n",
      "Epoch 8456, global step 820328: train_loss_ssl was not in top 5\n",
      "IOPub message rate exceeded.\n",
      "The notebook server will temporarily stop sending output\n",
      "to the client in order to avoid crashing it.\n",
      "To change this limit, set the config variable\n",
      "`--NotebookApp.iopub_msg_rate_limit`.\n",
      "\n",
      "Current values:\n",
      "NotebookApp.iopub_msg_rate_limit=1000.0 (msgs/sec)\n",
      "NotebookApp.rate_limit_window=3.0 (secs)\n",
      "\n",
      "Epoch 8491, global step 823723: train_loss_ssl reached 1.34025 (best 1.32284), saving model to \"/home/shatz/Documents/more_better/saved_models/resnet_moco/epoch=8491-train_loss_ssl=1.34.ckpt\" as top 5\n",
      "Epoch 8492, global step 823820: train_loss_ssl was not in top 5\n",
      "Epoch 8493, global step 823917: train_loss_ssl was not in top 5\n",
      "Epoch 8494, global step 824014: train_loss_ssl was not in top 5\n",
      "Epoch 8495, global step 824111: train_loss_ssl was not in top 5\n",
      "Epoch 8496, global step 824208: train_loss_ssl was not in top 5\n",
      "Epoch 8497, global step 824305: train_loss_ssl was not in top 5\n",
      "Epoch 8498, global step 824402: train_loss_ssl was not in top 5\n",
      "Epoch 8499, global step 824499: train_loss_ssl was not in top 5\n",
      "IOPub message rate exceeded.\n",
      "The notebook server will temporarily stop sending output\n",
      "to the client in order to avoid crashing it.\n",
      "To change this limit, set the config variable\n",
      "`--NotebookApp.iopub_msg_rate_limit`.\n",
      "\n",
      "Current values:\n",
      "NotebookApp.iopub_msg_rate_limit=1000.0 (msgs/sec)\n",
      "NotebookApp.rate_limit_window=3.0 (secs)\n",
      "\n",
      "Epoch 8536, global step 828088: train_loss_ssl was not in top 5\n",
      "Epoch 8537, global step 828185: train_loss_ssl was not in top 5\n",
      "Epoch 8538, global step 828282: train_loss_ssl was not in top 5\n",
      "Epoch 8539, global step 828379: train_loss_ssl was not in top 5\n",
      "Epoch 8540, global step 828476: train_loss_ssl was not in top 5\n",
      "Epoch 8541, global step 828573: train_loss_ssl was not in top 5\n",
      "Epoch 8542, global step 828670: train_loss_ssl was not in top 5\n",
      "Epoch 8543, global step 828767: train_loss_ssl was not in top 5\n",
      "Epoch 8544, global step 828864: train_loss_ssl was not in top 5\n",
      "IOPub message rate exceeded.\n",
      "The notebook server will temporarily stop sending output\n",
      "to the client in order to avoid crashing it.\n",
      "To change this limit, set the config variable\n",
      "`--NotebookApp.iopub_msg_rate_limit`.\n",
      "\n",
      "Current values:\n",
      "NotebookApp.iopub_msg_rate_limit=1000.0 (msgs/sec)\n",
      "NotebookApp.rate_limit_window=3.0 (secs)\n",
      "\n",
      "Epoch 8580, global step 832356: train_loss_ssl was not in top 5\n",
      "Epoch 8581, global step 832453: train_loss_ssl was not in top 5\n",
      "Epoch 8582, global step 832550: train_loss_ssl was not in top 5\n",
      "Epoch 8583, global step 832647: train_loss_ssl was not in top 5\n",
      "Epoch 8584, global step 832744: train_loss_ssl was not in top 5\n",
      "Epoch 8585, global step 832841: train_loss_ssl was not in top 5\n",
      "Epoch 8586, global step 832938: train_loss_ssl was not in top 5\n",
      "Epoch 8587, global step 833035: train_loss_ssl was not in top 5\n",
      "Epoch 8588, global step 833132: train_loss_ssl was not in top 5\n",
      "IOPub message rate exceeded.\n",
      "The notebook server will temporarily stop sending output\n",
      "to the client in order to avoid crashing it.\n",
      "To change this limit, set the config variable\n",
      "`--NotebookApp.iopub_msg_rate_limit`.\n",
      "\n",
      "Current values:\n",
      "NotebookApp.iopub_msg_rate_limit=1000.0 (msgs/sec)\n",
      "NotebookApp.rate_limit_window=3.0 (secs)\n",
      "\n",
      "Epoch 8619, global step 836139: train_loss_ssl was not in top 5\n",
      "Epoch 8620, global step 836236: train_loss_ssl was not in top 5\n",
      "Epoch 8621, global step 836333: train_loss_ssl was not in top 5\n",
      "Epoch 8622, global step 836430: train_loss_ssl was not in top 5\n",
      "Epoch 8623, global step 836527: train_loss_ssl was not in top 5\n",
      "Epoch 8624, global step 836624: train_loss_ssl was not in top 5\n",
      "Epoch 8625, global step 836721: train_loss_ssl was not in top 5\n",
      "Epoch 8626, global step 836818: train_loss_ssl was not in top 5\n",
      "Epoch 8627, global step 836915: train_loss_ssl was not in top 5\n",
      "IOPub message rate exceeded.\n",
      "The notebook server will temporarily stop sending output\n",
      "to the client in order to avoid crashing it.\n",
      "To change this limit, set the config variable\n",
      "`--NotebookApp.iopub_msg_rate_limit`.\n",
      "\n",
      "Current values:\n",
      "NotebookApp.iopub_msg_rate_limit=1000.0 (msgs/sec)\n",
      "NotebookApp.rate_limit_window=3.0 (secs)\n",
      "\n",
      "Epoch 8662, global step 840310: train_loss_ssl was not in top 5\n",
      "Epoch 8663, global step 840407: train_loss_ssl was not in top 5\n",
      "Epoch 8664, global step 840504: train_loss_ssl was not in top 5\n",
      "Epoch 8665, global step 840601: train_loss_ssl was not in top 5\n",
      "Epoch 8666, global step 840698: train_loss_ssl was not in top 5\n",
      "Epoch 8667, global step 840795: train_loss_ssl was not in top 5\n",
      "Epoch 8668, global step 840892: train_loss_ssl was not in top 5\n",
      "Epoch 8669, global step 840989: train_loss_ssl was not in top 5\n",
      "Epoch 8670, global step 841086: train_loss_ssl was not in top 5\n",
      "IOPub message rate exceeded.\n",
      "The notebook server will temporarily stop sending output\n",
      "to the client in order to avoid crashing it.\n",
      "To change this limit, set the config variable\n",
      "`--NotebookApp.iopub_msg_rate_limit`.\n",
      "\n",
      "Current values:\n",
      "NotebookApp.iopub_msg_rate_limit=1000.0 (msgs/sec)\n",
      "NotebookApp.rate_limit_window=3.0 (secs)\n",
      "\n"
     ]
    },
    {
     "data": {
      "application/vnd.jupyter.widget-view+json": {
       "model_id": "",
       "version_major": 2,
       "version_minor": 0
      },
      "text/plain": [
       "Validating: 0it [00:00, ?it/s]"
      ]
     },
     "metadata": {},
     "output_type": "display_data"
    },
    {
     "data": {
      "application/vnd.jupyter.widget-view+json": {
       "model_id": "",
       "version_major": 2,
       "version_minor": 0
      },
      "text/plain": [
       "Validating: 0it [00:00, ?it/s]"
      ]
     },
     "metadata": {},
     "output_type": "display_data"
    },
    {
     "data": {
      "application/vnd.jupyter.widget-view+json": {
       "model_id": "",
       "version_major": 2,
       "version_minor": 0
      },
      "text/plain": [
       "Validating: 0it [00:00, ?it/s]"
      ]
     },
     "metadata": {},
     "output_type": "display_data"
    },
    {
     "data": {
      "application/vnd.jupyter.widget-view+json": {
       "model_id": "",
       "version_major": 2,
       "version_minor": 0
      },
      "text/plain": [
       "Validating: 0it [00:00, ?it/s]"
      ]
     },
     "metadata": {},
     "output_type": "display_data"
    },
    {
     "data": {
      "application/vnd.jupyter.widget-view+json": {
       "model_id": "",
       "version_major": 2,
       "version_minor": 0
      },
      "text/plain": [
       "Validating: 0it [00:00, ?it/s]"
      ]
     },
     "metadata": {},
     "output_type": "display_data"
    },
    {
     "data": {
      "application/vnd.jupyter.widget-view+json": {
       "model_id": "",
       "version_major": 2,
       "version_minor": 0
      },
      "text/plain": [
       "Validating: 0it [00:00, ?it/s]"
      ]
     },
     "metadata": {},
     "output_type": "display_data"
    },
    {
     "data": {
      "application/vnd.jupyter.widget-view+json": {
       "model_id": "",
       "version_major": 2,
       "version_minor": 0
      },
      "text/plain": [
       "Validating: 0it [00:00, ?it/s]"
      ]
     },
     "metadata": {},
     "output_type": "display_data"
    },
    {
     "data": {
      "application/vnd.jupyter.widget-view+json": {
       "model_id": "",
       "version_major": 2,
       "version_minor": 0
      },
      "text/plain": [
       "Validating: 0it [00:00, ?it/s]"
      ]
     },
     "metadata": {},
     "output_type": "display_data"
    },
    {
     "name": "stderr",
     "output_type": "stream",
     "text": [
      "IOPub message rate exceeded.\n",
      "The notebook server will temporarily stop sending output\n",
      "to the client in order to avoid crashing it.\n",
      "To change this limit, set the config variable\n",
      "`--NotebookApp.iopub_msg_rate_limit`.\n",
      "\n",
      "Current values:\n",
      "NotebookApp.iopub_msg_rate_limit=1000.0 (msgs/sec)\n",
      "NotebookApp.rate_limit_window=3.0 (secs)\n",
      "\n"
     ]
    },
    {
     "data": {
      "application/vnd.jupyter.widget-view+json": {
       "model_id": "",
       "version_major": 2,
       "version_minor": 0
      },
      "text/plain": [
       "Validating: 0it [00:00, ?it/s]"
      ]
     },
     "metadata": {},
     "output_type": "display_data"
    },
    {
     "data": {
      "application/vnd.jupyter.widget-view+json": {
       "model_id": "",
       "version_major": 2,
       "version_minor": 0
      },
      "text/plain": [
       "Validating: 0it [00:00, ?it/s]"
      ]
     },
     "metadata": {},
     "output_type": "display_data"
    },
    {
     "data": {
      "application/vnd.jupyter.widget-view+json": {
       "model_id": "",
       "version_major": 2,
       "version_minor": 0
      },
      "text/plain": [
       "Validating: 0it [00:00, ?it/s]"
      ]
     },
     "metadata": {},
     "output_type": "display_data"
    },
    {
     "data": {
      "application/vnd.jupyter.widget-view+json": {
       "model_id": "",
       "version_major": 2,
       "version_minor": 0
      },
      "text/plain": [
       "Validating: 0it [00:00, ?it/s]"
      ]
     },
     "metadata": {},
     "output_type": "display_data"
    },
    {
     "data": {
      "application/vnd.jupyter.widget-view+json": {
       "model_id": "",
       "version_major": 2,
       "version_minor": 0
      },
      "text/plain": [
       "Validating: 0it [00:00, ?it/s]"
      ]
     },
     "metadata": {},
     "output_type": "display_data"
    },
    {
     "data": {
      "application/vnd.jupyter.widget-view+json": {
       "model_id": "",
       "version_major": 2,
       "version_minor": 0
      },
      "text/plain": [
       "Validating: 0it [00:00, ?it/s]"
      ]
     },
     "metadata": {},
     "output_type": "display_data"
    },
    {
     "data": {
      "application/vnd.jupyter.widget-view+json": {
       "model_id": "",
       "version_major": 2,
       "version_minor": 0
      },
      "text/plain": [
       "Validating: 0it [00:00, ?it/s]"
      ]
     },
     "metadata": {},
     "output_type": "display_data"
    },
    {
     "data": {
      "application/vnd.jupyter.widget-view+json": {
       "model_id": "",
       "version_major": 2,
       "version_minor": 0
      },
      "text/plain": [
       "Validating: 0it [00:00, ?it/s]"
      ]
     },
     "metadata": {},
     "output_type": "display_data"
    },
    {
     "data": {
      "application/vnd.jupyter.widget-view+json": {
       "model_id": "",
       "version_major": 2,
       "version_minor": 0
      },
      "text/plain": [
       "Validating: 0it [00:00, ?it/s]"
      ]
     },
     "metadata": {},
     "output_type": "display_data"
    },
    {
     "name": "stderr",
     "output_type": "stream",
     "text": [
      "IOPub message rate exceeded.\n",
      "The notebook server will temporarily stop sending output\n",
      "to the client in order to avoid crashing it.\n",
      "To change this limit, set the config variable\n",
      "`--NotebookApp.iopub_msg_rate_limit`.\n",
      "\n",
      "Current values:\n",
      "NotebookApp.iopub_msg_rate_limit=1000.0 (msgs/sec)\n",
      "NotebookApp.rate_limit_window=3.0 (secs)\n",
      "\n",
      "Epoch 8720, global step 845936: train_loss_ssl was not in top 5\n",
      "Epoch 8721, global step 846033: train_loss_ssl was not in top 5\n",
      "Epoch 8722, global step 846130: train_loss_ssl was not in top 5\n",
      "Epoch 8723, global step 846227: train_loss_ssl was not in top 5\n",
      "Epoch 8724, global step 846324: train_loss_ssl was not in top 5\n",
      "Epoch 8725, global step 846421: train_loss_ssl was not in top 5\n",
      "Epoch 8726, global step 846518: train_loss_ssl was not in top 5\n",
      "Epoch 8727, global step 846615: train_loss_ssl was not in top 5\n",
      "Epoch 8728, global step 846712: train_loss_ssl reached 1.28534 (best 1.28534), saving model to \"/home/shatz/Documents/more_better/saved_models/resnet_moco/epoch=8728-train_loss_ssl=1.29.ckpt\" as top 5\n",
      "IOPub message rate exceeded.\n",
      "The notebook server will temporarily stop sending output\n",
      "to the client in order to avoid crashing it.\n",
      "To change this limit, set the config variable\n",
      "`--NotebookApp.iopub_msg_rate_limit`.\n",
      "\n",
      "Current values:\n",
      "NotebookApp.iopub_msg_rate_limit=1000.0 (msgs/sec)\n",
      "NotebookApp.rate_limit_window=3.0 (secs)\n",
      "\n",
      "Epoch 8745, global step 848361: train_loss_ssl was not in top 5\n",
      "Epoch 8746, global step 848458: train_loss_ssl was not in top 5\n",
      "Epoch 8747, global step 848555: train_loss_ssl was not in top 5\n",
      "Epoch 8748, global step 848652: train_loss_ssl was not in top 5\n",
      "Epoch 8749, global step 848749: train_loss_ssl was not in top 5\n",
      "Epoch 8750, global step 848846: train_loss_ssl was not in top 5\n",
      "Epoch 8751, global step 848943: train_loss_ssl was not in top 5\n",
      "Epoch 8752, global step 849040: train_loss_ssl was not in top 5\n",
      "Epoch 8753, global step 849137: train_loss_ssl was not in top 5\n",
      "IOPub message rate exceeded.\n",
      "The notebook server will temporarily stop sending output\n",
      "to the client in order to avoid crashing it.\n",
      "To change this limit, set the config variable\n",
      "`--NotebookApp.iopub_msg_rate_limit`.\n",
      "\n",
      "Current values:\n",
      "NotebookApp.iopub_msg_rate_limit=1000.0 (msgs/sec)\n",
      "NotebookApp.rate_limit_window=3.0 (secs)\n",
      "\n",
      "Epoch 8762, global step 850010: train_loss_ssl was not in top 5\n",
      "Epoch 8763, global step 850107: train_loss_ssl was not in top 5\n",
      "Epoch 8764, global step 850204: train_loss_ssl was not in top 5\n",
      "Epoch 8765, global step 850301: train_loss_ssl reached 1.26180 (best 1.26180), saving model to \"/home/shatz/Documents/more_better/saved_models/resnet_moco/epoch=8765-train_loss_ssl=1.26.ckpt\" as top 5\n",
      "Epoch 8766, global step 850398: train_loss_ssl was not in top 5\n",
      "Epoch 8767, global step 850495: train_loss_ssl was not in top 5\n",
      "Epoch 8768, global step 850592: train_loss_ssl was not in top 5\n",
      "Epoch 8769, global step 850689: train_loss_ssl was not in top 5\n",
      "Epoch 8770, global step 850786: train_loss_ssl was not in top 5\n",
      "Epoch 8771, global step 850883: train_loss_ssl was not in top 5\n",
      "Epoch 8772, global step 850980: train_loss_ssl was not in top 5\n",
      "Epoch 8773, global step 851077: train_loss_ssl was not in top 5\n",
      "Epoch 8774, global step 851174: train_loss_ssl was not in top 5\n",
      "Epoch 8775, global step 851271: train_loss_ssl was not in top 5\n",
      "Epoch 8776, global step 851368: train_loss_ssl was not in top 5\n",
      "Epoch 8777, global step 851465: train_loss_ssl was not in top 5\n",
      "Epoch 8778, global step 851562: train_loss_ssl was not in top 5\n",
      "Epoch 8779, global step 851659: train_loss_ssl was not in top 5\n",
      "Epoch 8780, global step 851756: train_loss_ssl was not in top 5\n",
      "Epoch 8781, global step 851853: train_loss_ssl was not in top 5\n",
      "Epoch 8782, global step 851950: train_loss_ssl was not in top 5\n",
      "Epoch 8783, global step 852047: train_loss_ssl was not in top 5\n",
      "Epoch 8784, global step 852144: train_loss_ssl was not in top 5\n",
      "Epoch 8785, global step 852241: train_loss_ssl was not in top 5\n",
      "Epoch 8786, global step 852338: train_loss_ssl was not in top 5\n",
      "Epoch 8787, global step 852435: train_loss_ssl was not in top 5\n",
      "Epoch 8788, global step 852532: train_loss_ssl was not in top 5\n",
      "Epoch 8789, global step 852629: train_loss_ssl was not in top 5\n",
      "Epoch 8790, global step 852726: train_loss_ssl was not in top 5\n",
      "Epoch 8791, global step 852823: train_loss_ssl was not in top 5\n",
      "Epoch 8792, global step 852920: train_loss_ssl reached 1.28121 (best 1.26180), saving model to \"/home/shatz/Documents/more_better/saved_models/resnet_moco/epoch=8792-train_loss_ssl=1.28.ckpt\" as top 5\n",
      "Epoch 8793, global step 853017: train_loss_ssl was not in top 5\n",
      "Epoch 8794, global step 853114: train_loss_ssl was not in top 5\n",
      "Epoch 8795, global step 853211: train_loss_ssl was not in top 5\n",
      "Epoch 8796, global step 853308: train_loss_ssl was not in top 5\n",
      "Epoch 8797, global step 853405: train_loss_ssl was not in top 5\n",
      "Epoch 8798, global step 853502: train_loss_ssl was not in top 5\n",
      "Epoch 8799, global step 853599: train_loss_ssl was not in top 5\n",
      "Epoch 8800, global step 853696: train_loss_ssl reached 1.30824 (best 1.26180), saving model to \"/home/shatz/Documents/more_better/saved_models/resnet_moco/epoch=8800-train_loss_ssl=1.31.ckpt\" as top 5\n",
      "Epoch 8801, global step 853793: train_loss_ssl was not in top 5\n",
      "Epoch 8802, global step 853890: train_loss_ssl was not in top 5\n",
      "Epoch 8803, global step 853987: train_loss_ssl was not in top 5\n",
      "Epoch 8804, global step 854084: train_loss_ssl was not in top 5\n",
      "Epoch 8805, global step 854181: train_loss_ssl was not in top 5\n",
      "Epoch 8806, global step 854278: train_loss_ssl was not in top 5\n",
      "Epoch 8807, global step 854375: train_loss_ssl was not in top 5\n",
      "Epoch 8808, global step 854472: train_loss_ssl was not in top 5\n",
      "Epoch 8809, global step 854569: train_loss_ssl reached 1.30722 (best 1.26180), saving model to \"/home/shatz/Documents/more_better/saved_models/resnet_moco/epoch=8809-train_loss_ssl=1.31.ckpt\" as top 5\n",
      "Epoch 8810, global step 854666: train_loss_ssl was not in top 5\n",
      "Epoch 8811, global step 854763: train_loss_ssl was not in top 5\n",
      "Epoch 8812, global step 854860: train_loss_ssl was not in top 5\n",
      "Epoch 8813, global step 854957: train_loss_ssl was not in top 5\n",
      "Epoch 8814, global step 855054: train_loss_ssl was not in top 5\n",
      "Epoch 8815, global step 855151: train_loss_ssl was not in top 5\n",
      "Epoch 8816, global step 855248: train_loss_ssl was not in top 5\n",
      "Epoch 8817, global step 855345: train_loss_ssl was not in top 5\n",
      "Epoch 8818, global step 855442: train_loss_ssl was not in top 5\n",
      "Epoch 8819, global step 855539: train_loss_ssl was not in top 5\n",
      "Epoch 8820, global step 855636: train_loss_ssl was not in top 5\n",
      "Epoch 8821, global step 855733: train_loss_ssl was not in top 5\n",
      "Epoch 8822, global step 855830: train_loss_ssl was not in top 5\n",
      "Epoch 8823, global step 855927: train_loss_ssl was not in top 5\n",
      "Epoch 8824, global step 856024: train_loss_ssl was not in top 5\n",
      "Epoch 8825, global step 856121: train_loss_ssl was not in top 5\n",
      "Epoch 8826, global step 856218: train_loss_ssl was not in top 5\n",
      "Epoch 8827, global step 856315: train_loss_ssl was not in top 5\n",
      "Epoch 8828, global step 856412: train_loss_ssl was not in top 5\n",
      "Epoch 8829, global step 856509: train_loss_ssl was not in top 5\n",
      "Epoch 8830, global step 856606: train_loss_ssl was not in top 5\n",
      "Epoch 8831, global step 856703: train_loss_ssl was not in top 5\n",
      "Epoch 8832, global step 856800: train_loss_ssl was not in top 5\n",
      "Epoch 8833, global step 856897: train_loss_ssl was not in top 5\n",
      "Epoch 8834, global step 856994: train_loss_ssl was not in top 5\n",
      "Epoch 8835, global step 857091: train_loss_ssl was not in top 5\n",
      "Epoch 8836, global step 857188: train_loss_ssl was not in top 5\n",
      "Epoch 8837, global step 857285: train_loss_ssl was not in top 5\n",
      "Epoch 8838, global step 857382: train_loss_ssl was not in top 5\n",
      "Epoch 8839, global step 857479: train_loss_ssl was not in top 5\n",
      "Epoch 8840, global step 857576: train_loss_ssl was not in top 5\n",
      "Epoch 8841, global step 857673: train_loss_ssl was not in top 5\n",
      "Epoch 8842, global step 857770: train_loss_ssl was not in top 5\n",
      "Epoch 8843, global step 857867: train_loss_ssl was not in top 5\n",
      "Epoch 8844, global step 857964: train_loss_ssl was not in top 5\n",
      "Epoch 8845, global step 858061: train_loss_ssl was not in top 5\n",
      "Epoch 8846, global step 858158: train_loss_ssl was not in top 5\n"
     ]
    },
    {
     "name": "stderr",
     "output_type": "stream",
     "text": [
      "Epoch 8847, global step 858255: train_loss_ssl was not in top 5\n",
      "Epoch 8848, global step 858352: train_loss_ssl was not in top 5\n",
      "Epoch 8849, global step 858449: train_loss_ssl was not in top 5\n",
      "Epoch 8850, global step 858546: train_loss_ssl was not in top 5\n",
      "Epoch 8851, global step 858643: train_loss_ssl was not in top 5\n",
      "Epoch 8852, global step 858740: train_loss_ssl was not in top 5\n",
      "Epoch 8853, global step 858837: train_loss_ssl was not in top 5\n",
      "Epoch 8854, global step 858934: train_loss_ssl reached 1.27465 (best 1.26180), saving model to \"/home/shatz/Documents/more_better/saved_models/resnet_moco/epoch=8854-train_loss_ssl=1.27.ckpt\" as top 5\n",
      "Epoch 8855, global step 859031: train_loss_ssl was not in top 5\n",
      "Epoch 8856, global step 859128: train_loss_ssl was not in top 5\n",
      "Epoch 8857, global step 859225: train_loss_ssl was not in top 5\n",
      "Epoch 8858, global step 859322: train_loss_ssl was not in top 5\n",
      "Epoch 8859, global step 859419: train_loss_ssl was not in top 5\n",
      "Epoch 8860, global step 859516: train_loss_ssl was not in top 5\n",
      "Epoch 8861, global step 859613: train_loss_ssl was not in top 5\n",
      "Epoch 8862, global step 859710: train_loss_ssl was not in top 5\n",
      "Epoch 8863, global step 859807: train_loss_ssl was not in top 5\n",
      "Epoch 8864, global step 859904: train_loss_ssl was not in top 5\n",
      "Epoch 8865, global step 860001: train_loss_ssl was not in top 5\n",
      "Epoch 8866, global step 860098: train_loss_ssl was not in top 5\n",
      "Epoch 8867, global step 860195: train_loss_ssl was not in top 5\n",
      "Epoch 8868, global step 860292: train_loss_ssl was not in top 5\n",
      "Epoch 8869, global step 860389: train_loss_ssl was not in top 5\n",
      "Epoch 8870, global step 860486: train_loss_ssl was not in top 5\n",
      "Epoch 8871, global step 860583: train_loss_ssl was not in top 5\n",
      "Epoch 8872, global step 860680: train_loss_ssl was not in top 5\n",
      "Epoch 8873, global step 860777: train_loss_ssl was not in top 5\n",
      "Epoch 8874, global step 860874: train_loss_ssl was not in top 5\n",
      "Epoch 8875, global step 860971: train_loss_ssl was not in top 5\n",
      "Epoch 8876, global step 861068: train_loss_ssl was not in top 5\n",
      "Epoch 8877, global step 861165: train_loss_ssl was not in top 5\n",
      "Epoch 8878, global step 861262: train_loss_ssl was not in top 5\n",
      "Epoch 8879, global step 861359: train_loss_ssl was not in top 5\n",
      "Epoch 8880, global step 861456: train_loss_ssl was not in top 5\n",
      "Epoch 8881, global step 861553: train_loss_ssl was not in top 5\n",
      "Epoch 8882, global step 861650: train_loss_ssl was not in top 5\n",
      "Epoch 8883, global step 861747: train_loss_ssl was not in top 5\n",
      "Epoch 8884, global step 861844: train_loss_ssl was not in top 5\n",
      "Epoch 8885, global step 861941: train_loss_ssl was not in top 5\n",
      "Epoch 8886, global step 862038: train_loss_ssl was not in top 5\n",
      "Epoch 8887, global step 862135: train_loss_ssl was not in top 5\n",
      "Epoch 8888, global step 862232: train_loss_ssl was not in top 5\n",
      "Epoch 8889, global step 862329: train_loss_ssl was not in top 5\n",
      "Epoch 8890, global step 862426: train_loss_ssl was not in top 5\n",
      "Epoch 8891, global step 862523: train_loss_ssl was not in top 5\n",
      "Epoch 8892, global step 862620: train_loss_ssl reached 1.29486 (best 1.26180), saving model to \"/home/shatz/Documents/more_better/saved_models/resnet_moco/epoch=8892-train_loss_ssl=1.29.ckpt\" as top 5\n",
      "Epoch 8893, global step 862717: train_loss_ssl was not in top 5\n",
      "Epoch 8894, global step 862814: train_loss_ssl was not in top 5\n",
      "Epoch 8895, global step 862911: train_loss_ssl was not in top 5\n",
      "Epoch 8896, global step 863008: train_loss_ssl was not in top 5\n",
      "Epoch 8897, global step 863105: train_loss_ssl was not in top 5\n",
      "Epoch 8898, global step 863202: train_loss_ssl was not in top 5\n",
      "Epoch 8899, global step 863299: train_loss_ssl was not in top 5\n",
      "Epoch 8900, global step 863396: train_loss_ssl was not in top 5\n",
      "Epoch 8901, global step 863493: train_loss_ssl was not in top 5\n",
      "Epoch 8902, global step 863590: train_loss_ssl was not in top 5\n",
      "Epoch 8903, global step 863687: train_loss_ssl was not in top 5\n",
      "Epoch 8904, global step 863784: train_loss_ssl was not in top 5\n",
      "Epoch 8905, global step 863881: train_loss_ssl was not in top 5\n",
      "Epoch 8906, global step 863978: train_loss_ssl was not in top 5\n",
      "Epoch 8907, global step 864075: train_loss_ssl was not in top 5\n",
      "Epoch 8908, global step 864172: train_loss_ssl was not in top 5\n",
      "Epoch 8909, global step 864269: train_loss_ssl was not in top 5\n",
      "Epoch 8910, global step 864366: train_loss_ssl was not in top 5\n",
      "Epoch 8911, global step 864463: train_loss_ssl was not in top 5\n",
      "Epoch 8912, global step 864560: train_loss_ssl was not in top 5\n",
      "Epoch 8913, global step 864657: train_loss_ssl was not in top 5\n",
      "Epoch 8914, global step 864754: train_loss_ssl was not in top 5\n",
      "Epoch 8915, global step 864851: train_loss_ssl was not in top 5\n",
      "Epoch 8916, global step 864948: train_loss_ssl was not in top 5\n",
      "Epoch 8917, global step 865045: train_loss_ssl was not in top 5\n",
      "Epoch 8918, global step 865142: train_loss_ssl was not in top 5\n",
      "Epoch 8919, global step 865239: train_loss_ssl was not in top 5\n",
      "Epoch 8920, global step 865336: train_loss_ssl was not in top 5\n",
      "Epoch 8921, global step 865433: train_loss_ssl was not in top 5\n",
      "Epoch 8922, global step 865530: train_loss_ssl was not in top 5\n",
      "Epoch 8923, global step 865627: train_loss_ssl was not in top 5\n",
      "Epoch 8924, global step 865724: train_loss_ssl was not in top 5\n",
      "Epoch 8925, global step 865821: train_loss_ssl was not in top 5\n",
      "Epoch 8926, global step 865918: train_loss_ssl was not in top 5\n",
      "Epoch 8927, global step 866015: train_loss_ssl was not in top 5\n",
      "Epoch 8928, global step 866112: train_loss_ssl was not in top 5\n",
      "Epoch 8929, global step 866209: train_loss_ssl was not in top 5\n",
      "Epoch 8930, global step 866306: train_loss_ssl was not in top 5\n",
      "Epoch 8931, global step 866403: train_loss_ssl was not in top 5\n",
      "Epoch 8932, global step 866500: train_loss_ssl was not in top 5\n",
      "Epoch 8933, global step 866597: train_loss_ssl was not in top 5\n",
      "Epoch 8934, global step 866694: train_loss_ssl was not in top 5\n",
      "Epoch 8935, global step 866791: train_loss_ssl was not in top 5\n",
      "Epoch 8936, global step 866888: train_loss_ssl was not in top 5\n",
      "Epoch 8937, global step 866985: train_loss_ssl was not in top 5\n",
      "Epoch 8938, global step 867082: train_loss_ssl was not in top 5\n",
      "Epoch 8939, global step 867179: train_loss_ssl was not in top 5\n",
      "Epoch 8940, global step 867276: train_loss_ssl was not in top 5\n",
      "Epoch 8941, global step 867373: train_loss_ssl was not in top 5\n",
      "Epoch 8942, global step 867470: train_loss_ssl was not in top 5\n",
      "Epoch 8943, global step 867567: train_loss_ssl was not in top 5\n",
      "Epoch 8944, global step 867664: train_loss_ssl was not in top 5\n",
      "Epoch 8945, global step 867761: train_loss_ssl was not in top 5\n",
      "Epoch 8946, global step 867858: train_loss_ssl was not in top 5\n",
      "Epoch 8947, global step 867955: train_loss_ssl was not in top 5\n",
      "Epoch 8948, global step 868052: train_loss_ssl was not in top 5\n",
      "Epoch 8949, global step 868149: train_loss_ssl was not in top 5\n",
      "Epoch 8950, global step 868246: train_loss_ssl was not in top 5\n",
      "Epoch 8951, global step 868343: train_loss_ssl was not in top 5\n",
      "Epoch 8952, global step 868440: train_loss_ssl was not in top 5\n",
      "Epoch 8953, global step 868537: train_loss_ssl was not in top 5\n",
      "Epoch 8954, global step 868634: train_loss_ssl was not in top 5\n",
      "Epoch 8955, global step 868731: train_loss_ssl was not in top 5\n",
      "Epoch 8956, global step 868828: train_loss_ssl was not in top 5\n",
      "Epoch 8957, global step 868925: train_loss_ssl was not in top 5\n",
      "Epoch 8958, global step 869022: train_loss_ssl was not in top 5\n",
      "Epoch 8959, global step 869119: train_loss_ssl was not in top 5\n",
      "Epoch 8960, global step 869216: train_loss_ssl was not in top 5\n",
      "Epoch 8961, global step 869313: train_loss_ssl was not in top 5\n",
      "Epoch 8962, global step 869410: train_loss_ssl was not in top 5\n",
      "Epoch 8963, global step 869507: train_loss_ssl was not in top 5\n",
      "Epoch 8964, global step 869604: train_loss_ssl was not in top 5\n",
      "Epoch 8965, global step 869701: train_loss_ssl was not in top 5\n",
      "Epoch 8966, global step 869798: train_loss_ssl was not in top 5\n",
      "Epoch 8967, global step 869895: train_loss_ssl was not in top 5\n",
      "Epoch 8968, global step 869992: train_loss_ssl reached 1.28430 (best 1.26180), saving model to \"/home/shatz/Documents/more_better/saved_models/resnet_moco/epoch=8968-train_loss_ssl=1.28.ckpt\" as top 5\n"
     ]
    },
    {
     "name": "stderr",
     "output_type": "stream",
     "text": [
      "Epoch 8969, global step 870089: train_loss_ssl was not in top 5\n",
      "Epoch 8970, global step 870186: train_loss_ssl was not in top 5\n",
      "Epoch 8971, global step 870283: train_loss_ssl was not in top 5\n",
      "Epoch 8972, global step 870380: train_loss_ssl was not in top 5\n",
      "Epoch 8973, global step 870477: train_loss_ssl was not in top 5\n",
      "Epoch 8974, global step 870574: train_loss_ssl was not in top 5\n",
      "Epoch 8975, global step 870671: train_loss_ssl was not in top 5\n",
      "Epoch 8976, global step 870768: train_loss_ssl was not in top 5\n",
      "Epoch 8977, global step 870865: train_loss_ssl was not in top 5\n",
      "Epoch 8978, global step 870962: train_loss_ssl reached 1.28066 (best 1.26180), saving model to \"/home/shatz/Documents/more_better/saved_models/resnet_moco/epoch=8978-train_loss_ssl=1.28.ckpt\" as top 5\n",
      "Epoch 8979, global step 871059: train_loss_ssl was not in top 5\n",
      "Epoch 8980, global step 871156: train_loss_ssl was not in top 5\n",
      "Epoch 8981, global step 871253: train_loss_ssl was not in top 5\n",
      "Epoch 8982, global step 871350: train_loss_ssl was not in top 5\n",
      "Epoch 8983, global step 871447: train_loss_ssl was not in top 5\n",
      "Epoch 8984, global step 871544: train_loss_ssl was not in top 5\n",
      "Epoch 8985, global step 871641: train_loss_ssl was not in top 5\n",
      "Epoch 8986, global step 871738: train_loss_ssl was not in top 5\n",
      "Epoch 8987, global step 871835: train_loss_ssl was not in top 5\n",
      "Epoch 8988, global step 871932: train_loss_ssl was not in top 5\n",
      "Epoch 8989, global step 872029: train_loss_ssl was not in top 5\n",
      "Epoch 8990, global step 872126: train_loss_ssl was not in top 5\n",
      "Epoch 8991, global step 872223: train_loss_ssl was not in top 5\n",
      "Epoch 8992, global step 872320: train_loss_ssl was not in top 5\n",
      "Epoch 8993, global step 872417: train_loss_ssl was not in top 5\n",
      "Epoch 8994, global step 872514: train_loss_ssl was not in top 5\n",
      "Epoch 8995, global step 872611: train_loss_ssl was not in top 5\n",
      "Epoch 8996, global step 872708: train_loss_ssl was not in top 5\n",
      "Epoch 8997, global step 872805: train_loss_ssl was not in top 5\n",
      "Epoch 8998, global step 872902: train_loss_ssl was not in top 5\n",
      "Epoch 8999, global step 872999: train_loss_ssl was not in top 5\n",
      "GPU available: True, used: True\n",
      "TPU available: False, using: 0 TPU cores\n",
      "IPU available: False, using: 0 IPUs\n",
      "LOCAL_RANK: 0 - CUDA_VISIBLE_DEVICES: [0]\n",
      "\n",
      "  | Name        | Type       | Params\n",
      "-------------------------------------------\n",
      "0 | resnet_moco | MoCo       | 23.0 M\n",
      "1 | fc          | Sequential | 267 K \n",
      "2 | accuracy    | Accuracy   | 0     \n",
      "-------------------------------------------\n",
      "267 K     Trainable params\n",
      "23.0 M    Non-trainable params\n",
      "23.3 M    Total params\n",
      "93.048    Total estimated model params size (MB)\n"
     ]
    },
    {
     "name": "stdout",
     "output_type": "stream",
     "text": [
      "... training downstream classifier...\n"
     ]
    },
    {
     "data": {
      "application/vnd.jupyter.widget-view+json": {
       "model_id": "",
       "version_major": 2,
       "version_minor": 0
      },
      "text/plain": [
       "Validation sanity check: 0it [00:00, ?it/s]"
      ]
     },
     "metadata": {},
     "output_type": "display_data"
    },
    {
     "data": {
      "application/vnd.jupyter.widget-view+json": {
       "model_id": "bfd631372b704cafb88906f9d6e38e26",
       "version_major": 2,
       "version_minor": 0
      },
      "text/plain": [
       "Training: -1it [00:00, ?it/s]"
      ]
     },
     "metadata": {},
     "output_type": "display_data"
    },
    {
     "data": {
      "application/vnd.jupyter.widget-view+json": {
       "model_id": "",
       "version_major": 2,
       "version_minor": 0
      },
      "text/plain": [
       "Validating: 0it [00:00, ?it/s]"
      ]
     },
     "metadata": {},
     "output_type": "display_data"
    },
    {
     "data": {
      "application/vnd.jupyter.widget-view+json": {
       "model_id": "",
       "version_major": 2,
       "version_minor": 0
      },
      "text/plain": [
       "Validating: 0it [00:00, ?it/s]"
      ]
     },
     "metadata": {},
     "output_type": "display_data"
    },
    {
     "data": {
      "application/vnd.jupyter.widget-view+json": {
       "model_id": "",
       "version_major": 2,
       "version_minor": 0
      },
      "text/plain": [
       "Validating: 0it [00:00, ?it/s]"
      ]
     },
     "metadata": {},
     "output_type": "display_data"
    },
    {
     "data": {
      "application/vnd.jupyter.widget-view+json": {
       "model_id": "",
       "version_major": 2,
       "version_minor": 0
      },
      "text/plain": [
       "Validating: 0it [00:00, ?it/s]"
      ]
     },
     "metadata": {},
     "output_type": "display_data"
    },
    {
     "data": {
      "application/vnd.jupyter.widget-view+json": {
       "model_id": "",
       "version_major": 2,
       "version_minor": 0
      },
      "text/plain": [
       "Validating: 0it [00:00, ?it/s]"
      ]
     },
     "metadata": {},
     "output_type": "display_data"
    },
    {
     "data": {
      "application/vnd.jupyter.widget-view+json": {
       "model_id": "",
       "version_major": 2,
       "version_minor": 0
      },
      "text/plain": [
       "Validating: 0it [00:00, ?it/s]"
      ]
     },
     "metadata": {},
     "output_type": "display_data"
    },
    {
     "data": {
      "application/vnd.jupyter.widget-view+json": {
       "model_id": "",
       "version_major": 2,
       "version_minor": 0
      },
      "text/plain": [
       "Validating: 0it [00:00, ?it/s]"
      ]
     },
     "metadata": {},
     "output_type": "display_data"
    },
    {
     "data": {
      "application/vnd.jupyter.widget-view+json": {
       "model_id": "",
       "version_major": 2,
       "version_minor": 0
      },
      "text/plain": [
       "Validating: 0it [00:00, ?it/s]"
      ]
     },
     "metadata": {},
     "output_type": "display_data"
    },
    {
     "data": {
      "application/vnd.jupyter.widget-view+json": {
       "model_id": "",
       "version_major": 2,
       "version_minor": 0
      },
      "text/plain": [
       "Validating: 0it [00:00, ?it/s]"
      ]
     },
     "metadata": {},
     "output_type": "display_data"
    },
    {
     "data": {
      "application/vnd.jupyter.widget-view+json": {
       "model_id": "",
       "version_major": 2,
       "version_minor": 0
      },
      "text/plain": [
       "Validating: 0it [00:00, ?it/s]"
      ]
     },
     "metadata": {},
     "output_type": "display_data"
    },
    {
     "data": {
      "application/vnd.jupyter.widget-view+json": {
       "model_id": "",
       "version_major": 2,
       "version_minor": 0
      },
      "text/plain": [
       "Validating: 0it [00:00, ?it/s]"
      ]
     },
     "metadata": {},
     "output_type": "display_data"
    },
    {
     "data": {
      "application/vnd.jupyter.widget-view+json": {
       "model_id": "",
       "version_major": 2,
       "version_minor": 0
      },
      "text/plain": [
       "Validating: 0it [00:00, ?it/s]"
      ]
     },
     "metadata": {},
     "output_type": "display_data"
    },
    {
     "data": {
      "application/vnd.jupyter.widget-view+json": {
       "model_id": "",
       "version_major": 2,
       "version_minor": 0
      },
      "text/plain": [
       "Validating: 0it [00:00, ?it/s]"
      ]
     },
     "metadata": {},
     "output_type": "display_data"
    },
    {
     "data": {
      "application/vnd.jupyter.widget-view+json": {
       "model_id": "",
       "version_major": 2,
       "version_minor": 0
      },
      "text/plain": [
       "Validating: 0it [00:00, ?it/s]"
      ]
     },
     "metadata": {},
     "output_type": "display_data"
    },
    {
     "data": {
      "application/vnd.jupyter.widget-view+json": {
       "model_id": "",
       "version_major": 2,
       "version_minor": 0
      },
      "text/plain": [
       "Validating: 0it [00:00, ?it/s]"
      ]
     },
     "metadata": {},
     "output_type": "display_data"
    },
    {
     "data": {
      "application/vnd.jupyter.widget-view+json": {
       "model_id": "",
       "version_major": 2,
       "version_minor": 0
      },
      "text/plain": [
       "Validating: 0it [00:00, ?it/s]"
      ]
     },
     "metadata": {},
     "output_type": "display_data"
    },
    {
     "data": {
      "application/vnd.jupyter.widget-view+json": {
       "model_id": "",
       "version_major": 2,
       "version_minor": 0
      },
      "text/plain": [
       "Validating: 0it [00:00, ?it/s]"
      ]
     },
     "metadata": {},
     "output_type": "display_data"
    },
    {
     "data": {
      "application/vnd.jupyter.widget-view+json": {
       "model_id": "",
       "version_major": 2,
       "version_minor": 0
      },
      "text/plain": [
       "Validating: 0it [00:00, ?it/s]"
      ]
     },
     "metadata": {},
     "output_type": "display_data"
    },
    {
     "data": {
      "application/vnd.jupyter.widget-view+json": {
       "model_id": "",
       "version_major": 2,
       "version_minor": 0
      },
      "text/plain": [
       "Validating: 0it [00:00, ?it/s]"
      ]
     },
     "metadata": {},
     "output_type": "display_data"
    },
    {
     "data": {
      "application/vnd.jupyter.widget-view+json": {
       "model_id": "",
       "version_major": 2,
       "version_minor": 0
      },
      "text/plain": [
       "Validating: 0it [00:00, ?it/s]"
      ]
     },
     "metadata": {},
     "output_type": "display_data"
    },
    {
     "data": {
      "application/vnd.jupyter.widget-view+json": {
       "model_id": "",
       "version_major": 2,
       "version_minor": 0
      },
      "text/plain": [
       "Validating: 0it [00:00, ?it/s]"
      ]
     },
     "metadata": {},
     "output_type": "display_data"
    },
    {
     "data": {
      "application/vnd.jupyter.widget-view+json": {
       "model_id": "",
       "version_major": 2,
       "version_minor": 0
      },
      "text/plain": [
       "Validating: 0it [00:00, ?it/s]"
      ]
     },
     "metadata": {},
     "output_type": "display_data"
    },
    {
     "data": {
      "application/vnd.jupyter.widget-view+json": {
       "model_id": "",
       "version_major": 2,
       "version_minor": 0
      },
      "text/plain": [
       "Validating: 0it [00:00, ?it/s]"
      ]
     },
     "metadata": {},
     "output_type": "display_data"
    },
    {
     "data": {
      "application/vnd.jupyter.widget-view+json": {
       "model_id": "",
       "version_major": 2,
       "version_minor": 0
      },
      "text/plain": [
       "Validating: 0it [00:00, ?it/s]"
      ]
     },
     "metadata": {},
     "output_type": "display_data"
    },
    {
     "data": {
      "application/vnd.jupyter.widget-view+json": {
       "model_id": "",
       "version_major": 2,
       "version_minor": 0
      },
      "text/plain": [
       "Validating: 0it [00:00, ?it/s]"
      ]
     },
     "metadata": {},
     "output_type": "display_data"
    },
    {
     "data": {
      "application/vnd.jupyter.widget-view+json": {
       "model_id": "",
       "version_major": 2,
       "version_minor": 0
      },
      "text/plain": [
       "Validating: 0it [00:00, ?it/s]"
      ]
     },
     "metadata": {},
     "output_type": "display_data"
    },
    {
     "data": {
      "application/vnd.jupyter.widget-view+json": {
       "model_id": "",
       "version_major": 2,
       "version_minor": 0
      },
      "text/plain": [
       "Validating: 0it [00:00, ?it/s]"
      ]
     },
     "metadata": {},
     "output_type": "display_data"
    },
    {
     "data": {
      "application/vnd.jupyter.widget-view+json": {
       "model_id": "",
       "version_major": 2,
       "version_minor": 0
      },
      "text/plain": [
       "Validating: 0it [00:00, ?it/s]"
      ]
     },
     "metadata": {},
     "output_type": "display_data"
    },
    {
     "data": {
      "application/vnd.jupyter.widget-view+json": {
       "model_id": "",
       "version_major": 2,
       "version_minor": 0
      },
      "text/plain": [
       "Validating: 0it [00:00, ?it/s]"
      ]
     },
     "metadata": {},
     "output_type": "display_data"
    },
    {
     "data": {
      "application/vnd.jupyter.widget-view+json": {
       "model_id": "",
       "version_major": 2,
       "version_minor": 0
      },
      "text/plain": [
       "Validating: 0it [00:00, ?it/s]"
      ]
     },
     "metadata": {},
     "output_type": "display_data"
    },
    {
     "data": {
      "application/vnd.jupyter.widget-view+json": {
       "model_id": "",
       "version_major": 2,
       "version_minor": 0
      },
      "text/plain": [
       "Validating: 0it [00:00, ?it/s]"
      ]
     },
     "metadata": {},
     "output_type": "display_data"
    },
    {
     "data": {
      "application/vnd.jupyter.widget-view+json": {
       "model_id": "",
       "version_major": 2,
       "version_minor": 0
      },
      "text/plain": [
       "Validating: 0it [00:00, ?it/s]"
      ]
     },
     "metadata": {},
     "output_type": "display_data"
    },
    {
     "data": {
      "application/vnd.jupyter.widget-view+json": {
       "model_id": "",
       "version_major": 2,
       "version_minor": 0
      },
      "text/plain": [
       "Validating: 0it [00:00, ?it/s]"
      ]
     },
     "metadata": {},
     "output_type": "display_data"
    },
    {
     "data": {
      "application/vnd.jupyter.widget-view+json": {
       "model_id": "",
       "version_major": 2,
       "version_minor": 0
      },
      "text/plain": [
       "Validating: 0it [00:00, ?it/s]"
      ]
     },
     "metadata": {},
     "output_type": "display_data"
    },
    {
     "data": {
      "application/vnd.jupyter.widget-view+json": {
       "model_id": "",
       "version_major": 2,
       "version_minor": 0
      },
      "text/plain": [
       "Validating: 0it [00:00, ?it/s]"
      ]
     },
     "metadata": {},
     "output_type": "display_data"
    },
    {
     "data": {
      "application/vnd.jupyter.widget-view+json": {
       "model_id": "",
       "version_major": 2,
       "version_minor": 0
      },
      "text/plain": [
       "Validating: 0it [00:00, ?it/s]"
      ]
     },
     "metadata": {},
     "output_type": "display_data"
    },
    {
     "data": {
      "application/vnd.jupyter.widget-view+json": {
       "model_id": "",
       "version_major": 2,
       "version_minor": 0
      },
      "text/plain": [
       "Validating: 0it [00:00, ?it/s]"
      ]
     },
     "metadata": {},
     "output_type": "display_data"
    },
    {
     "data": {
      "application/vnd.jupyter.widget-view+json": {
       "model_id": "",
       "version_major": 2,
       "version_minor": 0
      },
      "text/plain": [
       "Validating: 0it [00:00, ?it/s]"
      ]
     },
     "metadata": {},
     "output_type": "display_data"
    },
    {
     "data": {
      "application/vnd.jupyter.widget-view+json": {
       "model_id": "",
       "version_major": 2,
       "version_minor": 0
      },
      "text/plain": [
       "Validating: 0it [00:00, ?it/s]"
      ]
     },
     "metadata": {},
     "output_type": "display_data"
    },
    {
     "data": {
      "application/vnd.jupyter.widget-view+json": {
       "model_id": "",
       "version_major": 2,
       "version_minor": 0
      },
      "text/plain": [
       "Validating: 0it [00:00, ?it/s]"
      ]
     },
     "metadata": {},
     "output_type": "display_data"
    },
    {
     "data": {
      "application/vnd.jupyter.widget-view+json": {
       "model_id": "",
       "version_major": 2,
       "version_minor": 0
      },
      "text/plain": [
       "Validating: 0it [00:00, ?it/s]"
      ]
     },
     "metadata": {},
     "output_type": "display_data"
    },
    {
     "data": {
      "application/vnd.jupyter.widget-view+json": {
       "model_id": "",
       "version_major": 2,
       "version_minor": 0
      },
      "text/plain": [
       "Validating: 0it [00:00, ?it/s]"
      ]
     },
     "metadata": {},
     "output_type": "display_data"
    },
    {
     "data": {
      "application/vnd.jupyter.widget-view+json": {
       "model_id": "",
       "version_major": 2,
       "version_minor": 0
      },
      "text/plain": [
       "Validating: 0it [00:00, ?it/s]"
      ]
     },
     "metadata": {},
     "output_type": "display_data"
    },
    {
     "data": {
      "application/vnd.jupyter.widget-view+json": {
       "model_id": "",
       "version_major": 2,
       "version_minor": 0
      },
      "text/plain": [
       "Validating: 0it [00:00, ?it/s]"
      ]
     },
     "metadata": {},
     "output_type": "display_data"
    },
    {
     "data": {
      "application/vnd.jupyter.widget-view+json": {
       "model_id": "",
       "version_major": 2,
       "version_minor": 0
      },
      "text/plain": [
       "Validating: 0it [00:00, ?it/s]"
      ]
     },
     "metadata": {},
     "output_type": "display_data"
    },
    {
     "data": {
      "application/vnd.jupyter.widget-view+json": {
       "model_id": "",
       "version_major": 2,
       "version_minor": 0
      },
      "text/plain": [
       "Validating: 0it [00:00, ?it/s]"
      ]
     },
     "metadata": {},
     "output_type": "display_data"
    },
    {
     "data": {
      "application/vnd.jupyter.widget-view+json": {
       "model_id": "",
       "version_major": 2,
       "version_minor": 0
      },
      "text/plain": [
       "Validating: 0it [00:00, ?it/s]"
      ]
     },
     "metadata": {},
     "output_type": "display_data"
    },
    {
     "data": {
      "application/vnd.jupyter.widget-view+json": {
       "model_id": "",
       "version_major": 2,
       "version_minor": 0
      },
      "text/plain": [
       "Validating: 0it [00:00, ?it/s]"
      ]
     },
     "metadata": {},
     "output_type": "display_data"
    },
    {
     "data": {
      "application/vnd.jupyter.widget-view+json": {
       "model_id": "",
       "version_major": 2,
       "version_minor": 0
      },
      "text/plain": [
       "Validating: 0it [00:00, ?it/s]"
      ]
     },
     "metadata": {},
     "output_type": "display_data"
    },
    {
     "data": {
      "application/vnd.jupyter.widget-view+json": {
       "model_id": "",
       "version_major": 2,
       "version_minor": 0
      },
      "text/plain": [
       "Validating: 0it [00:00, ?it/s]"
      ]
     },
     "metadata": {},
     "output_type": "display_data"
    },
    {
     "data": {
      "application/vnd.jupyter.widget-view+json": {
       "model_id": "",
       "version_major": 2,
       "version_minor": 0
      },
      "text/plain": [
       "Validating: 0it [00:00, ?it/s]"
      ]
     },
     "metadata": {},
     "output_type": "display_data"
    },
    {
     "data": {
      "application/vnd.jupyter.widget-view+json": {
       "model_id": "",
       "version_major": 2,
       "version_minor": 0
      },
      "text/plain": [
       "Validating: 0it [00:00, ?it/s]"
      ]
     },
     "metadata": {},
     "output_type": "display_data"
    },
    {
     "data": {
      "application/vnd.jupyter.widget-view+json": {
       "model_id": "",
       "version_major": 2,
       "version_minor": 0
      },
      "text/plain": [
       "Validating: 0it [00:00, ?it/s]"
      ]
     },
     "metadata": {},
     "output_type": "display_data"
    },
    {
     "data": {
      "application/vnd.jupyter.widget-view+json": {
       "model_id": "",
       "version_major": 2,
       "version_minor": 0
      },
      "text/plain": [
       "Validating: 0it [00:00, ?it/s]"
      ]
     },
     "metadata": {},
     "output_type": "display_data"
    },
    {
     "data": {
      "application/vnd.jupyter.widget-view+json": {
       "model_id": "",
       "version_major": 2,
       "version_minor": 0
      },
      "text/plain": [
       "Validating: 0it [00:00, ?it/s]"
      ]
     },
     "metadata": {},
     "output_type": "display_data"
    },
    {
     "data": {
      "application/vnd.jupyter.widget-view+json": {
       "model_id": "",
       "version_major": 2,
       "version_minor": 0
      },
      "text/plain": [
       "Validating: 0it [00:00, ?it/s]"
      ]
     },
     "metadata": {},
     "output_type": "display_data"
    },
    {
     "data": {
      "application/vnd.jupyter.widget-view+json": {
       "model_id": "",
       "version_major": 2,
       "version_minor": 0
      },
      "text/plain": [
       "Validating: 0it [00:00, ?it/s]"
      ]
     },
     "metadata": {},
     "output_type": "display_data"
    },
    {
     "data": {
      "application/vnd.jupyter.widget-view+json": {
       "model_id": "",
       "version_major": 2,
       "version_minor": 0
      },
      "text/plain": [
       "Validating: 0it [00:00, ?it/s]"
      ]
     },
     "metadata": {},
     "output_type": "display_data"
    },
    {
     "data": {
      "application/vnd.jupyter.widget-view+json": {
       "model_id": "",
       "version_major": 2,
       "version_minor": 0
      },
      "text/plain": [
       "Validating: 0it [00:00, ?it/s]"
      ]
     },
     "metadata": {},
     "output_type": "display_data"
    },
    {
     "data": {
      "application/vnd.jupyter.widget-view+json": {
       "model_id": "",
       "version_major": 2,
       "version_minor": 0
      },
      "text/plain": [
       "Validating: 0it [00:00, ?it/s]"
      ]
     },
     "metadata": {},
     "output_type": "display_data"
    },
    {
     "name": "stderr",
     "output_type": "stream",
     "text": [
      "Epoch 9000, global step 873096: train_loss_ssl was not in top 5\n"
     ]
    },
    {
     "name": "stdout",
     "output_type": "stream",
     "text": [
      "[1.0914463, 0.7046748, 0.5597423, 0.483434, 0.43608052, 0.402711, 0.37839693, 0.36016092, 0.34510458, 0.33263665, 0.32219622, 0.31369197, 0.30627978, 0.29951453, 0.29381943, 0.2884774, 0.28368464, 0.27943724, 0.2755902, 0.27187037, 0.26840302, 0.2652933, 0.26232028, 0.25962734, 0.25696343, 0.2545145, 0.25219604, 0.24999496, 0.24791953, 0.24593328, 0.24412307, 0.24228661, 0.24062507, 0.23897389, 0.23739769, 0.23592857, 0.23444444, 0.23306134, 0.23172319, 0.23046157, 0.22925471, 0.22808005, 0.2268935, 0.22576961, 0.22474274, 0.22368304, 0.22270638, 0.22174245, 0.22081, 0.21988136, 0.21898659, 0.21815291, 0.21737158, 0.21656826, 0.21584915, 0.21512158, 0.21440914, 0.21374178, 0.21306185, 0.2124432]\n",
      "[0.62263036, 0.7130346, 0.75434357, 0.779239, 0.79603523, 0.8084562, 0.81812966, 0.82583565, 0.8322191, 0.83757097, 0.8421413, 0.84608686, 0.8495537, 0.85257983, 0.855272, 0.8576955, 0.8598818, 0.86186415, 0.863671, 0.86533767, 0.8668742, 0.86829793, 0.8696145, 0.8708404, 0.87198657, 0.8730599, 0.8740675, 0.87501836, 0.87591344, 0.876759, 0.8775611, 0.8783231, 0.8790447, 0.87972957, 0.8803825, 0.8810061, 0.88160086, 0.88216907, 0.88271433, 0.8832373, 0.88373953, 0.8842221, 0.8846855, 0.8851307, 0.88556004, 0.88597375, 0.8863725, 0.88675684, 0.8871277, 0.88748544, 0.887831, 0.8881649, 0.88848805, 0.8888013, 0.8891046, 0.88939846, 0.8896834, 0.8899598, 0.89022833, 0.89048904]\n",
      "-----\n"
     ]
    },
    {
     "name": "stderr",
     "output_type": "stream",
     "text": [
      "Epoch 9001, global step 873193: train_loss_ssl was not in top 5\n",
      "Epoch 9002, global step 873290: train_loss_ssl was not in top 5\n",
      "Epoch 9003, global step 873387: train_loss_ssl was not in top 5\n",
      "Epoch 9004, global step 873484: train_loss_ssl was not in top 5\n"
     ]
    }
   ],
   "source": [
    "## WHEN TRAINING FROM SCRATCH (EPOCH 0) ###\n",
    "\n",
    "trainer = pl.Trainer(max_epochs=moco_max_epochs, gpus=gpus, callbacks=[checkpoint_callback, lr_monitor], logger=tb_logger)\n",
    "trainer.fit(\n",
    "    model,\n",
    "    dataloader_train_moco\n",
    ")"
   ]
  }
 ],
 "metadata": {
  "kernelspec": {
   "display_name": "Python 3 (ipykernel)",
   "language": "python",
   "name": "python3"
  },
  "language_info": {
   "codemirror_mode": {
    "name": "ipython",
    "version": 3
   },
   "file_extension": ".py",
   "mimetype": "text/x-python",
   "name": "python",
   "nbconvert_exporter": "python",
   "pygments_lexer": "ipython3",
   "version": "3.9.7"
  }
 },
 "nbformat": 4,
 "nbformat_minor": 5
}
