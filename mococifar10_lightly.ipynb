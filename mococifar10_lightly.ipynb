{
 "cells": [
  {
   "cell_type": "markdown",
   "id": "47eb48b9",
   "metadata": {},
   "source": [
    "# 🧈 Training MOCOv2 on CIFAR10 🔥 With pytorch lightning 🧈"
   ]
  },
  {
   "cell_type": "code",
   "execution_count": 1,
   "id": "55155651",
   "metadata": {
    "scrolled": true
   },
   "outputs": [
    {
     "name": "stderr",
     "output_type": "stream",
     "text": [
      "/home/shatz/miniconda3/envs/morebetter2/lib/python3.8/site-packages/pytorch_lightning/metrics/__init__.py:43: LightningDeprecationWarning: `pytorch_lightning.metrics.*` module has been renamed to `torchmetrics.*` and split off to its own package (https://github.com/PyTorchLightning/metrics) since v1.3 and will be removed in v1.5\n",
      "  rank_zero_deprecation(\n",
      "/home/shatz/miniconda3/envs/morebetter2/lib/python3.8/site-packages/lightly/api/version_checking.py:57: Warning: You are using lightly version 1.1.15. There is a newer version of the package available. For compatability reasons, please upgrade your current version: pip install lightly==1.1.19\n",
      "  warnings.warn(Warning(warning))\n"
     ]
    }
   ],
   "source": [
    "import torch\n",
    "import torch.nn as nn\n",
    "import torchvision\n",
    "import pytorch_lightning as pl\n",
    "import lightly\n",
    "\n",
    "from pytorch_lightning.callbacks import ModelCheckpoint\n",
    "from pytorch_lightning import loggers as pl_loggers\n",
    "\n",
    "SEED = 1"
   ]
  },
  {
   "cell_type": "markdown",
   "id": "37075cb6",
   "metadata": {},
   "source": [
    "# ⬇️ Build Dataset"
   ]
  },
  {
   "cell_type": "code",
   "execution_count": 2,
   "id": "721404d0",
   "metadata": {},
   "outputs": [],
   "source": [
    "# DATA hyperparams\n",
    "num_workers = 6\n",
    "moco_batch_size = 512\n",
    "classifier_train_batch_size = 512\n",
    "classifier_test_batch_size = 512"
   ]
  },
  {
   "cell_type": "code",
   "execution_count": 3,
   "id": "2161f687",
   "metadata": {},
   "outputs": [],
   "source": [
    "# The dataset structure should be like this:\n",
    "# cifar10/train/\n",
    "#  L airplane/\n",
    "#    L 10008_airplane.png\n",
    "#    L ...\n",
    "#  L automobile/\n",
    "#  L bird/\n",
    "#  L cat/\n",
    "#  L deer/\n",
    "#  L dog/\n",
    "#  L frog/\n",
    "#  L horse/\n",
    "#  L ship/\n",
    "#  L truck/\n",
    "path_to_train = './data/cifar10_lightly/train/'\n",
    "path_to_test = './data/cifar10_lightly/test/'"
   ]
  },
  {
   "cell_type": "markdown",
   "id": "f1fbefd4",
   "metadata": {},
   "source": [
    "### Augmentations"
   ]
  },
  {
   "cell_type": "code",
   "execution_count": 4,
   "id": "8545a01a",
   "metadata": {},
   "outputs": [],
   "source": [
    "################### Classifier Augmentations ###################\n",
    "# Augmentations typically used to train on cifar-10\n",
    "train_classifier_transforms = torchvision.transforms.Compose([\n",
    "    torchvision.transforms.RandomCrop(32, padding=4),\n",
    "    torchvision.transforms.RandomHorizontalFlip(),\n",
    "    torchvision.transforms.ToTensor(),\n",
    "    torchvision.transforms.Normalize(\n",
    "        mean=lightly.data.collate.imagenet_normalize['mean'],\n",
    "        std=lightly.data.collate.imagenet_normalize['std'],\n",
    "    )\n",
    "])\n",
    "\n",
    "# No additional augmentations for the test set\n",
    "test_transforms = torchvision.transforms.Compose([\n",
    "    torchvision.transforms.Resize((32, 32)),\n",
    "    torchvision.transforms.ToTensor(),\n",
    "    torchvision.transforms.Normalize(\n",
    "        mean=lightly.data.collate.imagenet_normalize['mean'],\n",
    "        std=lightly.data.collate.imagenet_normalize['std'],\n",
    "    )\n",
    "])\n",
    "\n",
    "################### MOCO Augmentations ###################\n",
    "# MoCo v2 uses SimCLR augmentations, additionally, disable blur\n",
    "collate_fn = lightly.data.SimCLRCollateFunction(\n",
    "    input_size=32,\n",
    "    gaussian_blur=0.,\n",
    ")"
   ]
  },
  {
   "cell_type": "markdown",
   "id": "1fb7cd15",
   "metadata": {},
   "source": [
    "### Datasets"
   ]
  },
  {
   "cell_type": "code",
   "execution_count": 5,
   "id": "7089d1ac",
   "metadata": {},
   "outputs": [],
   "source": [
    "################### Classifier Datasets ###################\n",
    "#Since we also train a linear classifier on the pre-trained moco model we\n",
    "# reuse the test augmentations here (MoCo augmentations are very strong and\n",
    "# usually reduce accuracy of models which are not used for contrastive learning.\n",
    "# Our linear layer will be trained using cross entropy loss and labels provided\n",
    "# by the dataset. Therefore we chose light augmentations.)\n",
    "dataset_train_classifier = lightly.data.LightlyDataset(\n",
    "    input_dir=path_to_train,\n",
    "    transform=train_classifier_transforms\n",
    ")\n",
    "\n",
    "dataset_test = lightly.data.LightlyDataset(\n",
    "    input_dir=path_to_test,\n",
    "    transform=test_transforms\n",
    ")\n",
    "\n",
    "################### MOCO Dataset ###################\n",
    "# We use the moco augmentations for training moco\n",
    "dataset_train_moco = lightly.data.LightlyDataset(\n",
    "    input_dir=path_to_train\n",
    ")"
   ]
  },
  {
   "cell_type": "markdown",
   "id": "ad0f9038",
   "metadata": {},
   "source": [
    "### Dataloaders"
   ]
  },
  {
   "cell_type": "code",
   "execution_count": 6,
   "id": "fc8ab836",
   "metadata": {},
   "outputs": [],
   "source": [
    "################### Classifier Dataloaders ###################\n",
    "dataloader_train_classifier = torch.utils.data.DataLoader(\n",
    "    dataset_train_classifier,\n",
    "    batch_size=classifier_train_batch_size,\n",
    "    shuffle=True,\n",
    "    drop_last=True,\n",
    "    num_workers=num_workers\n",
    ")\n",
    "\n",
    "dataloader_test = torch.utils.data.DataLoader(\n",
    "    dataset_test,\n",
    "    batch_size=classifier_test_batch_size,\n",
    "    shuffle=False,\n",
    "    drop_last=False,\n",
    "    num_workers=num_workers\n",
    ")\n",
    "\n",
    "################### MOCO Dataloader ###################\n",
    "dataloader_train_moco = torch.utils.data.DataLoader(\n",
    "    dataset_train_moco,\n",
    "    batch_size=moco_batch_size,\n",
    "    shuffle=True,\n",
    "    collate_fn=collate_fn,\n",
    "    drop_last=True,\n",
    "    num_workers=num_workers\n",
    ")"
   ]
  },
  {
   "cell_type": "markdown",
   "id": "4ee9aaec",
   "metadata": {},
   "source": [
    "# 🧠 Load Model"
   ]
  },
  {
   "cell_type": "code",
   "execution_count": 7,
   "id": "940b7f28",
   "metadata": {},
   "outputs": [],
   "source": [
    "# MODEL hyperparams\n",
    "memory_bank_size = 4096\n",
    "moco_max_epochs = 9000\n",
    "downstream_max_epochs = 60\n",
    "downstream_test_every = 100"
   ]
  },
  {
   "cell_type": "code",
   "execution_count": 8,
   "id": "97281123",
   "metadata": {},
   "outputs": [],
   "source": [
    "import moco_model"
   ]
  },
  {
   "cell_type": "code",
   "execution_count": 9,
   "id": "b01d0f14",
   "metadata": {},
   "outputs": [],
   "source": [
    "model = moco_model.MocoModel(memory_bank_size, moco_max_epochs, \n",
    "                             downstream_max_epochs, dataloader_train_classifier, dataloader_test,\n",
    "                            downstream_test_every=downstream_test_every)"
   ]
  },
  {
   "cell_type": "markdown",
   "id": "b70b70fb",
   "metadata": {},
   "source": [
    "I will continue training from 900 epoch model"
   ]
  },
  {
   "cell_type": "code",
   "execution_count": 10,
   "id": "22af9f95",
   "metadata": {},
   "outputs": [],
   "source": [
    "# # WHEN LOADING A SAVED MODEL DO IT LIKE DIS\n",
    "model.load_from_checkpoint('./saved_models/resnet_moco/epoch=2989-train_loss_ssl=1.37.ckpt',\n",
    "                          memory_bank_size=memory_bank_size, moco_max_epochs=moco_max_epochs,\n",
    "                          downstream_max_epochs=downstream_max_epochs, dataloader_train_classifier=dataloader_train_classifier,\n",
    "                           dataloader_test=dataloader_test,\n",
    "                           downstream_test_every=downstream_test_every);\n",
    "# checkpoint_callback = ModelCheckpoint(dirpath=\"./saved_models/resnet_moco/epoch=897-train_loss_ssl=1.67.ckpt\")"
   ]
  },
  {
   "cell_type": "code",
   "execution_count": 11,
   "id": "d2b6ca25",
   "metadata": {},
   "outputs": [
    {
     "name": "stderr",
     "output_type": "stream",
     "text": [
      "/home/shatz/miniconda3/envs/morebetter2/lib/python3.8/site-packages/pytorch_lightning/callbacks/model_checkpoint.py:360: UserWarning: Checkpoint directory ./saved_models/resnet_moco exists and is not empty.\n",
      "  rank_zero_warn(f\"Checkpoint directory {dirpath} exists and is not empty.\")\n"
     ]
    }
   ],
   "source": [
    "# you can also define a checkpoint callback to save best model like keras.\n",
    "checkpoint_callback = ModelCheckpoint(\n",
    "    dirpath='./saved_models/resnet_moco',\n",
    "    filename='{epoch}-{train_loss_ssl:.2f}',\n",
    "    save_top_k=5,\n",
    "    verbose=True,\n",
    "    monitor='train_loss_ssl',\n",
    "    mode='min'\n",
    ")"
   ]
  },
  {
   "cell_type": "markdown",
   "id": "d8c2f554",
   "metadata": {},
   "source": [
    "# 🏋️‍♂️ Train"
   ]
  },
  {
   "cell_type": "code",
   "execution_count": 12,
   "id": "19f26a44",
   "metadata": {},
   "outputs": [
    {
     "name": "stdout",
     "output_type": "stream",
     "text": [
      "Using gpu: True\n"
     ]
    }
   ],
   "source": [
    "# use a GPU if available\n",
    "gpus = 1 if torch.cuda.is_available() else 0\n",
    "print(f'Using gpu: {bool(gpus)}')\n",
    "if(gpus == 0): print('--- NOT USING GPUS THIS TAKE LONG TIME ---')\n",
    "\n",
    "# set up tensorboard logger\n",
    "tb_logger = pl_loggers.TensorBoardLogger(save_dir='./lightning_logs/', name=f'TESTmoco_{moco_max_epochs}eps')"
   ]
  },
  {
   "cell_type": "code",
   "execution_count": 13,
   "id": "cb44c082",
   "metadata": {},
   "outputs": [
    {
     "name": "stderr",
     "output_type": "stream",
     "text": [
      "GPU available: True, used: True\n",
      "TPU available: False, using: 0 TPU cores\n"
     ]
    }
   ],
   "source": [
    "trainer = pl.Trainer(\n",
    "    resume_from_checkpoint=\"./saved_models/resnet_moco/epoch=2989-train_loss_ssl=1.37.ckpt\",\n",
    "    max_epochs=moco_max_epochs,\n",
    "    gpus=gpus,\n",
    "    callbacks=[checkpoint_callback],\n",
    "    logger=tb_logger)"
   ]
  },
  {
   "cell_type": "code",
   "execution_count": null,
   "id": "a50ee16b",
   "metadata": {},
   "outputs": [
    {
     "name": "stderr",
     "output_type": "stream",
     "text": [
      "LOCAL_RANK: 0 - CUDA_VISIBLE_DEVICES: [0]\n",
      "\n",
      "  | Name        | Type       | Params\n",
      "-------------------------------------------\n",
      "0 | resnet_moco | MoCo       | 23.0 M\n",
      "1 | criterion   | NTXentLoss | 0     \n",
      "-------------------------------------------\n",
      "11.5 M    Trainable params\n",
      "11.5 M    Non-trainable params\n",
      "23.0 M    Total params\n",
      "91.977    Total estimated model params size (MB)\n",
      "Restored states from the checkpoint file at ./saved_models/resnet_moco/epoch=2989-train_loss_ssl=1.37.ckpt\n"
     ]
    },
    {
     "data": {
      "application/vnd.jupyter.widget-view+json": {
       "model_id": "fd860e5cd918402888b2dfe048a3d212",
       "version_major": 2,
       "version_minor": 0
      },
      "text/plain": [
       "Training: 0it [00:00, ?it/s]"
      ]
     },
     "metadata": {},
     "output_type": "display_data"
    },
    {
     "name": "stderr",
     "output_type": "stream",
     "text": [
      "Epoch 2990, global step 290126: train_loss_ssl reached 1.62537 (best 1.62537), saving model to \"/home/shatz/Documents/more_better/saved_models/resnet_moco/epoch=2990-train_loss_ssl=1.63.ckpt\" as top 5\n",
      "Epoch 2991, global step 290223: train_loss_ssl reached 1.57939 (best 1.57939), saving model to \"/home/shatz/Documents/more_better/saved_models/resnet_moco/epoch=2991-train_loss_ssl=1.58.ckpt\" as top 5\n",
      "Epoch 2992, global step 290320: train_loss_ssl reached 1.45108 (best 1.45108), saving model to \"/home/shatz/Documents/more_better/saved_models/resnet_moco/epoch=2992-train_loss_ssl=1.45.ckpt\" as top 5\n",
      "Epoch 2993, global step 290417: train_loss_ssl reached 1.62739 (best 1.45108), saving model to \"/home/shatz/Documents/more_better/saved_models/resnet_moco/epoch=2993-train_loss_ssl=1.63.ckpt\" as top 5\n",
      "Epoch 2994, global step 290514: train_loss_ssl reached 1.66138 (best 1.45108), saving model to \"/home/shatz/Documents/more_better/saved_models/resnet_moco/epoch=2994-train_loss_ssl=1.66.ckpt\" as top 5\n",
      "Epoch 2995, global step 290611: train_loss_ssl reached 1.53582 (best 1.45108), saving model to \"/home/shatz/Documents/more_better/saved_models/resnet_moco/epoch=2995-train_loss_ssl=1.54.ckpt\" as top 5\n",
      "Epoch 2996, global step 290708: train_loss_ssl reached 1.61752 (best 1.45108), saving model to \"/home/shatz/Documents/more_better/saved_models/resnet_moco/epoch=2996-train_loss_ssl=1.62.ckpt\" as top 5\n",
      "Epoch 2997, global step 290805: train_loss_ssl reached 1.53945 (best 1.45108), saving model to \"/home/shatz/Documents/more_better/saved_models/resnet_moco/epoch=2997-train_loss_ssl=1.54.ckpt\" as top 5\n",
      "Epoch 2998, global step 290902: train_loss_ssl reached 1.52150 (best 1.45108), saving model to \"/home/shatz/Documents/more_better/saved_models/resnet_moco/epoch=2998-train_loss_ssl=1.52.ckpt\" as top 5\n",
      "Epoch 2999, global step 290999: train_loss_ssl reached 1.56234 (best 1.45108), saving model to \"/home/shatz/Documents/more_better/saved_models/resnet_moco/epoch=2999-train_loss_ssl=1.56.ckpt\" as top 5\n",
      "/home/shatz/miniconda3/envs/morebetter2/lib/python3.8/site-packages/deprecate/deprecation.py:115: LightningDeprecationWarning: The `Accuracy` was deprecated since v1.3.0 in favor of `torchmetrics.classification.accuracy.Accuracy`. It will be removed in v1.5.0.\n",
      "  stream(template_mgs % msg_args)\n",
      "GPU available: True, used: True\n",
      "TPU available: False, using: 0 TPU cores\n",
      "LOCAL_RANK: 0 - CUDA_VISIBLE_DEVICES: [0]\n",
      "\n",
      "  | Name        | Type       | Params\n",
      "-------------------------------------------\n",
      "0 | resnet_moco | MoCo       | 23.0 M\n",
      "1 | fc          | Sequential | 267 K \n",
      "2 | accuracy    | Accuracy   | 0     \n",
      "-------------------------------------------\n",
      "267 K     Trainable params\n",
      "23.0 M    Non-trainable params\n",
      "23.3 M    Total params\n",
      "93.048    Total estimated model params size (MB)\n"
     ]
    },
    {
     "name": "stdout",
     "output_type": "stream",
     "text": [
      "... training downstream classifier...\n"
     ]
    },
    {
     "data": {
      "application/vnd.jupyter.widget-view+json": {
       "model_id": "",
       "version_major": 2,
       "version_minor": 0
      },
      "text/plain": [
       "Validation sanity check: 0it [00:00, ?it/s]"
      ]
     },
     "metadata": {},
     "output_type": "display_data"
    },
    {
     "name": "stderr",
     "output_type": "stream",
     "text": [
      "/home/shatz/miniconda3/envs/morebetter2/lib/python3.8/site-packages/numpy/core/fromnumeric.py:3419: RuntimeWarning: Mean of empty slice.\n",
      "  return _methods._mean(a, axis=axis, dtype=dtype,\n",
      "/home/shatz/miniconda3/envs/morebetter2/lib/python3.8/site-packages/numpy/core/_methods.py:188: RuntimeWarning: invalid value encountered in double_scalars\n",
      "  ret = ret.dtype.type(ret / rcount)\n"
     ]
    },
    {
     "data": {
      "application/vnd.jupyter.widget-view+json": {
       "model_id": "f682097405d641afb23875c67c07aed8",
       "version_major": 2,
       "version_minor": 0
      },
      "text/plain": [
       "Training: 0it [00:00, ?it/s]"
      ]
     },
     "metadata": {},
     "output_type": "display_data"
    },
    {
     "data": {
      "application/vnd.jupyter.widget-view+json": {
       "model_id": "",
       "version_major": 2,
       "version_minor": 0
      },
      "text/plain": [
       "Validating: 0it [00:00, ?it/s]"
      ]
     },
     "metadata": {},
     "output_type": "display_data"
    },
    {
     "data": {
      "application/vnd.jupyter.widget-view+json": {
       "model_id": "",
       "version_major": 2,
       "version_minor": 0
      },
      "text/plain": [
       "Validating: 0it [00:00, ?it/s]"
      ]
     },
     "metadata": {},
     "output_type": "display_data"
    },
    {
     "data": {
      "application/vnd.jupyter.widget-view+json": {
       "model_id": "",
       "version_major": 2,
       "version_minor": 0
      },
      "text/plain": [
       "Validating: 0it [00:00, ?it/s]"
      ]
     },
     "metadata": {},
     "output_type": "display_data"
    },
    {
     "data": {
      "application/vnd.jupyter.widget-view+json": {
       "model_id": "",
       "version_major": 2,
       "version_minor": 0
      },
      "text/plain": [
       "Validating: 0it [00:00, ?it/s]"
      ]
     },
     "metadata": {},
     "output_type": "display_data"
    },
    {
     "data": {
      "application/vnd.jupyter.widget-view+json": {
       "model_id": "",
       "version_major": 2,
       "version_minor": 0
      },
      "text/plain": [
       "Validating: 0it [00:00, ?it/s]"
      ]
     },
     "metadata": {},
     "output_type": "display_data"
    },
    {
     "data": {
      "application/vnd.jupyter.widget-view+json": {
       "model_id": "",
       "version_major": 2,
       "version_minor": 0
      },
      "text/plain": [
       "Validating: 0it [00:00, ?it/s]"
      ]
     },
     "metadata": {},
     "output_type": "display_data"
    },
    {
     "data": {
      "application/vnd.jupyter.widget-view+json": {
       "model_id": "",
       "version_major": 2,
       "version_minor": 0
      },
      "text/plain": [
       "Validating: 0it [00:00, ?it/s]"
      ]
     },
     "metadata": {},
     "output_type": "display_data"
    },
    {
     "data": {
      "application/vnd.jupyter.widget-view+json": {
       "model_id": "",
       "version_major": 2,
       "version_minor": 0
      },
      "text/plain": [
       "Validating: 0it [00:00, ?it/s]"
      ]
     },
     "metadata": {},
     "output_type": "display_data"
    },
    {
     "data": {
      "application/vnd.jupyter.widget-view+json": {
       "model_id": "",
       "version_major": 2,
       "version_minor": 0
      },
      "text/plain": [
       "Validating: 0it [00:00, ?it/s]"
      ]
     },
     "metadata": {},
     "output_type": "display_data"
    },
    {
     "data": {
      "application/vnd.jupyter.widget-view+json": {
       "model_id": "",
       "version_major": 2,
       "version_minor": 0
      },
      "text/plain": [
       "Validating: 0it [00:00, ?it/s]"
      ]
     },
     "metadata": {},
     "output_type": "display_data"
    },
    {
     "data": {
      "application/vnd.jupyter.widget-view+json": {
       "model_id": "",
       "version_major": 2,
       "version_minor": 0
      },
      "text/plain": [
       "Validating: 0it [00:00, ?it/s]"
      ]
     },
     "metadata": {},
     "output_type": "display_data"
    },
    {
     "data": {
      "application/vnd.jupyter.widget-view+json": {
       "model_id": "",
       "version_major": 2,
       "version_minor": 0
      },
      "text/plain": [
       "Validating: 0it [00:00, ?it/s]"
      ]
     },
     "metadata": {},
     "output_type": "display_data"
    },
    {
     "data": {
      "application/vnd.jupyter.widget-view+json": {
       "model_id": "",
       "version_major": 2,
       "version_minor": 0
      },
      "text/plain": [
       "Validating: 0it [00:00, ?it/s]"
      ]
     },
     "metadata": {},
     "output_type": "display_data"
    },
    {
     "data": {
      "application/vnd.jupyter.widget-view+json": {
       "model_id": "",
       "version_major": 2,
       "version_minor": 0
      },
      "text/plain": [
       "Validating: 0it [00:00, ?it/s]"
      ]
     },
     "metadata": {},
     "output_type": "display_data"
    },
    {
     "data": {
      "application/vnd.jupyter.widget-view+json": {
       "model_id": "",
       "version_major": 2,
       "version_minor": 0
      },
      "text/plain": [
       "Validating: 0it [00:00, ?it/s]"
      ]
     },
     "metadata": {},
     "output_type": "display_data"
    },
    {
     "data": {
      "application/vnd.jupyter.widget-view+json": {
       "model_id": "",
       "version_major": 2,
       "version_minor": 0
      },
      "text/plain": [
       "Validating: 0it [00:00, ?it/s]"
      ]
     },
     "metadata": {},
     "output_type": "display_data"
    },
    {
     "data": {
      "application/vnd.jupyter.widget-view+json": {
       "model_id": "",
       "version_major": 2,
       "version_minor": 0
      },
      "text/plain": [
       "Validating: 0it [00:00, ?it/s]"
      ]
     },
     "metadata": {},
     "output_type": "display_data"
    },
    {
     "data": {
      "application/vnd.jupyter.widget-view+json": {
       "model_id": "",
       "version_major": 2,
       "version_minor": 0
      },
      "text/plain": [
       "Validating: 0it [00:00, ?it/s]"
      ]
     },
     "metadata": {},
     "output_type": "display_data"
    },
    {
     "data": {
      "application/vnd.jupyter.widget-view+json": {
       "model_id": "",
       "version_major": 2,
       "version_minor": 0
      },
      "text/plain": [
       "Validating: 0it [00:00, ?it/s]"
      ]
     },
     "metadata": {},
     "output_type": "display_data"
    },
    {
     "data": {
      "application/vnd.jupyter.widget-view+json": {
       "model_id": "",
       "version_major": 2,
       "version_minor": 0
      },
      "text/plain": [
       "Validating: 0it [00:00, ?it/s]"
      ]
     },
     "metadata": {},
     "output_type": "display_data"
    },
    {
     "data": {
      "application/vnd.jupyter.widget-view+json": {
       "model_id": "",
       "version_major": 2,
       "version_minor": 0
      },
      "text/plain": [
       "Validating: 0it [00:00, ?it/s]"
      ]
     },
     "metadata": {},
     "output_type": "display_data"
    },
    {
     "data": {
      "application/vnd.jupyter.widget-view+json": {
       "model_id": "",
       "version_major": 2,
       "version_minor": 0
      },
      "text/plain": [
       "Validating: 0it [00:00, ?it/s]"
      ]
     },
     "metadata": {},
     "output_type": "display_data"
    },
    {
     "data": {
      "application/vnd.jupyter.widget-view+json": {
       "model_id": "",
       "version_major": 2,
       "version_minor": 0
      },
      "text/plain": [
       "Validating: 0it [00:00, ?it/s]"
      ]
     },
     "metadata": {},
     "output_type": "display_data"
    },
    {
     "data": {
      "application/vnd.jupyter.widget-view+json": {
       "model_id": "",
       "version_major": 2,
       "version_minor": 0
      },
      "text/plain": [
       "Validating: 0it [00:00, ?it/s]"
      ]
     },
     "metadata": {},
     "output_type": "display_data"
    },
    {
     "data": {
      "application/vnd.jupyter.widget-view+json": {
       "model_id": "",
       "version_major": 2,
       "version_minor": 0
      },
      "text/plain": [
       "Validating: 0it [00:00, ?it/s]"
      ]
     },
     "metadata": {},
     "output_type": "display_data"
    },
    {
     "data": {
      "application/vnd.jupyter.widget-view+json": {
       "model_id": "",
       "version_major": 2,
       "version_minor": 0
      },
      "text/plain": [
       "Validating: 0it [00:00, ?it/s]"
      ]
     },
     "metadata": {},
     "output_type": "display_data"
    },
    {
     "data": {
      "application/vnd.jupyter.widget-view+json": {
       "model_id": "",
       "version_major": 2,
       "version_minor": 0
      },
      "text/plain": [
       "Validating: 0it [00:00, ?it/s]"
      ]
     },
     "metadata": {},
     "output_type": "display_data"
    },
    {
     "data": {
      "application/vnd.jupyter.widget-view+json": {
       "model_id": "",
       "version_major": 2,
       "version_minor": 0
      },
      "text/plain": [
       "Validating: 0it [00:00, ?it/s]"
      ]
     },
     "metadata": {},
     "output_type": "display_data"
    },
    {
     "data": {
      "application/vnd.jupyter.widget-view+json": {
       "model_id": "",
       "version_major": 2,
       "version_minor": 0
      },
      "text/plain": [
       "Validating: 0it [00:00, ?it/s]"
      ]
     },
     "metadata": {},
     "output_type": "display_data"
    },
    {
     "data": {
      "application/vnd.jupyter.widget-view+json": {
       "model_id": "",
       "version_major": 2,
       "version_minor": 0
      },
      "text/plain": [
       "Validating: 0it [00:00, ?it/s]"
      ]
     },
     "metadata": {},
     "output_type": "display_data"
    },
    {
     "data": {
      "application/vnd.jupyter.widget-view+json": {
       "model_id": "",
       "version_major": 2,
       "version_minor": 0
      },
      "text/plain": [
       "Validating: 0it [00:00, ?it/s]"
      ]
     },
     "metadata": {},
     "output_type": "display_data"
    },
    {
     "data": {
      "application/vnd.jupyter.widget-view+json": {
       "model_id": "",
       "version_major": 2,
       "version_minor": 0
      },
      "text/plain": [
       "Validating: 0it [00:00, ?it/s]"
      ]
     },
     "metadata": {},
     "output_type": "display_data"
    },
    {
     "data": {
      "application/vnd.jupyter.widget-view+json": {
       "model_id": "",
       "version_major": 2,
       "version_minor": 0
      },
      "text/plain": [
       "Validating: 0it [00:00, ?it/s]"
      ]
     },
     "metadata": {},
     "output_type": "display_data"
    },
    {
     "data": {
      "application/vnd.jupyter.widget-view+json": {
       "model_id": "",
       "version_major": 2,
       "version_minor": 0
      },
      "text/plain": [
       "Validating: 0it [00:00, ?it/s]"
      ]
     },
     "metadata": {},
     "output_type": "display_data"
    },
    {
     "data": {
      "application/vnd.jupyter.widget-view+json": {
       "model_id": "",
       "version_major": 2,
       "version_minor": 0
      },
      "text/plain": [
       "Validating: 0it [00:00, ?it/s]"
      ]
     },
     "metadata": {},
     "output_type": "display_data"
    },
    {
     "data": {
      "application/vnd.jupyter.widget-view+json": {
       "model_id": "",
       "version_major": 2,
       "version_minor": 0
      },
      "text/plain": [
       "Validating: 0it [00:00, ?it/s]"
      ]
     },
     "metadata": {},
     "output_type": "display_data"
    },
    {
     "data": {
      "application/vnd.jupyter.widget-view+json": {
       "model_id": "",
       "version_major": 2,
       "version_minor": 0
      },
      "text/plain": [
       "Validating: 0it [00:00, ?it/s]"
      ]
     },
     "metadata": {},
     "output_type": "display_data"
    },
    {
     "data": {
      "application/vnd.jupyter.widget-view+json": {
       "model_id": "",
       "version_major": 2,
       "version_minor": 0
      },
      "text/plain": [
       "Validating: 0it [00:00, ?it/s]"
      ]
     },
     "metadata": {},
     "output_type": "display_data"
    },
    {
     "data": {
      "application/vnd.jupyter.widget-view+json": {
       "model_id": "",
       "version_major": 2,
       "version_minor": 0
      },
      "text/plain": [
       "Validating: 0it [00:00, ?it/s]"
      ]
     },
     "metadata": {},
     "output_type": "display_data"
    },
    {
     "data": {
      "application/vnd.jupyter.widget-view+json": {
       "model_id": "",
       "version_major": 2,
       "version_minor": 0
      },
      "text/plain": [
       "Validating: 0it [00:00, ?it/s]"
      ]
     },
     "metadata": {},
     "output_type": "display_data"
    },
    {
     "data": {
      "application/vnd.jupyter.widget-view+json": {
       "model_id": "",
       "version_major": 2,
       "version_minor": 0
      },
      "text/plain": [
       "Validating: 0it [00:00, ?it/s]"
      ]
     },
     "metadata": {},
     "output_type": "display_data"
    },
    {
     "data": {
      "application/vnd.jupyter.widget-view+json": {
       "model_id": "",
       "version_major": 2,
       "version_minor": 0
      },
      "text/plain": [
       "Validating: 0it [00:00, ?it/s]"
      ]
     },
     "metadata": {},
     "output_type": "display_data"
    },
    {
     "data": {
      "application/vnd.jupyter.widget-view+json": {
       "model_id": "",
       "version_major": 2,
       "version_minor": 0
      },
      "text/plain": [
       "Validating: 0it [00:00, ?it/s]"
      ]
     },
     "metadata": {},
     "output_type": "display_data"
    },
    {
     "data": {
      "application/vnd.jupyter.widget-view+json": {
       "model_id": "",
       "version_major": 2,
       "version_minor": 0
      },
      "text/plain": [
       "Validating: 0it [00:00, ?it/s]"
      ]
     },
     "metadata": {},
     "output_type": "display_data"
    },
    {
     "data": {
      "application/vnd.jupyter.widget-view+json": {
       "model_id": "",
       "version_major": 2,
       "version_minor": 0
      },
      "text/plain": [
       "Validating: 0it [00:00, ?it/s]"
      ]
     },
     "metadata": {},
     "output_type": "display_data"
    },
    {
     "data": {
      "application/vnd.jupyter.widget-view+json": {
       "model_id": "",
       "version_major": 2,
       "version_minor": 0
      },
      "text/plain": [
       "Validating: 0it [00:00, ?it/s]"
      ]
     },
     "metadata": {},
     "output_type": "display_data"
    },
    {
     "data": {
      "application/vnd.jupyter.widget-view+json": {
       "model_id": "",
       "version_major": 2,
       "version_minor": 0
      },
      "text/plain": [
       "Validating: 0it [00:00, ?it/s]"
      ]
     },
     "metadata": {},
     "output_type": "display_data"
    },
    {
     "data": {
      "application/vnd.jupyter.widget-view+json": {
       "model_id": "",
       "version_major": 2,
       "version_minor": 0
      },
      "text/plain": [
       "Validating: 0it [00:00, ?it/s]"
      ]
     },
     "metadata": {},
     "output_type": "display_data"
    },
    {
     "data": {
      "application/vnd.jupyter.widget-view+json": {
       "model_id": "",
       "version_major": 2,
       "version_minor": 0
      },
      "text/plain": [
       "Validating: 0it [00:00, ?it/s]"
      ]
     },
     "metadata": {},
     "output_type": "display_data"
    },
    {
     "data": {
      "application/vnd.jupyter.widget-view+json": {
       "model_id": "",
       "version_major": 2,
       "version_minor": 0
      },
      "text/plain": [
       "Validating: 0it [00:00, ?it/s]"
      ]
     },
     "metadata": {},
     "output_type": "display_data"
    },
    {
     "data": {
      "application/vnd.jupyter.widget-view+json": {
       "model_id": "",
       "version_major": 2,
       "version_minor": 0
      },
      "text/plain": [
       "Validating: 0it [00:00, ?it/s]"
      ]
     },
     "metadata": {},
     "output_type": "display_data"
    },
    {
     "data": {
      "application/vnd.jupyter.widget-view+json": {
       "model_id": "",
       "version_major": 2,
       "version_minor": 0
      },
      "text/plain": [
       "Validating: 0it [00:00, ?it/s]"
      ]
     },
     "metadata": {},
     "output_type": "display_data"
    },
    {
     "data": {
      "application/vnd.jupyter.widget-view+json": {
       "model_id": "",
       "version_major": 2,
       "version_minor": 0
      },
      "text/plain": [
       "Validating: 0it [00:00, ?it/s]"
      ]
     },
     "metadata": {},
     "output_type": "display_data"
    },
    {
     "data": {
      "application/vnd.jupyter.widget-view+json": {
       "model_id": "",
       "version_major": 2,
       "version_minor": 0
      },
      "text/plain": [
       "Validating: 0it [00:00, ?it/s]"
      ]
     },
     "metadata": {},
     "output_type": "display_data"
    },
    {
     "data": {
      "application/vnd.jupyter.widget-view+json": {
       "model_id": "",
       "version_major": 2,
       "version_minor": 0
      },
      "text/plain": [
       "Validating: 0it [00:00, ?it/s]"
      ]
     },
     "metadata": {},
     "output_type": "display_data"
    },
    {
     "data": {
      "application/vnd.jupyter.widget-view+json": {
       "model_id": "",
       "version_major": 2,
       "version_minor": 0
      },
      "text/plain": [
       "Validating: 0it [00:00, ?it/s]"
      ]
     },
     "metadata": {},
     "output_type": "display_data"
    },
    {
     "data": {
      "application/vnd.jupyter.widget-view+json": {
       "model_id": "",
       "version_major": 2,
       "version_minor": 0
      },
      "text/plain": [
       "Validating: 0it [00:00, ?it/s]"
      ]
     },
     "metadata": {},
     "output_type": "display_data"
    },
    {
     "data": {
      "application/vnd.jupyter.widget-view+json": {
       "model_id": "",
       "version_major": 2,
       "version_minor": 0
      },
      "text/plain": [
       "Validating: 0it [00:00, ?it/s]"
      ]
     },
     "metadata": {},
     "output_type": "display_data"
    },
    {
     "data": {
      "application/vnd.jupyter.widget-view+json": {
       "model_id": "",
       "version_major": 2,
       "version_minor": 0
      },
      "text/plain": [
       "Validating: 0it [00:00, ?it/s]"
      ]
     },
     "metadata": {},
     "output_type": "display_data"
    },
    {
     "data": {
      "application/vnd.jupyter.widget-view+json": {
       "model_id": "",
       "version_major": 2,
       "version_minor": 0
      },
      "text/plain": [
       "Validating: 0it [00:00, ?it/s]"
      ]
     },
     "metadata": {},
     "output_type": "display_data"
    },
    {
     "name": "stderr",
     "output_type": "stream",
     "text": [
      "Epoch 3000, global step 291096: train_loss_ssl was not in top 5\n"
     ]
    },
    {
     "name": "stdout",
     "output_type": "stream",
     "text": [
      "[1.0979354, 0.73298025, 0.5943247, 0.5201256, 0.47338232, 0.44068217, 0.41678634, 0.39874253, 0.38361573, 0.3713445, 0.3611299, 0.35190663, 0.34427562, 0.33745602, 0.33141768, 0.325974, 0.32106307, 0.31661698, 0.3125279, 0.30867705, 0.30524954, 0.30186403, 0.29885274, 0.29590496, 0.29325986, 0.29071814, 0.2881616, 0.28592587, 0.2837138, 0.28162882, 0.2796103, 0.27771598, 0.2758793, 0.27411047, 0.2724421, 0.27083424, 0.269256, 0.26773906, 0.266338, 0.26492855, 0.26360735, 0.26222062, 0.26090747, 0.25966802, 0.258513, 0.2574088, 0.25628924, 0.25519964, 0.25414208, 0.25313953, 0.2521674, 0.25119928, 0.2503316, 0.24942796, 0.24854916, 0.24769999, 0.24690984, 0.24617553, 0.24544938, 0.24468957]\n",
      "[0.5945768, 0.6809809, 0.7256998, 0.7533838, 0.77252686, 0.78669477, 0.79753447, 0.80626047, 0.81340545, 0.81939167, 0.8245007, 0.8289243, 0.8327958, 0.8362214, 0.83927804, 0.8420287, 0.84452116, 0.84677863, 0.8488372, 0.85072744, 0.85247815, 0.854098, 0.85559744, 0.85699797, 0.8583053, 0.8595323, 0.86068374, 0.8617709, 0.86280197, 0.86377746, 0.86470044, 0.86557835, 0.8664129, 0.8672093, 0.8679679, 0.8686921, 0.8693852, 0.87004685, 0.87068033, 0.8712872, 0.87187034, 0.87243044, 0.87296855, 0.873487, 0.873986, 0.87446696, 0.874931, 0.875379, 0.87581205, 0.87623084, 0.8766359, 0.87702817, 0.8774083, 0.8777768, 0.87813437, 0.8784815, 0.87881845, 0.87914574, 0.87946385, 0.87977326]\n",
      "-----\n"
     ]
    },
    {
     "name": "stderr",
     "output_type": "stream",
     "text": [
      "Epoch 3001, global step 291193: train_loss_ssl reached 1.45632 (best 1.45108), saving model to \"/home/shatz/Documents/more_better/saved_models/resnet_moco/epoch=3001-train_loss_ssl=1.46.ckpt\" as top 5\n",
      "Epoch 3002, global step 291290: train_loss_ssl was not in top 5\n",
      "Epoch 3003, global step 291387: train_loss_ssl was not in top 5\n",
      "Epoch 3004, global step 291484: train_loss_ssl was not in top 5\n",
      "Epoch 3005, global step 291581: train_loss_ssl was not in top 5\n",
      "Epoch 3006, global step 291678: train_loss_ssl was not in top 5\n",
      "Epoch 3007, global step 291775: train_loss_ssl reached 1.45087 (best 1.45087), saving model to \"/home/shatz/Documents/more_better/saved_models/resnet_moco/epoch=3007-train_loss_ssl=1.45.ckpt\" as top 5\n",
      "Epoch 3008, global step 291872: train_loss_ssl was not in top 5\n",
      "Epoch 3009, global step 291969: train_loss_ssl was not in top 5\n",
      "Epoch 3010, global step 292066: train_loss_ssl was not in top 5\n",
      "Epoch 3011, global step 292163: train_loss_ssl reached 1.50054 (best 1.45087), saving model to \"/home/shatz/Documents/more_better/saved_models/resnet_moco/epoch=3011-train_loss_ssl=1.50.ckpt\" as top 5\n",
      "Epoch 3012, global step 292260: train_loss_ssl reached 1.49365 (best 1.45087), saving model to \"/home/shatz/Documents/more_better/saved_models/resnet_moco/epoch=3012-train_loss_ssl=1.49.ckpt\" as top 5\n",
      "Epoch 3013, global step 292357: train_loss_ssl was not in top 5\n",
      "Epoch 3014, global step 292454: train_loss_ssl was not in top 5\n",
      "Epoch 3015, global step 292551: train_loss_ssl was not in top 5\n",
      "Epoch 3016, global step 292648: train_loss_ssl was not in top 5\n",
      "Epoch 3017, global step 292745: train_loss_ssl was not in top 5\n",
      "Epoch 3018, global step 292842: train_loss_ssl was not in top 5\n",
      "Epoch 3019, global step 292939: train_loss_ssl was not in top 5\n",
      "Epoch 3020, global step 293036: train_loss_ssl was not in top 5\n",
      "Epoch 3021, global step 293133: train_loss_ssl was not in top 5\n",
      "Epoch 3022, global step 293230: train_loss_ssl reached 1.44374 (best 1.44374), saving model to \"/home/shatz/Documents/more_better/saved_models/resnet_moco/epoch=3022-train_loss_ssl=1.44.ckpt\" as top 5\n",
      "Epoch 3023, global step 293327: train_loss_ssl reached 1.38758 (best 1.38758), saving model to \"/home/shatz/Documents/more_better/saved_models/resnet_moco/epoch=3023-train_loss_ssl=1.39.ckpt\" as top 5\n",
      "Epoch 3024, global step 293424: train_loss_ssl was not in top 5\n",
      "Epoch 3025, global step 293521: train_loss_ssl was not in top 5\n",
      "Epoch 3026, global step 293618: train_loss_ssl reached 1.44934 (best 1.38758), saving model to \"/home/shatz/Documents/more_better/saved_models/resnet_moco/epoch=3026-train_loss_ssl=1.45.ckpt\" as top 5\n",
      "Epoch 3027, global step 293715: train_loss_ssl was not in top 5\n",
      "Epoch 3028, global step 293812: train_loss_ssl was not in top 5\n",
      "Epoch 3029, global step 293909: train_loss_ssl was not in top 5\n",
      "Epoch 3030, global step 294006: train_loss_ssl was not in top 5\n",
      "Epoch 3031, global step 294103: train_loss_ssl was not in top 5\n",
      "Epoch 3032, global step 294200: train_loss_ssl reached 1.43086 (best 1.38758), saving model to \"/home/shatz/Documents/more_better/saved_models/resnet_moco/epoch=3032-train_loss_ssl=1.43.ckpt\" as top 5\n",
      "Epoch 3033, global step 294297: train_loss_ssl was not in top 5\n",
      "Epoch 3034, global step 294394: train_loss_ssl was not in top 5\n",
      "Epoch 3035, global step 294491: train_loss_ssl was not in top 5\n",
      "Epoch 3036, global step 294588: train_loss_ssl was not in top 5\n",
      "Epoch 3037, global step 294685: train_loss_ssl was not in top 5\n",
      "Epoch 3038, global step 294782: train_loss_ssl was not in top 5\n",
      "Epoch 3039, global step 294879: train_loss_ssl was not in top 5\n",
      "Epoch 3040, global step 294976: train_loss_ssl was not in top 5\n",
      "Epoch 3041, global step 295073: train_loss_ssl was not in top 5\n",
      "Epoch 3042, global step 295170: train_loss_ssl was not in top 5\n",
      "Epoch 3043, global step 295267: train_loss_ssl was not in top 5\n",
      "Epoch 3044, global step 295364: train_loss_ssl was not in top 5\n",
      "Epoch 3045, global step 295461: train_loss_ssl was not in top 5\n",
      "Epoch 3046, global step 295558: train_loss_ssl was not in top 5\n",
      "Epoch 3047, global step 295655: train_loss_ssl was not in top 5\n",
      "Epoch 3048, global step 295752: train_loss_ssl was not in top 5\n",
      "Epoch 3049, global step 295849: train_loss_ssl was not in top 5\n",
      "Epoch 3050, global step 295946: train_loss_ssl was not in top 5\n",
      "Epoch 3051, global step 296043: train_loss_ssl was not in top 5\n",
      "Epoch 3052, global step 296140: train_loss_ssl was not in top 5\n",
      "Epoch 3053, global step 296237: train_loss_ssl was not in top 5\n",
      "Epoch 3054, global step 296334: train_loss_ssl was not in top 5\n",
      "Epoch 3055, global step 296431: train_loss_ssl was not in top 5\n",
      "Epoch 3056, global step 296528: train_loss_ssl was not in top 5\n",
      "Epoch 3057, global step 296625: train_loss_ssl reached 1.44802 (best 1.38758), saving model to \"/home/shatz/Documents/more_better/saved_models/resnet_moco/epoch=3057-train_loss_ssl=1.45.ckpt\" as top 5\n",
      "Epoch 3058, global step 296722: train_loss_ssl was not in top 5\n",
      "Epoch 3059, global step 296819: train_loss_ssl was not in top 5\n",
      "Epoch 3060, global step 296916: train_loss_ssl was not in top 5\n",
      "Epoch 3061, global step 297013: train_loss_ssl was not in top 5\n",
      "Epoch 3062, global step 297110: train_loss_ssl was not in top 5\n",
      "Epoch 3063, global step 297207: train_loss_ssl was not in top 5\n",
      "Epoch 3064, global step 297304: train_loss_ssl was not in top 5\n",
      "Epoch 3065, global step 297401: train_loss_ssl was not in top 5\n",
      "Epoch 3066, global step 297498: train_loss_ssl was not in top 5\n",
      "Epoch 3067, global step 297595: train_loss_ssl was not in top 5\n",
      "Epoch 3068, global step 297692: train_loss_ssl was not in top 5\n",
      "Epoch 3069, global step 297789: train_loss_ssl was not in top 5\n",
      "Epoch 3070, global step 297886: train_loss_ssl was not in top 5\n",
      "Epoch 3071, global step 297983: train_loss_ssl was not in top 5\n",
      "Epoch 3072, global step 298080: train_loss_ssl was not in top 5\n",
      "Epoch 3073, global step 298177: train_loss_ssl was not in top 5\n",
      "Epoch 3074, global step 298274: train_loss_ssl was not in top 5\n",
      "Epoch 3075, global step 298371: train_loss_ssl was not in top 5\n"
     ]
    }
   ],
   "source": [
    "trainer.fit(model, dataloader_train_moco)"
   ]
  },
  {
   "cell_type": "code",
   "execution_count": null,
   "id": "b561000a",
   "metadata": {},
   "outputs": [],
   "source": []
  },
  {
   "cell_type": "code",
   "execution_count": 14,
   "id": "5499620c",
   "metadata": {
    "scrolled": true
   },
   "outputs": [
    {
     "name": "stderr",
     "output_type": "stream",
     "text": [
      "GPU available: True, used: True\n",
      "TPU available: False, using: 0 TPU cores\n",
      "LOCAL_RANK: 0 - CUDA_VISIBLE_DEVICES: [0]\n",
      "\n",
      "  | Name        | Type       | Params\n",
      "-------------------------------------------\n",
      "0 | resnet_moco | MoCo       | 23.0 M\n",
      "1 | criterion   | NTXentLoss | 0     \n",
      "-------------------------------------------\n",
      "11.5 M    Trainable params\n",
      "11.5 M    Non-trainable params\n",
      "23.0 M    Total params\n",
      "91.977    Total estimated model params size (MB)\n"
     ]
    },
    {
     "data": {
      "application/vnd.jupyter.widget-view+json": {
       "model_id": "6f37b306426d462aacdad30a07538abf",
       "version_major": 2,
       "version_minor": 0
      },
      "text/plain": [
       "Training: 0it [00:00, ?it/s]"
      ]
     },
     "metadata": {},
     "output_type": "display_data"
    },
    {
     "name": "stderr",
     "output_type": "stream",
     "text": [
      "/home/shatz/miniconda3/envs/morebetter2/lib/python3.8/site-packages/deprecate/deprecation.py:115: LightningDeprecationWarning: The `Accuracy` was deprecated since v1.3.0 in favor of `torchmetrics.classification.accuracy.Accuracy`. It will be removed in v1.5.0.\n",
      "  stream(template_mgs % msg_args)\n",
      "GPU available: True, used: True\n",
      "TPU available: False, using: 0 TPU cores\n",
      "LOCAL_RANK: 0 - CUDA_VISIBLE_DEVICES: [0]\n",
      "\n",
      "  | Name        | Type       | Params\n",
      "-------------------------------------------\n",
      "0 | resnet_moco | MoCo       | 23.0 M\n",
      "1 | fc          | Sequential | 267 K \n",
      "2 | accuracy    | Accuracy   | 0     \n",
      "-------------------------------------------\n",
      "267 K     Trainable params\n",
      "23.0 M    Non-trainable params\n",
      "23.3 M    Total params\n",
      "93.048    Total estimated model params size (MB)\n"
     ]
    },
    {
     "name": "stdout",
     "output_type": "stream",
     "text": [
      "... training downstream classifier...\n"
     ]
    },
    {
     "data": {
      "application/vnd.jupyter.widget-view+json": {
       "model_id": "",
       "version_major": 2,
       "version_minor": 0
      },
      "text/plain": [
       "Validation sanity check: 0it [00:00, ?it/s]"
      ]
     },
     "metadata": {},
     "output_type": "display_data"
    },
    {
     "name": "stderr",
     "output_type": "stream",
     "text": [
      "/home/shatz/miniconda3/envs/morebetter2/lib/python3.8/site-packages/numpy/core/fromnumeric.py:3419: RuntimeWarning: Mean of empty slice.\n",
      "  return _methods._mean(a, axis=axis, dtype=dtype,\n",
      "/home/shatz/miniconda3/envs/morebetter2/lib/python3.8/site-packages/numpy/core/_methods.py:188: RuntimeWarning: invalid value encountered in double_scalars\n",
      "  ret = ret.dtype.type(ret / rcount)\n"
     ]
    },
    {
     "data": {
      "application/vnd.jupyter.widget-view+json": {
       "model_id": "08a93afb935b4b4c8fa151ee6bb44a32",
       "version_major": 2,
       "version_minor": 0
      },
      "text/plain": [
       "Training: 0it [00:00, ?it/s]"
      ]
     },
     "metadata": {},
     "output_type": "display_data"
    },
    {
     "data": {
      "application/vnd.jupyter.widget-view+json": {
       "model_id": "",
       "version_major": 2,
       "version_minor": 0
      },
      "text/plain": [
       "Validating: 0it [00:00, ?it/s]"
      ]
     },
     "metadata": {},
     "output_type": "display_data"
    },
    {
     "data": {
      "application/vnd.jupyter.widget-view+json": {
       "model_id": "",
       "version_major": 2,
       "version_minor": 0
      },
      "text/plain": [
       "Validating: 0it [00:00, ?it/s]"
      ]
     },
     "metadata": {},
     "output_type": "display_data"
    },
    {
     "data": {
      "application/vnd.jupyter.widget-view+json": {
       "model_id": "",
       "version_major": 2,
       "version_minor": 0
      },
      "text/plain": [
       "Validating: 0it [00:00, ?it/s]"
      ]
     },
     "metadata": {},
     "output_type": "display_data"
    },
    {
     "data": {
      "application/vnd.jupyter.widget-view+json": {
       "model_id": "",
       "version_major": 2,
       "version_minor": 0
      },
      "text/plain": [
       "Validating: 0it [00:00, ?it/s]"
      ]
     },
     "metadata": {},
     "output_type": "display_data"
    },
    {
     "data": {
      "application/vnd.jupyter.widget-view+json": {
       "model_id": "",
       "version_major": 2,
       "version_minor": 0
      },
      "text/plain": [
       "Validating: 0it [00:00, ?it/s]"
      ]
     },
     "metadata": {},
     "output_type": "display_data"
    },
    {
     "data": {
      "application/vnd.jupyter.widget-view+json": {
       "model_id": "",
       "version_major": 2,
       "version_minor": 0
      },
      "text/plain": [
       "Validating: 0it [00:00, ?it/s]"
      ]
     },
     "metadata": {},
     "output_type": "display_data"
    },
    {
     "data": {
      "application/vnd.jupyter.widget-view+json": {
       "model_id": "",
       "version_major": 2,
       "version_minor": 0
      },
      "text/plain": [
       "Validating: 0it [00:00, ?it/s]"
      ]
     },
     "metadata": {},
     "output_type": "display_data"
    },
    {
     "data": {
      "application/vnd.jupyter.widget-view+json": {
       "model_id": "",
       "version_major": 2,
       "version_minor": 0
      },
      "text/plain": [
       "Validating: 0it [00:00, ?it/s]"
      ]
     },
     "metadata": {},
     "output_type": "display_data"
    },
    {
     "data": {
      "application/vnd.jupyter.widget-view+json": {
       "model_id": "",
       "version_major": 2,
       "version_minor": 0
      },
      "text/plain": [
       "Validating: 0it [00:00, ?it/s]"
      ]
     },
     "metadata": {},
     "output_type": "display_data"
    },
    {
     "data": {
      "application/vnd.jupyter.widget-view+json": {
       "model_id": "",
       "version_major": 2,
       "version_minor": 0
      },
      "text/plain": [
       "Validating: 0it [00:00, ?it/s]"
      ]
     },
     "metadata": {},
     "output_type": "display_data"
    },
    {
     "data": {
      "application/vnd.jupyter.widget-view+json": {
       "model_id": "",
       "version_major": 2,
       "version_minor": 0
      },
      "text/plain": [
       "Validating: 0it [00:00, ?it/s]"
      ]
     },
     "metadata": {},
     "output_type": "display_data"
    },
    {
     "data": {
      "application/vnd.jupyter.widget-view+json": {
       "model_id": "",
       "version_major": 2,
       "version_minor": 0
      },
      "text/plain": [
       "Validating: 0it [00:00, ?it/s]"
      ]
     },
     "metadata": {},
     "output_type": "display_data"
    },
    {
     "data": {
      "application/vnd.jupyter.widget-view+json": {
       "model_id": "",
       "version_major": 2,
       "version_minor": 0
      },
      "text/plain": [
       "Validating: 0it [00:00, ?it/s]"
      ]
     },
     "metadata": {},
     "output_type": "display_data"
    },
    {
     "data": {
      "application/vnd.jupyter.widget-view+json": {
       "model_id": "",
       "version_major": 2,
       "version_minor": 0
      },
      "text/plain": [
       "Validating: 0it [00:00, ?it/s]"
      ]
     },
     "metadata": {},
     "output_type": "display_data"
    },
    {
     "data": {
      "application/vnd.jupyter.widget-view+json": {
       "model_id": "",
       "version_major": 2,
       "version_minor": 0
      },
      "text/plain": [
       "Validating: 0it [00:00, ?it/s]"
      ]
     },
     "metadata": {},
     "output_type": "display_data"
    },
    {
     "data": {
      "application/vnd.jupyter.widget-view+json": {
       "model_id": "",
       "version_major": 2,
       "version_minor": 0
      },
      "text/plain": [
       "Validating: 0it [00:00, ?it/s]"
      ]
     },
     "metadata": {},
     "output_type": "display_data"
    },
    {
     "data": {
      "application/vnd.jupyter.widget-view+json": {
       "model_id": "",
       "version_major": 2,
       "version_minor": 0
      },
      "text/plain": [
       "Validating: 0it [00:00, ?it/s]"
      ]
     },
     "metadata": {},
     "output_type": "display_data"
    },
    {
     "data": {
      "application/vnd.jupyter.widget-view+json": {
       "model_id": "",
       "version_major": 2,
       "version_minor": 0
      },
      "text/plain": [
       "Validating: 0it [00:00, ?it/s]"
      ]
     },
     "metadata": {},
     "output_type": "display_data"
    },
    {
     "data": {
      "application/vnd.jupyter.widget-view+json": {
       "model_id": "",
       "version_major": 2,
       "version_minor": 0
      },
      "text/plain": [
       "Validating: 0it [00:00, ?it/s]"
      ]
     },
     "metadata": {},
     "output_type": "display_data"
    },
    {
     "data": {
      "application/vnd.jupyter.widget-view+json": {
       "model_id": "",
       "version_major": 2,
       "version_minor": 0
      },
      "text/plain": [
       "Validating: 0it [00:00, ?it/s]"
      ]
     },
     "metadata": {},
     "output_type": "display_data"
    },
    {
     "data": {
      "application/vnd.jupyter.widget-view+json": {
       "model_id": "",
       "version_major": 2,
       "version_minor": 0
      },
      "text/plain": [
       "Validating: 0it [00:00, ?it/s]"
      ]
     },
     "metadata": {},
     "output_type": "display_data"
    },
    {
     "data": {
      "application/vnd.jupyter.widget-view+json": {
       "model_id": "",
       "version_major": 2,
       "version_minor": 0
      },
      "text/plain": [
       "Validating: 0it [00:00, ?it/s]"
      ]
     },
     "metadata": {},
     "output_type": "display_data"
    },
    {
     "data": {
      "application/vnd.jupyter.widget-view+json": {
       "model_id": "",
       "version_major": 2,
       "version_minor": 0
      },
      "text/plain": [
       "Validating: 0it [00:00, ?it/s]"
      ]
     },
     "metadata": {},
     "output_type": "display_data"
    },
    {
     "data": {
      "application/vnd.jupyter.widget-view+json": {
       "model_id": "",
       "version_major": 2,
       "version_minor": 0
      },
      "text/plain": [
       "Validating: 0it [00:00, ?it/s]"
      ]
     },
     "metadata": {},
     "output_type": "display_data"
    },
    {
     "data": {
      "application/vnd.jupyter.widget-view+json": {
       "model_id": "",
       "version_major": 2,
       "version_minor": 0
      },
      "text/plain": [
       "Validating: 0it [00:00, ?it/s]"
      ]
     },
     "metadata": {},
     "output_type": "display_data"
    },
    {
     "data": {
      "application/vnd.jupyter.widget-view+json": {
       "model_id": "",
       "version_major": 2,
       "version_minor": 0
      },
      "text/plain": [
       "Validating: 0it [00:00, ?it/s]"
      ]
     },
     "metadata": {},
     "output_type": "display_data"
    },
    {
     "data": {
      "application/vnd.jupyter.widget-view+json": {
       "model_id": "",
       "version_major": 2,
       "version_minor": 0
      },
      "text/plain": [
       "Validating: 0it [00:00, ?it/s]"
      ]
     },
     "metadata": {},
     "output_type": "display_data"
    },
    {
     "data": {
      "application/vnd.jupyter.widget-view+json": {
       "model_id": "",
       "version_major": 2,
       "version_minor": 0
      },
      "text/plain": [
       "Validating: 0it [00:00, ?it/s]"
      ]
     },
     "metadata": {},
     "output_type": "display_data"
    },
    {
     "data": {
      "application/vnd.jupyter.widget-view+json": {
       "model_id": "",
       "version_major": 2,
       "version_minor": 0
      },
      "text/plain": [
       "Validating: 0it [00:00, ?it/s]"
      ]
     },
     "metadata": {},
     "output_type": "display_data"
    },
    {
     "data": {
      "application/vnd.jupyter.widget-view+json": {
       "model_id": "",
       "version_major": 2,
       "version_minor": 0
      },
      "text/plain": [
       "Validating: 0it [00:00, ?it/s]"
      ]
     },
     "metadata": {},
     "output_type": "display_data"
    },
    {
     "data": {
      "application/vnd.jupyter.widget-view+json": {
       "model_id": "",
       "version_major": 2,
       "version_minor": 0
      },
      "text/plain": [
       "Validating: 0it [00:00, ?it/s]"
      ]
     },
     "metadata": {},
     "output_type": "display_data"
    },
    {
     "data": {
      "application/vnd.jupyter.widget-view+json": {
       "model_id": "",
       "version_major": 2,
       "version_minor": 0
      },
      "text/plain": [
       "Validating: 0it [00:00, ?it/s]"
      ]
     },
     "metadata": {},
     "output_type": "display_data"
    },
    {
     "data": {
      "application/vnd.jupyter.widget-view+json": {
       "model_id": "",
       "version_major": 2,
       "version_minor": 0
      },
      "text/plain": [
       "Validating: 0it [00:00, ?it/s]"
      ]
     },
     "metadata": {},
     "output_type": "display_data"
    },
    {
     "data": {
      "application/vnd.jupyter.widget-view+json": {
       "model_id": "",
       "version_major": 2,
       "version_minor": 0
      },
      "text/plain": [
       "Validating: 0it [00:00, ?it/s]"
      ]
     },
     "metadata": {},
     "output_type": "display_data"
    },
    {
     "data": {
      "application/vnd.jupyter.widget-view+json": {
       "model_id": "",
       "version_major": 2,
       "version_minor": 0
      },
      "text/plain": [
       "Validating: 0it [00:00, ?it/s]"
      ]
     },
     "metadata": {},
     "output_type": "display_data"
    },
    {
     "data": {
      "application/vnd.jupyter.widget-view+json": {
       "model_id": "",
       "version_major": 2,
       "version_minor": 0
      },
      "text/plain": [
       "Validating: 0it [00:00, ?it/s]"
      ]
     },
     "metadata": {},
     "output_type": "display_data"
    },
    {
     "data": {
      "application/vnd.jupyter.widget-view+json": {
       "model_id": "",
       "version_major": 2,
       "version_minor": 0
      },
      "text/plain": [
       "Validating: 0it [00:00, ?it/s]"
      ]
     },
     "metadata": {},
     "output_type": "display_data"
    },
    {
     "data": {
      "application/vnd.jupyter.widget-view+json": {
       "model_id": "",
       "version_major": 2,
       "version_minor": 0
      },
      "text/plain": [
       "Validating: 0it [00:00, ?it/s]"
      ]
     },
     "metadata": {},
     "output_type": "display_data"
    },
    {
     "data": {
      "application/vnd.jupyter.widget-view+json": {
       "model_id": "",
       "version_major": 2,
       "version_minor": 0
      },
      "text/plain": [
       "Validating: 0it [00:00, ?it/s]"
      ]
     },
     "metadata": {},
     "output_type": "display_data"
    },
    {
     "data": {
      "application/vnd.jupyter.widget-view+json": {
       "model_id": "",
       "version_major": 2,
       "version_minor": 0
      },
      "text/plain": [
       "Validating: 0it [00:00, ?it/s]"
      ]
     },
     "metadata": {},
     "output_type": "display_data"
    },
    {
     "data": {
      "application/vnd.jupyter.widget-view+json": {
       "model_id": "",
       "version_major": 2,
       "version_minor": 0
      },
      "text/plain": [
       "Validating: 0it [00:00, ?it/s]"
      ]
     },
     "metadata": {},
     "output_type": "display_data"
    },
    {
     "data": {
      "application/vnd.jupyter.widget-view+json": {
       "model_id": "",
       "version_major": 2,
       "version_minor": 0
      },
      "text/plain": [
       "Validating: 0it [00:00, ?it/s]"
      ]
     },
     "metadata": {},
     "output_type": "display_data"
    },
    {
     "data": {
      "application/vnd.jupyter.widget-view+json": {
       "model_id": "",
       "version_major": 2,
       "version_minor": 0
      },
      "text/plain": [
       "Validating: 0it [00:00, ?it/s]"
      ]
     },
     "metadata": {},
     "output_type": "display_data"
    },
    {
     "data": {
      "application/vnd.jupyter.widget-view+json": {
       "model_id": "",
       "version_major": 2,
       "version_minor": 0
      },
      "text/plain": [
       "Validating: 0it [00:00, ?it/s]"
      ]
     },
     "metadata": {},
     "output_type": "display_data"
    },
    {
     "data": {
      "application/vnd.jupyter.widget-view+json": {
       "model_id": "",
       "version_major": 2,
       "version_minor": 0
      },
      "text/plain": [
       "Validating: 0it [00:00, ?it/s]"
      ]
     },
     "metadata": {},
     "output_type": "display_data"
    },
    {
     "data": {
      "application/vnd.jupyter.widget-view+json": {
       "model_id": "",
       "version_major": 2,
       "version_minor": 0
      },
      "text/plain": [
       "Validating: 0it [00:00, ?it/s]"
      ]
     },
     "metadata": {},
     "output_type": "display_data"
    },
    {
     "data": {
      "application/vnd.jupyter.widget-view+json": {
       "model_id": "",
       "version_major": 2,
       "version_minor": 0
      },
      "text/plain": [
       "Validating: 0it [00:00, ?it/s]"
      ]
     },
     "metadata": {},
     "output_type": "display_data"
    },
    {
     "data": {
      "application/vnd.jupyter.widget-view+json": {
       "model_id": "",
       "version_major": 2,
       "version_minor": 0
      },
      "text/plain": [
       "Validating: 0it [00:00, ?it/s]"
      ]
     },
     "metadata": {},
     "output_type": "display_data"
    },
    {
     "data": {
      "application/vnd.jupyter.widget-view+json": {
       "model_id": "",
       "version_major": 2,
       "version_minor": 0
      },
      "text/plain": [
       "Validating: 0it [00:00, ?it/s]"
      ]
     },
     "metadata": {},
     "output_type": "display_data"
    },
    {
     "data": {
      "application/vnd.jupyter.widget-view+json": {
       "model_id": "",
       "version_major": 2,
       "version_minor": 0
      },
      "text/plain": [
       "Validating: 0it [00:00, ?it/s]"
      ]
     },
     "metadata": {},
     "output_type": "display_data"
    },
    {
     "data": {
      "application/vnd.jupyter.widget-view+json": {
       "model_id": "",
       "version_major": 2,
       "version_minor": 0
      },
      "text/plain": [
       "Validating: 0it [00:00, ?it/s]"
      ]
     },
     "metadata": {},
     "output_type": "display_data"
    },
    {
     "data": {
      "application/vnd.jupyter.widget-view+json": {
       "model_id": "",
       "version_major": 2,
       "version_minor": 0
      },
      "text/plain": [
       "Validating: 0it [00:00, ?it/s]"
      ]
     },
     "metadata": {},
     "output_type": "display_data"
    },
    {
     "data": {
      "application/vnd.jupyter.widget-view+json": {
       "model_id": "",
       "version_major": 2,
       "version_minor": 0
      },
      "text/plain": [
       "Validating: 0it [00:00, ?it/s]"
      ]
     },
     "metadata": {},
     "output_type": "display_data"
    },
    {
     "data": {
      "application/vnd.jupyter.widget-view+json": {
       "model_id": "",
       "version_major": 2,
       "version_minor": 0
      },
      "text/plain": [
       "Validating: 0it [00:00, ?it/s]"
      ]
     },
     "metadata": {},
     "output_type": "display_data"
    },
    {
     "data": {
      "application/vnd.jupyter.widget-view+json": {
       "model_id": "",
       "version_major": 2,
       "version_minor": 0
      },
      "text/plain": [
       "Validating: 0it [00:00, ?it/s]"
      ]
     },
     "metadata": {},
     "output_type": "display_data"
    },
    {
     "data": {
      "application/vnd.jupyter.widget-view+json": {
       "model_id": "",
       "version_major": 2,
       "version_minor": 0
      },
      "text/plain": [
       "Validating: 0it [00:00, ?it/s]"
      ]
     },
     "metadata": {},
     "output_type": "display_data"
    },
    {
     "data": {
      "application/vnd.jupyter.widget-view+json": {
       "model_id": "",
       "version_major": 2,
       "version_minor": 0
      },
      "text/plain": [
       "Validating: 0it [00:00, ?it/s]"
      ]
     },
     "metadata": {},
     "output_type": "display_data"
    },
    {
     "data": {
      "application/vnd.jupyter.widget-view+json": {
       "model_id": "",
       "version_major": 2,
       "version_minor": 0
      },
      "text/plain": [
       "Validating: 0it [00:00, ?it/s]"
      ]
     },
     "metadata": {},
     "output_type": "display_data"
    },
    {
     "data": {
      "application/vnd.jupyter.widget-view+json": {
       "model_id": "",
       "version_major": 2,
       "version_minor": 0
      },
      "text/plain": [
       "Validating: 0it [00:00, ?it/s]"
      ]
     },
     "metadata": {},
     "output_type": "display_data"
    },
    {
     "data": {
      "application/vnd.jupyter.widget-view+json": {
       "model_id": "",
       "version_major": 2,
       "version_minor": 0
      },
      "text/plain": [
       "Validating: 0it [00:00, ?it/s]"
      ]
     },
     "metadata": {},
     "output_type": "display_data"
    },
    {
     "name": "stderr",
     "output_type": "stream",
     "text": [
      "Epoch 0, global step 96: train_loss_ssl reached 7.02934 (best 7.02934), saving model to \"/home/shatz/Documents/more_better/saved_models/resnet_moco/epoch=0-train_loss_ssl=7.03.ckpt\" as top 5\n"
     ]
    },
    {
     "name": "stdout",
     "output_type": "stream",
     "text": [
      "[2.0283015, 1.9727648, 1.9470253, 1.9317042, 1.9205841, 1.9113137, 1.9022614, 1.8948704, 1.887622, 1.881369, 1.8755313, 1.8699584, 1.8650374, 1.8604697, 1.8558487, 1.8516186, 1.8471583, 1.8428562, 1.8385209, 1.8344973, 1.8302956, 1.8264673, 1.822944, 1.8194226, 1.8161191, 1.8126774, 1.8091489, 1.8058736, 1.802578, 1.7993127, 1.7961755, 1.7930323, 1.7900654, 1.7870538, 1.7840934, 1.7811106, 1.7781818, 1.7753371, 1.7724425, 1.7696832, 1.7669392, 1.7642806, 1.7616137, 1.7589884, 1.7564116, 1.7539533, 1.7516084, 1.7492803, 1.7469553, 1.7447519, 1.7424794, 1.7403294, 1.7382442, 1.7362604, 1.7342988, 1.7324601, 1.7306111, 1.7288764, 1.7272174, 1.7255715]\n",
      "[0.14195748, 0.19591479, 0.21982193, 0.2351632, 0.2434787, 0.25068486, 0.256891, 0.2619934, 0.26623875, 0.26991007, 0.27346855, 0.27668294, 0.2797659, 0.28235126, 0.28487542, 0.28726166, 0.28952643, 0.29164657, 0.29361933, 0.29552457, 0.2972754, 0.29890656, 0.30041993, 0.3019088, 0.30335063, 0.304776, 0.3060627, 0.30730867, 0.30850747, 0.30964705, 0.3107769, 0.3118701, 0.31292057, 0.31396735, 0.31497836, 0.31599084, 0.31698278, 0.31794178, 0.31889933, 0.3198325, 0.32075015, 0.32163605, 0.32251245, 0.32337332, 0.32422215, 0.32505405, 0.32587382, 0.32668078, 0.32747406, 0.3282554, 0.3290213, 0.32977325, 0.33051467, 0.3312432, 0.3319609, 0.33266664, 0.33336076, 0.33404335, 0.33471462, 0.33537468]\n",
      "-----\n"
     ]
    },
    {
     "name": "stderr",
     "output_type": "stream",
     "text": [
      "Epoch 1, global step 193: train_loss_ssl reached 6.79746 (best 6.79746), saving model to \"/home/shatz/Documents/more_better/saved_models/resnet_moco/epoch=1-train_loss_ssl=6.80.ckpt\" as top 5\n",
      "Epoch 2, global step 290: train_loss_ssl reached 6.55716 (best 6.55716), saving model to \"/home/shatz/Documents/more_better/saved_models/resnet_moco/epoch=2-train_loss_ssl=6.56.ckpt\" as top 5\n",
      "Epoch 3, global step 387: train_loss_ssl reached 6.48588 (best 6.48588), saving model to \"/home/shatz/Documents/more_better/saved_models/resnet_moco/epoch=3-train_loss_ssl=6.49.ckpt\" as top 5\n",
      "Epoch 4, global step 484: train_loss_ssl reached 6.24258 (best 6.24258), saving model to \"/home/shatz/Documents/more_better/saved_models/resnet_moco/epoch=4-train_loss_ssl=6.24.ckpt\" as top 5\n",
      "/home/shatz/miniconda3/envs/morebetter2/lib/python3.8/site-packages/pytorch_lightning/trainer/trainer.py:895: UserWarning: Detected KeyboardInterrupt, attempting graceful shutdown...\n",
      "  rank_zero_warn('Detected KeyboardInterrupt, attempting graceful shutdown...')\n"
     ]
    }
   ],
   "source": [
    "trainer = pl.Trainer(max_epochs=moco_max_epochs, gpus=gpus, callbacks=[checkpoint_callback], logger=tb_logger)\n",
    "trainer.fit(\n",
    "    model,\n",
    "    dataloader_train_moco\n",
    ")"
   ]
  },
  {
   "cell_type": "markdown",
   "id": "f9db7042",
   "metadata": {},
   "source": [
    "# Final train"
   ]
  },
  {
   "cell_type": "code",
   "execution_count": 14,
   "id": "5d73af7f",
   "metadata": {},
   "outputs": [
    {
     "ename": "SyntaxError",
     "evalue": "'break' outside loop (<ipython-input-14-6aaf1f276005>, line 1)",
     "output_type": "error",
     "traceback": [
      "\u001b[0;36m  File \u001b[0;32m\"<ipython-input-14-6aaf1f276005>\"\u001b[0;36m, line \u001b[0;32m1\u001b[0m\n\u001b[0;31m    break\u001b[0m\n\u001b[0m    ^\u001b[0m\n\u001b[0;31mSyntaxError\u001b[0m\u001b[0;31m:\u001b[0m 'break' outside loop\n"
     ]
    }
   ],
   "source": [
    "break"
   ]
  },
  {
   "cell_type": "code",
   "execution_count": null,
   "id": "dbb2dc65",
   "metadata": {},
   "outputs": [],
   "source": [
    "class testMocoModel(pl.LightningModule):\n",
    "    def __init__(self):\n",
    "        super().__init__()\n",
    "\n",
    "        # create a ResNet backbone and remove the classification head\n",
    "        resnet = lightly.models.ResNetGenerator('resnet-18', 1, num_splits=8)\n",
    "        backbone = nn.Sequential(\n",
    "            *list(resnet.children())[:-1],\n",
    "            nn.AdaptiveAvgPool2d(1),\n",
    "        )\n",
    "\n",
    "        # create a moco based on ResNet\n",
    "        self.resnet_moco = \\\n",
    "            lightly.models.MoCo(backbone, num_ftrs=512, m=0.99, batch_shuffle=True)\n",
    "\n",
    "        # create our loss with the optional memory bank\n",
    "        self.criterion = lightly.loss.NTXentLoss(\n",
    "            temperature=0.1,\n",
    "            memory_bank_size=memory_bank_size)\n",
    "\n",
    "    def forward(self, x):\n",
    "        self.resnet_moco(x)\n",
    "        \n",
    "    def contrastive_loss(self, x0, x1):\n",
    "        # calculate the contrastive loss for some transformed x -> x0, x1\n",
    "        # also return grad for each of these\n",
    "        self.zero_grad()\n",
    "        x0.requires_grad = True\n",
    "        x1.requires_grad = True\n",
    "        y0, y1 = self.resnet_moco(x0, x1)\n",
    "        loss = self.criterion(y0, y1)\n",
    "        loss.backward()\n",
    "        return x0.grad, x1.grad, loss\n",
    "    \n",
    "    def contrastive_loss_nograd(self, x0, x1):\n",
    "        with torch.no_grad():\n",
    "            y0, y1 = self.resnet_moco(x0, x1)\n",
    "            loss = self.criterion(y0, y1)\n",
    "        return loss\n",
    "        \n",
    "\n",
    "    # We provide a helper method to log weights in tensorboard\n",
    "    # which is useful for debugging.\n",
    "    def custom_histogram_weights(self):\n",
    "        for name, params in self.named_parameters():\n",
    "            self.logger.experiment.add_histogram(\n",
    "                name, params, self.current_epoch)\n",
    "\n",
    "    def training_step(self, batch, batch_idx):\n",
    "        (x0, x1), _, _ = batch\n",
    "        y0, y1 = self.resnet_moco(x0, x1)\n",
    "        loss = self.criterion(y0, y1)\n",
    "        self.log('train_loss_ssl', loss)\n",
    "        return loss\n",
    "\n",
    "    def training_epoch_end(self, outputs):\n",
    "        self.custom_histogram_weights()\n",
    "\n",
    "\n",
    "    def configure_optimizers(self):\n",
    "        optim = torch.optim.SGD(self.resnet_moco.parameters(), lr=6e-2,\n",
    "                                momentum=0.9, weight_decay=5e-4)\n",
    "        scheduler = torch.optim.lr_scheduler.CosineAnnealingLR(optim, max_epochs)\n",
    "        return [optim], [scheduler]\n"
   ]
  },
  {
   "cell_type": "code",
   "execution_count": null,
   "id": "f298b307",
   "metadata": {},
   "outputs": [],
   "source": [
    "mocomodel = testMocoModel()\n",
    "mocomodel.load_from_checkpoint('./saved_models/resnet_moco/epoch=142-train_loss_ssl=2.46.ckpt')\n",
    "mocomodel.eval();"
   ]
  },
  {
   "cell_type": "code",
   "execution_count": null,
   "id": "ad909f67",
   "metadata": {},
   "outputs": [],
   "source": [
    "clf = moco_model.Classifier(mocomodel.resnet_moco, max_epochs=25)"
   ]
  },
  {
   "cell_type": "code",
   "execution_count": null,
   "id": "b8470ad2",
   "metadata": {},
   "outputs": [],
   "source": [
    "trainer = pl.Trainer(max_epochs=max_epochs, gpus=1)\n",
    "trainer.fit(\n",
    "    clf,\n",
    "    dataloader_train_classifier,\n",
    "    dataloader_test\n",
    ")"
   ]
  },
  {
   "cell_type": "code",
   "execution_count": null,
   "id": "557fd521",
   "metadata": {},
   "outputs": [],
   "source": [
    "trainer."
   ]
  },
  {
   "cell_type": "code",
   "execution_count": null,
   "id": "7e0028ac",
   "metadata": {},
   "outputs": [],
   "source": []
  }
 ],
 "metadata": {
  "kernelspec": {
   "display_name": "Python 3 (ipykernel)",
   "language": "python",
   "name": "python3"
  },
  "language_info": {
   "codemirror_mode": {
    "name": "ipython",
    "version": 3
   },
   "file_extension": ".py",
   "mimetype": "text/x-python",
   "name": "python",
   "nbconvert_exporter": "python",
   "pygments_lexer": "ipython3",
   "version": "3.9.7"
  }
 },
 "nbformat": 4,
 "nbformat_minor": 5
}
