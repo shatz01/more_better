{
 "cells": [
  {
   "cell_type": "markdown",
   "id": "47eb48b9",
   "metadata": {},
   "source": [
    "# 🧈 Training MOCOv2 on CIFAR10 🔥 With pytorch lightning 🧈"
   ]
  },
  {
   "cell_type": "code",
   "execution_count": 1,
   "id": "55155651",
   "metadata": {
    "scrolled": true
   },
   "outputs": [
    {
     "name": "stderr",
     "output_type": "stream",
     "text": [
      "/home/shatz/miniconda3/envs/morebetter3/lib/python3.9/site-packages/lightly/api/version_checking.py:57: Warning: You are using lightly version 1.1.18. There is a newer version of the package available. For compatability reasons, please upgrade your current version: pip install lightly==1.1.20\n",
      "  warnings.warn(Warning(warning))\n"
     ]
    }
   ],
   "source": [
    "import torch\n",
    "import torch.nn as nn\n",
    "import torchvision\n",
    "import pytorch_lightning as pl\n",
    "import lightly\n",
    "\n",
    "from pytorch_lightning.callbacks import ModelCheckpoint\n",
    "from pytorch_lightning.callbacks import LearningRateMonitor\n",
    "from pytorch_lightning import loggers as pl_loggers\n",
    "\n",
    "SEED = 1"
   ]
  },
  {
   "cell_type": "markdown",
   "id": "37075cb6",
   "metadata": {},
   "source": [
    "# ⬇️ Build Dataset"
   ]
  },
  {
   "cell_type": "code",
   "execution_count": 2,
   "id": "721404d0",
   "metadata": {},
   "outputs": [],
   "source": [
    "# DATA hyperparams\n",
    "num_workers = 6\n",
    "moco_batch_size = 512\n",
    "classifier_train_batch_size = 512\n",
    "classifier_test_batch_size = 512"
   ]
  },
  {
   "cell_type": "code",
   "execution_count": 3,
   "id": "2161f687",
   "metadata": {},
   "outputs": [],
   "source": [
    "# The dataset structure should be like this:\n",
    "# cifar10/train/\n",
    "#  L airplane/\n",
    "#    L 10008_airplane.png\n",
    "#    L ...\n",
    "#  L automobile/\n",
    "#  L bird/\n",
    "#  L cat/\n",
    "#  L deer/\n",
    "#  L dog/\n",
    "#  L frog/\n",
    "#  L horse/\n",
    "#  L ship/\n",
    "#  L truck/\n",
    "path_to_train = './data/cifar10_lightly/train/'\n",
    "path_to_test = './data/cifar10_lightly/test/'"
   ]
  },
  {
   "cell_type": "markdown",
   "id": "f1fbefd4",
   "metadata": {},
   "source": [
    "### Augmentations"
   ]
  },
  {
   "cell_type": "code",
   "execution_count": 4,
   "id": "8545a01a",
   "metadata": {},
   "outputs": [],
   "source": [
    "################### Classifier Augmentations ###################\n",
    "# Augmentations typically used to train on cifar-10\n",
    "train_classifier_transforms = torchvision.transforms.Compose([\n",
    "    torchvision.transforms.RandomCrop(32, padding=4),\n",
    "    torchvision.transforms.RandomHorizontalFlip(),\n",
    "    torchvision.transforms.ToTensor(),\n",
    "    torchvision.transforms.Normalize(\n",
    "        mean=lightly.data.collate.imagenet_normalize['mean'],\n",
    "        std=lightly.data.collate.imagenet_normalize['std'],\n",
    "    )\n",
    "])\n",
    "\n",
    "# No additional augmentations for the test set\n",
    "test_transforms = torchvision.transforms.Compose([\n",
    "    torchvision.transforms.Resize((32, 32)),\n",
    "    torchvision.transforms.ToTensor(),\n",
    "    torchvision.transforms.Normalize(\n",
    "        mean=lightly.data.collate.imagenet_normalize['mean'],\n",
    "        std=lightly.data.collate.imagenet_normalize['std'],\n",
    "    )\n",
    "])\n",
    "\n",
    "################### MOCO Augmentations ###################\n",
    "# MoCo v2 uses SimCLR augmentations, additionally, disable blur\n",
    "collate_fn = lightly.data.SimCLRCollateFunction(\n",
    "    input_size=32,\n",
    "    gaussian_blur=0.,\n",
    ")"
   ]
  },
  {
   "cell_type": "markdown",
   "id": "1fb7cd15",
   "metadata": {},
   "source": [
    "### Datasets"
   ]
  },
  {
   "cell_type": "code",
   "execution_count": 5,
   "id": "7089d1ac",
   "metadata": {},
   "outputs": [],
   "source": [
    "################### Classifier Datasets ###################\n",
    "#Since we also train a linear classifier on the pre-trained moco model we\n",
    "# reuse the test augmentations here (MoCo augmentations are very strong and\n",
    "# usually reduce accuracy of models which are not used for contrastive learning.\n",
    "# Our linear layer will be trained using cross entropy loss and labels provided\n",
    "# by the dataset. Therefore we chose light augmentations.)\n",
    "dataset_train_classifier = lightly.data.LightlyDataset(\n",
    "    input_dir=path_to_train,\n",
    "    transform=train_classifier_transforms\n",
    ")\n",
    "\n",
    "dataset_test = lightly.data.LightlyDataset(\n",
    "    input_dir=path_to_test,\n",
    "    transform=test_transforms\n",
    ")\n",
    "\n",
    "################### MOCO Dataset ###################\n",
    "# We use the moco augmentations for training moco\n",
    "dataset_train_moco = lightly.data.LightlyDataset(\n",
    "    input_dir=path_to_train\n",
    ")"
   ]
  },
  {
   "cell_type": "markdown",
   "id": "ad0f9038",
   "metadata": {},
   "source": [
    "### Dataloaders"
   ]
  },
  {
   "cell_type": "code",
   "execution_count": 6,
   "id": "fc8ab836",
   "metadata": {},
   "outputs": [],
   "source": [
    "################### Classifier Dataloaders ###################\n",
    "dataloader_train_classifier = torch.utils.data.DataLoader(\n",
    "    dataset_train_classifier,\n",
    "    batch_size=classifier_train_batch_size,\n",
    "    shuffle=True,\n",
    "    drop_last=True,\n",
    "    num_workers=num_workers\n",
    ")\n",
    "\n",
    "dataloader_test = torch.utils.data.DataLoader(\n",
    "    dataset_test,\n",
    "    batch_size=classifier_test_batch_size,\n",
    "    shuffle=False,\n",
    "    drop_last=False,\n",
    "    num_workers=num_workers\n",
    ")\n",
    "\n",
    "################### MOCO Dataloader ###################\n",
    "dataloader_train_moco = torch.utils.data.DataLoader(\n",
    "    dataset_train_moco,\n",
    "    batch_size=moco_batch_size,\n",
    "    shuffle=True,\n",
    "    collate_fn=collate_fn,\n",
    "    drop_last=True,\n",
    "    num_workers=num_workers\n",
    ")"
   ]
  },
  {
   "cell_type": "markdown",
   "id": "4ee9aaec",
   "metadata": {},
   "source": [
    "# 🧠 Load Model"
   ]
  },
  {
   "cell_type": "code",
   "execution_count": 7,
   "id": "940b7f28",
   "metadata": {},
   "outputs": [],
   "source": [
    "# MODEL hyperparams\n",
    "memory_bank_size = 4096\n",
    "moco_max_epochs = 10000\n",
    "downstream_max_epochs = 60\n",
    "downstream_test_every = 300"
   ]
  },
  {
   "cell_type": "code",
   "execution_count": 8,
   "id": "97281123",
   "metadata": {},
   "outputs": [],
   "source": [
    "import moco_model_RESNETCOPY"
   ]
  },
  {
   "cell_type": "code",
   "execution_count": 9,
   "id": "6dc34fd7",
   "metadata": {},
   "outputs": [
    {
     "name": "stdout",
     "output_type": "stream",
     "text": [
      " -- 0 -- \n"
     ]
    }
   ],
   "source": [
    "model = moco_model_RESNETCOPY.MocoModel(memory_bank_size, moco_max_epochs, \n",
    "                             downstream_max_epochs, dataloader_train_classifier, dataloader_test,\n",
    "                            downstream_test_every=downstream_test_every)"
   ]
  },
  {
   "cell_type": "code",
   "execution_count": 10,
   "id": "30288632",
   "metadata": {},
   "outputs": [
    {
     "name": "stdout",
     "output_type": "stream",
     "text": [
      "--- Training these layers ---\n",
      "resnet_moco.backbone.8.weight True\n",
      "resnet_moco.backbone.8.bias True\n",
      "resnet_moco.backbone.10.weight True\n",
      "resnet_moco.backbone.10.bias True\n",
      "resnet_moco.projection_head.0.weight True\n",
      "resnet_moco.projection_head.0.bias True\n",
      "resnet_moco.projection_head.2.weight True\n",
      "resnet_moco.projection_head.2.bias True\n"
     ]
    }
   ],
   "source": [
    "print('--- Training these layers ---')\n",
    "for name,param in model.named_parameters():\n",
    "    if param.requires_grad is True:\n",
    "        print(name, param.requires_grad)"
   ]
  },
  {
   "cell_type": "code",
   "execution_count": 11,
   "id": "af99c87c",
   "metadata": {},
   "outputs": [
    {
     "data": {
      "text/plain": [
       "<generator object Module.parameters at 0x7f9cef1df970>"
      ]
     },
     "execution_count": 11,
     "metadata": {},
     "output_type": "execute_result"
    }
   ],
   "source": [
    "model.resnet_moco.parameters()"
   ]
  },
  {
   "cell_type": "markdown",
   "id": "b70b70fb",
   "metadata": {},
   "source": [
    "I will continue training from 900 epoch model"
   ]
  },
  {
   "cell_type": "code",
   "execution_count": 12,
   "id": "22af9f95",
   "metadata": {},
   "outputs": [],
   "source": [
    "# # # WHEN LOADING A SAVED MODEL DO IT LIKE DIS\n",
    "# model.load_from_checkpoint('./saved_models/resnet_moco/epoch=2989-train_loss_ssl=1.37.ckpt',\n",
    "#                           memory_bank_size=memory_bank_size, moco_max_epochs=moco_max_epochs,\n",
    "#                           downstream_max_epochs=downstream_max_epochs, dataloader_train_classifier=dataloader_train_classifier,\n",
    "#                            dataloader_test=dataloader_test,\n",
    "#                            downstream_test_every=downstream_test_every)\n",
    "# #                           last_epoch=2989);\n",
    "# # checkpoint_callback = ModelCheckpoint(dirpath=\"./saved_models/resnet_moco/epoch=897-train_loss_ssl=1.67.ckpt\")"
   ]
  },
  {
   "cell_type": "code",
   "execution_count": 13,
   "id": "d2b6ca25",
   "metadata": {},
   "outputs": [],
   "source": [
    "# you can also define a checkpoint callback to save best model like keras.\n",
    "checkpoint_callback = ModelCheckpoint(\n",
    "    dirpath='./saved_models/resnet_moco_RESNETCOPY_extralinear',\n",
    "    filename='{epoch}-{train_loss_ssl:.2f}-2head',\n",
    "    save_top_k=5,\n",
    "    verbose=True,\n",
    "    monitor='train_loss_ssl',\n",
    "    mode='min'\n",
    ")\n",
    "lr_monitor = LearningRateMonitor(logging_interval='step')"
   ]
  },
  {
   "cell_type": "markdown",
   "id": "d8c2f554",
   "metadata": {},
   "source": [
    "# 🏋️‍♂️ Train"
   ]
  },
  {
   "cell_type": "code",
   "execution_count": 14,
   "id": "19f26a44",
   "metadata": {},
   "outputs": [
    {
     "name": "stdout",
     "output_type": "stream",
     "text": [
      "Using gpu: True\n"
     ]
    }
   ],
   "source": [
    "# use a GPU if available\n",
    "gpus = 1 if torch.cuda.is_available() else 0\n",
    "print(f'Using gpu: {bool(gpus)}')\n",
    "if(gpus == 0): print('--- NOT USING GPUS THIS TAKE LONG TIME ---')\n",
    "\n",
    "# set up tensorboard logger\n",
    "tb_logger = pl_loggers.TensorBoardLogger(save_dir='./lightning_logs/', name=f'RESNETCOPYmoco_{moco_max_epochs}eps')"
   ]
  },
  {
   "cell_type": "code",
   "execution_count": 15,
   "id": "cb44c082",
   "metadata": {
    "scrolled": true
   },
   "outputs": [],
   "source": [
    "# ### WHEN TRAINING FROM CHECKPOINT ###\n",
    "\n",
    "# trainer = pl.Trainer(\n",
    "#     resume_from_checkpoint=\"./saved_models/resnet_moco/epoch=2989-train_loss_ssl=1.37.ckpt\",\n",
    "#     max_epochs=moco_max_epochs,\n",
    "#     gpus=gpus,\n",
    "#     callbacks=[checkpoint_callback],\n",
    "#     logger=tb_logger)\n",
    "# trainer.fit(model, dataloader_train_moco)"
   ]
  },
  {
   "cell_type": "code",
   "execution_count": null,
   "id": "5499620c",
   "metadata": {
    "scrolled": false
   },
   "outputs": [
    {
     "name": "stderr",
     "output_type": "stream",
     "text": [
      "GPU available: True, used: True\n",
      "TPU available: False, using: 0 TPU cores\n",
      "IPU available: False, using: 0 IPUs\n",
      "LOCAL_RANK: 0 - CUDA_VISIBLE_DEVICES: [0]\n",
      "\n",
      "  | Name        | Type       | Params\n",
      "-------------------------------------------\n",
      "0 | resnet_moco | MoCo       | 24.0 M\n",
      "1 | criterion   | NTXentLoss | 0     \n",
      "-------------------------------------------\n",
      "853 K     Trainable params\n",
      "23.2 M    Non-trainable params\n",
      "24.0 M    Total params\n",
      "96.180    Total estimated model params size (MB)\n"
     ]
    },
    {
     "data": {
      "application/vnd.jupyter.widget-view+json": {
       "model_id": "c20b49a6ca5f471b958c4c6e833da6f3",
       "version_major": 2,
       "version_minor": 0
      },
      "text/plain": [
       "Training: -1it [00:00, ?it/s]"
      ]
     },
     "metadata": {},
     "output_type": "display_data"
    },
    {
     "name": "stderr",
     "output_type": "stream",
     "text": [
      "Epoch 0, global step 96: train_loss_ssl reached 6.72615 (best 6.72615), saving model to \"/home/shatz/Documents/more_better/saved_models/resnet_moco_RESNETCOPY_extralinear/epoch=0-train_loss_ssl=6.73-2head.ckpt\" as top 5\n",
      "Epoch 1, global step 193: train_loss_ssl reached 6.57033 (best 6.57033), saving model to \"/home/shatz/Documents/more_better/saved_models/resnet_moco_RESNETCOPY_extralinear/epoch=1-train_loss_ssl=6.57-2head.ckpt\" as top 5\n",
      "Epoch 2, global step 290: train_loss_ssl reached 6.54647 (best 6.54647), saving model to \"/home/shatz/Documents/more_better/saved_models/resnet_moco_RESNETCOPY_extralinear/epoch=2-train_loss_ssl=6.55-2head.ckpt\" as top 5\n",
      "Epoch 3, global step 387: train_loss_ssl reached 6.42723 (best 6.42723), saving model to \"/home/shatz/Documents/more_better/saved_models/resnet_moco_RESNETCOPY_extralinear/epoch=3-train_loss_ssl=6.43-2head.ckpt\" as top 5\n",
      "Epoch 4, global step 484: train_loss_ssl reached 6.26957 (best 6.26957), saving model to \"/home/shatz/Documents/more_better/saved_models/resnet_moco_RESNETCOPY_extralinear/epoch=4-train_loss_ssl=6.27-2head.ckpt\" as top 5\n",
      "Epoch 5, global step 581: train_loss_ssl reached 6.22306 (best 6.22306), saving model to \"/home/shatz/Documents/more_better/saved_models/resnet_moco_RESNETCOPY_extralinear/epoch=5-train_loss_ssl=6.22-2head.ckpt\" as top 5\n",
      "Epoch 6, global step 678: train_loss_ssl reached 6.12872 (best 6.12872), saving model to \"/home/shatz/Documents/more_better/saved_models/resnet_moco_RESNETCOPY_extralinear/epoch=6-train_loss_ssl=6.13-2head.ckpt\" as top 5\n",
      "Epoch 7, global step 775: train_loss_ssl reached 6.21576 (best 6.12872), saving model to \"/home/shatz/Documents/more_better/saved_models/resnet_moco_RESNETCOPY_extralinear/epoch=7-train_loss_ssl=6.22-2head.ckpt\" as top 5\n",
      "Epoch 8, global step 872: train_loss_ssl reached 6.30969 (best 6.12872), saving model to \"/home/shatz/Documents/more_better/saved_models/resnet_moco_RESNETCOPY_extralinear/epoch=8-train_loss_ssl=6.31-2head.ckpt\" as top 5\n",
      "Epoch 9, global step 969: train_loss_ssl reached 6.05224 (best 6.05224), saving model to \"/home/shatz/Documents/more_better/saved_models/resnet_moco_RESNETCOPY_extralinear/epoch=9-train_loss_ssl=6.05-2head.ckpt\" as top 5\n",
      "Epoch 10, global step 1066: train_loss_ssl reached 5.96449 (best 5.96449), saving model to \"/home/shatz/Documents/more_better/saved_models/resnet_moco_RESNETCOPY_extralinear/epoch=10-train_loss_ssl=5.96-2head.ckpt\" as top 5\n",
      "Epoch 11, global step 1163: train_loss_ssl reached 6.03907 (best 5.96449), saving model to \"/home/shatz/Documents/more_better/saved_models/resnet_moco_RESNETCOPY_extralinear/epoch=11-train_loss_ssl=6.04-2head.ckpt\" as top 5\n",
      "Epoch 12, global step 1260: train_loss_ssl reached 6.03163 (best 5.96449), saving model to \"/home/shatz/Documents/more_better/saved_models/resnet_moco_RESNETCOPY_extralinear/epoch=12-train_loss_ssl=6.03-2head.ckpt\" as top 5\n",
      "Epoch 13, global step 1357: train_loss_ssl reached 6.09023 (best 5.96449), saving model to \"/home/shatz/Documents/more_better/saved_models/resnet_moco_RESNETCOPY_extralinear/epoch=13-train_loss_ssl=6.09-2head.ckpt\" as top 5\n",
      "Epoch 14, global step 1454: train_loss_ssl reached 5.96227 (best 5.96227), saving model to \"/home/shatz/Documents/more_better/saved_models/resnet_moco_RESNETCOPY_extralinear/epoch=14-train_loss_ssl=5.96-2head.ckpt\" as top 5\n",
      "Epoch 15, global step 1551: train_loss_ssl reached 5.91643 (best 5.91643), saving model to \"/home/shatz/Documents/more_better/saved_models/resnet_moco_RESNETCOPY_extralinear/epoch=15-train_loss_ssl=5.92-2head.ckpt\" as top 5\n",
      "Epoch 16, global step 1648: train_loss_ssl reached 5.85145 (best 5.85145), saving model to \"/home/shatz/Documents/more_better/saved_models/resnet_moco_RESNETCOPY_extralinear/epoch=16-train_loss_ssl=5.85-2head.ckpt\" as top 5\n",
      "Epoch 17, global step 1745: train_loss_ssl reached 5.84694 (best 5.84694), saving model to \"/home/shatz/Documents/more_better/saved_models/resnet_moco_RESNETCOPY_extralinear/epoch=17-train_loss_ssl=5.85-2head.ckpt\" as top 5\n",
      "Epoch 18, global step 1842: train_loss_ssl was not in top 5\n",
      "Epoch 19, global step 1939: train_loss_ssl reached 5.89607 (best 5.84694), saving model to \"/home/shatz/Documents/more_better/saved_models/resnet_moco_RESNETCOPY_extralinear/epoch=19-train_loss_ssl=5.90-2head.ckpt\" as top 5\n",
      "Epoch 20, global step 2036: train_loss_ssl reached 5.86214 (best 5.84694), saving model to \"/home/shatz/Documents/more_better/saved_models/resnet_moco_RESNETCOPY_extralinear/epoch=20-train_loss_ssl=5.86-2head.ckpt\" as top 5\n",
      "Epoch 21, global step 2133: train_loss_ssl was not in top 5\n",
      "Epoch 22, global step 2230: train_loss_ssl was not in top 5\n",
      "Epoch 23, global step 2327: train_loss_ssl reached 5.87377 (best 5.84694), saving model to \"/home/shatz/Documents/more_better/saved_models/resnet_moco_RESNETCOPY_extralinear/epoch=23-train_loss_ssl=5.87-2head.ckpt\" as top 5\n",
      "Epoch 24, global step 2424: train_loss_ssl reached 5.85018 (best 5.84694), saving model to \"/home/shatz/Documents/more_better/saved_models/resnet_moco_RESNETCOPY_extralinear/epoch=24-train_loss_ssl=5.85-2head.ckpt\" as top 5\n",
      "Epoch 25, global step 2521: train_loss_ssl reached 5.85175 (best 5.84694), saving model to \"/home/shatz/Documents/more_better/saved_models/resnet_moco_RESNETCOPY_extralinear/epoch=25-train_loss_ssl=5.85-2head.ckpt\" as top 5\n",
      "Epoch 26, global step 2618: train_loss_ssl was not in top 5\n",
      "Epoch 27, global step 2715: train_loss_ssl was not in top 5\n",
      "Epoch 28, global step 2812: train_loss_ssl was not in top 5\n",
      "Epoch 29, global step 2909: train_loss_ssl was not in top 5\n",
      "Epoch 30, global step 3006: train_loss_ssl reached 5.70027 (best 5.70027), saving model to \"/home/shatz/Documents/more_better/saved_models/resnet_moco_RESNETCOPY_extralinear/epoch=30-train_loss_ssl=5.70-2head.ckpt\" as top 5\n",
      "Epoch 31, global step 3103: train_loss_ssl was not in top 5\n",
      "Epoch 32, global step 3200: train_loss_ssl was not in top 5\n",
      "Epoch 33, global step 3297: train_loss_ssl reached 5.79167 (best 5.70027), saving model to \"/home/shatz/Documents/more_better/saved_models/resnet_moco_RESNETCOPY_extralinear/epoch=33-train_loss_ssl=5.79-2head.ckpt\" as top 5\n",
      "Epoch 34, global step 3394: train_loss_ssl was not in top 5\n",
      "Epoch 35, global step 3491: train_loss_ssl reached 5.79582 (best 5.70027), saving model to \"/home/shatz/Documents/more_better/saved_models/resnet_moco_RESNETCOPY_extralinear/epoch=35-train_loss_ssl=5.80-2head.ckpt\" as top 5\n",
      "Epoch 36, global step 3588: train_loss_ssl reached 5.77473 (best 5.70027), saving model to \"/home/shatz/Documents/more_better/saved_models/resnet_moco_RESNETCOPY_extralinear/epoch=36-train_loss_ssl=5.77-2head.ckpt\" as top 5\n",
      "Epoch 37, global step 3685: train_loss_ssl was not in top 5\n",
      "Epoch 38, global step 3782: train_loss_ssl was not in top 5\n",
      "Epoch 39, global step 3879: train_loss_ssl reached 5.82274 (best 5.70027), saving model to \"/home/shatz/Documents/more_better/saved_models/resnet_moco_RESNETCOPY_extralinear/epoch=39-train_loss_ssl=5.82-2head.ckpt\" as top 5\n",
      "Epoch 40, global step 3976: train_loss_ssl was not in top 5\n",
      "Epoch 41, global step 4073: train_loss_ssl was not in top 5\n",
      "Epoch 42, global step 4170: train_loss_ssl reached 5.62492 (best 5.62492), saving model to \"/home/shatz/Documents/more_better/saved_models/resnet_moco_RESNETCOPY_extralinear/epoch=42-train_loss_ssl=5.62-2head.ckpt\" as top 5\n",
      "Epoch 43, global step 4267: train_loss_ssl reached 5.72870 (best 5.62492), saving model to \"/home/shatz/Documents/more_better/saved_models/resnet_moco_RESNETCOPY_extralinear/epoch=43-train_loss_ssl=5.73-2head.ckpt\" as top 5\n",
      "Epoch 44, global step 4364: train_loss_ssl reached 5.71712 (best 5.62492), saving model to \"/home/shatz/Documents/more_better/saved_models/resnet_moco_RESNETCOPY_extralinear/epoch=44-train_loss_ssl=5.72-2head.ckpt\" as top 5\n",
      "Epoch 45, global step 4461: train_loss_ssl was not in top 5\n",
      "Epoch 46, global step 4558: train_loss_ssl was not in top 5\n",
      "Epoch 47, global step 4655: train_loss_ssl was not in top 5\n",
      "Epoch 48, global step 4752: train_loss_ssl was not in top 5\n",
      "Epoch 49, global step 4849: train_loss_ssl reached 5.53780 (best 5.53780), saving model to \"/home/shatz/Documents/more_better/saved_models/resnet_moco_RESNETCOPY_extralinear/epoch=49-train_loss_ssl=5.54-2head.ckpt\" as top 5\n"
     ]
    },
    {
     "name": "stderr",
     "output_type": "stream",
     "text": [
      "Epoch 50, global step 4946: train_loss_ssl was not in top 5\n",
      "Epoch 51, global step 5043: train_loss_ssl was not in top 5\n",
      "Epoch 52, global step 5140: train_loss_ssl was not in top 5\n",
      "Epoch 53, global step 5237: train_loss_ssl was not in top 5\n",
      "Epoch 54, global step 5334: train_loss_ssl reached 5.65616 (best 5.53780), saving model to \"/home/shatz/Documents/more_better/saved_models/resnet_moco_RESNETCOPY_extralinear/epoch=54-train_loss_ssl=5.66-2head.ckpt\" as top 5\n",
      "Epoch 55, global step 5431: train_loss_ssl was not in top 5\n",
      "Epoch 56, global step 5528: train_loss_ssl was not in top 5\n",
      "Epoch 57, global step 5625: train_loss_ssl was not in top 5\n",
      "Epoch 58, global step 5722: train_loss_ssl was not in top 5\n",
      "Epoch 59, global step 5819: train_loss_ssl reached 5.67377 (best 5.53780), saving model to \"/home/shatz/Documents/more_better/saved_models/resnet_moco_RESNETCOPY_extralinear/epoch=59-train_loss_ssl=5.67-2head.ckpt\" as top 5\n",
      "Epoch 60, global step 5916: train_loss_ssl was not in top 5\n",
      "Epoch 61, global step 6013: train_loss_ssl was not in top 5\n",
      "Epoch 62, global step 6110: train_loss_ssl reached 5.69138 (best 5.53780), saving model to \"/home/shatz/Documents/more_better/saved_models/resnet_moco_RESNETCOPY_extralinear/epoch=62-train_loss_ssl=5.69-2head.ckpt\" as top 5\n",
      "Epoch 63, global step 6207: train_loss_ssl reached 5.66743 (best 5.53780), saving model to \"/home/shatz/Documents/more_better/saved_models/resnet_moco_RESNETCOPY_extralinear/epoch=63-train_loss_ssl=5.67-2head.ckpt\" as top 5\n",
      "Epoch 64, global step 6304: train_loss_ssl was not in top 5\n",
      "Epoch 65, global step 6401: train_loss_ssl was not in top 5\n",
      "Epoch 66, global step 6498: train_loss_ssl was not in top 5\n",
      "Epoch 67, global step 6595: train_loss_ssl was not in top 5\n",
      "Epoch 68, global step 6692: train_loss_ssl was not in top 5\n",
      "Epoch 69, global step 6789: train_loss_ssl was not in top 5\n",
      "Epoch 70, global step 6886: train_loss_ssl was not in top 5\n",
      "Epoch 71, global step 6983: train_loss_ssl reached 5.66245 (best 5.53780), saving model to \"/home/shatz/Documents/more_better/saved_models/resnet_moco_RESNETCOPY_extralinear/epoch=71-train_loss_ssl=5.66-2head.ckpt\" as top 5\n",
      "Epoch 72, global step 7080: train_loss_ssl was not in top 5\n",
      "Epoch 73, global step 7177: train_loss_ssl was not in top 5\n",
      "Epoch 74, global step 7274: train_loss_ssl was not in top 5\n",
      "Epoch 75, global step 7371: train_loss_ssl was not in top 5\n",
      "Epoch 76, global step 7468: train_loss_ssl reached 5.65922 (best 5.53780), saving model to \"/home/shatz/Documents/more_better/saved_models/resnet_moco_RESNETCOPY_extralinear/epoch=76-train_loss_ssl=5.66-2head.ckpt\" as top 5\n",
      "Epoch 77, global step 7565: train_loss_ssl reached 5.58659 (best 5.53780), saving model to \"/home/shatz/Documents/more_better/saved_models/resnet_moco_RESNETCOPY_extralinear/epoch=77-train_loss_ssl=5.59-2head.ckpt\" as top 5\n",
      "Epoch 78, global step 7662: train_loss_ssl was not in top 5\n",
      "Epoch 79, global step 7759: train_loss_ssl reached 5.61378 (best 5.53780), saving model to \"/home/shatz/Documents/more_better/saved_models/resnet_moco_RESNETCOPY_extralinear/epoch=79-train_loss_ssl=5.61-2head.ckpt\" as top 5\n",
      "Epoch 80, global step 7856: train_loss_ssl was not in top 5\n",
      "Epoch 81, global step 7953: train_loss_ssl reached 5.61102 (best 5.53780), saving model to \"/home/shatz/Documents/more_better/saved_models/resnet_moco_RESNETCOPY_extralinear/epoch=81-train_loss_ssl=5.61-2head.ckpt\" as top 5\n",
      "Epoch 82, global step 8050: train_loss_ssl was not in top 5\n",
      "Epoch 83, global step 8147: train_loss_ssl reached 5.60684 (best 5.53780), saving model to \"/home/shatz/Documents/more_better/saved_models/resnet_moco_RESNETCOPY_extralinear/epoch=83-train_loss_ssl=5.61-2head.ckpt\" as top 5\n",
      "Epoch 84, global step 8244: train_loss_ssl was not in top 5\n",
      "Epoch 85, global step 8341: train_loss_ssl reached 5.58180 (best 5.53780), saving model to \"/home/shatz/Documents/more_better/saved_models/resnet_moco_RESNETCOPY_extralinear/epoch=85-train_loss_ssl=5.58-2head.ckpt\" as top 5\n",
      "Epoch 86, global step 8438: train_loss_ssl reached 5.61081 (best 5.53780), saving model to \"/home/shatz/Documents/more_better/saved_models/resnet_moco_RESNETCOPY_extralinear/epoch=86-train_loss_ssl=5.61-2head.ckpt\" as top 5\n",
      "Epoch 87, global step 8535: train_loss_ssl was not in top 5\n",
      "Epoch 88, global step 8632: train_loss_ssl reached 5.54268 (best 5.53780), saving model to \"/home/shatz/Documents/more_better/saved_models/resnet_moco_RESNETCOPY_extralinear/epoch=88-train_loss_ssl=5.54-2head.ckpt\" as top 5\n",
      "Epoch 89, global step 8729: train_loss_ssl was not in top 5\n",
      "Epoch 90, global step 8826: train_loss_ssl was not in top 5\n",
      "Epoch 91, global step 8923: train_loss_ssl was not in top 5\n",
      "Epoch 92, global step 9020: train_loss_ssl was not in top 5\n",
      "Epoch 93, global step 9117: train_loss_ssl reached 5.56237 (best 5.53780), saving model to \"/home/shatz/Documents/more_better/saved_models/resnet_moco_RESNETCOPY_extralinear/epoch=93-train_loss_ssl=5.56-2head.ckpt\" as top 5\n",
      "Epoch 94, global step 9214: train_loss_ssl was not in top 5\n",
      "Epoch 95, global step 9311: train_loss_ssl reached 5.58234 (best 5.53780), saving model to \"/home/shatz/Documents/more_better/saved_models/resnet_moco_RESNETCOPY_extralinear/epoch=95-train_loss_ssl=5.58-2head.ckpt\" as top 5\n",
      "Epoch 96, global step 9408: train_loss_ssl reached 5.50771 (best 5.50771), saving model to \"/home/shatz/Documents/more_better/saved_models/resnet_moco_RESNETCOPY_extralinear/epoch=96-train_loss_ssl=5.51-2head.ckpt\" as top 5\n",
      "Epoch 97, global step 9505: train_loss_ssl was not in top 5\n",
      "Epoch 98, global step 9602: train_loss_ssl reached 5.44025 (best 5.44025), saving model to \"/home/shatz/Documents/more_better/saved_models/resnet_moco_RESNETCOPY_extralinear/epoch=98-train_loss_ssl=5.44-2head.ckpt\" as top 5\n",
      "Epoch 99, global step 9699: train_loss_ssl was not in top 5\n",
      "Epoch 100, global step 9796: train_loss_ssl was not in top 5\n",
      "Epoch 101, global step 9893: train_loss_ssl was not in top 5\n",
      "Epoch 102, global step 9990: train_loss_ssl was not in top 5\n",
      "Epoch 103, global step 10087: train_loss_ssl was not in top 5\n",
      "Epoch 104, global step 10184: train_loss_ssl was not in top 5\n",
      "Epoch 105, global step 10281: train_loss_ssl was not in top 5\n",
      "Epoch 106, global step 10378: train_loss_ssl reached 5.54507 (best 5.44025), saving model to \"/home/shatz/Documents/more_better/saved_models/resnet_moco_RESNETCOPY_extralinear/epoch=106-train_loss_ssl=5.55-2head.ckpt\" as top 5\n",
      "Epoch 107, global step 10475: train_loss_ssl reached 5.53596 (best 5.44025), saving model to \"/home/shatz/Documents/more_better/saved_models/resnet_moco_RESNETCOPY_extralinear/epoch=107-train_loss_ssl=5.54-2head.ckpt\" as top 5\n",
      "Epoch 108, global step 10572: train_loss_ssl reached 5.47112 (best 5.44025), saving model to \"/home/shatz/Documents/more_better/saved_models/resnet_moco_RESNETCOPY_extralinear/epoch=108-train_loss_ssl=5.47-2head.ckpt\" as top 5\n",
      "Epoch 109, global step 10669: train_loss_ssl was not in top 5\n",
      "Epoch 110, global step 10766: train_loss_ssl was not in top 5\n",
      "Epoch 111, global step 10863: train_loss_ssl was not in top 5\n",
      "Epoch 112, global step 10960: train_loss_ssl reached 5.46314 (best 5.44025), saving model to \"/home/shatz/Documents/more_better/saved_models/resnet_moco_RESNETCOPY_extralinear/epoch=112-train_loss_ssl=5.46-2head.ckpt\" as top 5\n",
      "Epoch 113, global step 11057: train_loss_ssl was not in top 5\n",
      "Epoch 114, global step 11154: train_loss_ssl was not in top 5\n",
      "Epoch 115, global step 11251: train_loss_ssl reached 5.49472 (best 5.44025), saving model to \"/home/shatz/Documents/more_better/saved_models/resnet_moco_RESNETCOPY_extralinear/epoch=115-train_loss_ssl=5.49-2head.ckpt\" as top 5\n",
      "Epoch 116, global step 11348: train_loss_ssl was not in top 5\n",
      "Epoch 117, global step 11445: train_loss_ssl reached 5.46291 (best 5.44025), saving model to \"/home/shatz/Documents/more_better/saved_models/resnet_moco_RESNETCOPY_extralinear/epoch=117-train_loss_ssl=5.46-2head.ckpt\" as top 5\n",
      "Epoch 118, global step 11542: train_loss_ssl was not in top 5\n",
      "Epoch 119, global step 11639: train_loss_ssl reached 5.46222 (best 5.44025), saving model to \"/home/shatz/Documents/more_better/saved_models/resnet_moco_RESNETCOPY_extralinear/epoch=119-train_loss_ssl=5.46-2head.ckpt\" as top 5\n",
      "Epoch 120, global step 11736: train_loss_ssl was not in top 5\n"
     ]
    },
    {
     "name": "stderr",
     "output_type": "stream",
     "text": [
      "Epoch 121, global step 11833: train_loss_ssl was not in top 5\n",
      "Epoch 122, global step 11930: train_loss_ssl was not in top 5\n",
      "Epoch 123, global step 12027: train_loss_ssl was not in top 5\n",
      "Epoch 124, global step 12124: train_loss_ssl was not in top 5\n",
      "Epoch 125, global step 12221: train_loss_ssl was not in top 5\n",
      "Epoch 126, global step 12318: train_loss_ssl reached 5.46104 (best 5.44025), saving model to \"/home/shatz/Documents/more_better/saved_models/resnet_moco_RESNETCOPY_extralinear/epoch=126-train_loss_ssl=5.46-2head.ckpt\" as top 5\n",
      "Epoch 127, global step 12415: train_loss_ssl reached 5.32366 (best 5.32366), saving model to \"/home/shatz/Documents/more_better/saved_models/resnet_moco_RESNETCOPY_extralinear/epoch=127-train_loss_ssl=5.32-2head.ckpt\" as top 5\n",
      "Epoch 128, global step 12512: train_loss_ssl was not in top 5\n",
      "Epoch 129, global step 12609: train_loss_ssl reached 5.34622 (best 5.32366), saving model to \"/home/shatz/Documents/more_better/saved_models/resnet_moco_RESNETCOPY_extralinear/epoch=129-train_loss_ssl=5.35-2head.ckpt\" as top 5\n",
      "Epoch 130, global step 12706: train_loss_ssl reached 5.44538 (best 5.32366), saving model to \"/home/shatz/Documents/more_better/saved_models/resnet_moco_RESNETCOPY_extralinear/epoch=130-train_loss_ssl=5.45-2head.ckpt\" as top 5\n",
      "Epoch 131, global step 12803: train_loss_ssl was not in top 5\n",
      "Epoch 132, global step 12900: train_loss_ssl was not in top 5\n",
      "Epoch 133, global step 12997: train_loss_ssl was not in top 5\n",
      "Epoch 134, global step 13094: train_loss_ssl reached 5.39158 (best 5.32366), saving model to \"/home/shatz/Documents/more_better/saved_models/resnet_moco_RESNETCOPY_extralinear/epoch=134-train_loss_ssl=5.39-2head.ckpt\" as top 5\n",
      "Epoch 135, global step 13191: train_loss_ssl was not in top 5\n",
      "Epoch 136, global step 13288: train_loss_ssl was not in top 5\n",
      "Epoch 137, global step 13385: train_loss_ssl was not in top 5\n",
      "Epoch 138, global step 13482: train_loss_ssl was not in top 5\n",
      "Epoch 139, global step 13579: train_loss_ssl was not in top 5\n",
      "Epoch 140, global step 13676: train_loss_ssl was not in top 5\n",
      "Epoch 141, global step 13773: train_loss_ssl was not in top 5\n",
      "Epoch 142, global step 13870: train_loss_ssl was not in top 5\n",
      "Epoch 143, global step 13967: train_loss_ssl was not in top 5\n",
      "Epoch 144, global step 14064: train_loss_ssl was not in top 5\n",
      "Epoch 145, global step 14161: train_loss_ssl was not in top 5\n",
      "Epoch 146, global step 14258: train_loss_ssl reached 5.40170 (best 5.32366), saving model to \"/home/shatz/Documents/more_better/saved_models/resnet_moco_RESNETCOPY_extralinear/epoch=146-train_loss_ssl=5.40-2head.ckpt\" as top 5\n",
      "Epoch 147, global step 14355: train_loss_ssl was not in top 5\n",
      "Epoch 148, global step 14452: train_loss_ssl was not in top 5\n",
      "Epoch 149, global step 14549: train_loss_ssl was not in top 5\n",
      "Epoch 150, global step 14646: train_loss_ssl was not in top 5\n",
      "Epoch 151, global step 14743: train_loss_ssl was not in top 5\n",
      "Epoch 152, global step 14840: train_loss_ssl was not in top 5\n",
      "Epoch 153, global step 14937: train_loss_ssl was not in top 5\n",
      "Epoch 154, global step 15034: train_loss_ssl reached 5.42663 (best 5.32366), saving model to \"/home/shatz/Documents/more_better/saved_models/resnet_moco_RESNETCOPY_extralinear/epoch=154-train_loss_ssl=5.43-2head.ckpt\" as top 5\n",
      "Epoch 155, global step 15131: train_loss_ssl was not in top 5\n",
      "Epoch 156, global step 15228: train_loss_ssl was not in top 5\n",
      "Epoch 157, global step 15325: train_loss_ssl was not in top 5\n",
      "Epoch 158, global step 15422: train_loss_ssl was not in top 5\n",
      "Epoch 159, global step 15519: train_loss_ssl was not in top 5\n",
      "Epoch 160, global step 15616: train_loss_ssl was not in top 5\n",
      "Epoch 161, global step 15713: train_loss_ssl was not in top 5\n",
      "Epoch 162, global step 15810: train_loss_ssl was not in top 5\n",
      "Epoch 163, global step 15907: train_loss_ssl was not in top 5\n",
      "Epoch 164, global step 16004: train_loss_ssl was not in top 5\n",
      "Epoch 165, global step 16101: train_loss_ssl reached 5.38654 (best 5.32366), saving model to \"/home/shatz/Documents/more_better/saved_models/resnet_moco_RESNETCOPY_extralinear/epoch=165-train_loss_ssl=5.39-2head.ckpt\" as top 5\n",
      "Epoch 166, global step 16198: train_loss_ssl was not in top 5\n",
      "Epoch 167, global step 16295: train_loss_ssl was not in top 5\n",
      "Epoch 168, global step 16392: train_loss_ssl was not in top 5\n",
      "Epoch 169, global step 16489: train_loss_ssl was not in top 5\n",
      "Epoch 170, global step 16586: train_loss_ssl was not in top 5\n",
      "Epoch 171, global step 16683: train_loss_ssl reached 5.34675 (best 5.32366), saving model to \"/home/shatz/Documents/more_better/saved_models/resnet_moco_RESNETCOPY_extralinear/epoch=171-train_loss_ssl=5.35-2head.ckpt\" as top 5\n",
      "Epoch 172, global step 16780: train_loss_ssl was not in top 5\n",
      "Epoch 173, global step 16877: train_loss_ssl was not in top 5\n",
      "Epoch 174, global step 16974: train_loss_ssl was not in top 5\n",
      "Epoch 175, global step 17071: train_loss_ssl was not in top 5\n",
      "Epoch 176, global step 17168: train_loss_ssl was not in top 5\n",
      "Epoch 177, global step 17265: train_loss_ssl was not in top 5\n",
      "Epoch 178, global step 17362: train_loss_ssl was not in top 5\n",
      "Epoch 179, global step 17459: train_loss_ssl was not in top 5\n",
      "Epoch 180, global step 17556: train_loss_ssl was not in top 5\n",
      "Epoch 181, global step 17653: train_loss_ssl was not in top 5\n",
      "Epoch 182, global step 17750: train_loss_ssl was not in top 5\n",
      "Epoch 183, global step 17847: train_loss_ssl reached 5.29780 (best 5.29780), saving model to \"/home/shatz/Documents/more_better/saved_models/resnet_moco_RESNETCOPY_extralinear/epoch=183-train_loss_ssl=5.30-2head.ckpt\" as top 5\n",
      "Epoch 184, global step 17944: train_loss_ssl was not in top 5\n",
      "Epoch 185, global step 18041: train_loss_ssl was not in top 5\n",
      "Epoch 186, global step 18138: train_loss_ssl was not in top 5\n",
      "Epoch 187, global step 18235: train_loss_ssl reached 5.25918 (best 5.25918), saving model to \"/home/shatz/Documents/more_better/saved_models/resnet_moco_RESNETCOPY_extralinear/epoch=187-train_loss_ssl=5.26-2head.ckpt\" as top 5\n",
      "Epoch 188, global step 18332: train_loss_ssl was not in top 5\n",
      "Epoch 189, global step 18429: train_loss_ssl reached 5.32966 (best 5.25918), saving model to \"/home/shatz/Documents/more_better/saved_models/resnet_moco_RESNETCOPY_extralinear/epoch=189-train_loss_ssl=5.33-2head.ckpt\" as top 5\n",
      "Epoch 190, global step 18526: train_loss_ssl was not in top 5\n",
      "Epoch 191, global step 18623: train_loss_ssl reached 5.30249 (best 5.25918), saving model to \"/home/shatz/Documents/more_better/saved_models/resnet_moco_RESNETCOPY_extralinear/epoch=191-train_loss_ssl=5.30-2head.ckpt\" as top 5\n",
      "Epoch 192, global step 18720: train_loss_ssl was not in top 5\n",
      "Epoch 193, global step 18817: train_loss_ssl was not in top 5\n",
      "Epoch 194, global step 18914: train_loss_ssl was not in top 5\n",
      "Epoch 195, global step 19011: train_loss_ssl was not in top 5\n",
      "Epoch 196, global step 19108: train_loss_ssl was not in top 5\n",
      "Epoch 197, global step 19205: train_loss_ssl was not in top 5\n",
      "Epoch 198, global step 19302: train_loss_ssl was not in top 5\n",
      "Epoch 199, global step 19399: train_loss_ssl was not in top 5\n",
      "Epoch 200, global step 19496: train_loss_ssl was not in top 5\n",
      "Epoch 201, global step 19593: train_loss_ssl was not in top 5\n",
      "Epoch 202, global step 19690: train_loss_ssl was not in top 5\n",
      "Epoch 203, global step 19787: train_loss_ssl was not in top 5\n",
      "Epoch 204, global step 19884: train_loss_ssl was not in top 5\n",
      "Epoch 205, global step 19981: train_loss_ssl was not in top 5\n",
      "Epoch 206, global step 20078: train_loss_ssl was not in top 5\n",
      "Epoch 207, global step 20175: train_loss_ssl was not in top 5\n",
      "Epoch 208, global step 20272: train_loss_ssl was not in top 5\n",
      "Epoch 209, global step 20369: train_loss_ssl was not in top 5\n",
      "Epoch 210, global step 20466: train_loss_ssl was not in top 5\n",
      "Epoch 211, global step 20563: train_loss_ssl was not in top 5\n",
      "Epoch 212, global step 20660: train_loss_ssl was not in top 5\n",
      "Epoch 213, global step 20757: train_loss_ssl was not in top 5\n",
      "Epoch 214, global step 20854: train_loss_ssl was not in top 5\n",
      "Epoch 215, global step 20951: train_loss_ssl reached 5.31154 (best 5.25918), saving model to \"/home/shatz/Documents/more_better/saved_models/resnet_moco_RESNETCOPY_extralinear/epoch=215-train_loss_ssl=5.31-2head.ckpt\" as top 5\n"
     ]
    },
    {
     "name": "stderr",
     "output_type": "stream",
     "text": [
      "Epoch 216, global step 21048: train_loss_ssl was not in top 5\n",
      "Epoch 217, global step 21145: train_loss_ssl was not in top 5\n",
      "Epoch 218, global step 21242: train_loss_ssl was not in top 5\n",
      "Epoch 219, global step 21339: train_loss_ssl was not in top 5\n",
      "Epoch 220, global step 21436: train_loss_ssl was not in top 5\n",
      "Epoch 221, global step 21533: train_loss_ssl was not in top 5\n",
      "Epoch 222, global step 21630: train_loss_ssl was not in top 5\n",
      "Epoch 223, global step 21727: train_loss_ssl was not in top 5\n",
      "Epoch 224, global step 21824: train_loss_ssl was not in top 5\n",
      "Epoch 225, global step 21921: train_loss_ssl was not in top 5\n",
      "Epoch 226, global step 22018: train_loss_ssl reached 5.23765 (best 5.23765), saving model to \"/home/shatz/Documents/more_better/saved_models/resnet_moco_RESNETCOPY_extralinear/epoch=226-train_loss_ssl=5.24-2head.ckpt\" as top 5\n",
      "Epoch 227, global step 22115: train_loss_ssl was not in top 5\n",
      "Epoch 228, global step 22212: train_loss_ssl was not in top 5\n",
      "Epoch 229, global step 22309: train_loss_ssl was not in top 5\n",
      "Epoch 230, global step 22406: train_loss_ssl was not in top 5\n",
      "Epoch 231, global step 22503: train_loss_ssl was not in top 5\n",
      "Epoch 232, global step 22600: train_loss_ssl was not in top 5\n",
      "Epoch 233, global step 22697: train_loss_ssl was not in top 5\n",
      "Epoch 234, global step 22794: train_loss_ssl was not in top 5\n",
      "Epoch 235, global step 22891: train_loss_ssl was not in top 5\n",
      "Epoch 236, global step 22988: train_loss_ssl was not in top 5\n",
      "Epoch 237, global step 23085: train_loss_ssl was not in top 5\n",
      "Epoch 238, global step 23182: train_loss_ssl was not in top 5\n",
      "Epoch 239, global step 23279: train_loss_ssl was not in top 5\n",
      "Epoch 240, global step 23376: train_loss_ssl was not in top 5\n",
      "Epoch 241, global step 23473: train_loss_ssl was not in top 5\n",
      "Epoch 242, global step 23570: train_loss_ssl was not in top 5\n",
      "Epoch 243, global step 23667: train_loss_ssl was not in top 5\n",
      "Epoch 244, global step 23764: train_loss_ssl was not in top 5\n",
      "Epoch 245, global step 23861: train_loss_ssl was not in top 5\n",
      "Epoch 246, global step 23958: train_loss_ssl was not in top 5\n",
      "Epoch 247, global step 24055: train_loss_ssl was not in top 5\n",
      "Epoch 248, global step 24152: train_loss_ssl was not in top 5\n",
      "Epoch 249, global step 24249: train_loss_ssl was not in top 5\n",
      "Epoch 250, global step 24346: train_loss_ssl was not in top 5\n",
      "Epoch 251, global step 24443: train_loss_ssl reached 5.24550 (best 5.23765), saving model to \"/home/shatz/Documents/more_better/saved_models/resnet_moco_RESNETCOPY_extralinear/epoch=251-train_loss_ssl=5.25-2head.ckpt\" as top 5\n",
      "Epoch 252, global step 24540: train_loss_ssl was not in top 5\n",
      "Epoch 253, global step 24637: train_loss_ssl reached 5.27400 (best 5.23765), saving model to \"/home/shatz/Documents/more_better/saved_models/resnet_moco_RESNETCOPY_extralinear/epoch=253-train_loss_ssl=5.27-2head.ckpt\" as top 5\n",
      "Epoch 254, global step 24734: train_loss_ssl was not in top 5\n",
      "Epoch 255, global step 24831: train_loss_ssl was not in top 5\n",
      "Epoch 256, global step 24928: train_loss_ssl was not in top 5\n",
      "Epoch 257, global step 25025: train_loss_ssl was not in top 5\n",
      "Epoch 258, global step 25122: train_loss_ssl was not in top 5\n",
      "Epoch 259, global step 25219: train_loss_ssl reached 5.23681 (best 5.23681), saving model to \"/home/shatz/Documents/more_better/saved_models/resnet_moco_RESNETCOPY_extralinear/epoch=259-train_loss_ssl=5.24-2head.ckpt\" as top 5\n",
      "Epoch 260, global step 25316: train_loss_ssl reached 5.26190 (best 5.23681), saving model to \"/home/shatz/Documents/more_better/saved_models/resnet_moco_RESNETCOPY_extralinear/epoch=260-train_loss_ssl=5.26-2head.ckpt\" as top 5\n",
      "Epoch 261, global step 25413: train_loss_ssl was not in top 5\n",
      "Epoch 262, global step 25510: train_loss_ssl was not in top 5\n",
      "Epoch 263, global step 25607: train_loss_ssl was not in top 5\n",
      "Epoch 264, global step 25704: train_loss_ssl was not in top 5\n",
      "Epoch 265, global step 25801: train_loss_ssl was not in top 5\n",
      "Epoch 266, global step 25898: train_loss_ssl was not in top 5\n",
      "Epoch 267, global step 25995: train_loss_ssl was not in top 5\n",
      "Epoch 268, global step 26092: train_loss_ssl was not in top 5\n",
      "Epoch 269, global step 26189: train_loss_ssl was not in top 5\n",
      "Epoch 270, global step 26286: train_loss_ssl was not in top 5\n",
      "Epoch 271, global step 26383: train_loss_ssl reached 5.20773 (best 5.20773), saving model to \"/home/shatz/Documents/more_better/saved_models/resnet_moco_RESNETCOPY_extralinear/epoch=271-train_loss_ssl=5.21-2head.ckpt\" as top 5\n",
      "Epoch 272, global step 26480: train_loss_ssl reached 5.24318 (best 5.20773), saving model to \"/home/shatz/Documents/more_better/saved_models/resnet_moco_RESNETCOPY_extralinear/epoch=272-train_loss_ssl=5.24-2head.ckpt\" as top 5\n",
      "Epoch 273, global step 26577: train_loss_ssl was not in top 5\n",
      "Epoch 274, global step 26674: train_loss_ssl was not in top 5\n",
      "Epoch 275, global step 26771: train_loss_ssl was not in top 5\n",
      "Epoch 276, global step 26868: train_loss_ssl was not in top 5\n",
      "Epoch 277, global step 26965: train_loss_ssl was not in top 5\n",
      "Epoch 278, global step 27062: train_loss_ssl was not in top 5\n",
      "IOPub message rate exceeded.\n",
      "The notebook server will temporarily stop sending output\n",
      "to the client in order to avoid crashing it.\n",
      "To change this limit, set the config variable\n",
      "`--NotebookApp.iopub_msg_rate_limit`.\n",
      "\n",
      "Current values:\n",
      "NotebookApp.iopub_msg_rate_limit=1000.0 (msgs/sec)\n",
      "NotebookApp.rate_limit_window=3.0 (secs)\n",
      "\n",
      "Epoch 290, global step 28226: train_loss_ssl was not in top 5\n",
      "Epoch 291, global step 28323: train_loss_ssl reached 5.20374 (best 5.18389), saving model to \"/home/shatz/Documents/more_better/saved_models/resnet_moco_RESNETCOPY_extralinear/epoch=291-train_loss_ssl=5.20-2head.ckpt\" as top 5\n",
      "IOPub message rate exceeded.\n",
      "The notebook server will temporarily stop sending output\n",
      "to the client in order to avoid crashing it.\n",
      "To change this limit, set the config variable\n",
      "`--NotebookApp.iopub_msg_rate_limit`.\n",
      "\n",
      "Current values:\n",
      "NotebookApp.iopub_msg_rate_limit=1000.0 (msgs/sec)\n",
      "NotebookApp.rate_limit_window=3.0 (secs)\n",
      "\n",
      "Epoch 300, global step 29196: train_loss_ssl was not in top 5\n",
      "Epoch 301, global step 29293: train_loss_ssl was not in top 5\n",
      "Epoch 302, global step 29390: train_loss_ssl was not in top 5\n",
      "Epoch 303, global step 29487: train_loss_ssl was not in top 5\n",
      "Epoch 304, global step 29584: train_loss_ssl was not in top 5\n",
      "Epoch 305, global step 29681: train_loss_ssl was not in top 5\n",
      "IOPub message rate exceeded.\n",
      "The notebook server will temporarily stop sending output\n",
      "to the client in order to avoid crashing it.\n",
      "To change this limit, set the config variable\n",
      "`--NotebookApp.iopub_msg_rate_limit`.\n",
      "\n",
      "Current values:\n",
      "NotebookApp.iopub_msg_rate_limit=1000.0 (msgs/sec)\n",
      "NotebookApp.rate_limit_window=3.0 (secs)\n",
      "\n",
      "Epoch 313, global step 30457: train_loss_ssl was not in top 5\n",
      "Epoch 314, global step 30554: train_loss_ssl was not in top 5\n",
      "Epoch 315, global step 30651: train_loss_ssl was not in top 5\n",
      "IOPub message rate exceeded.\n",
      "The notebook server will temporarily stop sending output\n",
      "to the client in order to avoid crashing it.\n",
      "To change this limit, set the config variable\n",
      "`--NotebookApp.iopub_msg_rate_limit`.\n",
      "\n",
      "Current values:\n",
      "NotebookApp.iopub_msg_rate_limit=1000.0 (msgs/sec)\n",
      "NotebookApp.rate_limit_window=3.0 (secs)\n",
      "\n",
      "Epoch 322, global step 31330: train_loss_ssl reached 5.15089 (best 5.15089), saving model to \"/home/shatz/Documents/more_better/saved_models/resnet_moco_RESNETCOPY_extralinear/epoch=322-train_loss_ssl=5.15-2head.ckpt\" as top 5\n",
      "Epoch 323, global step 31427: train_loss_ssl was not in top 5\n",
      "Epoch 324, global step 31524: train_loss_ssl was not in top 5\n",
      "Epoch 325, global step 31621: train_loss_ssl was not in top 5\n",
      "Epoch 326, global step 31718: train_loss_ssl was not in top 5\n",
      "Epoch 327, global step 31815: train_loss_ssl was not in top 5\n",
      "IOPub message rate exceeded.\n",
      "The notebook server will temporarily stop sending output\n",
      "to the client in order to avoid crashing it.\n",
      "To change this limit, set the config variable\n",
      "`--NotebookApp.iopub_msg_rate_limit`.\n",
      "\n",
      "Current values:\n",
      "NotebookApp.iopub_msg_rate_limit=1000.0 (msgs/sec)\n",
      "NotebookApp.rate_limit_window=3.0 (secs)\n",
      "\n",
      "Epoch 341, global step 33173: train_loss_ssl was not in top 5\n",
      "Epoch 342, global step 33270: train_loss_ssl was not in top 5\n"
     ]
    },
    {
     "name": "stderr",
     "output_type": "stream",
     "text": [
      "IOPub message rate exceeded.\n",
      "The notebook server will temporarily stop sending output\n",
      "to the client in order to avoid crashing it.\n",
      "To change this limit, set the config variable\n",
      "`--NotebookApp.iopub_msg_rate_limit`.\n",
      "\n",
      "Current values:\n",
      "NotebookApp.iopub_msg_rate_limit=1000.0 (msgs/sec)\n",
      "NotebookApp.rate_limit_window=3.0 (secs)\n",
      "\n",
      "Epoch 349, global step 33949: train_loss_ssl was not in top 5\n",
      "Epoch 350, global step 34046: train_loss_ssl was not in top 5\n",
      "Epoch 351, global step 34143: train_loss_ssl was not in top 5\n",
      "Epoch 352, global step 34240: train_loss_ssl was not in top 5\n",
      "Epoch 353, global step 34337: train_loss_ssl was not in top 5\n",
      "Epoch 354, global step 34434: train_loss_ssl was not in top 5\n",
      "IOPub message rate exceeded.\n",
      "The notebook server will temporarily stop sending output\n",
      "to the client in order to avoid crashing it.\n",
      "To change this limit, set the config variable\n",
      "`--NotebookApp.iopub_msg_rate_limit`.\n",
      "\n",
      "Current values:\n",
      "NotebookApp.iopub_msg_rate_limit=1000.0 (msgs/sec)\n",
      "NotebookApp.rate_limit_window=3.0 (secs)\n",
      "\n",
      "Epoch 368, global step 35792: train_loss_ssl reached 5.11601 (best 5.11601), saving model to \"/home/shatz/Documents/more_better/saved_models/resnet_moco_RESNETCOPY_extralinear/epoch=368-train_loss_ssl=5.12-2head.ckpt\" as top 5\n",
      "Epoch 369, global step 35889: train_loss_ssl was not in top 5\n",
      "IOPub message rate exceeded.\n",
      "The notebook server will temporarily stop sending output\n",
      "to the client in order to avoid crashing it.\n",
      "To change this limit, set the config variable\n",
      "`--NotebookApp.iopub_msg_rate_limit`.\n",
      "\n",
      "Current values:\n",
      "NotebookApp.iopub_msg_rate_limit=1000.0 (msgs/sec)\n",
      "NotebookApp.rate_limit_window=3.0 (secs)\n",
      "\n",
      "Epoch 377, global step 36665: train_loss_ssl was not in top 5\n",
      "Epoch 378, global step 36762: train_loss_ssl reached 5.17619 (best 5.11601), saving model to \"/home/shatz/Documents/more_better/saved_models/resnet_moco_RESNETCOPY_extralinear/epoch=378-train_loss_ssl=5.18-2head.ckpt\" as top 5\n",
      "Epoch 379, global step 36859: train_loss_ssl was not in top 5\n",
      "Epoch 380, global step 36956: train_loss_ssl was not in top 5\n",
      "Epoch 381, global step 37053: train_loss_ssl was not in top 5\n",
      "Epoch 382, global step 37150: train_loss_ssl was not in top 5\n",
      "IOPub message rate exceeded.\n",
      "The notebook server will temporarily stop sending output\n",
      "to the client in order to avoid crashing it.\n",
      "To change this limit, set the config variable\n",
      "`--NotebookApp.iopub_msg_rate_limit`.\n",
      "\n",
      "Current values:\n",
      "NotebookApp.iopub_msg_rate_limit=1000.0 (msgs/sec)\n",
      "NotebookApp.rate_limit_window=3.0 (secs)\n",
      "\n"
     ]
    }
   ],
   "source": [
    "## WHEN TRAINING FROM SCRATCH (EPOCH 0) ###\n",
    "\n",
    "trainer = pl.Trainer(max_epochs=moco_max_epochs, gpus=1, callbacks=[checkpoint_callback, lr_monitor], logger=tb_logger)\n",
    "trainer.fit(\n",
    "    model,\n",
    "    dataloader_train_moco\n",
    ")"
   ]
  },
  {
   "cell_type": "code",
   "execution_count": null,
   "id": "fdd079cf",
   "metadata": {},
   "outputs": [],
   "source": [
    "break"
   ]
  },
  {
   "cell_type": "code",
   "execution_count": null,
   "id": "640cc08b",
   "metadata": {
    "scrolled": true
   },
   "outputs": [],
   "source": [
    "model"
   ]
  },
  {
   "cell_type": "code",
   "execution_count": null,
   "id": "ff1a6635",
   "metadata": {
    "scrolled": true
   },
   "outputs": [],
   "source": [
    "lightly.models.ResNetGenerator('resnet-18', 1, num_splits=0)"
   ]
  },
  {
   "cell_type": "code",
   "execution_count": null,
   "id": "12f60f1d",
   "metadata": {},
   "outputs": [],
   "source": [
    "from plr18_RESNETCOPY import plr18"
   ]
  },
  {
   "cell_type": "code",
   "execution_count": null,
   "id": "8a07f442",
   "metadata": {
    "scrolled": true
   },
   "outputs": [],
   "source": [
    "mod = nn.Sequential(\n",
    "    *list(plr18().model.children()),\n",
    ")"
   ]
  },
  {
   "cell_type": "code",
   "execution_count": null,
   "id": "50d87c85",
   "metadata": {},
   "outputs": [],
   "source": [
    "mod = nn.Sequential(\n",
    "    *list(lightly.models.ResNetGenerator('resnet-18', 1, num_splits=0).children())[:-1],\n",
    "    nn.AvgPool2d(4),\n",
    "    nn.Flatten(),\n",
    "    nn.Linear(512, 10),\n",
    "    nn.Unflatten(1, (10, 1, 1)),\n",
    "    nn.AdaptiveAvgPool2d(1)\n",
    ")"
   ]
  },
  {
   "cell_type": "code",
   "execution_count": null,
   "id": "14bde56e",
   "metadata": {
    "scrolled": true
   },
   "outputs": [],
   "source": [
    "mod"
   ]
  },
  {
   "cell_type": "code",
   "execution_count": null,
   "id": "07213b28",
   "metadata": {},
   "outputs": [],
   "source": [
    "x = torch.rand((512, 3, 32, 32))\n",
    "y = mod(x)\n",
    "y.shape"
   ]
  },
  {
   "cell_type": "code",
   "execution_count": null,
   "id": "9f689b82",
   "metadata": {},
   "outputs": [],
   "source": []
  },
  {
   "cell_type": "code",
   "execution_count": null,
   "id": "e7c648b1",
   "metadata": {},
   "outputs": [],
   "source": []
  }
 ],
 "metadata": {
  "kernelspec": {
   "display_name": "Python 3 (ipykernel)",
   "language": "python",
   "name": "python3"
  },
  "language_info": {
   "codemirror_mode": {
    "name": "ipython",
    "version": 3
   },
   "file_extension": ".py",
   "mimetype": "text/x-python",
   "name": "python",
   "nbconvert_exporter": "python",
   "pygments_lexer": "ipython3",
   "version": "3.9.7"
  }
 },
 "nbformat": 4,
 "nbformat_minor": 5
}
